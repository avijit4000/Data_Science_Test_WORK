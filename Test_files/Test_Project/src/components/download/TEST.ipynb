{
 "cells": [
  {
   "cell_type": "code",
   "execution_count": 1,
   "metadata": {
    "collapsed": true,
    "pycharm": {
     "name": "#%%\n"
    }
   },
   "outputs": [],
   "source": [
    "import pandas as pd"
   ]
  },
  {
   "cell_type": "code",
   "execution_count": 3,
   "outputs": [],
   "source": [
    "df=pd.read_csv(r'D:\\Pyn\\online learning\\INURAN_DATA\\Project\\dimind_pra\\notebooks\\data\\gemstone.csv')"
   ],
   "metadata": {
    "collapsed": false,
    "pycharm": {
     "name": "#%%\n"
    }
   }
  },
  {
   "cell_type": "code",
   "execution_count": 4,
   "outputs": [
    {
     "data": {
      "text/plain": "   id  carat        cut color clarity  depth  table     x     y     z  price\n0   0   1.52    Premium     F     VS2   62.2   58.0  7.27  7.33  4.55  13619\n1   1   2.03  Very Good     J     SI2   62.0   58.0  8.06  8.12  5.05  13387\n2   2   0.70      Ideal     G     VS1   61.2   57.0  5.69  5.73  3.50   2772\n3   3   0.32      Ideal     G     VS1   61.6   56.0  4.38  4.41  2.71    666\n4   4   1.70    Premium     G     VS2   62.6   59.0  7.65  7.61  4.77  14453",
      "text/html": "<div>\n<style scoped>\n    .dataframe tbody tr th:only-of-type {\n        vertical-align: middle;\n    }\n\n    .dataframe tbody tr th {\n        vertical-align: top;\n    }\n\n    .dataframe thead th {\n        text-align: right;\n    }\n</style>\n<table border=\"1\" class=\"dataframe\">\n  <thead>\n    <tr style=\"text-align: right;\">\n      <th></th>\n      <th>id</th>\n      <th>carat</th>\n      <th>cut</th>\n      <th>color</th>\n      <th>clarity</th>\n      <th>depth</th>\n      <th>table</th>\n      <th>x</th>\n      <th>y</th>\n      <th>z</th>\n      <th>price</th>\n    </tr>\n  </thead>\n  <tbody>\n    <tr>\n      <th>0</th>\n      <td>0</td>\n      <td>1.52</td>\n      <td>Premium</td>\n      <td>F</td>\n      <td>VS2</td>\n      <td>62.2</td>\n      <td>58.0</td>\n      <td>7.27</td>\n      <td>7.33</td>\n      <td>4.55</td>\n      <td>13619</td>\n    </tr>\n    <tr>\n      <th>1</th>\n      <td>1</td>\n      <td>2.03</td>\n      <td>Very Good</td>\n      <td>J</td>\n      <td>SI2</td>\n      <td>62.0</td>\n      <td>58.0</td>\n      <td>8.06</td>\n      <td>8.12</td>\n      <td>5.05</td>\n      <td>13387</td>\n    </tr>\n    <tr>\n      <th>2</th>\n      <td>2</td>\n      <td>0.70</td>\n      <td>Ideal</td>\n      <td>G</td>\n      <td>VS1</td>\n      <td>61.2</td>\n      <td>57.0</td>\n      <td>5.69</td>\n      <td>5.73</td>\n      <td>3.50</td>\n      <td>2772</td>\n    </tr>\n    <tr>\n      <th>3</th>\n      <td>3</td>\n      <td>0.32</td>\n      <td>Ideal</td>\n      <td>G</td>\n      <td>VS1</td>\n      <td>61.6</td>\n      <td>56.0</td>\n      <td>4.38</td>\n      <td>4.41</td>\n      <td>2.71</td>\n      <td>666</td>\n    </tr>\n    <tr>\n      <th>4</th>\n      <td>4</td>\n      <td>1.70</td>\n      <td>Premium</td>\n      <td>G</td>\n      <td>VS2</td>\n      <td>62.6</td>\n      <td>59.0</td>\n      <td>7.65</td>\n      <td>7.61</td>\n      <td>4.77</td>\n      <td>14453</td>\n    </tr>\n  </tbody>\n</table>\n</div>"
     },
     "execution_count": 4,
     "metadata": {},
     "output_type": "execute_result"
    }
   ],
   "source": [
    "df.head()"
   ],
   "metadata": {
    "collapsed": false,
    "pycharm": {
     "name": "#%%\n"
    }
   }
  },
  {
   "cell_type": "code",
   "execution_count": 5,
   "outputs": [
    {
     "data": {
      "text/plain": "id         0\ncarat      0\ncut        0\ncolor      0\nclarity    0\ndepth      0\ntable      0\nx          0\ny          0\nz          0\nprice      0\ndtype: int64"
     },
     "execution_count": 5,
     "metadata": {},
     "output_type": "execute_result"
    }
   ],
   "source": [
    "df.isnull().sum()"
   ],
   "metadata": {
    "collapsed": false,
    "pycharm": {
     "name": "#%%\n"
    }
   }
  },
  {
   "cell_type": "code",
   "execution_count": 6,
   "outputs": [
    {
     "name": "stdout",
     "output_type": "stream",
     "text": [
      "<class 'pandas.core.frame.DataFrame'>\n",
      "RangeIndex: 193573 entries, 0 to 193572\n",
      "Data columns (total 11 columns):\n",
      " #   Column   Non-Null Count   Dtype  \n",
      "---  ------   --------------   -----  \n",
      " 0   id       193573 non-null  int64  \n",
      " 1   carat    193573 non-null  float64\n",
      " 2   cut      193573 non-null  object \n",
      " 3   color    193573 non-null  object \n",
      " 4   clarity  193573 non-null  object \n",
      " 5   depth    193573 non-null  float64\n",
      " 6   table    193573 non-null  float64\n",
      " 7   x        193573 non-null  float64\n",
      " 8   y        193573 non-null  float64\n",
      " 9   z        193573 non-null  float64\n",
      " 10  price    193573 non-null  int64  \n",
      "dtypes: float64(6), int64(2), object(3)\n",
      "memory usage: 16.2+ MB\n"
     ]
    }
   ],
   "source": [
    "df.info()"
   ],
   "metadata": {
    "collapsed": false,
    "pycharm": {
     "name": "#%%\n"
    }
   }
  },
  {
   "cell_type": "code",
   "execution_count": 7,
   "outputs": [
    {
     "data": {
      "text/plain": "   id  carat        cut color clarity  depth  table     x     y     z  price\n0   0   1.52    Premium     F     VS2   62.2   58.0  7.27  7.33  4.55  13619\n1   1   2.03  Very Good     J     SI2   62.0   58.0  8.06  8.12  5.05  13387\n2   2   0.70      Ideal     G     VS1   61.2   57.0  5.69  5.73  3.50   2772\n3   3   0.32      Ideal     G     VS1   61.6   56.0  4.38  4.41  2.71    666\n4   4   1.70    Premium     G     VS2   62.6   59.0  7.65  7.61  4.77  14453",
      "text/html": "<div>\n<style scoped>\n    .dataframe tbody tr th:only-of-type {\n        vertical-align: middle;\n    }\n\n    .dataframe tbody tr th {\n        vertical-align: top;\n    }\n\n    .dataframe thead th {\n        text-align: right;\n    }\n</style>\n<table border=\"1\" class=\"dataframe\">\n  <thead>\n    <tr style=\"text-align: right;\">\n      <th></th>\n      <th>id</th>\n      <th>carat</th>\n      <th>cut</th>\n      <th>color</th>\n      <th>clarity</th>\n      <th>depth</th>\n      <th>table</th>\n      <th>x</th>\n      <th>y</th>\n      <th>z</th>\n      <th>price</th>\n    </tr>\n  </thead>\n  <tbody>\n    <tr>\n      <th>0</th>\n      <td>0</td>\n      <td>1.52</td>\n      <td>Premium</td>\n      <td>F</td>\n      <td>VS2</td>\n      <td>62.2</td>\n      <td>58.0</td>\n      <td>7.27</td>\n      <td>7.33</td>\n      <td>4.55</td>\n      <td>13619</td>\n    </tr>\n    <tr>\n      <th>1</th>\n      <td>1</td>\n      <td>2.03</td>\n      <td>Very Good</td>\n      <td>J</td>\n      <td>SI2</td>\n      <td>62.0</td>\n      <td>58.0</td>\n      <td>8.06</td>\n      <td>8.12</td>\n      <td>5.05</td>\n      <td>13387</td>\n    </tr>\n    <tr>\n      <th>2</th>\n      <td>2</td>\n      <td>0.70</td>\n      <td>Ideal</td>\n      <td>G</td>\n      <td>VS1</td>\n      <td>61.2</td>\n      <td>57.0</td>\n      <td>5.69</td>\n      <td>5.73</td>\n      <td>3.50</td>\n      <td>2772</td>\n    </tr>\n    <tr>\n      <th>3</th>\n      <td>3</td>\n      <td>0.32</td>\n      <td>Ideal</td>\n      <td>G</td>\n      <td>VS1</td>\n      <td>61.6</td>\n      <td>56.0</td>\n      <td>4.38</td>\n      <td>4.41</td>\n      <td>2.71</td>\n      <td>666</td>\n    </tr>\n    <tr>\n      <th>4</th>\n      <td>4</td>\n      <td>1.70</td>\n      <td>Premium</td>\n      <td>G</td>\n      <td>VS2</td>\n      <td>62.6</td>\n      <td>59.0</td>\n      <td>7.65</td>\n      <td>7.61</td>\n      <td>4.77</td>\n      <td>14453</td>\n    </tr>\n  </tbody>\n</table>\n</div>"
     },
     "execution_count": 7,
     "metadata": {},
     "output_type": "execute_result"
    }
   ],
   "source": [
    "df.head()"
   ],
   "metadata": {
    "collapsed": false,
    "pycharm": {
     "name": "#%%\n"
    }
   }
  },
  {
   "cell_type": "code",
   "execution_count": 8,
   "outputs": [],
   "source": [
    "df=df.drop(\"id\", axis=1)"
   ],
   "metadata": {
    "collapsed": false,
    "pycharm": {
     "name": "#%%\n"
    }
   }
  },
  {
   "cell_type": "code",
   "execution_count": 11,
   "outputs": [
    {
     "data": {
      "text/plain": "(193573, 10)"
     },
     "execution_count": 11,
     "metadata": {},
     "output_type": "execute_result"
    }
   ],
   "source": [
    "df.shape"
   ],
   "metadata": {
    "collapsed": false,
    "pycharm": {
     "name": "#%%\n"
    }
   }
  },
  {
   "cell_type": "code",
   "execution_count": 12,
   "outputs": [
    {
     "data": {
      "text/plain": "   carat        cut color clarity  depth  table     x     y     z  price\n0   1.52    Premium     F     VS2   62.2   58.0  7.27  7.33  4.55  13619\n1   2.03  Very Good     J     SI2   62.0   58.0  8.06  8.12  5.05  13387\n2   0.70      Ideal     G     VS1   61.2   57.0  5.69  5.73  3.50   2772\n3   0.32      Ideal     G     VS1   61.6   56.0  4.38  4.41  2.71    666\n4   1.70    Premium     G     VS2   62.6   59.0  7.65  7.61  4.77  14453",
      "text/html": "<div>\n<style scoped>\n    .dataframe tbody tr th:only-of-type {\n        vertical-align: middle;\n    }\n\n    .dataframe tbody tr th {\n        vertical-align: top;\n    }\n\n    .dataframe thead th {\n        text-align: right;\n    }\n</style>\n<table border=\"1\" class=\"dataframe\">\n  <thead>\n    <tr style=\"text-align: right;\">\n      <th></th>\n      <th>carat</th>\n      <th>cut</th>\n      <th>color</th>\n      <th>clarity</th>\n      <th>depth</th>\n      <th>table</th>\n      <th>x</th>\n      <th>y</th>\n      <th>z</th>\n      <th>price</th>\n    </tr>\n  </thead>\n  <tbody>\n    <tr>\n      <th>0</th>\n      <td>1.52</td>\n      <td>Premium</td>\n      <td>F</td>\n      <td>VS2</td>\n      <td>62.2</td>\n      <td>58.0</td>\n      <td>7.27</td>\n      <td>7.33</td>\n      <td>4.55</td>\n      <td>13619</td>\n    </tr>\n    <tr>\n      <th>1</th>\n      <td>2.03</td>\n      <td>Very Good</td>\n      <td>J</td>\n      <td>SI2</td>\n      <td>62.0</td>\n      <td>58.0</td>\n      <td>8.06</td>\n      <td>8.12</td>\n      <td>5.05</td>\n      <td>13387</td>\n    </tr>\n    <tr>\n      <th>2</th>\n      <td>0.70</td>\n      <td>Ideal</td>\n      <td>G</td>\n      <td>VS1</td>\n      <td>61.2</td>\n      <td>57.0</td>\n      <td>5.69</td>\n      <td>5.73</td>\n      <td>3.50</td>\n      <td>2772</td>\n    </tr>\n    <tr>\n      <th>3</th>\n      <td>0.32</td>\n      <td>Ideal</td>\n      <td>G</td>\n      <td>VS1</td>\n      <td>61.6</td>\n      <td>56.0</td>\n      <td>4.38</td>\n      <td>4.41</td>\n      <td>2.71</td>\n      <td>666</td>\n    </tr>\n    <tr>\n      <th>4</th>\n      <td>1.70</td>\n      <td>Premium</td>\n      <td>G</td>\n      <td>VS2</td>\n      <td>62.6</td>\n      <td>59.0</td>\n      <td>7.65</td>\n      <td>7.61</td>\n      <td>4.77</td>\n      <td>14453</td>\n    </tr>\n  </tbody>\n</table>\n</div>"
     },
     "execution_count": 12,
     "metadata": {},
     "output_type": "execute_result"
    }
   ],
   "source": [
    "df.head()"
   ],
   "metadata": {
    "collapsed": false,
    "pycharm": {
     "name": "#%%\n"
    }
   }
  },
  {
   "cell_type": "code",
   "execution_count": 13,
   "outputs": [
    {
     "data": {
      "text/plain": "0"
     },
     "execution_count": 13,
     "metadata": {},
     "output_type": "execute_result"
    }
   ],
   "source": [
    "df.duplicated().sum()"
   ],
   "metadata": {
    "collapsed": false,
    "pycharm": {
     "name": "#%%\n"
    }
   }
  },
  {
   "cell_type": "code",
   "execution_count": 14,
   "outputs": [],
   "source": [
    "ncolumn=df.columns[df.dtypes!='object']\n",
    "ccolumn=df.columns[df.dtypes!='object']"
   ],
   "metadata": {
    "collapsed": false,
    "pycharm": {
     "name": "#%%\n"
    }
   }
  },
  {
   "cell_type": "code",
   "execution_count": 15,
   "outputs": [
    {
     "data": {
      "text/plain": "Index(['carat', 'depth', 'table', 'x', 'y', 'z', 'price'], dtype='object')"
     },
     "execution_count": 15,
     "metadata": {},
     "output_type": "execute_result"
    }
   ],
   "source": [
    "ncolumn"
   ],
   "metadata": {
    "collapsed": false,
    "pycharm": {
     "name": "#%%\n"
    }
   }
  },
  {
   "cell_type": "code",
   "execution_count": 16,
   "outputs": [
    {
     "data": {
      "text/plain": "carat      float64\ncut         object\ncolor       object\nclarity     object\ndepth      float64\ntable      float64\nx          float64\ny          float64\nz          float64\nprice        int64\ndtype: object"
     },
     "execution_count": 16,
     "metadata": {},
     "output_type": "execute_result"
    }
   ],
   "source": [
    "df.dtypes"
   ],
   "metadata": {
    "collapsed": false,
    "pycharm": {
     "name": "#%%\n"
    }
   }
  },
  {
   "cell_type": "code",
   "execution_count": 23,
   "outputs": [
    {
     "name": "stderr",
     "output_type": "stream",
     "text": [
      "C:\\Users\\aviji\\AppData\\Local\\Temp\\ipykernel_6948\\273742772.py:1: UserWarning: Boolean Series key will be reindexed to match DataFrame index.\n",
      "  df[df.dtypes!='object']\n"
     ]
    },
    {
     "ename": "IndexingError",
     "evalue": "Unalignable boolean Series provided as indexer (index of the boolean Series and of the indexed object do not match).",
     "output_type": "error",
     "traceback": [
      "\u001B[1;31m---------------------------------------------------------------------------\u001B[0m",
      "\u001B[1;31mIndexingError\u001B[0m                             Traceback (most recent call last)",
      "Cell \u001B[1;32mIn[23], line 1\u001B[0m\n\u001B[1;32m----> 1\u001B[0m \u001B[43mdf\u001B[49m\u001B[43m[\u001B[49m\u001B[43mdf\u001B[49m\u001B[38;5;241;43m.\u001B[39;49m\u001B[43mdtypes\u001B[49m\u001B[38;5;241;43m!=\u001B[39;49m\u001B[38;5;124;43m'\u001B[39;49m\u001B[38;5;124;43mobject\u001B[39;49m\u001B[38;5;124;43m'\u001B[39;49m\u001B[43m]\u001B[49m\n",
      "File \u001B[1;32m~\\AppData\\Roaming\\Python\\Python310\\site-packages\\pandas\\core\\frame.py:3752\u001B[0m, in \u001B[0;36mDataFrame.__getitem__\u001B[1;34m(self, key)\u001B[0m\n\u001B[0;32m   3750\u001B[0m \u001B[38;5;66;03m# Do we have a (boolean) 1d indexer?\u001B[39;00m\n\u001B[0;32m   3751\u001B[0m \u001B[38;5;28;01mif\u001B[39;00m com\u001B[38;5;241m.\u001B[39mis_bool_indexer(key):\n\u001B[1;32m-> 3752\u001B[0m     \u001B[38;5;28;01mreturn\u001B[39;00m \u001B[38;5;28;43mself\u001B[39;49m\u001B[38;5;241;43m.\u001B[39;49m\u001B[43m_getitem_bool_array\u001B[49m\u001B[43m(\u001B[49m\u001B[43mkey\u001B[49m\u001B[43m)\u001B[49m\n\u001B[0;32m   3754\u001B[0m \u001B[38;5;66;03m# We are left with two options: a single key, and a collection of keys,\u001B[39;00m\n\u001B[0;32m   3755\u001B[0m \u001B[38;5;66;03m# We interpret tuples as collections only for non-MultiIndex\u001B[39;00m\n\u001B[0;32m   3756\u001B[0m is_single_key \u001B[38;5;241m=\u001B[39m \u001B[38;5;28misinstance\u001B[39m(key, \u001B[38;5;28mtuple\u001B[39m) \u001B[38;5;129;01mor\u001B[39;00m \u001B[38;5;129;01mnot\u001B[39;00m is_list_like(key)\n",
      "File \u001B[1;32m~\\AppData\\Roaming\\Python\\Python310\\site-packages\\pandas\\core\\frame.py:3805\u001B[0m, in \u001B[0;36mDataFrame._getitem_bool_array\u001B[1;34m(self, key)\u001B[0m\n\u001B[0;32m   3799\u001B[0m     \u001B[38;5;28;01mraise\u001B[39;00m \u001B[38;5;167;01mValueError\u001B[39;00m(\n\u001B[0;32m   3800\u001B[0m         \u001B[38;5;124mf\u001B[39m\u001B[38;5;124m\"\u001B[39m\u001B[38;5;124mItem wrong length \u001B[39m\u001B[38;5;132;01m{\u001B[39;00m\u001B[38;5;28mlen\u001B[39m(key)\u001B[38;5;132;01m}\u001B[39;00m\u001B[38;5;124m instead of \u001B[39m\u001B[38;5;132;01m{\u001B[39;00m\u001B[38;5;28mlen\u001B[39m(\u001B[38;5;28mself\u001B[39m\u001B[38;5;241m.\u001B[39mindex)\u001B[38;5;132;01m}\u001B[39;00m\u001B[38;5;124m.\u001B[39m\u001B[38;5;124m\"\u001B[39m\n\u001B[0;32m   3801\u001B[0m     )\n\u001B[0;32m   3803\u001B[0m \u001B[38;5;66;03m# check_bool_indexer will throw exception if Series key cannot\u001B[39;00m\n\u001B[0;32m   3804\u001B[0m \u001B[38;5;66;03m# be reindexed to match DataFrame rows\u001B[39;00m\n\u001B[1;32m-> 3805\u001B[0m key \u001B[38;5;241m=\u001B[39m \u001B[43mcheck_bool_indexer\u001B[49m\u001B[43m(\u001B[49m\u001B[38;5;28;43mself\u001B[39;49m\u001B[38;5;241;43m.\u001B[39;49m\u001B[43mindex\u001B[49m\u001B[43m,\u001B[49m\u001B[43m \u001B[49m\u001B[43mkey\u001B[49m\u001B[43m)\u001B[49m\n\u001B[0;32m   3807\u001B[0m \u001B[38;5;28;01mif\u001B[39;00m key\u001B[38;5;241m.\u001B[39mall():\n\u001B[0;32m   3808\u001B[0m     \u001B[38;5;28;01mreturn\u001B[39;00m \u001B[38;5;28mself\u001B[39m\u001B[38;5;241m.\u001B[39mcopy(deep\u001B[38;5;241m=\u001B[39m\u001B[38;5;28;01mNone\u001B[39;00m)\n",
      "File \u001B[1;32m~\\AppData\\Roaming\\Python\\Python310\\site-packages\\pandas\\core\\indexing.py:2506\u001B[0m, in \u001B[0;36mcheck_bool_indexer\u001B[1;34m(index, key)\u001B[0m\n\u001B[0;32m   2504\u001B[0m indexer \u001B[38;5;241m=\u001B[39m result\u001B[38;5;241m.\u001B[39mindex\u001B[38;5;241m.\u001B[39mget_indexer_for(index)\n\u001B[0;32m   2505\u001B[0m \u001B[38;5;28;01mif\u001B[39;00m \u001B[38;5;241m-\u001B[39m\u001B[38;5;241m1\u001B[39m \u001B[38;5;129;01min\u001B[39;00m indexer:\n\u001B[1;32m-> 2506\u001B[0m     \u001B[38;5;28;01mraise\u001B[39;00m IndexingError(\n\u001B[0;32m   2507\u001B[0m         \u001B[38;5;124m\"\u001B[39m\u001B[38;5;124mUnalignable boolean Series provided as \u001B[39m\u001B[38;5;124m\"\u001B[39m\n\u001B[0;32m   2508\u001B[0m         \u001B[38;5;124m\"\u001B[39m\u001B[38;5;124mindexer (index of the boolean Series and of \u001B[39m\u001B[38;5;124m\"\u001B[39m\n\u001B[0;32m   2509\u001B[0m         \u001B[38;5;124m\"\u001B[39m\u001B[38;5;124mthe indexed object do not match).\u001B[39m\u001B[38;5;124m\"\u001B[39m\n\u001B[0;32m   2510\u001B[0m     )\n\u001B[0;32m   2512\u001B[0m result \u001B[38;5;241m=\u001B[39m result\u001B[38;5;241m.\u001B[39mtake(indexer)\n\u001B[0;32m   2514\u001B[0m \u001B[38;5;66;03m# fall through for boolean\u001B[39;00m\n",
      "\u001B[1;31mIndexingError\u001B[0m: Unalignable boolean Series provided as indexer (index of the boolean Series and of the indexed object do not match)."
     ]
    }
   ],
   "source": [
    "df[df.dtypes!='object']"
   ],
   "metadata": {
    "collapsed": false,
    "pycharm": {
     "name": "#%%\n"
    }
   }
  },
  {
   "cell_type": "code",
   "execution_count": 25,
   "outputs": [
    {
     "data": {
      "text/plain": "Index(['carat', 'depth', 'table', 'x', 'y', 'z'], dtype='object')"
     },
     "execution_count": 25,
     "metadata": {},
     "output_type": "execute_result"
    }
   ],
   "source": [
    "df.columns[df.dtypes=='float']"
   ],
   "metadata": {
    "collapsed": false,
    "pycharm": {
     "name": "#%%\n"
    }
   }
  },
  {
   "cell_type": "code",
   "execution_count": 26,
   "outputs": [
    {
     "data": {
      "text/plain": "carat      float64\ncut         object\ncolor       object\nclarity     object\ndepth      float64\ntable      float64\nx          float64\ny          float64\nz          float64\nprice        int64\ndtype: object"
     },
     "execution_count": 26,
     "metadata": {},
     "output_type": "execute_result"
    }
   ],
   "source": [
    "df.dtypes"
   ],
   "metadata": {
    "collapsed": false,
    "pycharm": {
     "name": "#%%\n"
    }
   }
  },
  {
   "cell_type": "code",
   "execution_count": 27,
   "outputs": [],
   "source": [
    "numerical_columns=df.columns[df.dtypes!='object']"
   ],
   "metadata": {
    "collapsed": false,
    "pycharm": {
     "name": "#%%\n"
    }
   }
  },
  {
   "cell_type": "code",
   "execution_count": 28,
   "outputs": [
    {
     "data": {
      "text/plain": "Index(['carat', 'depth', 'table', 'x', 'y', 'z', 'price'], dtype='object')"
     },
     "execution_count": 28,
     "metadata": {},
     "output_type": "execute_result"
    }
   ],
   "source": [
    "numerical_columns"
   ],
   "metadata": {
    "collapsed": false,
    "pycharm": {
     "name": "#%%\n"
    }
   }
  },
  {
   "cell_type": "code",
   "execution_count": 29,
   "outputs": [],
   "source": [
    "categorical_columns=df.columns[df.dtypes=='object']"
   ],
   "metadata": {
    "collapsed": false,
    "pycharm": {
     "name": "#%%\n"
    }
   }
  },
  {
   "cell_type": "code",
   "execution_count": 30,
   "outputs": [
    {
     "data": {
      "text/plain": "Index(['cut', 'color', 'clarity'], dtype='object')"
     },
     "execution_count": 30,
     "metadata": {},
     "output_type": "execute_result"
    }
   ],
   "source": [
    "categorical_columns"
   ],
   "metadata": {
    "collapsed": false,
    "pycharm": {
     "name": "#%%\n"
    }
   }
  },
  {
   "cell_type": "code",
   "execution_count": 31,
   "outputs": [
    {
     "data": {
      "text/plain": "              cut color clarity\n0         Premium     F     VS2\n1       Very Good     J     SI2\n2           Ideal     G     VS1\n3           Ideal     G     VS1\n4         Premium     G     VS2\n...           ...   ...     ...\n193568      Ideal     D    VVS2\n193569    Premium     G    VVS2\n193570  Very Good     F     SI1\n193571  Very Good     D     SI1\n193572       Good     E     SI2\n\n[193573 rows x 3 columns]",
      "text/html": "<div>\n<style scoped>\n    .dataframe tbody tr th:only-of-type {\n        vertical-align: middle;\n    }\n\n    .dataframe tbody tr th {\n        vertical-align: top;\n    }\n\n    .dataframe thead th {\n        text-align: right;\n    }\n</style>\n<table border=\"1\" class=\"dataframe\">\n  <thead>\n    <tr style=\"text-align: right;\">\n      <th></th>\n      <th>cut</th>\n      <th>color</th>\n      <th>clarity</th>\n    </tr>\n  </thead>\n  <tbody>\n    <tr>\n      <th>0</th>\n      <td>Premium</td>\n      <td>F</td>\n      <td>VS2</td>\n    </tr>\n    <tr>\n      <th>1</th>\n      <td>Very Good</td>\n      <td>J</td>\n      <td>SI2</td>\n    </tr>\n    <tr>\n      <th>2</th>\n      <td>Ideal</td>\n      <td>G</td>\n      <td>VS1</td>\n    </tr>\n    <tr>\n      <th>3</th>\n      <td>Ideal</td>\n      <td>G</td>\n      <td>VS1</td>\n    </tr>\n    <tr>\n      <th>4</th>\n      <td>Premium</td>\n      <td>G</td>\n      <td>VS2</td>\n    </tr>\n    <tr>\n      <th>...</th>\n      <td>...</td>\n      <td>...</td>\n      <td>...</td>\n    </tr>\n    <tr>\n      <th>193568</th>\n      <td>Ideal</td>\n      <td>D</td>\n      <td>VVS2</td>\n    </tr>\n    <tr>\n      <th>193569</th>\n      <td>Premium</td>\n      <td>G</td>\n      <td>VVS2</td>\n    </tr>\n    <tr>\n      <th>193570</th>\n      <td>Very Good</td>\n      <td>F</td>\n      <td>SI1</td>\n    </tr>\n    <tr>\n      <th>193571</th>\n      <td>Very Good</td>\n      <td>D</td>\n      <td>SI1</td>\n    </tr>\n    <tr>\n      <th>193572</th>\n      <td>Good</td>\n      <td>E</td>\n      <td>SI2</td>\n    </tr>\n  </tbody>\n</table>\n<p>193573 rows × 3 columns</p>\n</div>"
     },
     "execution_count": 31,
     "metadata": {},
     "output_type": "execute_result"
    }
   ],
   "source": [
    "df[categorical_columns]"
   ],
   "metadata": {
    "collapsed": false,
    "pycharm": {
     "name": "#%%\n"
    }
   }
  },
  {
   "cell_type": "code",
   "execution_count": 32,
   "outputs": [
    {
     "data": {
      "text/plain": "        carat  depth  table     x     y     z  price\n0        1.52   62.2   58.0  7.27  7.33  4.55  13619\n1        2.03   62.0   58.0  8.06  8.12  5.05  13387\n2        0.70   61.2   57.0  5.69  5.73  3.50   2772\n3        0.32   61.6   56.0  4.38  4.41  2.71    666\n4        1.70   62.6   59.0  7.65  7.61  4.77  14453\n...       ...    ...    ...   ...   ...   ...    ...\n193568   0.31   61.1   56.0  4.35  4.39  2.67   1130\n193569   0.70   60.3   58.0  5.75  5.77  3.47   2874\n193570   0.73   63.1   57.0  5.72  5.75  3.62   3036\n193571   0.34   62.9   55.0  4.45  4.49  2.81    681\n193572   0.71   60.8   64.0  5.73  5.71  3.48   2258\n\n[193573 rows x 7 columns]",
      "text/html": "<div>\n<style scoped>\n    .dataframe tbody tr th:only-of-type {\n        vertical-align: middle;\n    }\n\n    .dataframe tbody tr th {\n        vertical-align: top;\n    }\n\n    .dataframe thead th {\n        text-align: right;\n    }\n</style>\n<table border=\"1\" class=\"dataframe\">\n  <thead>\n    <tr style=\"text-align: right;\">\n      <th></th>\n      <th>carat</th>\n      <th>depth</th>\n      <th>table</th>\n      <th>x</th>\n      <th>y</th>\n      <th>z</th>\n      <th>price</th>\n    </tr>\n  </thead>\n  <tbody>\n    <tr>\n      <th>0</th>\n      <td>1.52</td>\n      <td>62.2</td>\n      <td>58.0</td>\n      <td>7.27</td>\n      <td>7.33</td>\n      <td>4.55</td>\n      <td>13619</td>\n    </tr>\n    <tr>\n      <th>1</th>\n      <td>2.03</td>\n      <td>62.0</td>\n      <td>58.0</td>\n      <td>8.06</td>\n      <td>8.12</td>\n      <td>5.05</td>\n      <td>13387</td>\n    </tr>\n    <tr>\n      <th>2</th>\n      <td>0.70</td>\n      <td>61.2</td>\n      <td>57.0</td>\n      <td>5.69</td>\n      <td>5.73</td>\n      <td>3.50</td>\n      <td>2772</td>\n    </tr>\n    <tr>\n      <th>3</th>\n      <td>0.32</td>\n      <td>61.6</td>\n      <td>56.0</td>\n      <td>4.38</td>\n      <td>4.41</td>\n      <td>2.71</td>\n      <td>666</td>\n    </tr>\n    <tr>\n      <th>4</th>\n      <td>1.70</td>\n      <td>62.6</td>\n      <td>59.0</td>\n      <td>7.65</td>\n      <td>7.61</td>\n      <td>4.77</td>\n      <td>14453</td>\n    </tr>\n    <tr>\n      <th>...</th>\n      <td>...</td>\n      <td>...</td>\n      <td>...</td>\n      <td>...</td>\n      <td>...</td>\n      <td>...</td>\n      <td>...</td>\n    </tr>\n    <tr>\n      <th>193568</th>\n      <td>0.31</td>\n      <td>61.1</td>\n      <td>56.0</td>\n      <td>4.35</td>\n      <td>4.39</td>\n      <td>2.67</td>\n      <td>1130</td>\n    </tr>\n    <tr>\n      <th>193569</th>\n      <td>0.70</td>\n      <td>60.3</td>\n      <td>58.0</td>\n      <td>5.75</td>\n      <td>5.77</td>\n      <td>3.47</td>\n      <td>2874</td>\n    </tr>\n    <tr>\n      <th>193570</th>\n      <td>0.73</td>\n      <td>63.1</td>\n      <td>57.0</td>\n      <td>5.72</td>\n      <td>5.75</td>\n      <td>3.62</td>\n      <td>3036</td>\n    </tr>\n    <tr>\n      <th>193571</th>\n      <td>0.34</td>\n      <td>62.9</td>\n      <td>55.0</td>\n      <td>4.45</td>\n      <td>4.49</td>\n      <td>2.81</td>\n      <td>681</td>\n    </tr>\n    <tr>\n      <th>193572</th>\n      <td>0.71</td>\n      <td>60.8</td>\n      <td>64.0</td>\n      <td>5.73</td>\n      <td>5.71</td>\n      <td>3.48</td>\n      <td>2258</td>\n    </tr>\n  </tbody>\n</table>\n<p>193573 rows × 7 columns</p>\n</div>"
     },
     "execution_count": 32,
     "metadata": {},
     "output_type": "execute_result"
    }
   ],
   "source": [
    "df[numerical_columns]"
   ],
   "metadata": {
    "collapsed": false,
    "pycharm": {
     "name": "#%%\n"
    }
   }
  },
  {
   "cell_type": "code",
   "execution_count": 33,
   "outputs": [
    {
     "data": {
      "text/plain": "0           Premium\n1         Very Good\n2             Ideal\n3             Ideal\n4           Premium\n            ...    \n193568        Ideal\n193569      Premium\n193570    Very Good\n193571    Very Good\n193572         Good\nName: cut, Length: 193573, dtype: object"
     },
     "execution_count": 33,
     "metadata": {},
     "output_type": "execute_result"
    }
   ],
   "source": [
    "df['cut']"
   ],
   "metadata": {
    "collapsed": false,
    "pycharm": {
     "name": "#%%\n"
    }
   }
  },
  {
   "cell_type": "code",
   "execution_count": 34,
   "outputs": [
    {
     "data": {
      "text/plain": "cut\nIdeal        92454\nPremium      49910\nVery Good    37566\nGood         11622\nFair          2021\nName: count, dtype: int64"
     },
     "execution_count": 34,
     "metadata": {},
     "output_type": "execute_result"
    }
   ],
   "source": [
    "df['cut'].value_counts()"
   ],
   "metadata": {
    "collapsed": false,
    "pycharm": {
     "name": "#%%\n"
    }
   }
  },
  {
   "cell_type": "code",
   "execution_count": 35,
   "outputs": [
    {
     "data": {
      "text/plain": "color\nG    44391\nE    35869\nF    34258\nH    30799\nD    24286\nI    17514\nJ     6456\nName: count, dtype: int64"
     },
     "execution_count": 35,
     "metadata": {},
     "output_type": "execute_result"
    }
   ],
   "source": [
    "df['color'].value_counts()"
   ],
   "metadata": {
    "collapsed": false,
    "pycharm": {
     "name": "#%%\n"
    }
   }
  },
  {
   "cell_type": "code",
   "execution_count": 36,
   "outputs": [
    {
     "data": {
      "text/plain": "clarity\nSI1     53272\nVS2     48027\nVS1     30669\nSI2     30484\nVVS2    15762\nVVS1    10628\nIF       4219\nI1        512\nName: count, dtype: int64"
     },
     "execution_count": 36,
     "metadata": {},
     "output_type": "execute_result"
    }
   ],
   "source": [
    "df['clarity'].value_counts()"
   ],
   "metadata": {
    "collapsed": false,
    "pycharm": {
     "name": "#%%\n"
    }
   }
  },
  {
   "cell_type": "code",
   "execution_count": 37,
   "outputs": [],
   "source": [
    "import seaborn as sns"
   ],
   "metadata": {
    "collapsed": false,
    "pycharm": {
     "name": "#%%\n"
    }
   }
  },
  {
   "cell_type": "code",
   "execution_count": 38,
   "outputs": [],
   "source": [
    "import matplotlib.pyplot as plt"
   ],
   "metadata": {
    "collapsed": false,
    "pycharm": {
     "name": "#%%\n"
    }
   }
  },
  {
   "cell_type": "code",
   "execution_count": 39,
   "outputs": [
    {
     "name": "stdout",
     "output_type": "stream",
     "text": [
      "\n",
      "\n"
     ]
    },
    {
     "data": {
      "text/plain": "<Figure size 800x600 with 1 Axes>",
      "image/png": "[encoded data removed]"
     },
     "metadata": {},
     "output_type": "display_data"
    },
    {
     "name": "stdout",
     "output_type": "stream",
     "text": [
      "\n",
      "\n"
     ]
    },
    {
     "data": {
      "text/plain": "<Figure size 640x480 with 1 Axes>",
      "image/png": "[encoded data removed]"
     },
     "metadata": {},
     "output_type": "display_data"
    },
    {
     "name": "stdout",
     "output_type": "stream",
     "text": [
      "\n",
      "\n"
     ]
    },
    {
     "data": {
      "text/plain": "<Figure size 640x480 with 1 Axes>",
      "image/png": "[encoded data removed]"
     },
     "metadata": {},
     "output_type": "display_data"
    },
    {
     "name": "stdout",
     "output_type": "stream",
     "text": [
      "\n",
      "\n"
     ]
    },
    {
     "data": {
      "text/plain": "<Figure size 640x480 with 1 Axes>",
      "image/png": "[encoded data removed]"
     },
     "metadata": {},
     "output_type": "display_data"
    },
    {
     "name": "stdout",
     "output_type": "stream",
     "text": [
      "\n",
      "\n"
     ]
    },
    {
     "data": {
      "text/plain": "<Figure size 640x480 with 1 Axes>",
      "image/png": "[encoded data removed]"
     },
     "metadata": {},
     "output_type": "display_data"
    },
    {
     "name": "stdout",
     "output_type": "stream",
     "text": [
      "\n",
      "\n"
     ]
    },
    {
     "data": {
      "text/plain": "<Figure size 640x480 with 1 Axes>",
      "image/png": "[encoded data removed]"
     },
     "metadata": {},
     "output_type": "display_data"
    },
    {
     "name": "stdout",
     "output_type": "stream",
     "text": [
      "\n",
      "\n"
     ]
    },
    {
     "data": {
      "text/plain": "<Figure size 640x480 with 1 Axes>",
      "image/png": "[encoded data removed]"
     },
     "metadata": {},
     "output_type": "display_data"
    }
   ],
   "source": [
    "plt.figure(figsize=(8,6))\n",
    "x=0\n",
    "for i in numerical_columns:\n",
    "    sns.histplot(data=df,x=i,kde=True)\n",
    "    print('\\n')\n",
    "    plt.show()"
   ],
   "metadata": {
    "collapsed": false,
    "pycharm": {
     "name": "#%%\n"
    }
   }
  },
  {
   "cell_type": "code",
   "execution_count": 41,
   "outputs": [
    {
     "ename": "ValueError",
     "evalue": "could not convert string to float: 'Premium'",
     "output_type": "error",
     "traceback": [
      "\u001B[1;31m---------------------------------------------------------------------------\u001B[0m",
      "\u001B[1;31mValueError\u001B[0m                                Traceback (most recent call last)",
      "Cell \u001B[1;32mIn[41], line 1\u001B[0m\n\u001B[1;32m----> 1\u001B[0m sns\u001B[38;5;241m.\u001B[39mheatmap(\u001B[43mdf\u001B[49m\u001B[38;5;241;43m.\u001B[39;49m\u001B[43mcorr\u001B[49m\u001B[43m(\u001B[49m\u001B[43m)\u001B[49m,annot\u001B[38;5;241m=\u001B[39m\u001B[38;5;28;01mTrue\u001B[39;00m)\n",
      "File \u001B[1;32m~\\AppData\\Roaming\\Python\\Python310\\site-packages\\pandas\\core\\frame.py:10054\u001B[0m, in \u001B[0;36mDataFrame.corr\u001B[1;34m(self, method, min_periods, numeric_only)\u001B[0m\n\u001B[0;32m  10052\u001B[0m cols \u001B[38;5;241m=\u001B[39m data\u001B[38;5;241m.\u001B[39mcolumns\n\u001B[0;32m  10053\u001B[0m idx \u001B[38;5;241m=\u001B[39m cols\u001B[38;5;241m.\u001B[39mcopy()\n\u001B[1;32m> 10054\u001B[0m mat \u001B[38;5;241m=\u001B[39m \u001B[43mdata\u001B[49m\u001B[38;5;241;43m.\u001B[39;49m\u001B[43mto_numpy\u001B[49m\u001B[43m(\u001B[49m\u001B[43mdtype\u001B[49m\u001B[38;5;241;43m=\u001B[39;49m\u001B[38;5;28;43mfloat\u001B[39;49m\u001B[43m,\u001B[49m\u001B[43m \u001B[49m\u001B[43mna_value\u001B[49m\u001B[38;5;241;43m=\u001B[39;49m\u001B[43mnp\u001B[49m\u001B[38;5;241;43m.\u001B[39;49m\u001B[43mnan\u001B[49m\u001B[43m,\u001B[49m\u001B[43m \u001B[49m\u001B[43mcopy\u001B[49m\u001B[38;5;241;43m=\u001B[39;49m\u001B[38;5;28;43;01mFalse\u001B[39;49;00m\u001B[43m)\u001B[49m\n\u001B[0;32m  10056\u001B[0m \u001B[38;5;28;01mif\u001B[39;00m method \u001B[38;5;241m==\u001B[39m \u001B[38;5;124m\"\u001B[39m\u001B[38;5;124mpearson\u001B[39m\u001B[38;5;124m\"\u001B[39m:\n\u001B[0;32m  10057\u001B[0m     correl \u001B[38;5;241m=\u001B[39m libalgos\u001B[38;5;241m.\u001B[39mnancorr(mat, minp\u001B[38;5;241m=\u001B[39mmin_periods)\n",
      "File \u001B[1;32m~\\AppData\\Roaming\\Python\\Python310\\site-packages\\pandas\\core\\frame.py:1838\u001B[0m, in \u001B[0;36mDataFrame.to_numpy\u001B[1;34m(self, dtype, copy, na_value)\u001B[0m\n\u001B[0;32m   1836\u001B[0m \u001B[38;5;28;01mif\u001B[39;00m dtype \u001B[38;5;129;01mis\u001B[39;00m \u001B[38;5;129;01mnot\u001B[39;00m \u001B[38;5;28;01mNone\u001B[39;00m:\n\u001B[0;32m   1837\u001B[0m     dtype \u001B[38;5;241m=\u001B[39m np\u001B[38;5;241m.\u001B[39mdtype(dtype)\n\u001B[1;32m-> 1838\u001B[0m result \u001B[38;5;241m=\u001B[39m \u001B[38;5;28;43mself\u001B[39;49m\u001B[38;5;241;43m.\u001B[39;49m\u001B[43m_mgr\u001B[49m\u001B[38;5;241;43m.\u001B[39;49m\u001B[43mas_array\u001B[49m\u001B[43m(\u001B[49m\u001B[43mdtype\u001B[49m\u001B[38;5;241;43m=\u001B[39;49m\u001B[43mdtype\u001B[49m\u001B[43m,\u001B[49m\u001B[43m \u001B[49m\u001B[43mcopy\u001B[49m\u001B[38;5;241;43m=\u001B[39;49m\u001B[43mcopy\u001B[49m\u001B[43m,\u001B[49m\u001B[43m \u001B[49m\u001B[43mna_value\u001B[49m\u001B[38;5;241;43m=\u001B[39;49m\u001B[43mna_value\u001B[49m\u001B[43m)\u001B[49m\n\u001B[0;32m   1839\u001B[0m \u001B[38;5;28;01mif\u001B[39;00m result\u001B[38;5;241m.\u001B[39mdtype \u001B[38;5;129;01mis\u001B[39;00m \u001B[38;5;129;01mnot\u001B[39;00m dtype:\n\u001B[0;32m   1840\u001B[0m     result \u001B[38;5;241m=\u001B[39m np\u001B[38;5;241m.\u001B[39marray(result, dtype\u001B[38;5;241m=\u001B[39mdtype, copy\u001B[38;5;241m=\u001B[39m\u001B[38;5;28;01mFalse\u001B[39;00m)\n",
      "File \u001B[1;32m~\\AppData\\Roaming\\Python\\Python310\\site-packages\\pandas\\core\\internals\\managers.py:1732\u001B[0m, in \u001B[0;36mBlockManager.as_array\u001B[1;34m(self, dtype, copy, na_value)\u001B[0m\n\u001B[0;32m   1730\u001B[0m         arr\u001B[38;5;241m.\u001B[39mflags\u001B[38;5;241m.\u001B[39mwriteable \u001B[38;5;241m=\u001B[39m \u001B[38;5;28;01mFalse\u001B[39;00m\n\u001B[0;32m   1731\u001B[0m \u001B[38;5;28;01melse\u001B[39;00m:\n\u001B[1;32m-> 1732\u001B[0m     arr \u001B[38;5;241m=\u001B[39m \u001B[38;5;28;43mself\u001B[39;49m\u001B[38;5;241;43m.\u001B[39;49m\u001B[43m_interleave\u001B[49m\u001B[43m(\u001B[49m\u001B[43mdtype\u001B[49m\u001B[38;5;241;43m=\u001B[39;49m\u001B[43mdtype\u001B[49m\u001B[43m,\u001B[49m\u001B[43m \u001B[49m\u001B[43mna_value\u001B[49m\u001B[38;5;241;43m=\u001B[39;49m\u001B[43mna_value\u001B[49m\u001B[43m)\u001B[49m\n\u001B[0;32m   1733\u001B[0m     \u001B[38;5;66;03m# The underlying data was copied within _interleave, so no need\u001B[39;00m\n\u001B[0;32m   1734\u001B[0m     \u001B[38;5;66;03m# to further copy if copy=True or setting na_value\u001B[39;00m\n\u001B[0;32m   1736\u001B[0m \u001B[38;5;28;01mif\u001B[39;00m na_value \u001B[38;5;129;01mis\u001B[39;00m \u001B[38;5;129;01mnot\u001B[39;00m lib\u001B[38;5;241m.\u001B[39mno_default:\n",
      "File \u001B[1;32m~\\AppData\\Roaming\\Python\\Python310\\site-packages\\pandas\\core\\internals\\managers.py:1794\u001B[0m, in \u001B[0;36mBlockManager._interleave\u001B[1;34m(self, dtype, na_value)\u001B[0m\n\u001B[0;32m   1792\u001B[0m     \u001B[38;5;28;01melse\u001B[39;00m:\n\u001B[0;32m   1793\u001B[0m         arr \u001B[38;5;241m=\u001B[39m blk\u001B[38;5;241m.\u001B[39mget_values(dtype)\n\u001B[1;32m-> 1794\u001B[0m     result[rl\u001B[38;5;241m.\u001B[39mindexer] \u001B[38;5;241m=\u001B[39m arr\n\u001B[0;32m   1795\u001B[0m     itemmask[rl\u001B[38;5;241m.\u001B[39mindexer] \u001B[38;5;241m=\u001B[39m \u001B[38;5;241m1\u001B[39m\n\u001B[0;32m   1797\u001B[0m \u001B[38;5;28;01mif\u001B[39;00m \u001B[38;5;129;01mnot\u001B[39;00m itemmask\u001B[38;5;241m.\u001B[39mall():\n",
      "\u001B[1;31mValueError\u001B[0m: could not convert string to float: 'Premium'"
     ]
    }
   ],
   "source": [
    "sns.heatmap(df.corr(),annot=True)"
   ],
   "metadata": {
    "collapsed": false,
    "pycharm": {
     "name": "#%%\n"
    }
   }
  },
  {
   "cell_type": "code",
   "execution_count": 42,
   "outputs": [
    {
     "data": {
      "text/plain": "carat      float64\ncut         object\ncolor       object\nclarity     object\ndepth      float64\ntable      float64\nx          float64\ny          float64\nz          float64\nprice        int64\ndtype: object"
     },
     "execution_count": 42,
     "metadata": {},
     "output_type": "execute_result"
    }
   ],
   "source": [
    "df.dtypes"
   ],
   "metadata": {
    "collapsed": false,
    "pycharm": {
     "name": "#%%\n"
    }
   }
  },
  {
   "cell_type": "code",
   "execution_count": 43,
   "outputs": [
    {
     "data": {
      "text/plain": "array(['Premium', 'Very Good', 'Ideal', 'Good', 'Fair'], dtype=object)"
     },
     "execution_count": 43,
     "metadata": {},
     "output_type": "execute_result"
    }
   ],
   "source": [
    "df['cut'].unique()"
   ],
   "metadata": {
    "collapsed": false,
    "pycharm": {
     "name": "#%%\n"
    }
   }
  },
  {
   "cell_type": "code",
   "execution_count": 44,
   "outputs": [],
   "source": [
    "cut_map={\"Fair\":1,\"Good\":2,\"Very Good\":3,\"Premium\":4,\"Ideal\":5}"
   ],
   "metadata": {
    "collapsed": false,
    "pycharm": {
     "name": "#%%\n"
    }
   }
  },
  {
   "cell_type": "code",
   "execution_count": 45,
   "outputs": [
    {
     "data": {
      "text/plain": "{'Fair': 1, 'Good': 2, 'Very Good': 3, 'Premium': 4, 'Ideal': 5}"
     },
     "execution_count": 45,
     "metadata": {},
     "output_type": "execute_result"
    }
   ],
   "source": [
    "cut_map"
   ],
   "metadata": {
    "collapsed": false,
    "pycharm": {
     "name": "#%%\n"
    }
   }
  },
  {
   "cell_type": "code",
   "execution_count": 46,
   "outputs": [
    {
     "data": {
      "text/plain": "array(['VS2', 'SI2', 'VS1', 'SI1', 'IF', 'VVS2', 'VVS1', 'I1'],\n      dtype=object)"
     },
     "execution_count": 46,
     "metadata": {},
     "output_type": "execute_result"
    }
   ],
   "source": [
    "df['clarity'].unique()"
   ],
   "metadata": {
    "collapsed": false,
    "pycharm": {
     "name": "#%%\n"
    }
   }
  },
  {
   "cell_type": "code",
   "execution_count": 48,
   "outputs": [],
   "source": [
    "clarity_map = {\"I1\":1,\"SI2\":2 ,\"SI1\":3 ,\"VS2\":4 , \"VS1\":5 , \"VVS2\":6 , \"VVS1\":7 ,\"IF\":8}"
   ],
   "metadata": {
    "collapsed": false,
    "pycharm": {
     "name": "#%%\n"
    }
   }
  },
  {
   "cell_type": "code",
   "execution_count": 49,
   "outputs": [],
   "source": [
    "df"
   ],
   "metadata": {
    "collapsed": false,
    "pycharm": {
     "name": "#%%\n"
    }
   }
  },
  {
   "cell_type": "code",
   "execution_count": 50,
   "outputs": [
    {
     "data": {
      "text/plain": "{'I1': 1,\n 'SI2': 2,\n 'SI1': 3,\n 'VS2': 4,\n 'VS1': 5,\n 'VVS2': 6,\n 'VVS1': 7,\n 'IF': 8}"
     },
     "execution_count": 50,
     "metadata": {},
     "output_type": "execute_result"
    }
   ],
   "source": [
    "clarity_map"
   ],
   "metadata": {
    "collapsed": false,
    "pycharm": {
     "name": "#%%\n"
    }
   }
  },
  {
   "cell_type": "code",
   "execution_count": 51,
   "outputs": [
    {
     "data": {
      "text/plain": "array(['F', 'J', 'G', 'E', 'D', 'H', 'I'], dtype=object)"
     },
     "execution_count": 51,
     "metadata": {},
     "output_type": "execute_result"
    }
   ],
   "source": [
    "df['color'].unique()"
   ],
   "metadata": {
    "collapsed": false,
    "pycharm": {
     "name": "#%%\n"
    }
   }
  },
  {
   "cell_type": "code",
   "execution_count": 52,
   "outputs": [],
   "source": [
    "color_map = {\"D\":1 ,\"E\":2 ,\"F\":3 , \"G\":4 ,\"H\":5 , \"I\":6, \"J\":7}"
   ],
   "metadata": {
    "collapsed": false,
    "pycharm": {
     "name": "#%%\n"
    }
   }
  },
  {
   "cell_type": "code",
   "execution_count": 53,
   "outputs": [],
   "source": [
    "df['cut']=df['cut'].map(cut_map)\n",
    "df['clarity']=df['clarity'].map(clarity_map)\n",
    "df['color']=df['color'].map(color_map)"
   ],
   "metadata": {
    "collapsed": false,
    "pycharm": {
     "name": "#%%\n"
    }
   }
  },
  {
   "cell_type": "code",
   "execution_count": 54,
   "outputs": [
    {
     "data": {
      "text/plain": "   carat  cut  color  clarity  depth  table     x     y     z  price\n0   1.52    4      3        4   62.2   58.0  7.27  7.33  4.55  13619\n1   2.03    3      7        2   62.0   58.0  8.06  8.12  5.05  13387\n2   0.70    5      4        5   61.2   57.0  5.69  5.73  3.50   2772\n3   0.32    5      4        5   61.6   56.0  4.38  4.41  2.71    666\n4   1.70    4      4        4   62.6   59.0  7.65  7.61  4.77  14453",
      "text/html": "<div>\n<style scoped>\n    .dataframe tbody tr th:only-of-type {\n        vertical-align: middle;\n    }\n\n    .dataframe tbody tr th {\n        vertical-align: top;\n    }\n\n    .dataframe thead th {\n        text-align: right;\n    }\n</style>\n<table border=\"1\" class=\"dataframe\">\n  <thead>\n    <tr style=\"text-align: right;\">\n      <th></th>\n      <th>carat</th>\n      <th>cut</th>\n      <th>color</th>\n      <th>clarity</th>\n      <th>depth</th>\n      <th>table</th>\n      <th>x</th>\n      <th>y</th>\n      <th>z</th>\n      <th>price</th>\n    </tr>\n  </thead>\n  <tbody>\n    <tr>\n      <th>0</th>\n      <td>1.52</td>\n      <td>4</td>\n      <td>3</td>\n      <td>4</td>\n      <td>62.2</td>\n      <td>58.0</td>\n      <td>7.27</td>\n      <td>7.33</td>\n      <td>4.55</td>\n      <td>13619</td>\n    </tr>\n    <tr>\n      <th>1</th>\n      <td>2.03</td>\n      <td>3</td>\n      <td>7</td>\n      <td>2</td>\n      <td>62.0</td>\n      <td>58.0</td>\n      <td>8.06</td>\n      <td>8.12</td>\n      <td>5.05</td>\n      <td>13387</td>\n    </tr>\n    <tr>\n      <th>2</th>\n      <td>0.70</td>\n      <td>5</td>\n      <td>4</td>\n      <td>5</td>\n      <td>61.2</td>\n      <td>57.0</td>\n      <td>5.69</td>\n      <td>5.73</td>\n      <td>3.50</td>\n      <td>2772</td>\n    </tr>\n    <tr>\n      <th>3</th>\n      <td>0.32</td>\n      <td>5</td>\n      <td>4</td>\n      <td>5</td>\n      <td>61.6</td>\n      <td>56.0</td>\n      <td>4.38</td>\n      <td>4.41</td>\n      <td>2.71</td>\n      <td>666</td>\n    </tr>\n    <tr>\n      <th>4</th>\n      <td>1.70</td>\n      <td>4</td>\n      <td>4</td>\n      <td>4</td>\n      <td>62.6</td>\n      <td>59.0</td>\n      <td>7.65</td>\n      <td>7.61</td>\n      <td>4.77</td>\n      <td>14453</td>\n    </tr>\n  </tbody>\n</table>\n</div>"
     },
     "execution_count": 54,
     "metadata": {},
     "output_type": "execute_result"
    }
   ],
   "source": [
    "df.head()"
   ],
   "metadata": {
    "collapsed": false,
    "pycharm": {
     "name": "#%%\n"
    }
   }
  },
  {
   "cell_type": "code",
   "execution_count": 55,
   "outputs": [],
   "source": [
    "df=pd.read_csv(r'D:\\Pyn\\online learning\\INURAN_DATA\\Project\\dimind_pra\\notebooks\\data\\gemstone.csv')"
   ],
   "metadata": {
    "collapsed": false,
    "pycharm": {
     "name": "#%%\n"
    }
   }
  },
  {
   "cell_type": "code",
   "execution_count": 56,
   "outputs": [
    {
     "data": {
      "text/plain": "   id  carat        cut color clarity  depth  table     x     y     z  price\n0   0   1.52    Premium     F     VS2   62.2   58.0  7.27  7.33  4.55  13619\n1   1   2.03  Very Good     J     SI2   62.0   58.0  8.06  8.12  5.05  13387\n2   2   0.70      Ideal     G     VS1   61.2   57.0  5.69  5.73  3.50   2772\n3   3   0.32      Ideal     G     VS1   61.6   56.0  4.38  4.41  2.71    666\n4   4   1.70    Premium     G     VS2   62.6   59.0  7.65  7.61  4.77  14453",
      "text/html": "<div>\n<style scoped>\n    .dataframe tbody tr th:only-of-type {\n        vertical-align: middle;\n    }\n\n    .dataframe tbody tr th {\n        vertical-align: top;\n    }\n\n    .dataframe thead th {\n        text-align: right;\n    }\n</style>\n<table border=\"1\" class=\"dataframe\">\n  <thead>\n    <tr style=\"text-align: right;\">\n      <th></th>\n      <th>id</th>\n      <th>carat</th>\n      <th>cut</th>\n      <th>color</th>\n      <th>clarity</th>\n      <th>depth</th>\n      <th>table</th>\n      <th>x</th>\n      <th>y</th>\n      <th>z</th>\n      <th>price</th>\n    </tr>\n  </thead>\n  <tbody>\n    <tr>\n      <th>0</th>\n      <td>0</td>\n      <td>1.52</td>\n      <td>Premium</td>\n      <td>F</td>\n      <td>VS2</td>\n      <td>62.2</td>\n      <td>58.0</td>\n      <td>7.27</td>\n      <td>7.33</td>\n      <td>4.55</td>\n      <td>13619</td>\n    </tr>\n    <tr>\n      <th>1</th>\n      <td>1</td>\n      <td>2.03</td>\n      <td>Very Good</td>\n      <td>J</td>\n      <td>SI2</td>\n      <td>62.0</td>\n      <td>58.0</td>\n      <td>8.06</td>\n      <td>8.12</td>\n      <td>5.05</td>\n      <td>13387</td>\n    </tr>\n    <tr>\n      <th>2</th>\n      <td>2</td>\n      <td>0.70</td>\n      <td>Ideal</td>\n      <td>G</td>\n      <td>VS1</td>\n      <td>61.2</td>\n      <td>57.0</td>\n      <td>5.69</td>\n      <td>5.73</td>\n      <td>3.50</td>\n      <td>2772</td>\n    </tr>\n    <tr>\n      <th>3</th>\n      <td>3</td>\n      <td>0.32</td>\n      <td>Ideal</td>\n      <td>G</td>\n      <td>VS1</td>\n      <td>61.6</td>\n      <td>56.0</td>\n      <td>4.38</td>\n      <td>4.41</td>\n      <td>2.71</td>\n      <td>666</td>\n    </tr>\n    <tr>\n      <th>4</th>\n      <td>4</td>\n      <td>1.70</td>\n      <td>Premium</td>\n      <td>G</td>\n      <td>VS2</td>\n      <td>62.6</td>\n      <td>59.0</td>\n      <td>7.65</td>\n      <td>7.61</td>\n      <td>4.77</td>\n      <td>14453</td>\n    </tr>\n  </tbody>\n</table>\n</div>"
     },
     "execution_count": 56,
     "metadata": {},
     "output_type": "execute_result"
    }
   ],
   "source": [
    "df.head()"
   ],
   "metadata": {
    "collapsed": false,
    "pycharm": {
     "name": "#%%\n"
    }
   }
  },
  {
   "cell_type": "code",
   "execution_count": 57,
   "outputs": [],
   "source": [
    "df=df.drop(labels=['id'], axis=1)"
   ],
   "metadata": {
    "collapsed": false,
    "pycharm": {
     "name": "#%%\n"
    }
   }
  },
  {
   "cell_type": "code",
   "execution_count": 58,
   "outputs": [],
   "source": [
    "X=df.drop(labels=['price'],axis=1)\n",
    "Y=df['price']"
   ],
   "metadata": {
    "collapsed": false,
    "pycharm": {
     "name": "#%%\n"
    }
   }
  },
  {
   "cell_type": "code",
   "execution_count": 60,
   "outputs": [
    {
     "data": {
      "text/plain": "0         13619\n1         13387\n2          2772\n3           666\n4         14453\n          ...  \n193568     1130\n193569     2874\n193570     3036\n193571      681\n193572     2258\nName: price, Length: 193573, dtype: int64"
     },
     "execution_count": 60,
     "metadata": {},
     "output_type": "execute_result"
    }
   ],
   "source": [
    "Y"
   ],
   "metadata": {
    "collapsed": false,
    "pycharm": {
     "name": "#%%\n"
    }
   }
  },
  {
   "cell_type": "code",
   "execution_count": 61,
   "outputs": [],
   "source": [
    "categorical_cols=X.select_dtypes(include='object').columns\n",
    "numerical_cols=X.select_dtypes(exclude='object').columns"
   ],
   "metadata": {
    "collapsed": false,
    "pycharm": {
     "name": "#%%\n"
    }
   }
  },
  {
   "cell_type": "code",
   "execution_count": 62,
   "outputs": [
    {
     "data": {
      "text/plain": "Index(['cut', 'color', 'clarity'], dtype='object')"
     },
     "execution_count": 62,
     "metadata": {},
     "output_type": "execute_result"
    }
   ],
   "source": [
    "categorical_columns"
   ],
   "metadata": {
    "collapsed": false,
    "pycharm": {
     "name": "#%%\n"
    }
   }
  },
  {
   "cell_type": "code",
   "execution_count": 63,
   "outputs": [
    {
     "data": {
      "text/plain": "   carat        cut color clarity  depth  table     x     y     z\n0   1.52    Premium     F     VS2   62.2   58.0  7.27  7.33  4.55\n1   2.03  Very Good     J     SI2   62.0   58.0  8.06  8.12  5.05\n2   0.70      Ideal     G     VS1   61.2   57.0  5.69  5.73  3.50\n3   0.32      Ideal     G     VS1   61.6   56.0  4.38  4.41  2.71\n4   1.70    Premium     G     VS2   62.6   59.0  7.65  7.61  4.77",
      "text/html": "<div>\n<style scoped>\n    .dataframe tbody tr th:only-of-type {\n        vertical-align: middle;\n    }\n\n    .dataframe tbody tr th {\n        vertical-align: top;\n    }\n\n    .dataframe thead th {\n        text-align: right;\n    }\n</style>\n<table border=\"1\" class=\"dataframe\">\n  <thead>\n    <tr style=\"text-align: right;\">\n      <th></th>\n      <th>carat</th>\n      <th>cut</th>\n      <th>color</th>\n      <th>clarity</th>\n      <th>depth</th>\n      <th>table</th>\n      <th>x</th>\n      <th>y</th>\n      <th>z</th>\n    </tr>\n  </thead>\n  <tbody>\n    <tr>\n      <th>0</th>\n      <td>1.52</td>\n      <td>Premium</td>\n      <td>F</td>\n      <td>VS2</td>\n      <td>62.2</td>\n      <td>58.0</td>\n      <td>7.27</td>\n      <td>7.33</td>\n      <td>4.55</td>\n    </tr>\n    <tr>\n      <th>1</th>\n      <td>2.03</td>\n      <td>Very Good</td>\n      <td>J</td>\n      <td>SI2</td>\n      <td>62.0</td>\n      <td>58.0</td>\n      <td>8.06</td>\n      <td>8.12</td>\n      <td>5.05</td>\n    </tr>\n    <tr>\n      <th>2</th>\n      <td>0.70</td>\n      <td>Ideal</td>\n      <td>G</td>\n      <td>VS1</td>\n      <td>61.2</td>\n      <td>57.0</td>\n      <td>5.69</td>\n      <td>5.73</td>\n      <td>3.50</td>\n    </tr>\n    <tr>\n      <th>3</th>\n      <td>0.32</td>\n      <td>Ideal</td>\n      <td>G</td>\n      <td>VS1</td>\n      <td>61.6</td>\n      <td>56.0</td>\n      <td>4.38</td>\n      <td>4.41</td>\n      <td>2.71</td>\n    </tr>\n    <tr>\n      <th>4</th>\n      <td>1.70</td>\n      <td>Premium</td>\n      <td>G</td>\n      <td>VS2</td>\n      <td>62.6</td>\n      <td>59.0</td>\n      <td>7.65</td>\n      <td>7.61</td>\n      <td>4.77</td>\n    </tr>\n  </tbody>\n</table>\n</div>"
     },
     "execution_count": 63,
     "metadata": {},
     "output_type": "execute_result"
    }
   ],
   "source": [
    "X.head()"
   ],
   "metadata": {
    "collapsed": false,
    "pycharm": {
     "name": "#%%\n"
    }
   }
  },
  {
   "cell_type": "code",
   "execution_count": 66,
   "outputs": [
    {
     "data": {
      "text/plain": "Index(['cut', 'color', 'clarity'], dtype='object')"
     },
     "execution_count": 66,
     "metadata": {},
     "output_type": "execute_result"
    }
   ],
   "source": [
    "X.columns[X.dtypes=='object']"
   ],
   "metadata": {
    "collapsed": false,
    "pycharm": {
     "name": "#%%\n"
    }
   }
  },
  {
   "cell_type": "code",
   "execution_count": 67,
   "outputs": [
    {
     "data": {
      "text/plain": "Index(['cut', 'color', 'clarity'], dtype='object')"
     },
     "execution_count": 67,
     "metadata": {},
     "output_type": "execute_result"
    }
   ],
   "source": [
    "X.select_dtypes('object').columns"
   ],
   "metadata": {
    "collapsed": false,
    "pycharm": {
     "name": "#%%\n"
    }
   }
  },
  {
   "cell_type": "code",
   "execution_count": 69,
   "outputs": [
    {
     "data": {
      "text/plain": "color\nG    44391\nE    35869\nF    34258\nH    30799\nD    24286\nI    17514\nJ     6456\nName: count, dtype: int64"
     },
     "execution_count": 69,
     "metadata": {},
     "output_type": "execute_result"
    }
   ],
   "source": [
    "X['color'].value_counts()"
   ],
   "metadata": {
    "collapsed": false,
    "pycharm": {
     "name": "#%%\n"
    }
   }
  },
  {
   "cell_type": "code",
   "execution_count": 72,
   "outputs": [],
   "source": [
    "cut_categories = ['Fair', 'Good', 'Very Good','Premium','Ideal']\n",
    "color_categories = ['D', 'E', 'F', 'G', 'H', 'I', 'J']\n",
    "clarity_categories = ['I1','SI2','SI1','VS2','VS1','VVS2','VVS1','IF']"
   ],
   "metadata": {
    "collapsed": false,
    "pycharm": {
     "name": "#%%\n"
    }
   }
  },
  {
   "cell_type": "code",
   "execution_count": 73,
   "outputs": [],
   "source": [
    "from sklearn.impute import SimpleImputer\n",
    "from sklearn.preprocessing import StandardScaler\n",
    "from sklearn.preprocessing import OrdinalEncoder\n",
    "\n",
    "from sklearn.pipeline import Pipeline\n",
    "from sklearn.compose import ColumnTransformer"
   ],
   "metadata": {
    "collapsed": false,
    "pycharm": {
     "name": "#%%\n"
    }
   }
  },
  {
   "cell_type": "code",
   "execution_count": 74,
   "outputs": [],
   "source": [
    "num_pipeline=Pipeline(\n",
    "    steps=[\n",
    "        ('imputer', SimpleImputer(strategy='median')),\n",
    "        ('scaler', StandardScaler())\n",
    "    ]\n",
    ")\n",
    "\n",
    "cat_pipeline=Pipeline(\n",
    "    steps=[\n",
    "        ('imputer', SimpleImputer(strategy='most_frequent')),\n",
    "        ('ordinalencoder', OrdinalEncoder(categories=[cut_categories,\n",
    "                                                      color_categories,clarity_categories])),\n",
    "        ('scaler',StandardScaler())\n",
    "    ]\n",
    ")\n",
    "preprocessor=ColumnTransformer([\n",
    "    ('num_pipeline',num_pipeline,numerical_cols),\n",
    "    ('cat_pipeline',StandardScaler())\n",
    "])\n",
    "preprocessor=ColumnTransformer([\n",
    "    ('num_pipeline',num_pipeline,numerical_cols),\n",
    "    ('cat_pipeline',cat_pipeline,categorical_cols)\n",
    "])"
   ],
   "metadata": {
    "collapsed": false,
    "pycharm": {
     "name": "#%%\n"
    }
   }
  },
  {
   "cell_type": "code",
   "execution_count": 75,
   "outputs": [],
   "source": [
    "from sklearn.model_selection import train_test_split\n",
    "X_train,X_test,y_train,y_test=train_test_split(X,Y,test_size=0.30,random_state=30)"
   ],
   "metadata": {
    "collapsed": false,
    "pycharm": {
     "name": "#%%\n"
    }
   }
  },
  {
   "cell_type": "code",
   "execution_count": 76,
   "outputs": [],
   "source": [
    "X_train=pd.DataFrame(preprocessor.fit_transform(X_train),\n",
    "                     columns=preprocessor.get_feature_names_out())\n",
    "X_test=pd.DataFrame(preprocessor.transform(X_test),columns=preprocessor.get_feature_names_out())"
   ],
   "metadata": {
    "collapsed": false,
    "pycharm": {
     "name": "#%%\n"
    }
   }
  },
  {
   "cell_type": "code",
   "execution_count": 77,
   "outputs": [
    {
     "data": {
      "text/plain": "   num_pipeline__carat  num_pipeline__depth  num_pipeline__table  \\\n0            -0.975439            -0.849607            -0.121531   \n1             0.235195             1.833637            -0.121531   \n2             0.494617             0.815855             0.399800   \n3            -1.018676             0.260701             0.921131   \n4            -0.953821            -0.664555            -0.642862   \n\n   num_pipeline__x  num_pipeline__y  num_pipeline__z  cat_pipeline__cut  \\\n0        -1.042757        -1.080970        -1.123150           0.874076   \n1         0.318447         0.279859         0.485354          -2.144558   \n2         0.570855         0.606458         0.673737          -0.132136   \n3        -1.214034        -1.244270        -1.195605          -0.132136   \n4        -1.069801        -1.044681        -1.094168           0.874076   \n\n   cat_pipeline__color  cat_pipeline__clarity  \n0             1.528722               1.352731  \n1            -0.935071              -0.646786  \n2             0.296826               0.686225  \n3             0.296826               0.019720  \n4             2.144670               1.352731  ",
      "text/html": "<div>\n<style scoped>\n    .dataframe tbody tr th:only-of-type {\n        vertical-align: middle;\n    }\n\n    .dataframe tbody tr th {\n        vertical-align: top;\n    }\n\n    .dataframe thead th {\n        text-align: right;\n    }\n</style>\n<table border=\"1\" class=\"dataframe\">\n  <thead>\n    <tr style=\"text-align: right;\">\n      <th></th>\n      <th>num_pipeline__carat</th>\n      <th>num_pipeline__depth</th>\n      <th>num_pipeline__table</th>\n      <th>num_pipeline__x</th>\n      <th>num_pipeline__y</th>\n      <th>num_pipeline__z</th>\n      <th>cat_pipeline__cut</th>\n      <th>cat_pipeline__color</th>\n      <th>cat_pipeline__clarity</th>\n    </tr>\n  </thead>\n  <tbody>\n    <tr>\n      <th>0</th>\n      <td>-0.975439</td>\n      <td>-0.849607</td>\n      <td>-0.121531</td>\n      <td>-1.042757</td>\n      <td>-1.080970</td>\n      <td>-1.123150</td>\n      <td>0.874076</td>\n      <td>1.528722</td>\n      <td>1.352731</td>\n    </tr>\n    <tr>\n      <th>1</th>\n      <td>0.235195</td>\n      <td>1.833637</td>\n      <td>-0.121531</td>\n      <td>0.318447</td>\n      <td>0.279859</td>\n      <td>0.485354</td>\n      <td>-2.144558</td>\n      <td>-0.935071</td>\n      <td>-0.646786</td>\n    </tr>\n    <tr>\n      <th>2</th>\n      <td>0.494617</td>\n      <td>0.815855</td>\n      <td>0.399800</td>\n      <td>0.570855</td>\n      <td>0.606458</td>\n      <td>0.673737</td>\n      <td>-0.132136</td>\n      <td>0.296826</td>\n      <td>0.686225</td>\n    </tr>\n    <tr>\n      <th>3</th>\n      <td>-1.018676</td>\n      <td>0.260701</td>\n      <td>0.921131</td>\n      <td>-1.214034</td>\n      <td>-1.244270</td>\n      <td>-1.195605</td>\n      <td>-0.132136</td>\n      <td>0.296826</td>\n      <td>0.019720</td>\n    </tr>\n    <tr>\n      <th>4</th>\n      <td>-0.953821</td>\n      <td>-0.664555</td>\n      <td>-0.642862</td>\n      <td>-1.069801</td>\n      <td>-1.044681</td>\n      <td>-1.094168</td>\n      <td>0.874076</td>\n      <td>2.144670</td>\n      <td>1.352731</td>\n    </tr>\n  </tbody>\n</table>\n</div>"
     },
     "execution_count": 77,
     "metadata": {},
     "output_type": "execute_result"
    }
   ],
   "source": [
    "X_train.head()"
   ],
   "metadata": {
    "collapsed": false,
    "pycharm": {
     "name": "#%%\n"
    }
   }
  },
  {
   "cell_type": "code",
   "execution_count": 78,
   "outputs": [],
   "source": [
    "from sklearn.linear_model import LinearRegression, Lasso, Ridge, ElasticNet\n",
    "from sklearn.metrics import r2_score, mean_absolute_error, mean_squared_error"
   ],
   "metadata": {
    "collapsed": false,
    "pycharm": {
     "name": "#%%\n"
    }
   }
  },
  {
   "cell_type": "code",
   "execution_count": 79,
   "outputs": [],
   "source": [
    "regression=LinearRegression()"
   ],
   "metadata": {
    "collapsed": false,
    "pycharm": {
     "name": "#%%\n"
    }
   }
  },
  {
   "cell_type": "code",
   "execution_count": 80,
   "outputs": [
    {
     "data": {
      "text/plain": "LinearRegression()",
      "text/html": "<style>#sk-container-id-1 {color: black;background-color: white;}#sk-container-id-1 pre{padding: 0;}#sk-container-id-1 div.sk-toggleable {background-color: white;}#sk-container-id-1 label.sk-toggleable__label {cursor: pointer;display: block;width: 100%;margin-bottom: 0;padding: 0.3em;box-sizing: border-box;text-align: center;}#sk-container-id-1 label.sk-toggleable__label-arrow:before {content: \"▸\";float: left;margin-right: 0.25em;color: #696969;}#sk-container-id-1 label.sk-toggleable__label-arrow:hover:before {color: black;}#sk-container-id-1 div.sk-estimator:hover label.sk-toggleable__label-arrow:before {color: black;}#sk-container-id-1 div.sk-toggleable__content {max-height: 0;max-width: 0;overflow: hidden;text-align: left;background-color: #f0f8ff;}#sk-container-id-1 div.sk-toggleable__content pre {margin: 0.2em;color: black;border-radius: 0.25em;background-color: #f0f8ff;}#sk-container-id-1 input.sk-toggleable__control:checked~div.sk-toggleable__content {max-height: 200px;max-width: 100%;overflow: auto;}#sk-container-id-1 input.sk-toggleable__control:checked~label.sk-toggleable__label-arrow:before {content: \"▾\";}#sk-container-id-1 div.sk-estimator input.sk-toggleable__control:checked~label.sk-toggleable__label {background-color: #d4ebff;}#sk-container-id-1 div.sk-label input.sk-toggleable__control:checked~label.sk-toggleable__label {background-color: #d4ebff;}#sk-container-id-1 input.sk-hidden--visually {border: 0;clip: rect(1px 1px 1px 1px);clip: rect(1px, 1px, 1px, 1px);height: 1px;margin: -1px;overflow: hidden;padding: 0;position: absolute;width: 1px;}#sk-container-id-1 div.sk-estimator {font-family: monospace;background-color: #f0f8ff;border: 1px dotted black;border-radius: 0.25em;box-sizing: border-box;margin-bottom: 0.5em;}#sk-container-id-1 div.sk-estimator:hover {background-color: #d4ebff;}#sk-container-id-1 div.sk-parallel-item::after {content: \"\";width: 100%;border-bottom: 1px solid gray;flex-grow: 1;}#sk-container-id-1 div.sk-label:hover label.sk-toggleable__label {background-color: #d4ebff;}#sk-container-id-1 div.sk-serial::before {content: \"\";position: absolute;border-left: 1px solid gray;box-sizing: border-box;top: 0;bottom: 0;left: 50%;z-index: 0;}#sk-container-id-1 div.sk-serial {display: flex;flex-direction: column;align-items: center;background-color: white;padding-right: 0.2em;padding-left: 0.2em;position: relative;}#sk-container-id-1 div.sk-item {position: relative;z-index: 1;}#sk-container-id-1 div.sk-parallel {display: flex;align-items: stretch;justify-content: center;background-color: white;position: relative;}#sk-container-id-1 div.sk-item::before, #sk-container-id-1 div.sk-parallel-item::before {content: \"\";position: absolute;border-left: 1px solid gray;box-sizing: border-box;top: 0;bottom: 0;left: 50%;z-index: -1;}#sk-container-id-1 div.sk-parallel-item {display: flex;flex-direction: column;z-index: 1;position: relative;background-color: white;}#sk-container-id-1 div.sk-parallel-item:first-child::after {align-self: flex-end;width: 50%;}#sk-container-id-1 div.sk-parallel-item:last-child::after {align-self: flex-start;width: 50%;}#sk-container-id-1 div.sk-parallel-item:only-child::after {width: 0;}#sk-container-id-1 div.sk-dashed-wrapped {border: 1px dashed gray;margin: 0 0.4em 0.5em 0.4em;box-sizing: border-box;padding-bottom: 0.4em;background-color: white;}#sk-container-id-1 div.sk-label label {font-family: monospace;font-weight: bold;display: inline-block;line-height: 1.2em;}#sk-container-id-1 div.sk-label-container {text-align: center;}#sk-container-id-1 div.sk-container {/* jupyter's `normalize.less` sets `[hidden] { display: none; }` but bootstrap.min.css set `[hidden] { display: none !important; }` so we also need the `!important` here to be able to override the default hidden behavior on the sphinx rendered scikit-learn.org. See: https://github.com/scikit-learn/scikit-learn/issues/21755 */display: inline-block !important;position: relative;}#sk-container-id-1 div.sk-text-repr-fallback {display: none;}</style><div id=\"sk-container-id-1\" class=\"sk-top-container\"><div class=\"sk-text-repr-fallback\"><pre>LinearRegression()</pre><b>In a Jupyter environment, please rerun this cell to show the HTML representation or trust the notebook. <br />On GitHub, the HTML representation is unable to render, please try loading this page with nbviewer.org.</b></div><div class=\"sk-container\" hidden><div class=\"sk-item\"><div class=\"sk-estimator sk-toggleable\"><input class=\"sk-toggleable__control sk-hidden--visually\" id=\"sk-estimator-id-1\" type=\"checkbox\" checked><label for=\"sk-estimator-id-1\" class=\"sk-toggleable__label sk-toggleable__label-arrow\">LinearRegression</label><div class=\"sk-toggleable__content\"><pre>LinearRegression()</pre></div></div></div></div></div>"
     },
     "execution_count": 80,
     "metadata": {},
     "output_type": "execute_result"
    }
   ],
   "source": [
    "regression.fit(X_train,y_train)"
   ],
   "metadata": {
    "collapsed": false,
    "pycharm": {
     "name": "#%%\n"
    }
   }
  },
  {
   "cell_type": "code",
   "execution_count": 81,
   "outputs": [
    {
     "data": {
      "text/plain": "array([ 6433.66003594,  -132.75843566,   -70.42922179, -1720.30971463,\n        -499.29302619,   -63.39317848,    72.44537247,  -460.41604642,\n         650.76431652])"
     },
     "execution_count": 81,
     "metadata": {},
     "output_type": "execute_result"
    }
   ],
   "source": [
    "regression.coef_"
   ],
   "metadata": {
    "collapsed": false,
    "pycharm": {
     "name": "#%%\n"
    }
   }
  },
  {
   "cell_type": "code",
   "execution_count": 82,
   "outputs": [
    {
     "data": {
      "text/plain": "3970.7662895476774"
     },
     "execution_count": 82,
     "metadata": {},
     "output_type": "execute_result"
    }
   ],
   "source": [
    "regression.intercept_"
   ],
   "metadata": {
    "collapsed": false,
    "pycharm": {
     "name": "#%%\n"
    }
   }
  },
  {
   "cell_type": "code",
   "execution_count": 85,
   "outputs": [],
   "source": [
    "import numpy as np\n",
    "def evaluate_model(true, predicted):\n",
    "    mae = mean_absolute_error(true, predicted)\n",
    "    mse = mean_squared_error(true, predicted)\n",
    "    rmse = np.sqrt(mean_squared_error(true, predicted))\n",
    "    r2_square = r2_score(true, predicted)\n",
    "    return mae, rmse, r2_square"
   ],
   "metadata": {
    "collapsed": false,
    "pycharm": {
     "name": "#%%\n"
    }
   }
  },
  {
   "cell_type": "code",
   "execution_count": 87,
   "outputs": [
    {
     "ename": "TypeError",
     "evalue": "'numpy.float64' object is not callable",
     "output_type": "error",
     "traceback": [
      "\u001B[1;31m---------------------------------------------------------------------------\u001B[0m",
      "\u001B[1;31mTypeError\u001B[0m                                 Traceback (most recent call last)",
      "Cell \u001B[1;32mIn[87], line 20\u001B[0m\n\u001B[0;32m     17\u001B[0m \u001B[38;5;66;03m#Make Predictions\u001B[39;00m\n\u001B[0;32m     18\u001B[0m y_pred\u001B[38;5;241m=\u001B[39mmodel\u001B[38;5;241m.\u001B[39mpredict(X_test)\n\u001B[1;32m---> 20\u001B[0m mae, rmse, r2_square\u001B[38;5;241m=\u001B[39m\u001B[43mevaluate_model\u001B[49m\u001B[43m(\u001B[49m\u001B[43my_test\u001B[49m\u001B[43m,\u001B[49m\u001B[43my_pred\u001B[49m\u001B[43m)\u001B[49m\n\u001B[0;32m     22\u001B[0m \u001B[38;5;28mprint\u001B[39m(\u001B[38;5;28mlist\u001B[39m(models\u001B[38;5;241m.\u001B[39mkeys())[i])\n\u001B[0;32m     23\u001B[0m model_list\u001B[38;5;241m.\u001B[39mappend(\u001B[38;5;28mlist\u001B[39m(models\u001B[38;5;241m.\u001B[39mkeys())[i])\n",
      "Cell \u001B[1;32mIn[85], line 6\u001B[0m, in \u001B[0;36mevaluate_model\u001B[1;34m(true, predicted)\u001B[0m\n\u001B[0;32m      4\u001B[0m mse \u001B[38;5;241m=\u001B[39m mean_squared_error(true, predicted)\n\u001B[0;32m      5\u001B[0m rmse \u001B[38;5;241m=\u001B[39m np\u001B[38;5;241m.\u001B[39msqrt(mean_squared_error(true, predicted))\n\u001B[1;32m----> 6\u001B[0m r2_square \u001B[38;5;241m=\u001B[39m \u001B[43mr2_score\u001B[49m\u001B[43m(\u001B[49m\u001B[43mtrue\u001B[49m\u001B[43m,\u001B[49m\u001B[43m \u001B[49m\u001B[43mpredicted\u001B[49m\u001B[43m)\u001B[49m\n\u001B[0;32m      7\u001B[0m \u001B[38;5;28;01mreturn\u001B[39;00m mae, rmse, r2_square\n",
      "\u001B[1;31mTypeError\u001B[0m: 'numpy.float64' object is not callable"
     ]
    }
   ],
   "source": [
    "## Train multiple models\n",
    "\n",
    "models={\n",
    "    'LinearRegression':LinearRegression(),\n",
    "    'Lasso':Lasso(),\n",
    "    'Ridge':Ridge(),\n",
    "    'Elasticnet':ElasticNet()\n",
    "}\n",
    "trained_model_list=[]\n",
    "model_list=[]\n",
    "r2_list=[]\n",
    "\n",
    "for i in range(len(list(models))):\n",
    "    model=list(models.values())[i]\n",
    "    model.fit(X_train,y_train)\n",
    "\n",
    "    #Make Predictions\n",
    "    y_pred=model.predict(X_test)\n",
    "\n",
    "    mae, rmse, r2_square=evaluate_model(y_test,y_pred)\n",
    "\n",
    "    print(list(models.keys())[i])\n",
    "    model_list.append(list(models.keys())[i])\n",
    "\n",
    "    print('Model Training Performance')\n",
    "    print(\"RMSE:\",rmse)\n",
    "    print(\"MAE:\",mae)\n",
    "    print(\"R2 score\",r2_square*100)\n",
    "\n",
    "    r2_list.append(r2_square)\n",
    "\n",
    "    print('='*35)\n",
    "    print('\\n')\n"
   ],
   "metadata": {
    "collapsed": false,
    "pycharm": {
     "name": "#%%\n"
    }
   }
  },
  {
   "cell_type": "code",
   "execution_count": 88,
   "outputs": [
    {
     "data": {
      "text/plain": "[]"
     },
     "execution_count": 88,
     "metadata": {},
     "output_type": "execute_result"
    }
   ],
   "source": [
    "model_list"
   ],
   "metadata": {
    "collapsed": false,
    "pycharm": {
     "name": "#%%\n"
    }
   }
  },
  {
   "cell_type": "code",
   "execution_count": 89,
   "outputs": [],
   "source": [
    "df=pd.read_csv(r'D:\\Pyn\\online learning\\INURAN_DATA\\Project\\dimind_pra\\notebooks\\data\\gemstone.csv')"
   ],
   "metadata": {
    "collapsed": false,
    "pycharm": {
     "name": "#%%\n"
    }
   }
  },
  {
   "cell_type": "code",
   "execution_count": 90,
   "outputs": [
    {
     "data": {
      "text/plain": "   id  carat        cut color clarity  depth  table     x     y     z  price\n0   0   1.52    Premium     F     VS2   62.2   58.0  7.27  7.33  4.55  13619\n1   1   2.03  Very Good     J     SI2   62.0   58.0  8.06  8.12  5.05  13387\n2   2   0.70      Ideal     G     VS1   61.2   57.0  5.69  5.73  3.50   2772\n3   3   0.32      Ideal     G     VS1   61.6   56.0  4.38  4.41  2.71    666\n4   4   1.70    Premium     G     VS2   62.6   59.0  7.65  7.61  4.77  14453",
      "text/html": "<div>\n<style scoped>\n    .dataframe tbody tr th:only-of-type {\n        vertical-align: middle;\n    }\n\n    .dataframe tbody tr th {\n        vertical-align: top;\n    }\n\n    .dataframe thead th {\n        text-align: right;\n    }\n</style>\n<table border=\"1\" class=\"dataframe\">\n  <thead>\n    <tr style=\"text-align: right;\">\n      <th></th>\n      <th>id</th>\n      <th>carat</th>\n      <th>cut</th>\n      <th>color</th>\n      <th>clarity</th>\n      <th>depth</th>\n      <th>table</th>\n      <th>x</th>\n      <th>y</th>\n      <th>z</th>\n      <th>price</th>\n    </tr>\n  </thead>\n  <tbody>\n    <tr>\n      <th>0</th>\n      <td>0</td>\n      <td>1.52</td>\n      <td>Premium</td>\n      <td>F</td>\n      <td>VS2</td>\n      <td>62.2</td>\n      <td>58.0</td>\n      <td>7.27</td>\n      <td>7.33</td>\n      <td>4.55</td>\n      <td>13619</td>\n    </tr>\n    <tr>\n      <th>1</th>\n      <td>1</td>\n      <td>2.03</td>\n      <td>Very Good</td>\n      <td>J</td>\n      <td>SI2</td>\n      <td>62.0</td>\n      <td>58.0</td>\n      <td>8.06</td>\n      <td>8.12</td>\n      <td>5.05</td>\n      <td>13387</td>\n    </tr>\n    <tr>\n      <th>2</th>\n      <td>2</td>\n      <td>0.70</td>\n      <td>Ideal</td>\n      <td>G</td>\n      <td>VS1</td>\n      <td>61.2</td>\n      <td>57.0</td>\n      <td>5.69</td>\n      <td>5.73</td>\n      <td>3.50</td>\n      <td>2772</td>\n    </tr>\n    <tr>\n      <th>3</th>\n      <td>3</td>\n      <td>0.32</td>\n      <td>Ideal</td>\n      <td>G</td>\n      <td>VS1</td>\n      <td>61.6</td>\n      <td>56.0</td>\n      <td>4.38</td>\n      <td>4.41</td>\n      <td>2.71</td>\n      <td>666</td>\n    </tr>\n    <tr>\n      <th>4</th>\n      <td>4</td>\n      <td>1.70</td>\n      <td>Premium</td>\n      <td>G</td>\n      <td>VS2</td>\n      <td>62.6</td>\n      <td>59.0</td>\n      <td>7.65</td>\n      <td>7.61</td>\n      <td>4.77</td>\n      <td>14453</td>\n    </tr>\n  </tbody>\n</table>\n</div>"
     },
     "execution_count": 90,
     "metadata": {},
     "output_type": "execute_result"
    }
   ],
   "source": [
    "df.head()"
   ],
   "metadata": {
    "collapsed": false,
    "pycharm": {
     "name": "#%%\n"
    }
   }
  },
  {
   "cell_type": "code",
   "execution_count": 91,
   "outputs": [
    {
     "data": {
      "text/plain": "(193573, 11)"
     },
     "execution_count": 91,
     "metadata": {},
     "output_type": "execute_result"
    }
   ],
   "source": [
    "df.shape"
   ],
   "metadata": {
    "collapsed": false,
    "pycharm": {
     "name": "#%%\n"
    }
   }
  },
  {
   "cell_type": "code",
   "execution_count": 92,
   "outputs": [
    {
     "ename": "TypeError",
     "evalue": "DataFrame.drop() got an unexpected keyword argument 'data'",
     "output_type": "error",
     "traceback": [
      "\u001B[1;31m---------------------------------------------------------------------------\u001B[0m",
      "\u001B[1;31mTypeError\u001B[0m                                 Traceback (most recent call last)",
      "Cell \u001B[1;32mIn[92], line 1\u001B[0m\n\u001B[1;32m----> 1\u001B[0m df\u001B[38;5;241m=\u001B[39m\u001B[43mdf\u001B[49m\u001B[38;5;241;43m.\u001B[39;49m\u001B[43mdrop\u001B[49m\u001B[43m(\u001B[49m\u001B[43mdata\u001B[49m\u001B[38;5;241;43m=\u001B[39;49m\u001B[38;5;124;43m'\u001B[39;49m\u001B[38;5;124;43mid\u001B[39;49m\u001B[38;5;124;43m'\u001B[39;49m\u001B[43m,\u001B[49m\u001B[43maxis\u001B[49m\u001B[38;5;241;43m=\u001B[39;49m\u001B[38;5;241;43m1\u001B[39;49m\u001B[43m)\u001B[49m\n",
      "\u001B[1;31mTypeError\u001B[0m: DataFrame.drop() got an unexpected keyword argument 'data'"
     ]
    }
   ],
   "source": [
    "df=df.drop(data='id',axis=1)"
   ],
   "metadata": {
    "collapsed": false,
    "pycharm": {
     "name": "#%%\n"
    }
   }
  },
  {
   "cell_type": "code",
   "execution_count": 93,
   "outputs": [
    {
     "data": {
      "text/plain": "id         0\ncarat      0\ncut        0\ncolor      0\nclarity    0\ndepth      0\ntable      0\nx          0\ny          0\nz          0\nprice      0\ndtype: int64"
     },
     "execution_count": 93,
     "metadata": {},
     "output_type": "execute_result"
    }
   ],
   "source": [
    "df.isnull().sum()"
   ],
   "metadata": {
    "collapsed": false,
    "pycharm": {
     "name": "#%%\n"
    }
   }
  },
  {
   "cell_type": "code",
   "execution_count": 94,
   "outputs": [
    {
     "data": {
      "text/plain": "id           int64\ncarat      float64\ncut         object\ncolor       object\nclarity     object\ndepth      float64\ntable      float64\nx          float64\ny          float64\nz          float64\nprice        int64\ndtype: object"
     },
     "execution_count": 94,
     "metadata": {},
     "output_type": "execute_result"
    }
   ],
   "source": [
    "df.dtypes"
   ],
   "metadata": {
    "collapsed": false,
    "pycharm": {
     "name": "#%%\n"
    }
   }
  },
  {
   "cell_type": "code",
   "execution_count": 100,
   "outputs": [],
   "source": [
    "nume=df.columns[df.dtypes=='object']"
   ],
   "metadata": {
    "collapsed": false,
    "pycharm": {
     "name": "#%%\n"
    }
   }
  },
  {
   "cell_type": "code",
   "execution_count": 99,
   "outputs": [
    {
     "ename": "ValueError",
     "evalue": "could not convert string to float: 'Premium'",
     "output_type": "error",
     "traceback": [
      "\u001B[1;31m---------------------------------------------------------------------------\u001B[0m",
      "\u001B[1;31mValueError\u001B[0m                                Traceback (most recent call last)",
      "Cell \u001B[1;32mIn[99], line 1\u001B[0m\n\u001B[1;32m----> 1\u001B[0m \u001B[43mdf\u001B[49m\u001B[38;5;241;43m.\u001B[39;49m\u001B[43mcorr\u001B[49m\u001B[43m(\u001B[49m\u001B[43m)\u001B[49m\n",
      "File \u001B[1;32m~\\AppData\\Roaming\\Python\\Python310\\site-packages\\pandas\\core\\frame.py:10054\u001B[0m, in \u001B[0;36mDataFrame.corr\u001B[1;34m(self, method, min_periods, numeric_only)\u001B[0m\n\u001B[0;32m  10052\u001B[0m cols \u001B[38;5;241m=\u001B[39m data\u001B[38;5;241m.\u001B[39mcolumns\n\u001B[0;32m  10053\u001B[0m idx \u001B[38;5;241m=\u001B[39m cols\u001B[38;5;241m.\u001B[39mcopy()\n\u001B[1;32m> 10054\u001B[0m mat \u001B[38;5;241m=\u001B[39m \u001B[43mdata\u001B[49m\u001B[38;5;241;43m.\u001B[39;49m\u001B[43mto_numpy\u001B[49m\u001B[43m(\u001B[49m\u001B[43mdtype\u001B[49m\u001B[38;5;241;43m=\u001B[39;49m\u001B[38;5;28;43mfloat\u001B[39;49m\u001B[43m,\u001B[49m\u001B[43m \u001B[49m\u001B[43mna_value\u001B[49m\u001B[38;5;241;43m=\u001B[39;49m\u001B[43mnp\u001B[49m\u001B[38;5;241;43m.\u001B[39;49m\u001B[43mnan\u001B[49m\u001B[43m,\u001B[49m\u001B[43m \u001B[49m\u001B[43mcopy\u001B[49m\u001B[38;5;241;43m=\u001B[39;49m\u001B[38;5;28;43;01mFalse\u001B[39;49;00m\u001B[43m)\u001B[49m\n\u001B[0;32m  10056\u001B[0m \u001B[38;5;28;01mif\u001B[39;00m method \u001B[38;5;241m==\u001B[39m \u001B[38;5;124m\"\u001B[39m\u001B[38;5;124mpearson\u001B[39m\u001B[38;5;124m\"\u001B[39m:\n\u001B[0;32m  10057\u001B[0m     correl \u001B[38;5;241m=\u001B[39m libalgos\u001B[38;5;241m.\u001B[39mnancorr(mat, minp\u001B[38;5;241m=\u001B[39mmin_periods)\n",
      "File \u001B[1;32m~\\AppData\\Roaming\\Python\\Python310\\site-packages\\pandas\\core\\frame.py:1838\u001B[0m, in \u001B[0;36mDataFrame.to_numpy\u001B[1;34m(self, dtype, copy, na_value)\u001B[0m\n\u001B[0;32m   1836\u001B[0m \u001B[38;5;28;01mif\u001B[39;00m dtype \u001B[38;5;129;01mis\u001B[39;00m \u001B[38;5;129;01mnot\u001B[39;00m \u001B[38;5;28;01mNone\u001B[39;00m:\n\u001B[0;32m   1837\u001B[0m     dtype \u001B[38;5;241m=\u001B[39m np\u001B[38;5;241m.\u001B[39mdtype(dtype)\n\u001B[1;32m-> 1838\u001B[0m result \u001B[38;5;241m=\u001B[39m \u001B[38;5;28;43mself\u001B[39;49m\u001B[38;5;241;43m.\u001B[39;49m\u001B[43m_mgr\u001B[49m\u001B[38;5;241;43m.\u001B[39;49m\u001B[43mas_array\u001B[49m\u001B[43m(\u001B[49m\u001B[43mdtype\u001B[49m\u001B[38;5;241;43m=\u001B[39;49m\u001B[43mdtype\u001B[49m\u001B[43m,\u001B[49m\u001B[43m \u001B[49m\u001B[43mcopy\u001B[49m\u001B[38;5;241;43m=\u001B[39;49m\u001B[43mcopy\u001B[49m\u001B[43m,\u001B[49m\u001B[43m \u001B[49m\u001B[43mna_value\u001B[49m\u001B[38;5;241;43m=\u001B[39;49m\u001B[43mna_value\u001B[49m\u001B[43m)\u001B[49m\n\u001B[0;32m   1839\u001B[0m \u001B[38;5;28;01mif\u001B[39;00m result\u001B[38;5;241m.\u001B[39mdtype \u001B[38;5;129;01mis\u001B[39;00m \u001B[38;5;129;01mnot\u001B[39;00m dtype:\n\u001B[0;32m   1840\u001B[0m     result \u001B[38;5;241m=\u001B[39m np\u001B[38;5;241m.\u001B[39marray(result, dtype\u001B[38;5;241m=\u001B[39mdtype, copy\u001B[38;5;241m=\u001B[39m\u001B[38;5;28;01mFalse\u001B[39;00m)\n",
      "File \u001B[1;32m~\\AppData\\Roaming\\Python\\Python310\\site-packages\\pandas\\core\\internals\\managers.py:1732\u001B[0m, in \u001B[0;36mBlockManager.as_array\u001B[1;34m(self, dtype, copy, na_value)\u001B[0m\n\u001B[0;32m   1730\u001B[0m         arr\u001B[38;5;241m.\u001B[39mflags\u001B[38;5;241m.\u001B[39mwriteable \u001B[38;5;241m=\u001B[39m \u001B[38;5;28;01mFalse\u001B[39;00m\n\u001B[0;32m   1731\u001B[0m \u001B[38;5;28;01melse\u001B[39;00m:\n\u001B[1;32m-> 1732\u001B[0m     arr \u001B[38;5;241m=\u001B[39m \u001B[38;5;28;43mself\u001B[39;49m\u001B[38;5;241;43m.\u001B[39;49m\u001B[43m_interleave\u001B[49m\u001B[43m(\u001B[49m\u001B[43mdtype\u001B[49m\u001B[38;5;241;43m=\u001B[39;49m\u001B[43mdtype\u001B[49m\u001B[43m,\u001B[49m\u001B[43m \u001B[49m\u001B[43mna_value\u001B[49m\u001B[38;5;241;43m=\u001B[39;49m\u001B[43mna_value\u001B[49m\u001B[43m)\u001B[49m\n\u001B[0;32m   1733\u001B[0m     \u001B[38;5;66;03m# The underlying data was copied within _interleave, so no need\u001B[39;00m\n\u001B[0;32m   1734\u001B[0m     \u001B[38;5;66;03m# to further copy if copy=True or setting na_value\u001B[39;00m\n\u001B[0;32m   1736\u001B[0m \u001B[38;5;28;01mif\u001B[39;00m na_value \u001B[38;5;129;01mis\u001B[39;00m \u001B[38;5;129;01mnot\u001B[39;00m lib\u001B[38;5;241m.\u001B[39mno_default:\n",
      "File \u001B[1;32m~\\AppData\\Roaming\\Python\\Python310\\site-packages\\pandas\\core\\internals\\managers.py:1794\u001B[0m, in \u001B[0;36mBlockManager._interleave\u001B[1;34m(self, dtype, na_value)\u001B[0m\n\u001B[0;32m   1792\u001B[0m     \u001B[38;5;28;01melse\u001B[39;00m:\n\u001B[0;32m   1793\u001B[0m         arr \u001B[38;5;241m=\u001B[39m blk\u001B[38;5;241m.\u001B[39mget_values(dtype)\n\u001B[1;32m-> 1794\u001B[0m     result[rl\u001B[38;5;241m.\u001B[39mindexer] \u001B[38;5;241m=\u001B[39m arr\n\u001B[0;32m   1795\u001B[0m     itemmask[rl\u001B[38;5;241m.\u001B[39mindexer] \u001B[38;5;241m=\u001B[39m \u001B[38;5;241m1\u001B[39m\n\u001B[0;32m   1797\u001B[0m \u001B[38;5;28;01mif\u001B[39;00m \u001B[38;5;129;01mnot\u001B[39;00m itemmask\u001B[38;5;241m.\u001B[39mall():\n",
      "\u001B[1;31mValueError\u001B[0m: could not convert string to float: 'Premium'"
     ]
    }
   ],
   "source": [
    "df.corr()"
   ],
   "metadata": {
    "collapsed": false,
    "pycharm": {
     "name": "#%%\n"
    }
   }
  },
  {
   "cell_type": "code",
   "execution_count": 110,
   "outputs": [
    {
     "data": {
      "text/plain": "              cut color clarity\n193572       Good     E     SI2\n193571  Very Good     D     SI1\n193570  Very Good     F     SI1\n193569    Premium     G    VVS2\n193568      Ideal     D    VVS2\n...           ...   ...     ...\n4         Premium     G     VS2\n3           Ideal     G     VS1\n2           Ideal     G     VS1\n1       Very Good     J     SI2\n0         Premium     F     VS2\n\n[193573 rows x 3 columns]",
      "text/html": "<div>\n<style scoped>\n    .dataframe tbody tr th:only-of-type {\n        vertical-align: middle;\n    }\n\n    .dataframe tbody tr th {\n        vertical-align: top;\n    }\n\n    .dataframe thead th {\n        text-align: right;\n    }\n</style>\n<table border=\"1\" class=\"dataframe\">\n  <thead>\n    <tr style=\"text-align: right;\">\n      <th></th>\n      <th>cut</th>\n      <th>color</th>\n      <th>clarity</th>\n    </tr>\n  </thead>\n  <tbody>\n    <tr>\n      <th>193572</th>\n      <td>Good</td>\n      <td>E</td>\n      <td>SI2</td>\n    </tr>\n    <tr>\n      <th>193571</th>\n      <td>Very Good</td>\n      <td>D</td>\n      <td>SI1</td>\n    </tr>\n    <tr>\n      <th>193570</th>\n      <td>Very Good</td>\n      <td>F</td>\n      <td>SI1</td>\n    </tr>\n    <tr>\n      <th>193569</th>\n      <td>Premium</td>\n      <td>G</td>\n      <td>VVS2</td>\n    </tr>\n    <tr>\n      <th>193568</th>\n      <td>Ideal</td>\n      <td>D</td>\n      <td>VVS2</td>\n    </tr>\n    <tr>\n      <th>...</th>\n      <td>...</td>\n      <td>...</td>\n      <td>...</td>\n    </tr>\n    <tr>\n      <th>4</th>\n      <td>Premium</td>\n      <td>G</td>\n      <td>VS2</td>\n    </tr>\n    <tr>\n      <th>3</th>\n      <td>Ideal</td>\n      <td>G</td>\n      <td>VS1</td>\n    </tr>\n    <tr>\n      <th>2</th>\n      <td>Ideal</td>\n      <td>G</td>\n      <td>VS1</td>\n    </tr>\n    <tr>\n      <th>1</th>\n      <td>Very Good</td>\n      <td>J</td>\n      <td>SI2</td>\n    </tr>\n    <tr>\n      <th>0</th>\n      <td>Premium</td>\n      <td>F</td>\n      <td>VS2</td>\n    </tr>\n  </tbody>\n</table>\n<p>193573 rows × 3 columns</p>\n</div>"
     },
     "execution_count": 110,
     "metadata": {},
     "output_type": "execute_result"
    }
   ],
   "source": [
    "df[nume][::-1]"
   ],
   "metadata": {
    "collapsed": false,
    "pycharm": {
     "name": "#%%\n"
    }
   }
  },
  {
   "cell_type": "code",
   "execution_count": 111,
   "outputs": [
    {
     "data": {
      "text/plain": "(193573, 11)"
     },
     "execution_count": 111,
     "metadata": {},
     "output_type": "execute_result"
    }
   ],
   "source": [
    "df.shape"
   ],
   "metadata": {
    "collapsed": false,
    "pycharm": {
     "name": "#%%\n"
    }
   }
  },
  {
   "cell_type": "code",
   "execution_count": 112,
   "outputs": [],
   "source": [
    "catgo=df.columns[df.dtypes!='object']"
   ],
   "metadata": {
    "collapsed": false,
    "pycharm": {
     "name": "#%%\n"
    }
   }
  },
  {
   "cell_type": "code",
   "execution_count": 113,
   "outputs": [
    {
     "data": {
      "text/plain": "Index(['id', 'carat', 'depth', 'table', 'x', 'y', 'z', 'price'], dtype='object')"
     },
     "execution_count": 113,
     "metadata": {},
     "output_type": "execute_result"
    }
   ],
   "source": [
    "catgo"
   ],
   "metadata": {
    "collapsed": false,
    "pycharm": {
     "name": "#%%\n"
    }
   }
  },
  {
   "cell_type": "code",
   "execution_count": 115,
   "outputs": [],
   "source": [
    "df_cat=df[catgo]"
   ],
   "metadata": {
    "collapsed": false,
    "pycharm": {
     "name": "#%%\n"
    }
   }
  },
  {
   "cell_type": "code",
   "execution_count": 117,
   "outputs": [
    {
     "data": {
      "text/plain": "   id  carat  depth  table     x     y     z  price\n0   0   1.52   62.2   58.0  7.27  7.33  4.55  13619\n1   1   2.03   62.0   58.0  8.06  8.12  5.05  13387\n2   2   0.70   61.2   57.0  5.69  5.73  3.50   2772\n3   3   0.32   61.6   56.0  4.38  4.41  2.71    666\n4   4   1.70   62.6   59.0  7.65  7.61  4.77  14453",
      "text/html": "<div>\n<style scoped>\n    .dataframe tbody tr th:only-of-type {\n        vertical-align: middle;\n    }\n\n    .dataframe tbody tr th {\n        vertical-align: top;\n    }\n\n    .dataframe thead th {\n        text-align: right;\n    }\n</style>\n<table border=\"1\" class=\"dataframe\">\n  <thead>\n    <tr style=\"text-align: right;\">\n      <th></th>\n      <th>id</th>\n      <th>carat</th>\n      <th>depth</th>\n      <th>table</th>\n      <th>x</th>\n      <th>y</th>\n      <th>z</th>\n      <th>price</th>\n    </tr>\n  </thead>\n  <tbody>\n    <tr>\n      <th>0</th>\n      <td>0</td>\n      <td>1.52</td>\n      <td>62.2</td>\n      <td>58.0</td>\n      <td>7.27</td>\n      <td>7.33</td>\n      <td>4.55</td>\n      <td>13619</td>\n    </tr>\n    <tr>\n      <th>1</th>\n      <td>1</td>\n      <td>2.03</td>\n      <td>62.0</td>\n      <td>58.0</td>\n      <td>8.06</td>\n      <td>8.12</td>\n      <td>5.05</td>\n      <td>13387</td>\n    </tr>\n    <tr>\n      <th>2</th>\n      <td>2</td>\n      <td>0.70</td>\n      <td>61.2</td>\n      <td>57.0</td>\n      <td>5.69</td>\n      <td>5.73</td>\n      <td>3.50</td>\n      <td>2772</td>\n    </tr>\n    <tr>\n      <th>3</th>\n      <td>3</td>\n      <td>0.32</td>\n      <td>61.6</td>\n      <td>56.0</td>\n      <td>4.38</td>\n      <td>4.41</td>\n      <td>2.71</td>\n      <td>666</td>\n    </tr>\n    <tr>\n      <th>4</th>\n      <td>4</td>\n      <td>1.70</td>\n      <td>62.6</td>\n      <td>59.0</td>\n      <td>7.65</td>\n      <td>7.61</td>\n      <td>4.77</td>\n      <td>14453</td>\n    </tr>\n  </tbody>\n</table>\n</div>"
     },
     "execution_count": 117,
     "metadata": {},
     "output_type": "execute_result"
    }
   ],
   "source": [
    "df_cat.head()"
   ],
   "metadata": {
    "collapsed": false,
    "pycharm": {
     "name": "#%%\n"
    }
   }
  },
  {
   "cell_type": "code",
   "execution_count": 118,
   "outputs": [
    {
     "data": {
      "text/plain": "(193573, 11)"
     },
     "execution_count": 118,
     "metadata": {},
     "output_type": "execute_result"
    }
   ],
   "source": [
    "df.shape"
   ],
   "metadata": {
    "collapsed": false,
    "pycharm": {
     "name": "#%%\n"
    }
   }
  },
  {
   "cell_type": "code",
   "execution_count": 121,
   "outputs": [
    {
     "data": {
      "text/plain": "(193573, 8)"
     },
     "execution_count": 121,
     "metadata": {},
     "output_type": "execute_result"
    }
   ],
   "source": [
    "df_cat.shape"
   ],
   "metadata": {
    "collapsed": false,
    "pycharm": {
     "name": "#%%\n"
    }
   }
  },
  {
   "cell_type": "code",
   "execution_count": 123,
   "outputs": [
    {
     "data": {
      "text/plain": "8"
     },
     "execution_count": 123,
     "metadata": {},
     "output_type": "execute_result"
    }
   ],
   "source": [
    "df_cat.shape[1]"
   ],
   "metadata": {
    "collapsed": false,
    "pycharm": {
     "name": "#%%\n"
    }
   }
  },
  {
   "cell_type": "code",
   "execution_count": 124,
   "outputs": [
    {
     "ename": "TypeError",
     "evalue": "'DataFrame' object cannot be interpreted as an integer",
     "output_type": "error",
     "traceback": [
      "\u001B[1;31m---------------------------------------------------------------------------\u001B[0m",
      "\u001B[1;31mTypeError\u001B[0m                                 Traceback (most recent call last)",
      "Cell \u001B[1;32mIn[124], line 1\u001B[0m\n\u001B[1;32m----> 1\u001B[0m \u001B[38;5;28;01mfor\u001B[39;00m i \u001B[38;5;129;01min\u001B[39;00m \u001B[38;5;28;43mrange\u001B[39;49m\u001B[43m(\u001B[49m\u001B[43mdf_cat\u001B[49m\u001B[43m)\u001B[49m:\n\u001B[0;32m      2\u001B[0m     \u001B[38;5;28mprint\u001B[39m(i)\n",
      "\u001B[1;31mTypeError\u001B[0m: 'DataFrame' object cannot be interpreted as an integer"
     ]
    }
   ],
   "source": [
    "for i in range(df_cat):\n",
    "    print(i)"
   ],
   "metadata": {
    "collapsed": false,
    "pycharm": {
     "name": "#%%\n"
    }
   }
  },
  {
   "cell_type": "code",
   "execution_count": 125,
   "outputs": [
    {
     "data": {
      "text/plain": "            id  carat  depth  table     x     y     z  price\n0            0   1.52   62.2   58.0  7.27  7.33  4.55  13619\n1            1   2.03   62.0   58.0  8.06  8.12  5.05  13387\n2            2   0.70   61.2   57.0  5.69  5.73  3.50   2772\n3            3   0.32   61.6   56.0  4.38  4.41  2.71    666\n4            4   1.70   62.6   59.0  7.65  7.61  4.77  14453\n...        ...    ...    ...    ...   ...   ...   ...    ...\n193568  193568   0.31   61.1   56.0  4.35  4.39  2.67   1130\n193569  193569   0.70   60.3   58.0  5.75  5.77  3.47   2874\n193570  193570   0.73   63.1   57.0  5.72  5.75  3.62   3036\n193571  193571   0.34   62.9   55.0  4.45  4.49  2.81    681\n193572  193572   0.71   60.8   64.0  5.73  5.71  3.48   2258\n\n[193573 rows x 8 columns]",
      "text/html": "<div>\n<style scoped>\n    .dataframe tbody tr th:only-of-type {\n        vertical-align: middle;\n    }\n\n    .dataframe tbody tr th {\n        vertical-align: top;\n    }\n\n    .dataframe thead th {\n        text-align: right;\n    }\n</style>\n<table border=\"1\" class=\"dataframe\">\n  <thead>\n    <tr style=\"text-align: right;\">\n      <th></th>\n      <th>id</th>\n      <th>carat</th>\n      <th>depth</th>\n      <th>table</th>\n      <th>x</th>\n      <th>y</th>\n      <th>z</th>\n      <th>price</th>\n    </tr>\n  </thead>\n  <tbody>\n    <tr>\n      <th>0</th>\n      <td>0</td>\n      <td>1.52</td>\n      <td>62.2</td>\n      <td>58.0</td>\n      <td>7.27</td>\n      <td>7.33</td>\n      <td>4.55</td>\n      <td>13619</td>\n    </tr>\n    <tr>\n      <th>1</th>\n      <td>1</td>\n      <td>2.03</td>\n      <td>62.0</td>\n      <td>58.0</td>\n      <td>8.06</td>\n      <td>8.12</td>\n      <td>5.05</td>\n      <td>13387</td>\n    </tr>\n    <tr>\n      <th>2</th>\n      <td>2</td>\n      <td>0.70</td>\n      <td>61.2</td>\n      <td>57.0</td>\n      <td>5.69</td>\n      <td>5.73</td>\n      <td>3.50</td>\n      <td>2772</td>\n    </tr>\n    <tr>\n      <th>3</th>\n      <td>3</td>\n      <td>0.32</td>\n      <td>61.6</td>\n      <td>56.0</td>\n      <td>4.38</td>\n      <td>4.41</td>\n      <td>2.71</td>\n      <td>666</td>\n    </tr>\n    <tr>\n      <th>4</th>\n      <td>4</td>\n      <td>1.70</td>\n      <td>62.6</td>\n      <td>59.0</td>\n      <td>7.65</td>\n      <td>7.61</td>\n      <td>4.77</td>\n      <td>14453</td>\n    </tr>\n    <tr>\n      <th>...</th>\n      <td>...</td>\n      <td>...</td>\n      <td>...</td>\n      <td>...</td>\n      <td>...</td>\n      <td>...</td>\n      <td>...</td>\n      <td>...</td>\n    </tr>\n    <tr>\n      <th>193568</th>\n      <td>193568</td>\n      <td>0.31</td>\n      <td>61.1</td>\n      <td>56.0</td>\n      <td>4.35</td>\n      <td>4.39</td>\n      <td>2.67</td>\n      <td>1130</td>\n    </tr>\n    <tr>\n      <th>193569</th>\n      <td>193569</td>\n      <td>0.70</td>\n      <td>60.3</td>\n      <td>58.0</td>\n      <td>5.75</td>\n      <td>5.77</td>\n      <td>3.47</td>\n      <td>2874</td>\n    </tr>\n    <tr>\n      <th>193570</th>\n      <td>193570</td>\n      <td>0.73</td>\n      <td>63.1</td>\n      <td>57.0</td>\n      <td>5.72</td>\n      <td>5.75</td>\n      <td>3.62</td>\n      <td>3036</td>\n    </tr>\n    <tr>\n      <th>193571</th>\n      <td>193571</td>\n      <td>0.34</td>\n      <td>62.9</td>\n      <td>55.0</td>\n      <td>4.45</td>\n      <td>4.49</td>\n      <td>2.81</td>\n      <td>681</td>\n    </tr>\n    <tr>\n      <th>193572</th>\n      <td>193572</td>\n      <td>0.71</td>\n      <td>60.8</td>\n      <td>64.0</td>\n      <td>5.73</td>\n      <td>5.71</td>\n      <td>3.48</td>\n      <td>2258</td>\n    </tr>\n  </tbody>\n</table>\n<p>193573 rows × 8 columns</p>\n</div>"
     },
     "execution_count": 125,
     "metadata": {},
     "output_type": "execute_result"
    }
   ],
   "source": [
    "df_cat"
   ],
   "metadata": {
    "collapsed": false,
    "pycharm": {
     "name": "#%%\n"
    }
   }
  },
  {
   "cell_type": "code",
   "execution_count": 126,
   "outputs": [
    {
     "data": {
      "text/plain": "Index(['id', 'carat', 'depth', 'table', 'x', 'y', 'z', 'price'], dtype='object')"
     },
     "execution_count": 126,
     "metadata": {},
     "output_type": "execute_result"
    }
   ],
   "source": [
    "catgo"
   ],
   "metadata": {
    "collapsed": false,
    "pycharm": {
     "name": "#%%\n"
    }
   }
  },
  {
   "cell_type": "code",
   "execution_count": 127,
   "outputs": [
    {
     "name": "stdout",
     "output_type": "stream",
     "text": [
      "id\n",
      "carat\n",
      "depth\n",
      "table\n",
      "x\n",
      "y\n",
      "z\n",
      "price\n"
     ]
    }
   ],
   "source": [
    "for i in catgo:\n",
    "    print(i)"
   ],
   "metadata": {
    "collapsed": false,
    "pycharm": {
     "name": "#%%\n"
    }
   }
  },
  {
   "cell_type": "code",
   "execution_count": 128,
   "outputs": [],
   "source": [
    "import numpy as np\n",
    "import matplotlib.pyplot as plt\n",
    "%matplotlib inline"
   ],
   "metadata": {
    "collapsed": false,
    "pycharm": {
     "name": "#%%\n"
    }
   }
  },
  {
   "cell_type": "code",
   "execution_count": 129,
   "outputs": [],
   "source": [
    "dataset=[11,10,12,14,12,15,14,13,15,102,12,14,17,19,107, 10,13,12,14,12,108,12,11,14,13,15,10,15,12,10,14,13,15,10]"
   ],
   "metadata": {
    "collapsed": false,
    "pycharm": {
     "name": "#%%\n"
    }
   }
  },
  {
   "cell_type": "code",
   "execution_count": 130,
   "outputs": [
    {
     "data": {
      "text/plain": "(array([31.,  0.,  0.,  0.,  0.,  0.,  0.,  0.,  0.,  3.]),\n array([ 10. ,  19.8,  29.6,  39.4,  49.2,  59. ,  68.8,  78.6,  88.4,\n         98.2, 108. ]),\n <BarContainer object of 10 artists>)"
     },
     "execution_count": 130,
     "metadata": {},
     "output_type": "execute_result"
    },
    {
     "data": {
      "text/plain": "<Figure size 640x480 with 1 Axes>",
      "image/png": "[encoded data removed]"
     },
     "metadata": {},
     "output_type": "display_data"
    }
   ],
   "source": [
    "plt.hist(dataset)"
   ],
   "metadata": {
    "collapsed": false,
    "pycharm": {
     "name": "#%%\n"
    }
   }
  },
  {
   "cell_type": "code",
   "execution_count": 131,
   "outputs": [],
   "source": [
    "outliers=[]\n",
    "def detect_outliers(data):\n",
    "    thresold=3\n",
    "    mean=np.mean(data)\n",
    "    std=np.std(data)\n",
    "    for i in data:\n",
    "        z_score=(i-mean)/std\n",
    "        if np.abs(z_score)>thresold:\n",
    "            outliers.append(i)\n",
    "    return outliers"
   ],
   "metadata": {
    "collapsed": false,
    "pycharm": {
     "name": "#%%\n"
    }
   }
  },
  {
   "cell_type": "code",
   "execution_count": 132,
   "outputs": [
    {
     "data": {
      "text/plain": "[102, 107, 108]"
     },
     "execution_count": 132,
     "metadata": {},
     "output_type": "execute_result"
    }
   ],
   "source": [
    "detect_outliers(dataset)"
   ],
   "metadata": {
    "collapsed": false,
    "pycharm": {
     "name": "#%%\n"
    }
   }
  },
  {
   "cell_type": "code",
   "execution_count": null,
   "outputs": [],
   "source": [
    "plt.figure(figsize=(8,6))\n",
    "x=0\n",
    "for"
   ],
   "metadata": {
    "collapsed": false,
    "pycharm": {
     "name": "#%%\n"
    }
   }
  },
  {
   "cell_type": "code",
   "execution_count": 133,
   "outputs": [
    {
     "data": {
      "text/plain": "Index(['carat', 'depth', 'table', 'x', 'y', 'z', 'price'], dtype='object')"
     },
     "execution_count": 133,
     "metadata": {},
     "output_type": "execute_result"
    }
   ],
   "source": [
    "numerical_columns"
   ],
   "metadata": {
    "collapsed": false,
    "pycharm": {
     "name": "#%%\n"
    }
   }
  },
  {
   "cell_type": "code",
   "execution_count": 136,
   "outputs": [
    {
     "data": {
      "text/plain": "<Axes: xlabel='carat', ylabel='Count'>"
     },
     "execution_count": 136,
     "metadata": {},
     "output_type": "execute_result"
    },
    {
     "data": {
      "text/plain": "<Figure size 640x480 with 1 Axes>",
      "image/png": "[encoded data removed]"
     },
     "metadata": {},
     "output_type": "display_data"
    }
   ],
   "source": [
    "sns.histplot(data=df,x=numerical_columns[0])"
   ],
   "metadata": {
    "collapsed": false,
    "pycharm": {
     "name": "#%%\n"
    }
   }
  },
  {
   "cell_type": "code",
   "execution_count": 137,
   "outputs": [
    {
     "data": {
      "text/plain": "'depth'"
     },
     "execution_count": 137,
     "metadata": {},
     "output_type": "execute_result"
    }
   ],
   "source": [
    "numerical_columns[1]"
   ],
   "metadata": {
    "collapsed": false,
    "pycharm": {
     "name": "#%%\n"
    }
   }
  },
  {
   "cell_type": "code",
   "execution_count": 140,
   "outputs": [
    {
     "data": {
      "text/plain": "<Figure size 640x480 with 1 Axes>",
      "image/png": "[encoded data removed]"
     },
     "metadata": {},
     "output_type": "display_data"
    }
   ],
   "source": [
    "sns.histplot(data=df,x=numerical_columns[1])\n",
    "plt.show()"
   ],
   "metadata": {
    "collapsed": false,
    "pycharm": {
     "name": "#%%\n"
    }
   }
  },
  {
   "cell_type": "code",
   "execution_count": 142,
   "outputs": [
    {
     "ename": "ValueError",
     "evalue": "could not convert string to float: 'Premium'",
     "output_type": "error",
     "traceback": [
      "\u001B[1;31m---------------------------------------------------------------------------\u001B[0m",
      "\u001B[1;31mValueError\u001B[0m                                Traceback (most recent call last)",
      "Cell \u001B[1;32mIn[142], line 1\u001B[0m\n\u001B[1;32m----> 1\u001B[0m \u001B[43msns\u001B[49m\u001B[38;5;241;43m.\u001B[39;49m\u001B[43mheatmap\u001B[49m\u001B[43m(\u001B[49m\u001B[43mdata\u001B[49m\u001B[38;5;241;43m=\u001B[39;49m\u001B[43mdf\u001B[49m\u001B[43m,\u001B[49m\u001B[43mvmax\u001B[49m\u001B[38;5;241;43m=\u001B[39;49m\u001B[43mnumerical_columns\u001B[49m\u001B[43m[\u001B[49m\u001B[38;5;241;43m0\u001B[39;49m\u001B[43m]\u001B[49m\u001B[43m)\u001B[49m\n",
      "File \u001B[1;32mC:\\ProgramData\\anaconda3\\lib\\site-packages\\seaborn\\matrix.py:446\u001B[0m, in \u001B[0;36mheatmap\u001B[1;34m(data, vmin, vmax, cmap, center, robust, annot, fmt, annot_kws, linewidths, linecolor, cbar, cbar_kws, cbar_ax, square, xticklabels, yticklabels, mask, ax, **kwargs)\u001B[0m\n\u001B[0;32m    365\u001B[0m \u001B[38;5;124;03m\"\"\"Plot rectangular data as a color-encoded matrix.\u001B[39;00m\n\u001B[0;32m    366\u001B[0m \n\u001B[0;32m    367\u001B[0m \u001B[38;5;124;03mThis is an Axes-level function and will draw the heatmap into the\u001B[39;00m\n\u001B[1;32m   (...)\u001B[0m\n\u001B[0;32m    443\u001B[0m \n\u001B[0;32m    444\u001B[0m \u001B[38;5;124;03m\"\"\"\u001B[39;00m\n\u001B[0;32m    445\u001B[0m \u001B[38;5;66;03m# Initialize the plotter object\u001B[39;00m\n\u001B[1;32m--> 446\u001B[0m plotter \u001B[38;5;241m=\u001B[39m \u001B[43m_HeatMapper\u001B[49m\u001B[43m(\u001B[49m\u001B[43mdata\u001B[49m\u001B[43m,\u001B[49m\u001B[43m \u001B[49m\u001B[43mvmin\u001B[49m\u001B[43m,\u001B[49m\u001B[43m \u001B[49m\u001B[43mvmax\u001B[49m\u001B[43m,\u001B[49m\u001B[43m \u001B[49m\u001B[43mcmap\u001B[49m\u001B[43m,\u001B[49m\u001B[43m \u001B[49m\u001B[43mcenter\u001B[49m\u001B[43m,\u001B[49m\u001B[43m \u001B[49m\u001B[43mrobust\u001B[49m\u001B[43m,\u001B[49m\u001B[43m \u001B[49m\u001B[43mannot\u001B[49m\u001B[43m,\u001B[49m\u001B[43m \u001B[49m\u001B[43mfmt\u001B[49m\u001B[43m,\u001B[49m\n\u001B[0;32m    447\u001B[0m \u001B[43m                      \u001B[49m\u001B[43mannot_kws\u001B[49m\u001B[43m,\u001B[49m\u001B[43m \u001B[49m\u001B[43mcbar\u001B[49m\u001B[43m,\u001B[49m\u001B[43m \u001B[49m\u001B[43mcbar_kws\u001B[49m\u001B[43m,\u001B[49m\u001B[43m \u001B[49m\u001B[43mxticklabels\u001B[49m\u001B[43m,\u001B[49m\n\u001B[0;32m    448\u001B[0m \u001B[43m                      \u001B[49m\u001B[43myticklabels\u001B[49m\u001B[43m,\u001B[49m\u001B[43m \u001B[49m\u001B[43mmask\u001B[49m\u001B[43m)\u001B[49m\n\u001B[0;32m    450\u001B[0m \u001B[38;5;66;03m# Add the pcolormesh kwargs here\u001B[39;00m\n\u001B[0;32m    451\u001B[0m kwargs[\u001B[38;5;124m\"\u001B[39m\u001B[38;5;124mlinewidths\u001B[39m\u001B[38;5;124m\"\u001B[39m] \u001B[38;5;241m=\u001B[39m linewidths\n",
      "File \u001B[1;32mC:\\ProgramData\\anaconda3\\lib\\site-packages\\seaborn\\matrix.py:163\u001B[0m, in \u001B[0;36m_HeatMapper.__init__\u001B[1;34m(self, data, vmin, vmax, cmap, center, robust, annot, fmt, annot_kws, cbar, cbar_kws, xticklabels, yticklabels, mask)\u001B[0m\n\u001B[0;32m    160\u001B[0m \u001B[38;5;28mself\u001B[39m\u001B[38;5;241m.\u001B[39mylabel \u001B[38;5;241m=\u001B[39m ylabel \u001B[38;5;28;01mif\u001B[39;00m ylabel \u001B[38;5;129;01mis\u001B[39;00m \u001B[38;5;129;01mnot\u001B[39;00m \u001B[38;5;28;01mNone\u001B[39;00m \u001B[38;5;28;01melse\u001B[39;00m \u001B[38;5;124m\"\u001B[39m\u001B[38;5;124m\"\u001B[39m\n\u001B[0;32m    162\u001B[0m \u001B[38;5;66;03m# Determine good default values for the colormapping\u001B[39;00m\n\u001B[1;32m--> 163\u001B[0m \u001B[38;5;28;43mself\u001B[39;49m\u001B[38;5;241;43m.\u001B[39;49m\u001B[43m_determine_cmap_params\u001B[49m\u001B[43m(\u001B[49m\u001B[43mplot_data\u001B[49m\u001B[43m,\u001B[49m\u001B[43m \u001B[49m\u001B[43mvmin\u001B[49m\u001B[43m,\u001B[49m\u001B[43m \u001B[49m\u001B[43mvmax\u001B[49m\u001B[43m,\u001B[49m\n\u001B[0;32m    164\u001B[0m \u001B[43m                            \u001B[49m\u001B[43mcmap\u001B[49m\u001B[43m,\u001B[49m\u001B[43m \u001B[49m\u001B[43mcenter\u001B[49m\u001B[43m,\u001B[49m\u001B[43m \u001B[49m\u001B[43mrobust\u001B[49m\u001B[43m)\u001B[49m\n\u001B[0;32m    166\u001B[0m \u001B[38;5;66;03m# Sort out the annotations\u001B[39;00m\n\u001B[0;32m    167\u001B[0m \u001B[38;5;28;01mif\u001B[39;00m annot \u001B[38;5;129;01mis\u001B[39;00m \u001B[38;5;28;01mNone\u001B[39;00m \u001B[38;5;129;01mor\u001B[39;00m annot \u001B[38;5;129;01mis\u001B[39;00m \u001B[38;5;28;01mFalse\u001B[39;00m:\n",
      "File \u001B[1;32mC:\\ProgramData\\anaconda3\\lib\\site-packages\\seaborn\\matrix.py:197\u001B[0m, in \u001B[0;36m_HeatMapper._determine_cmap_params\u001B[1;34m(self, plot_data, vmin, vmax, cmap, center, robust)\u001B[0m\n\u001B[0;32m    194\u001B[0m \u001B[38;5;124;03m\"\"\"Use some heuristics to set good defaults for colorbar and range.\"\"\"\u001B[39;00m\n\u001B[0;32m    196\u001B[0m \u001B[38;5;66;03m# plot_data is a np.ma.array instance\u001B[39;00m\n\u001B[1;32m--> 197\u001B[0m calc_data \u001B[38;5;241m=\u001B[39m \u001B[43mplot_data\u001B[49m\u001B[38;5;241;43m.\u001B[39;49m\u001B[43mastype\u001B[49m\u001B[43m(\u001B[49m\u001B[38;5;28;43mfloat\u001B[39;49m\u001B[43m)\u001B[49m\u001B[38;5;241m.\u001B[39mfilled(np\u001B[38;5;241m.\u001B[39mnan)\n\u001B[0;32m    198\u001B[0m \u001B[38;5;28;01mif\u001B[39;00m vmin \u001B[38;5;129;01mis\u001B[39;00m \u001B[38;5;28;01mNone\u001B[39;00m:\n\u001B[0;32m    199\u001B[0m     \u001B[38;5;28;01mif\u001B[39;00m robust:\n",
      "\u001B[1;31mValueError\u001B[0m: could not convert string to float: 'Premium'"
     ]
    }
   ],
   "source": [
    "sns.heatmap(data=df,vmax=numerical_columns[0])"
   ],
   "metadata": {
    "collapsed": false,
    "pycharm": {
     "name": "#%%\n"
    }
   }
  },
  {
   "cell_type": "code",
   "execution_count": 143,
   "outputs": [
    {
     "ename": "ValueError",
     "evalue": "could not convert string to float: 'Premium'",
     "output_type": "error",
     "traceback": [
      "\u001B[1;31m---------------------------------------------------------------------------\u001B[0m",
      "\u001B[1;31mValueError\u001B[0m                                Traceback (most recent call last)",
      "Cell \u001B[1;32mIn[143], line 1\u001B[0m\n\u001B[1;32m----> 1\u001B[0m \u001B[43mdf\u001B[49m\u001B[38;5;241;43m.\u001B[39;49m\u001B[43mcorr\u001B[49m\u001B[43m(\u001B[49m\u001B[43m)\u001B[49m\n",
      "File \u001B[1;32m~\\AppData\\Roaming\\Python\\Python310\\site-packages\\pandas\\core\\frame.py:10054\u001B[0m, in \u001B[0;36mDataFrame.corr\u001B[1;34m(self, method, min_periods, numeric_only)\u001B[0m\n\u001B[0;32m  10052\u001B[0m cols \u001B[38;5;241m=\u001B[39m data\u001B[38;5;241m.\u001B[39mcolumns\n\u001B[0;32m  10053\u001B[0m idx \u001B[38;5;241m=\u001B[39m cols\u001B[38;5;241m.\u001B[39mcopy()\n\u001B[1;32m> 10054\u001B[0m mat \u001B[38;5;241m=\u001B[39m \u001B[43mdata\u001B[49m\u001B[38;5;241;43m.\u001B[39;49m\u001B[43mto_numpy\u001B[49m\u001B[43m(\u001B[49m\u001B[43mdtype\u001B[49m\u001B[38;5;241;43m=\u001B[39;49m\u001B[38;5;28;43mfloat\u001B[39;49m\u001B[43m,\u001B[49m\u001B[43m \u001B[49m\u001B[43mna_value\u001B[49m\u001B[38;5;241;43m=\u001B[39;49m\u001B[43mnp\u001B[49m\u001B[38;5;241;43m.\u001B[39;49m\u001B[43mnan\u001B[49m\u001B[43m,\u001B[49m\u001B[43m \u001B[49m\u001B[43mcopy\u001B[49m\u001B[38;5;241;43m=\u001B[39;49m\u001B[38;5;28;43;01mFalse\u001B[39;49;00m\u001B[43m)\u001B[49m\n\u001B[0;32m  10056\u001B[0m \u001B[38;5;28;01mif\u001B[39;00m method \u001B[38;5;241m==\u001B[39m \u001B[38;5;124m\"\u001B[39m\u001B[38;5;124mpearson\u001B[39m\u001B[38;5;124m\"\u001B[39m:\n\u001B[0;32m  10057\u001B[0m     correl \u001B[38;5;241m=\u001B[39m libalgos\u001B[38;5;241m.\u001B[39mnancorr(mat, minp\u001B[38;5;241m=\u001B[39mmin_periods)\n",
      "File \u001B[1;32m~\\AppData\\Roaming\\Python\\Python310\\site-packages\\pandas\\core\\frame.py:1838\u001B[0m, in \u001B[0;36mDataFrame.to_numpy\u001B[1;34m(self, dtype, copy, na_value)\u001B[0m\n\u001B[0;32m   1836\u001B[0m \u001B[38;5;28;01mif\u001B[39;00m dtype \u001B[38;5;129;01mis\u001B[39;00m \u001B[38;5;129;01mnot\u001B[39;00m \u001B[38;5;28;01mNone\u001B[39;00m:\n\u001B[0;32m   1837\u001B[0m     dtype \u001B[38;5;241m=\u001B[39m np\u001B[38;5;241m.\u001B[39mdtype(dtype)\n\u001B[1;32m-> 1838\u001B[0m result \u001B[38;5;241m=\u001B[39m \u001B[38;5;28;43mself\u001B[39;49m\u001B[38;5;241;43m.\u001B[39;49m\u001B[43m_mgr\u001B[49m\u001B[38;5;241;43m.\u001B[39;49m\u001B[43mas_array\u001B[49m\u001B[43m(\u001B[49m\u001B[43mdtype\u001B[49m\u001B[38;5;241;43m=\u001B[39;49m\u001B[43mdtype\u001B[49m\u001B[43m,\u001B[49m\u001B[43m \u001B[49m\u001B[43mcopy\u001B[49m\u001B[38;5;241;43m=\u001B[39;49m\u001B[43mcopy\u001B[49m\u001B[43m,\u001B[49m\u001B[43m \u001B[49m\u001B[43mna_value\u001B[49m\u001B[38;5;241;43m=\u001B[39;49m\u001B[43mna_value\u001B[49m\u001B[43m)\u001B[49m\n\u001B[0;32m   1839\u001B[0m \u001B[38;5;28;01mif\u001B[39;00m result\u001B[38;5;241m.\u001B[39mdtype \u001B[38;5;129;01mis\u001B[39;00m \u001B[38;5;129;01mnot\u001B[39;00m dtype:\n\u001B[0;32m   1840\u001B[0m     result \u001B[38;5;241m=\u001B[39m np\u001B[38;5;241m.\u001B[39marray(result, dtype\u001B[38;5;241m=\u001B[39mdtype, copy\u001B[38;5;241m=\u001B[39m\u001B[38;5;28;01mFalse\u001B[39;00m)\n",
      "File \u001B[1;32m~\\AppData\\Roaming\\Python\\Python310\\site-packages\\pandas\\core\\internals\\managers.py:1732\u001B[0m, in \u001B[0;36mBlockManager.as_array\u001B[1;34m(self, dtype, copy, na_value)\u001B[0m\n\u001B[0;32m   1730\u001B[0m         arr\u001B[38;5;241m.\u001B[39mflags\u001B[38;5;241m.\u001B[39mwriteable \u001B[38;5;241m=\u001B[39m \u001B[38;5;28;01mFalse\u001B[39;00m\n\u001B[0;32m   1731\u001B[0m \u001B[38;5;28;01melse\u001B[39;00m:\n\u001B[1;32m-> 1732\u001B[0m     arr \u001B[38;5;241m=\u001B[39m \u001B[38;5;28;43mself\u001B[39;49m\u001B[38;5;241;43m.\u001B[39;49m\u001B[43m_interleave\u001B[49m\u001B[43m(\u001B[49m\u001B[43mdtype\u001B[49m\u001B[38;5;241;43m=\u001B[39;49m\u001B[43mdtype\u001B[49m\u001B[43m,\u001B[49m\u001B[43m \u001B[49m\u001B[43mna_value\u001B[49m\u001B[38;5;241;43m=\u001B[39;49m\u001B[43mna_value\u001B[49m\u001B[43m)\u001B[49m\n\u001B[0;32m   1733\u001B[0m     \u001B[38;5;66;03m# The underlying data was copied within _interleave, so no need\u001B[39;00m\n\u001B[0;32m   1734\u001B[0m     \u001B[38;5;66;03m# to further copy if copy=True or setting na_value\u001B[39;00m\n\u001B[0;32m   1736\u001B[0m \u001B[38;5;28;01mif\u001B[39;00m na_value \u001B[38;5;129;01mis\u001B[39;00m \u001B[38;5;129;01mnot\u001B[39;00m lib\u001B[38;5;241m.\u001B[39mno_default:\n",
      "File \u001B[1;32m~\\AppData\\Roaming\\Python\\Python310\\site-packages\\pandas\\core\\internals\\managers.py:1794\u001B[0m, in \u001B[0;36mBlockManager._interleave\u001B[1;34m(self, dtype, na_value)\u001B[0m\n\u001B[0;32m   1792\u001B[0m     \u001B[38;5;28;01melse\u001B[39;00m:\n\u001B[0;32m   1793\u001B[0m         arr \u001B[38;5;241m=\u001B[39m blk\u001B[38;5;241m.\u001B[39mget_values(dtype)\n\u001B[1;32m-> 1794\u001B[0m     result[rl\u001B[38;5;241m.\u001B[39mindexer] \u001B[38;5;241m=\u001B[39m arr\n\u001B[0;32m   1795\u001B[0m     itemmask[rl\u001B[38;5;241m.\u001B[39mindexer] \u001B[38;5;241m=\u001B[39m \u001B[38;5;241m1\u001B[39m\n\u001B[0;32m   1797\u001B[0m \u001B[38;5;28;01mif\u001B[39;00m \u001B[38;5;129;01mnot\u001B[39;00m itemmask\u001B[38;5;241m.\u001B[39mall():\n",
      "\u001B[1;31mValueError\u001B[0m: could not convert string to float: 'Premium'"
     ]
    }
   ],
   "source": [
    "df.corr()"
   ],
   "metadata": {
    "collapsed": false,
    "pycharm": {
     "name": "#%%\n"
    }
   }
  },
  {
   "cell_type": "code",
   "execution_count": 147,
   "outputs": [
    {
     "data": {
      "text/plain": "<pandas.core.indexing._iLocIndexer at 0x1a76b054400>"
     },
     "execution_count": 147,
     "metadata": {},
     "output_type": "execute_result"
    }
   ],
   "source": [
    "df.iloc()"
   ],
   "metadata": {
    "collapsed": false,
    "pycharm": {
     "name": "#%%\n"
    }
   }
  },
  {
   "cell_type": "code",
   "execution_count": 148,
   "outputs": [
    {
     "data": {
      "text/plain": "            id  carat        cut color clarity  depth  table     x     y  \\\n0            0   1.52    Premium     F     VS2   62.2   58.0  7.27  7.33   \n1            1   2.03  Very Good     J     SI2   62.0   58.0  8.06  8.12   \n2            2   0.70      Ideal     G     VS1   61.2   57.0  5.69  5.73   \n3            3   0.32      Ideal     G     VS1   61.6   56.0  4.38  4.41   \n4            4   1.70    Premium     G     VS2   62.6   59.0  7.65  7.61   \n...        ...    ...        ...   ...     ...    ...    ...   ...   ...   \n193568  193568   0.31      Ideal     D    VVS2   61.1   56.0  4.35  4.39   \n193569  193569   0.70    Premium     G    VVS2   60.3   58.0  5.75  5.77   \n193570  193570   0.73  Very Good     F     SI1   63.1   57.0  5.72  5.75   \n193571  193571   0.34  Very Good     D     SI1   62.9   55.0  4.45  4.49   \n193572  193572   0.71       Good     E     SI2   60.8   64.0  5.73  5.71   \n\n           z  price  \n0       4.55  13619  \n1       5.05  13387  \n2       3.50   2772  \n3       2.71    666  \n4       4.77  14453  \n...      ...    ...  \n193568  2.67   1130  \n193569  3.47   2874  \n193570  3.62   3036  \n193571  2.81    681  \n193572  3.48   2258  \n\n[193573 rows x 11 columns]",
      "text/html": "<div>\n<style scoped>\n    .dataframe tbody tr th:only-of-type {\n        vertical-align: middle;\n    }\n\n    .dataframe tbody tr th {\n        vertical-align: top;\n    }\n\n    .dataframe thead th {\n        text-align: right;\n    }\n</style>\n<table border=\"1\" class=\"dataframe\">\n  <thead>\n    <tr style=\"text-align: right;\">\n      <th></th>\n      <th>id</th>\n      <th>carat</th>\n      <th>cut</th>\n      <th>color</th>\n      <th>clarity</th>\n      <th>depth</th>\n      <th>table</th>\n      <th>x</th>\n      <th>y</th>\n      <th>z</th>\n      <th>price</th>\n    </tr>\n  </thead>\n  <tbody>\n    <tr>\n      <th>0</th>\n      <td>0</td>\n      <td>1.52</td>\n      <td>Premium</td>\n      <td>F</td>\n      <td>VS2</td>\n      <td>62.2</td>\n      <td>58.0</td>\n      <td>7.27</td>\n      <td>7.33</td>\n      <td>4.55</td>\n      <td>13619</td>\n    </tr>\n    <tr>\n      <th>1</th>\n      <td>1</td>\n      <td>2.03</td>\n      <td>Very Good</td>\n      <td>J</td>\n      <td>SI2</td>\n      <td>62.0</td>\n      <td>58.0</td>\n      <td>8.06</td>\n      <td>8.12</td>\n      <td>5.05</td>\n      <td>13387</td>\n    </tr>\n    <tr>\n      <th>2</th>\n      <td>2</td>\n      <td>0.70</td>\n      <td>Ideal</td>\n      <td>G</td>\n      <td>VS1</td>\n      <td>61.2</td>\n      <td>57.0</td>\n      <td>5.69</td>\n      <td>5.73</td>\n      <td>3.50</td>\n      <td>2772</td>\n    </tr>\n    <tr>\n      <th>3</th>\n      <td>3</td>\n      <td>0.32</td>\n      <td>Ideal</td>\n      <td>G</td>\n      <td>VS1</td>\n      <td>61.6</td>\n      <td>56.0</td>\n      <td>4.38</td>\n      <td>4.41</td>\n      <td>2.71</td>\n      <td>666</td>\n    </tr>\n    <tr>\n      <th>4</th>\n      <td>4</td>\n      <td>1.70</td>\n      <td>Premium</td>\n      <td>G</td>\n      <td>VS2</td>\n      <td>62.6</td>\n      <td>59.0</td>\n      <td>7.65</td>\n      <td>7.61</td>\n      <td>4.77</td>\n      <td>14453</td>\n    </tr>\n    <tr>\n      <th>...</th>\n      <td>...</td>\n      <td>...</td>\n      <td>...</td>\n      <td>...</td>\n      <td>...</td>\n      <td>...</td>\n      <td>...</td>\n      <td>...</td>\n      <td>...</td>\n      <td>...</td>\n      <td>...</td>\n    </tr>\n    <tr>\n      <th>193568</th>\n      <td>193568</td>\n      <td>0.31</td>\n      <td>Ideal</td>\n      <td>D</td>\n      <td>VVS2</td>\n      <td>61.1</td>\n      <td>56.0</td>\n      <td>4.35</td>\n      <td>4.39</td>\n      <td>2.67</td>\n      <td>1130</td>\n    </tr>\n    <tr>\n      <th>193569</th>\n      <td>193569</td>\n      <td>0.70</td>\n      <td>Premium</td>\n      <td>G</td>\n      <td>VVS2</td>\n      <td>60.3</td>\n      <td>58.0</td>\n      <td>5.75</td>\n      <td>5.77</td>\n      <td>3.47</td>\n      <td>2874</td>\n    </tr>\n    <tr>\n      <th>193570</th>\n      <td>193570</td>\n      <td>0.73</td>\n      <td>Very Good</td>\n      <td>F</td>\n      <td>SI1</td>\n      <td>63.1</td>\n      <td>57.0</td>\n      <td>5.72</td>\n      <td>5.75</td>\n      <td>3.62</td>\n      <td>3036</td>\n    </tr>\n    <tr>\n      <th>193571</th>\n      <td>193571</td>\n      <td>0.34</td>\n      <td>Very Good</td>\n      <td>D</td>\n      <td>SI1</td>\n      <td>62.9</td>\n      <td>55.0</td>\n      <td>4.45</td>\n      <td>4.49</td>\n      <td>2.81</td>\n      <td>681</td>\n    </tr>\n    <tr>\n      <th>193572</th>\n      <td>193572</td>\n      <td>0.71</td>\n      <td>Good</td>\n      <td>E</td>\n      <td>SI2</td>\n      <td>60.8</td>\n      <td>64.0</td>\n      <td>5.73</td>\n      <td>5.71</td>\n      <td>3.48</td>\n      <td>2258</td>\n    </tr>\n  </tbody>\n</table>\n<p>193573 rows × 11 columns</p>\n</div>"
     },
     "execution_count": 148,
     "metadata": {},
     "output_type": "execute_result"
    }
   ],
   "source": [
    "df"
   ],
   "metadata": {
    "collapsed": false,
    "pycharm": {
     "name": "#%%\n"
    }
   }
  },
  {
   "cell_type": "code",
   "execution_count": 149,
   "outputs": [
    {
     "data": {
      "text/plain": "   id  carat        cut color clarity  depth  table     x     y     z  price\n0   0   1.52    Premium     F     VS2   62.2   58.0  7.27  7.33  4.55  13619\n1   1   2.03  Very Good     J     SI2   62.0   58.0  8.06  8.12  5.05  13387\n2   2   0.70      Ideal     G     VS1   61.2   57.0  5.69  5.73  3.50   2772\n3   3   0.32      Ideal     G     VS1   61.6   56.0  4.38  4.41  2.71    666\n4   4   1.70    Premium     G     VS2   62.6   59.0  7.65  7.61  4.77  14453",
      "text/html": "<div>\n<style scoped>\n    .dataframe tbody tr th:only-of-type {\n        vertical-align: middle;\n    }\n\n    .dataframe tbody tr th {\n        vertical-align: top;\n    }\n\n    .dataframe thead th {\n        text-align: right;\n    }\n</style>\n<table border=\"1\" class=\"dataframe\">\n  <thead>\n    <tr style=\"text-align: right;\">\n      <th></th>\n      <th>id</th>\n      <th>carat</th>\n      <th>cut</th>\n      <th>color</th>\n      <th>clarity</th>\n      <th>depth</th>\n      <th>table</th>\n      <th>x</th>\n      <th>y</th>\n      <th>z</th>\n      <th>price</th>\n    </tr>\n  </thead>\n  <tbody>\n    <tr>\n      <th>0</th>\n      <td>0</td>\n      <td>1.52</td>\n      <td>Premium</td>\n      <td>F</td>\n      <td>VS2</td>\n      <td>62.2</td>\n      <td>58.0</td>\n      <td>7.27</td>\n      <td>7.33</td>\n      <td>4.55</td>\n      <td>13619</td>\n    </tr>\n    <tr>\n      <th>1</th>\n      <td>1</td>\n      <td>2.03</td>\n      <td>Very Good</td>\n      <td>J</td>\n      <td>SI2</td>\n      <td>62.0</td>\n      <td>58.0</td>\n      <td>8.06</td>\n      <td>8.12</td>\n      <td>5.05</td>\n      <td>13387</td>\n    </tr>\n    <tr>\n      <th>2</th>\n      <td>2</td>\n      <td>0.70</td>\n      <td>Ideal</td>\n      <td>G</td>\n      <td>VS1</td>\n      <td>61.2</td>\n      <td>57.0</td>\n      <td>5.69</td>\n      <td>5.73</td>\n      <td>3.50</td>\n      <td>2772</td>\n    </tr>\n    <tr>\n      <th>3</th>\n      <td>3</td>\n      <td>0.32</td>\n      <td>Ideal</td>\n      <td>G</td>\n      <td>VS1</td>\n      <td>61.6</td>\n      <td>56.0</td>\n      <td>4.38</td>\n      <td>4.41</td>\n      <td>2.71</td>\n      <td>666</td>\n    </tr>\n    <tr>\n      <th>4</th>\n      <td>4</td>\n      <td>1.70</td>\n      <td>Premium</td>\n      <td>G</td>\n      <td>VS2</td>\n      <td>62.6</td>\n      <td>59.0</td>\n      <td>7.65</td>\n      <td>7.61</td>\n      <td>4.77</td>\n      <td>14453</td>\n    </tr>\n  </tbody>\n</table>\n</div>"
     },
     "execution_count": 149,
     "metadata": {},
     "output_type": "execute_result"
    }
   ],
   "source": [
    "df.head()"
   ],
   "metadata": {
    "collapsed": false,
    "pycharm": {
     "name": "#%%\n"
    }
   }
  },
  {
   "cell_type": "code",
   "execution_count": 150,
   "outputs": [
    {
     "data": {
      "text/plain": "id         0\ncarat      0\ncut        0\ncolor      0\nclarity    0\ndepth      0\ntable      0\nx          0\ny          0\nz          0\nprice      0\ndtype: int64"
     },
     "execution_count": 150,
     "metadata": {},
     "output_type": "execute_result"
    }
   ],
   "source": [
    "df.isnull().sum()"
   ],
   "metadata": {
    "collapsed": false,
    "pycharm": {
     "name": "#%%\n"
    }
   }
  },
  {
   "cell_type": "code",
   "execution_count": 152,
   "outputs": [
    {
     "data": {
      "text/plain": "id           int64\ncarat      float64\ncut         object\ncolor       object\nclarity     object\ndepth      float64\ntable      float64\nx          float64\ny          float64\nz          float64\nprice        int64\ndtype: object"
     },
     "execution_count": 152,
     "metadata": {},
     "output_type": "execute_result"
    }
   ],
   "source": [
    "df.dtypes"
   ],
   "metadata": {
    "collapsed": false,
    "pycharm": {
     "name": "#%%\n"
    }
   }
  },
  {
   "cell_type": "code",
   "execution_count": 156,
   "outputs": [],
   "source": [
    "categocol=df.columns[df.dtypes=='object']\n",
    "numecol=df.columns[df.dtypes!='object']"
   ],
   "metadata": {
    "collapsed": false,
    "pycharm": {
     "name": "#%%\n"
    }
   }
  },
  {
   "cell_type": "code",
   "execution_count": 155,
   "outputs": [
    {
     "data": {
      "text/plain": "0           Premium\n1         Very Good\n2             Ideal\n3             Ideal\n4           Premium\n            ...    \n193568        Ideal\n193569      Premium\n193570    Very Good\n193571    Very Good\n193572         Good\nName: cut, Length: 193573, dtype: object"
     },
     "execution_count": 155,
     "metadata": {},
     "output_type": "execute_result"
    }
   ],
   "source": [
    "df['cut']"
   ],
   "metadata": {
    "collapsed": false,
    "pycharm": {
     "name": "#%%\n"
    }
   }
  },
  {
   "cell_type": "code",
   "execution_count": 158,
   "outputs": [
    {
     "data": {
      "text/plain": "              cut color clarity\n0         Premium     F     VS2\n1       Very Good     J     SI2\n2           Ideal     G     VS1\n3           Ideal     G     VS1\n4         Premium     G     VS2\n...           ...   ...     ...\n193568      Ideal     D    VVS2\n193569    Premium     G    VVS2\n193570  Very Good     F     SI1\n193571  Very Good     D     SI1\n193572       Good     E     SI2\n\n[193573 rows x 3 columns]",
      "text/html": "<div>\n<style scoped>\n    .dataframe tbody tr th:only-of-type {\n        vertical-align: middle;\n    }\n\n    .dataframe tbody tr th {\n        vertical-align: top;\n    }\n\n    .dataframe thead th {\n        text-align: right;\n    }\n</style>\n<table border=\"1\" class=\"dataframe\">\n  <thead>\n    <tr style=\"text-align: right;\">\n      <th></th>\n      <th>cut</th>\n      <th>color</th>\n      <th>clarity</th>\n    </tr>\n  </thead>\n  <tbody>\n    <tr>\n      <th>0</th>\n      <td>Premium</td>\n      <td>F</td>\n      <td>VS2</td>\n    </tr>\n    <tr>\n      <th>1</th>\n      <td>Very Good</td>\n      <td>J</td>\n      <td>SI2</td>\n    </tr>\n    <tr>\n      <th>2</th>\n      <td>Ideal</td>\n      <td>G</td>\n      <td>VS1</td>\n    </tr>\n    <tr>\n      <th>3</th>\n      <td>Ideal</td>\n      <td>G</td>\n      <td>VS1</td>\n    </tr>\n    <tr>\n      <th>4</th>\n      <td>Premium</td>\n      <td>G</td>\n      <td>VS2</td>\n    </tr>\n    <tr>\n      <th>...</th>\n      <td>...</td>\n      <td>...</td>\n      <td>...</td>\n    </tr>\n    <tr>\n      <th>193568</th>\n      <td>Ideal</td>\n      <td>D</td>\n      <td>VVS2</td>\n    </tr>\n    <tr>\n      <th>193569</th>\n      <td>Premium</td>\n      <td>G</td>\n      <td>VVS2</td>\n    </tr>\n    <tr>\n      <th>193570</th>\n      <td>Very Good</td>\n      <td>F</td>\n      <td>SI1</td>\n    </tr>\n    <tr>\n      <th>193571</th>\n      <td>Very Good</td>\n      <td>D</td>\n      <td>SI1</td>\n    </tr>\n    <tr>\n      <th>193572</th>\n      <td>Good</td>\n      <td>E</td>\n      <td>SI2</td>\n    </tr>\n  </tbody>\n</table>\n<p>193573 rows × 3 columns</p>\n</div>"
     },
     "execution_count": 158,
     "metadata": {},
     "output_type": "execute_result"
    }
   ],
   "source": [
    "df[categocol]"
   ],
   "metadata": {
    "collapsed": false,
    "pycharm": {
     "name": "#%%\n"
    }
   }
  },
  {
   "cell_type": "code",
   "execution_count": 160,
   "outputs": [
    {
     "data": {
      "text/plain": "            id  carat  depth  table     x     y     z  price\n0            0   1.52   62.2   58.0  7.27  7.33  4.55  13619\n1            1   2.03   62.0   58.0  8.06  8.12  5.05  13387\n2            2   0.70   61.2   57.0  5.69  5.73  3.50   2772\n3            3   0.32   61.6   56.0  4.38  4.41  2.71    666\n4            4   1.70   62.6   59.0  7.65  7.61  4.77  14453\n...        ...    ...    ...    ...   ...   ...   ...    ...\n193568  193568   0.31   61.1   56.0  4.35  4.39  2.67   1130\n193569  193569   0.70   60.3   58.0  5.75  5.77  3.47   2874\n193570  193570   0.73   63.1   57.0  5.72  5.75  3.62   3036\n193571  193571   0.34   62.9   55.0  4.45  4.49  2.81    681\n193572  193572   0.71   60.8   64.0  5.73  5.71  3.48   2258\n\n[193573 rows x 8 columns]",
      "text/html": "<div>\n<style scoped>\n    .dataframe tbody tr th:only-of-type {\n        vertical-align: middle;\n    }\n\n    .dataframe tbody tr th {\n        vertical-align: top;\n    }\n\n    .dataframe thead th {\n        text-align: right;\n    }\n</style>\n<table border=\"1\" class=\"dataframe\">\n  <thead>\n    <tr style=\"text-align: right;\">\n      <th></th>\n      <th>id</th>\n      <th>carat</th>\n      <th>depth</th>\n      <th>table</th>\n      <th>x</th>\n      <th>y</th>\n      <th>z</th>\n      <th>price</th>\n    </tr>\n  </thead>\n  <tbody>\n    <tr>\n      <th>0</th>\n      <td>0</td>\n      <td>1.52</td>\n      <td>62.2</td>\n      <td>58.0</td>\n      <td>7.27</td>\n      <td>7.33</td>\n      <td>4.55</td>\n      <td>13619</td>\n    </tr>\n    <tr>\n      <th>1</th>\n      <td>1</td>\n      <td>2.03</td>\n      <td>62.0</td>\n      <td>58.0</td>\n      <td>8.06</td>\n      <td>8.12</td>\n      <td>5.05</td>\n      <td>13387</td>\n    </tr>\n    <tr>\n      <th>2</th>\n      <td>2</td>\n      <td>0.70</td>\n      <td>61.2</td>\n      <td>57.0</td>\n      <td>5.69</td>\n      <td>5.73</td>\n      <td>3.50</td>\n      <td>2772</td>\n    </tr>\n    <tr>\n      <th>3</th>\n      <td>3</td>\n      <td>0.32</td>\n      <td>61.6</td>\n      <td>56.0</td>\n      <td>4.38</td>\n      <td>4.41</td>\n      <td>2.71</td>\n      <td>666</td>\n    </tr>\n    <tr>\n      <th>4</th>\n      <td>4</td>\n      <td>1.70</td>\n      <td>62.6</td>\n      <td>59.0</td>\n      <td>7.65</td>\n      <td>7.61</td>\n      <td>4.77</td>\n      <td>14453</td>\n    </tr>\n    <tr>\n      <th>...</th>\n      <td>...</td>\n      <td>...</td>\n      <td>...</td>\n      <td>...</td>\n      <td>...</td>\n      <td>...</td>\n      <td>...</td>\n      <td>...</td>\n    </tr>\n    <tr>\n      <th>193568</th>\n      <td>193568</td>\n      <td>0.31</td>\n      <td>61.1</td>\n      <td>56.0</td>\n      <td>4.35</td>\n      <td>4.39</td>\n      <td>2.67</td>\n      <td>1130</td>\n    </tr>\n    <tr>\n      <th>193569</th>\n      <td>193569</td>\n      <td>0.70</td>\n      <td>60.3</td>\n      <td>58.0</td>\n      <td>5.75</td>\n      <td>5.77</td>\n      <td>3.47</td>\n      <td>2874</td>\n    </tr>\n    <tr>\n      <th>193570</th>\n      <td>193570</td>\n      <td>0.73</td>\n      <td>63.1</td>\n      <td>57.0</td>\n      <td>5.72</td>\n      <td>5.75</td>\n      <td>3.62</td>\n      <td>3036</td>\n    </tr>\n    <tr>\n      <th>193571</th>\n      <td>193571</td>\n      <td>0.34</td>\n      <td>62.9</td>\n      <td>55.0</td>\n      <td>4.45</td>\n      <td>4.49</td>\n      <td>2.81</td>\n      <td>681</td>\n    </tr>\n    <tr>\n      <th>193572</th>\n      <td>193572</td>\n      <td>0.71</td>\n      <td>60.8</td>\n      <td>64.0</td>\n      <td>5.73</td>\n      <td>5.71</td>\n      <td>3.48</td>\n      <td>2258</td>\n    </tr>\n  </tbody>\n</table>\n<p>193573 rows × 8 columns</p>\n</div>"
     },
     "execution_count": 160,
     "metadata": {},
     "output_type": "execute_result"
    }
   ],
   "source": [
    "df[numecol]"
   ],
   "metadata": {
    "collapsed": false,
    "pycharm": {
     "name": "#%%\n"
    }
   }
  },
  {
   "cell_type": "code",
   "execution_count": null,
   "outputs": [],
   "source": [],
   "metadata": {
    "collapsed": false,
    "pycharm": {
     "name": "#%%\n"
    }
   }
  }
 ],
 "metadata": {
  "kernelspec": {
   "display_name": "Python 3",
   "language": "python",
   "name": "python3"
  },
  "language_info": {
   "codemirror_mode": {
    "name": "ipython",
    "version": 2
   },
   "file_extension": ".py",
   "mimetype": "text/x-python",
   "name": "python",
   "nbconvert_exporter": "python",
   "pygments_lexer": "ipython2",
   "version": "2.7.6"
  }
 },
 "nbformat": 4,
 "nbformat_minor": 0
}