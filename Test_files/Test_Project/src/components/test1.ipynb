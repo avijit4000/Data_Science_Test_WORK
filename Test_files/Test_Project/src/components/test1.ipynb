{
 "cells": [
  {
   "cell_type": "code",
   "execution_count": 1,
   "metadata": {
    "collapsed": true,
    "pycharm": {
     "name": "#%%\n"
    }
   },
   "outputs": [
    {
     "name": "stdout",
     "output_type": "stream",
     "text": [
      "vijit\n"
     ]
    }
   ],
   "source": [
    "print('vijit')"
   ]
  },
  {
   "cell_type": "code",
   "execution_count": 2,
   "outputs": [
    {
     "name": "stdout",
     "output_type": "stream",
     "text": [
      "22\n",
      "33\n"
     ]
    }
   ],
   "source": [
    "def myfunc(n):\n",
    "  return lambda a : a * n\n",
    "\n",
    "mydoubler = myfunc(2)\n",
    "mytripler = myfunc(3)\n",
    "\n",
    "print(mydoubler(11))\n",
    "print(mytripler(11))"
   ],
   "metadata": {
    "collapsed": false,
    "pycharm": {
     "name": "#%%\n"
    }
   }
  },
  {
   "cell_type": "code",
   "execution_count": 3,
   "outputs": [],
   "source": [
    "def myfunc(n):\n",
    "  return lambda a : a * n"
   ],
   "metadata": {
    "collapsed": false,
    "pycharm": {
     "name": "#%%\n"
    }
   }
  },
  {
   "cell_type": "code",
   "execution_count": 5,
   "outputs": [],
   "source": [
    "t=myfunc(2)"
   ],
   "metadata": {
    "collapsed": false,
    "pycharm": {
     "name": "#%%\n"
    }
   }
  },
  {
   "cell_type": "code",
   "execution_count": 6,
   "outputs": [
    {
     "name": "stdout",
     "output_type": "stream",
     "text": [
      "22\n"
     ]
    }
   ],
   "source": [
    "print(t(11))"
   ],
   "metadata": {
    "collapsed": false,
    "pycharm": {
     "name": "#%%\n"
    }
   }
  },
  {
   "cell_type": "code",
   "execution_count": 7,
   "outputs": [
    {
     "name": "stdout",
     "output_type": "stream",
     "text": [
      "avijit\n"
     ]
    }
   ],
   "source": [
    "print('avijit')"
   ],
   "metadata": {
    "collapsed": false,
    "pycharm": {
     "name": "#%%\n"
    }
   }
  },
  {
   "cell_type": "markdown",
   "source": [
    "a.append(i)\n",
    "c.clear()\n",
    "m=c.copy()\n",
    "m.count(9)\n",
    "m.extend(n)\n",
    "n.index('cha')\n",
    "h.insert(1,'orange')\n",
    "u.pop(1)\n",
    "u.remove('bana')\n",
    "e.reverse()\n",
    "k.sort()"
   ],
   "metadata": {
    "collapsed": false,
    "pycharm": {
     "name": "#%% md\n"
    }
   }
  },
  {
   "cell_type": "code",
   "execution_count": null,
   "outputs": [],
   "source": [
    "te=car.clear()\n",
    "i=m.copy()\n"
   ],
   "metadata": {
    "collapsed": false,
    "pycharm": {
     "name": "#%%\n"
    }
   }
  },
  {
   "cell_type": "code",
   "execution_count": 9,
   "outputs": [
    {
     "name": "stdout",
     "output_type": "stream",
     "text": [
      "{'key1': 0, 'key2': 0, 'key3': 0}\n"
     ]
    }
   ],
   "source": [
    "x = ('key1', 'key2', 'key3')\n",
    "y = 0\n",
    "\n",
    "thisdict = dict.fromkeys(x, y)\n",
    "\n",
    "print(thisdict)"
   ],
   "metadata": {
    "collapsed": false,
    "pycharm": {
     "name": "#%%\n"
    }
   }
  },
  {
   "cell_type": "code",
   "execution_count": null,
   "outputs": [],
   "source": [
    "q=dic.fromkey(x,y)"
   ],
   "metadata": {
    "collapsed": false,
    "pycharm": {
     "name": "#%%\n"
    }
   }
  },
  {
   "cell_type": "code",
   "execution_count": 10,
   "outputs": [
    {
     "name": "stdout",
     "output_type": "stream",
     "text": [
      "15000\n"
     ]
    }
   ],
   "source": [
    "car = {\n",
    "  \"brand\": \"Ford\",\n",
    "  \"model\": \"Mustang\",\n",
    "  \"year\": 1964\n",
    "}\n",
    "\n",
    "x = car.get(\"price\", 15000)\n",
    "\n",
    "print(x)"
   ],
   "metadata": {
    "collapsed": false,
    "pycharm": {
     "name": "#%%\n"
    }
   }
  },
  {
   "cell_type": "code",
   "execution_count": 11,
   "outputs": [
    {
     "data": {
      "text/plain": "{'brand': 'Ford', 'model': 'Mustang', 'year': 1964}"
     },
     "execution_count": 11,
     "metadata": {},
     "output_type": "execute_result"
    }
   ],
   "source": [
    "car"
   ],
   "metadata": {
    "collapsed": false,
    "pycharm": {
     "name": "#%%\n"
    }
   }
  },
  {
   "cell_type": "code",
   "execution_count": 12,
   "outputs": [
    {
     "data": {
      "text/plain": "15000"
     },
     "execution_count": 12,
     "metadata": {},
     "output_type": "execute_result"
    }
   ],
   "source": [
    "x"
   ],
   "metadata": {
    "collapsed": false,
    "pycharm": {
     "name": "#%%\n"
    }
   }
  },
  {
   "cell_type": "code",
   "execution_count": 13,
   "outputs": [
    {
     "data": {
      "text/plain": "dict_keys(['brand', 'model', 'year'])"
     },
     "execution_count": 13,
     "metadata": {},
     "output_type": "execute_result"
    }
   ],
   "source": [
    "car.keys()"
   ],
   "metadata": {
    "collapsed": false,
    "pycharm": {
     "name": "#%%\n"
    }
   }
  },
  {
   "cell_type": "code",
   "execution_count": 15,
   "outputs": [],
   "source": [
    "x=car.items()\n",
    "car['year']=2018"
   ],
   "metadata": {
    "collapsed": false,
    "pycharm": {
     "name": "#%%\n"
    }
   }
  },
  {
   "cell_type": "code",
   "execution_count": 16,
   "outputs": [
    {
     "name": "stdout",
     "output_type": "stream",
     "text": [
      "dict_items([('brand', 'Ford'), ('model', 'Mustang'), ('year', 2018)])\n"
     ]
    }
   ],
   "source": [
    "print(x)"
   ],
   "metadata": {
    "collapsed": false,
    "pycharm": {
     "name": "#%%\n"
    }
   }
  },
  {
   "cell_type": "code",
   "execution_count": 17,
   "outputs": [
    {
     "data": {
      "text/plain": "{'brand': 'Ford', 'model': 'Mustang', 'year': 2018}"
     },
     "execution_count": 17,
     "metadata": {},
     "output_type": "execute_result"
    }
   ],
   "source": [
    "car"
   ],
   "metadata": {
    "collapsed": false,
    "pycharm": {
     "name": "#%%\n"
    }
   }
  },
  {
   "cell_type": "code",
   "execution_count": 19,
   "outputs": [
    {
     "data": {
      "text/plain": "dict_keys(['brand', 'model', 'year'])"
     },
     "execution_count": 19,
     "metadata": {},
     "output_type": "execute_result"
    }
   ],
   "source": [
    "car.keys()"
   ],
   "metadata": {
    "collapsed": false,
    "pycharm": {
     "name": "#%%\n"
    }
   }
  },
  {
   "cell_type": "code",
   "execution_count": 20,
   "outputs": [
    {
     "ename": "TypeError",
     "evalue": "pop expected at least 1 argument, got 0",
     "output_type": "error",
     "traceback": [
      "\u001B[1;31m---------------------------------------------------------------------------\u001B[0m",
      "\u001B[1;31mTypeError\u001B[0m                                 Traceback (most recent call last)",
      "Cell \u001B[1;32mIn[20], line 1\u001B[0m\n\u001B[1;32m----> 1\u001B[0m \u001B[43mcar\u001B[49m\u001B[38;5;241;43m.\u001B[39;49m\u001B[43mpop\u001B[49m\u001B[43m(\u001B[49m\u001B[43m)\u001B[49m\n",
      "\u001B[1;31mTypeError\u001B[0m: pop expected at least 1 argument, got 0"
     ]
    }
   ],
   "source": [
    "car.pop()"
   ],
   "metadata": {
    "collapsed": false,
    "pycharm": {
     "name": "#%%\n"
    }
   }
  },
  {
   "cell_type": "code",
   "execution_count": 21,
   "outputs": [
    {
     "data": {
      "text/plain": "'Mustang'"
     },
     "execution_count": 21,
     "metadata": {},
     "output_type": "execute_result"
    }
   ],
   "source": [
    "car.pop('model')"
   ],
   "metadata": {
    "collapsed": false,
    "pycharm": {
     "name": "#%%\n"
    }
   }
  },
  {
   "cell_type": "code",
   "execution_count": 22,
   "outputs": [
    {
     "data": {
      "text/plain": "{'brand': 'Ford', 'year': 2018}"
     },
     "execution_count": 22,
     "metadata": {},
     "output_type": "execute_result"
    }
   ],
   "source": [
    "car"
   ],
   "metadata": {
    "collapsed": false,
    "pycharm": {
     "name": "#%%\n"
    }
   }
  },
  {
   "cell_type": "code",
   "execution_count": 23,
   "outputs": [
    {
     "name": "stdout",
     "output_type": "stream",
     "text": [
      "{'brand': 'Ford', 'model': 'Mustang'}\n"
     ]
    }
   ],
   "source": [
    "car = {\n",
    "  \"brand\": \"Ford\",\n",
    "  \"model\": \"Mustang\",\n",
    "  \"year\": 1964\n",
    "}\n",
    "\n",
    "car.popitem()\n",
    "\n",
    "print(car)"
   ],
   "metadata": {
    "collapsed": false,
    "pycharm": {
     "name": "#%%\n"
    }
   }
  },
  {
   "cell_type": "code",
   "execution_count": 24,
   "outputs": [
    {
     "name": "stdout",
     "output_type": "stream",
     "text": [
      "{'brand': 'Ford'}\n"
     ]
    }
   ],
   "source": [
    "car.popitem()\n",
    "\n",
    "print(car)"
   ],
   "metadata": {
    "collapsed": false,
    "pycharm": {
     "name": "#%%\n"
    }
   }
  },
  {
   "cell_type": "code",
   "execution_count": 25,
   "outputs": [
    {
     "name": "stdout",
     "output_type": "stream",
     "text": [
      "Mustang\n"
     ]
    }
   ],
   "source": [
    "car = {\n",
    "  \"brand\": \"Ford\",\n",
    "  \"model\": \"Mustang\",\n",
    "  \"year\": 1964\n",
    "}\n",
    "\n",
    "x = car.setdefault(\"model\", \"Bronco\")\n",
    "\n",
    "print(x)"
   ],
   "metadata": {
    "collapsed": false,
    "pycharm": {
     "name": "#%%\n"
    }
   }
  },
  {
   "cell_type": "code",
   "execution_count": 26,
   "outputs": [
    {
     "name": "stdout",
     "output_type": "stream",
     "text": [
      "Mustang\n"
     ]
    }
   ],
   "source": [
    "car = {\n",
    "  \"brand\": \"Ford\",\n",
    "  \"model\": \"Mustang\",\n",
    "  \"year\": 1964\n",
    "}\n",
    "\n",
    "x = car.setdefault(\"model\", \"Bronco\")\n",
    "\n",
    "print(x)"
   ],
   "metadata": {
    "collapsed": false,
    "pycharm": {
     "name": "#%%\n"
    }
   }
  },
  {
   "cell_type": "code",
   "execution_count": 27,
   "outputs": [
    {
     "data": {
      "text/plain": "{'brand': 'Ford', 'model': 'Mustang', 'year': 1964}"
     },
     "execution_count": 27,
     "metadata": {},
     "output_type": "execute_result"
    }
   ],
   "source": [
    "car"
   ],
   "metadata": {
    "collapsed": false,
    "pycharm": {
     "name": "#%%\n"
    }
   }
  },
  {
   "cell_type": "code",
   "execution_count": 28,
   "outputs": [
    {
     "name": "stdout",
     "output_type": "stream",
     "text": [
      "{'brand': 'Ford', 'model': 'Mustang', 'year': 1964}\n"
     ]
    }
   ],
   "source": [
    "  print(car)"
   ],
   "metadata": {
    "collapsed": false,
    "pycharm": {
     "name": "#%%\n"
    }
   }
  },
  {
   "cell_type": "code",
   "execution_count": 29,
   "outputs": [
    {
     "name": "stdout",
     "output_type": "stream",
     "text": [
      "{'brand': 'Ford', 'model': 'Mustang', 'year': 1964, 'color': 'White'}\n"
     ]
    }
   ],
   "source": [
    "  car = {\n",
    "  \"brand\": \"Ford\",\n",
    "  \"model\": \"Mustang\",\n",
    "  \"year\": 1964\n",
    "}\n",
    "\n",
    "car.update({\"color\": \"White\"})\n",
    "\n",
    "print(car)"
   ],
   "metadata": {
    "collapsed": false,
    "pycharm": {
     "name": "#%%\n"
    }
   }
  },
  {
   "cell_type": "code",
   "execution_count": 30,
   "outputs": [
    {
     "data": {
      "text/plain": "{'brand': 'Ford', 'model': 'Mustang', 'year': 1964, 'color': 'White'}"
     },
     "execution_count": 30,
     "metadata": {},
     "output_type": "execute_result"
    }
   ],
   "source": [
    "car"
   ],
   "metadata": {
    "collapsed": false,
    "pycharm": {
     "name": "#%%\n"
    }
   }
  },
  {
   "cell_type": "code",
   "execution_count": 37,
   "outputs": [
    {
     "name": "stdout",
     "output_type": "stream",
     "text": [
      "dict_values(['Ford', 'Mustang', 1964])\n"
     ]
    }
   ],
   "source": [
    "car = {\n",
    "  \"brand\": \"Ford\",\n",
    "  \"model\": \"Mustang\",\n",
    "  \"year\": 1964\n",
    "}\n",
    "\n",
    "x = car.values()\n",
    "\n",
    "print(x)"
   ],
   "metadata": {
    "collapsed": false,
    "pycharm": {
     "name": "#%%\n"
    }
   }
  },
  {
   "cell_type": "code",
   "execution_count": 38,
   "outputs": [],
   "source": [
    "from bs4 import BeautifulSoup as bs\n",
    "import requests as re"
   ],
   "metadata": {
    "collapsed": false,
    "pycharm": {
     "name": "#%%\n"
    }
   }
  },
  {
   "cell_type": "code",
   "execution_count": 39,
   "outputs": [],
   "source": [
    "result=re.get('https://lawbeat.in/news-updates/amp/terror-funding-case-delhi-high-court-directs-jailed-jklf-terrorist-yasin-malik-be-produced-video-conferencing').text"
   ],
   "metadata": {
    "collapsed": false,
    "pycharm": {
     "name": "#%%\n"
    }
   }
  },
  {
   "cell_type": "code",
   "execution_count": 40,
   "outputs": [],
   "source": [
    "soup=bs(result,'lxml')"
   ],
   "metadata": {
    "collapsed": false,
    "pycharm": {
     "name": "#%%\n"
    }
   }
  },
  {
   "cell_type": "code",
   "execution_count": 41,
   "outputs": [],
   "source": [
    "box=soup.find('div',class_=\"content-wrapper\")"
   ],
   "metadata": {
    "collapsed": false,
    "pycharm": {
     "name": "#%%\n"
    }
   }
  },
  {
   "cell_type": "code",
   "execution_count": 43,
   "outputs": [
    {
     "data": {
      "text/plain": "11"
     },
     "execution_count": 43,
     "metadata": {},
     "output_type": "execute_result"
    }
   ],
   "source": [
    "len(box)"
   ],
   "metadata": {
    "collapsed": false,
    "pycharm": {
     "name": "#%%\n"
    }
   }
  },
  {
   "cell_type": "code",
   "execution_count": 47,
   "outputs": [
    {
     "data": {
      "text/plain": "3"
     },
     "execution_count": 47,
     "metadata": {},
     "output_type": "execute_result"
    }
   ],
   "source": [
    "len(box.div)"
   ],
   "metadata": {
    "collapsed": false,
    "pycharm": {
     "name": "#%%\n"
    }
   }
  },
  {
   "cell_type": "code",
   "execution_count": 49,
   "outputs": [],
   "source": [
    "vib=box.div"
   ],
   "metadata": {
    "collapsed": false,
    "pycharm": {
     "name": "#%%\n"
    }
   }
  },
  {
   "cell_type": "code",
   "execution_count": 50,
   "outputs": [
    {
     "ename": "KeyError",
     "evalue": "0",
     "output_type": "error",
     "traceback": [
      "\u001B[1;31m---------------------------------------------------------------------------\u001B[0m",
      "\u001B[1;31mKeyError\u001B[0m                                  Traceback (most recent call last)",
      "Cell \u001B[1;32mIn[50], line 1\u001B[0m\n\u001B[1;32m----> 1\u001B[0m \u001B[43mvib\u001B[49m\u001B[43m[\u001B[49m\u001B[38;5;241;43m0\u001B[39;49m\u001B[43m]\u001B[49m\n",
      "File \u001B[1;32mC:\\ProgramData\\anaconda3\\lib\\site-packages\\bs4\\element.py:1519\u001B[0m, in \u001B[0;36mTag.__getitem__\u001B[1;34m(self, key)\u001B[0m\n\u001B[0;32m   1516\u001B[0m \u001B[38;5;28;01mdef\u001B[39;00m \u001B[38;5;21m__getitem__\u001B[39m(\u001B[38;5;28mself\u001B[39m, key):\n\u001B[0;32m   1517\u001B[0m     \u001B[38;5;124;03m\"\"\"tag[key] returns the value of the 'key' attribute for the Tag,\u001B[39;00m\n\u001B[0;32m   1518\u001B[0m \u001B[38;5;124;03m    and throws an exception if it's not there.\"\"\"\u001B[39;00m\n\u001B[1;32m-> 1519\u001B[0m     \u001B[38;5;28;01mreturn\u001B[39;00m \u001B[38;5;28;43mself\u001B[39;49m\u001B[38;5;241;43m.\u001B[39;49m\u001B[43mattrs\u001B[49m\u001B[43m[\u001B[49m\u001B[43mkey\u001B[49m\u001B[43m]\u001B[49m\n",
      "\u001B[1;31mKeyError\u001B[0m: 0"
     ]
    }
   ],
   "source": [
    "vib[0]"
   ],
   "metadata": {
    "collapsed": false,
    "pycharm": {
     "name": "#%%\n"
    }
   }
  },
  {
   "cell_type": "code",
   "execution_count": 52,
   "outputs": [
    {
     "data": {
      "text/plain": "<div class=\"news-banner\">\n<img alt=\"\" height=\"900\" src=\"/sites/default/files/news_images/Yasin%20Malik%20%2B%20NIA%20%2B%20dhc_3.jpeg\" typeof=\"foaf:Image\" width=\"1600\"/>\n</div>"
     },
     "execution_count": 52,
     "metadata": {},
     "output_type": "execute_result"
    }
   ],
   "source": [
    "vib"
   ],
   "metadata": {
    "collapsed": false,
    "pycharm": {
     "name": "#%%\n"
    }
   }
  },
  {
   "cell_type": "code",
   "execution_count": 53,
   "outputs": [
    {
     "data": {
      "text/plain": "'\\n[Terror Funding Case] Delhi HC directs Jailed JKLF Terrorist Yasin Malik to be Produced through Video Conferencing on February 14\\n\\n\\n\\n\\n\\nSukriti Mishra\\xa0\\xa0\\xa0\\n\\n\\n\\n01:47 PM, 05 Dec 2023\\n\\n\\n\\n\\n\\n\\n\\n\\n\\n\\n\\n\\n\\n\\n\\n\\n\\n\\n\\n\\n\\n\\n\\n\\n\\n\\n\\nRead Time: 06 minutes\\nSynopsis\\n\\nMalik has been sentenced to\\xa0life imprisonment\\xa0in connection with a terror funding case. However, NIA has moved the high court seeking capital punishment for him\\n\\nThe Delhi High Court on Tuesday directed the Jail Superintendent of Tihar Jail to produce\\xa0Jammu Kashmir Liberation Front (JKLF) terrorist Yasin Malik\\xa0from jail through video conferencing in a plea filed by the National Investigation Agency (NIA)\\xa0seeking the death penalty for him.\\nMalik has been sentenced to\\xa0life imprisonment\\xa0in connection with a terror funding case.\\nA division bench of Justice Suresh Kumar Kait and Justice Shalinder Kaur then posted the matter for further hearing on February 14, 2024.\\nIn August, the court\\xa0directed the JKLF terrorist, who is presently serving a life term in the case, to be produced before it through video conferencing mode from Tihar Jail instead of physical appearance pursuant to the production warrant issued earlier this year.\\n\"In that view of the matter, the order dated May 29, 2023 is necessarily modified to the extent that the\\xa0jail superintendent is directed to produce Yasin Malik@Aslam, the respondent in the present appeal, through video conferencing alone on August 9\\xa0and not in person,\"\\xa0the court had ordered.\\xa0\\nIt is to be noted that on May 29, the high court directed the jail superintendent of Tihar Jail stating,\\xa0\"Let warrants be issued for the production of Yasin Malik on the next date of hearing.\\xa0Let him be produced before the court physically\".\\xa0\\nSubsequently, the\\xa0Jail Superintendent of Tihar Jail moved the Delhi High Court\\xa0seeking permission to produce the JKLF terrorist\\xa0from jail through video conferencing\\xa0on grounds that he was a “very high-risk prisoner” and it was imperative to not physically produce him in court to maintain public order and safety.\\nRecently, the jailed terrorist was produced physically in the Supreme Court in connection with a kidnapping case against him, prompting the Solicitor General of India, Tushar Mehta, to flag the \"serious security lapse\" to Union Home Secretary Ajay Kumar Bhalla.\\nNotably, on July 21, Solicitor General of India (SG),\\xa0Tushar Mehta wrote to the Home Secretary\\xa0Ajay Kumar Bhalla\\xa0about terrorist Yasin Malik being brought to Supreme Court premises for a personal appearance,\\xa0even though there was an order passed under Section 268 of the Criminal Procedure Code, preventing the jail authorities from bringing Malik out of the jail premises.\\n\"Even the security of the Supreme Court would have been put at serious risk if any untoward incident were to happen,\"\\xa0SG Tushar Mehta had written.\\nThe JKLF Terrorist was\\xa0convicted on May 19, 2022, in connection with Jammu & Kashmir terror funding and secessionist activities case. The\\xa0sentence was pronounced on May 25, 2022.\\xa0NIA Judge Praveen Singh\\xa0sentenced Mailk to life imprisonment and imposed a fine of Rs. 10 lakhs.\\nOn May 10, the flag bearer of JKLF\\xa0pleaded guilty before\\xa0the NIA court to all charges under the Unlawful Activities (Prevention) Act.\\nCase Title: State (National Investigation Agency) v. Mohd. Yasin Malik\\n\\n'"
     },
     "execution_count": 53,
     "metadata": {},
     "output_type": "execute_result"
    }
   ],
   "source": [
    "box.text"
   ],
   "metadata": {
    "collapsed": false,
    "pycharm": {
     "name": "#%%\n"
    }
   }
  },
  {
   "cell_type": "code",
   "execution_count": 54,
   "outputs": [],
   "source": [
    "p=box.find_all(\"p\")"
   ],
   "metadata": {
    "collapsed": false,
    "pycharm": {
     "name": "#%%\n"
    }
   }
  },
  {
   "cell_type": "code",
   "execution_count": 55,
   "outputs": [
    {
     "data": {
      "text/plain": "15"
     },
     "execution_count": 55,
     "metadata": {},
     "output_type": "execute_result"
    }
   ],
   "source": [
    "len(p)"
   ],
   "metadata": {
    "collapsed": false,
    "pycharm": {
     "name": "#%%\n"
    }
   }
  },
  {
   "cell_type": "code",
   "execution_count": 58,
   "outputs": [],
   "source": [
    "total_list=[]\n",
    "for i in p:\n",
    "  total_list.append(i.text)"
   ],
   "metadata": {
    "collapsed": false,
    "pycharm": {
     "name": "#%%\n"
    }
   }
  },
  {
   "cell_type": "code",
   "execution_count": 59,
   "outputs": [
    {
     "data": {
      "text/plain": "['Read Time: 06 minutes',\n 'Malik has been sentenced to\\xa0life imprisonment\\xa0in connection with a terror funding case. However, NIA has moved the high court seeking capital punishment for him',\n 'The Delhi High Court on Tuesday directed the Jail Superintendent of Tihar Jail to produce\\xa0Jammu Kashmir Liberation Front (JKLF) terrorist Yasin Malik\\xa0from jail through video conferencing in a plea filed by the National Investigation Agency (NIA)\\xa0seeking the death penalty for him.',\n 'Malik has been sentenced to\\xa0life imprisonment\\xa0in connection with a terror funding case.',\n 'A division bench of Justice Suresh Kumar Kait and Justice Shalinder Kaur then posted the matter for further hearing on February 14, 2024.',\n 'In August, the court\\xa0directed the JKLF terrorist, who is presently serving a life term in the case, to be produced before it through video conferencing mode from Tihar Jail instead of physical appearance pursuant to the production warrant issued earlier this year.',\n '\"In that view of the matter, the order dated May 29, 2023 is necessarily modified to the extent that the\\xa0jail superintendent is directed to produce Yasin Malik@Aslam, the respondent in the present appeal, through video conferencing alone on August 9\\xa0and not in person,\"\\xa0the court had ordered.\\xa0',\n 'It is to be noted that on May 29, the high court directed the jail superintendent of Tihar Jail stating,\\xa0\"Let warrants be issued for the production of Yasin Malik on the next date of hearing.\\xa0Let him be produced before the court physically\".\\xa0',\n 'Subsequently, the\\xa0Jail Superintendent of Tihar Jail moved the Delhi High Court\\xa0seeking permission to produce the JKLF terrorist\\xa0from jail through video conferencing\\xa0on grounds that he was a “very high-risk prisoner” and it was imperative to not physically produce him in court to maintain public order and safety.',\n 'Recently, the jailed terrorist was produced physically in the Supreme Court in connection with a kidnapping case against him, prompting the Solicitor General of India, Tushar Mehta, to flag the \"serious security lapse\" to Union Home Secretary Ajay Kumar Bhalla.',\n 'Notably, on July 21, Solicitor General of India (SG),\\xa0Tushar Mehta wrote to the Home Secretary\\xa0Ajay Kumar Bhalla\\xa0about terrorist Yasin Malik being brought to Supreme Court premises for a personal appearance,\\xa0even though there was an order passed under Section 268 of the Criminal Procedure Code, preventing the jail authorities from bringing Malik out of the jail premises.',\n '\"Even the security of the Supreme Court would have been put at serious risk if any untoward incident were to happen,\"\\xa0SG Tushar Mehta had written.',\n 'The JKLF Terrorist was\\xa0convicted on May 19, 2022, in connection with Jammu & Kashmir terror funding and secessionist activities case. The\\xa0sentence was pronounced on May 25, 2022.\\xa0NIA Judge Praveen Singh\\xa0sentenced Mailk to life imprisonment and imposed a fine of Rs. 10 lakhs.',\n 'On May 10, the flag bearer of JKLF\\xa0pleaded guilty before\\xa0the NIA court to all charges under the Unlawful Activities (Prevention) Act.',\n 'Case Title: State (National Investigation Agency) v. Mohd. Yasin Malik']"
     },
     "execution_count": 59,
     "metadata": {},
     "output_type": "execute_result"
    }
   ],
   "source": [
    "total_list"
   ],
   "metadata": {
    "collapsed": false,
    "pycharm": {
     "name": "#%%\n"
    }
   }
  },
  {
   "cell_type": "code",
   "execution_count": 74,
   "outputs": [
    {
     "name": "stdout",
     "output_type": "stream",
     "text": [
      "Read Time: 06 minutes\n",
      "\n",
      "\n",
      "\t\t\t\t\n",
      "Malik has been sentenced to life imprisonment in connection with a terror funding case. However NIA has moved the high court seeking capital punishment for him\n",
      "\n",
      "\n",
      "\t\t\t\t\n",
      "The Delhi High Court on Tuesday directed the Jail Superintendent of Tihar Jail to produce Jammu Kashmir Liberation Front (JKLF) terrorist Yasin Malik from jail through video conferencing in a plea filed by the National Investigation Agency (NIA) seeking the death penalty for him.\n",
      "\n",
      "\n",
      "\t\t\t\t\n",
      "Malik has been sentenced to life imprisonment in connection with a terror funding case.\n",
      "\n",
      "\n",
      "\t\t\t\t\n",
      "A division bench of Justice Suresh Kumar Kait and Justice Shalinder Kaur then posted the matter for further hearing on February 14 2024.\n",
      "\n",
      "\n",
      "\t\t\t\t\n",
      "In August the court directed the JKLF terrorist who is presently serving a life term in the case to be produced before it through video conferencing mode from Tihar Jail instead of physical appearance pursuant to the production warrant issued earlier this year.\n",
      "\n",
      "\n",
      "\t\t\t\t\n",
      "\"In that view of the matter the order dated May 29 2023 is necessarily modified to the extent that the jail superintendent is directed to produce Yasin Malik@Aslam the respondent in the present appeal through video conferencing alone on August 9 and not in person\" the court had ordered. \n",
      "\n",
      "\n",
      "\t\t\t\t\n",
      "It is to be noted that on May 29 the high court directed the jail superintendent of Tihar Jail stating \"Let warrants be issued for the production of Yasin Malik on the next date of hearing. Let him be produced before the court physically\". \n",
      "\n",
      "\n",
      "\t\t\t\t\n",
      "Subsequently the Jail Superintendent of Tihar Jail moved the Delhi High Court seeking permission to produce the JKLF terrorist from jail through video conferencing on grounds that he was a “very high-risk prisoner” and it was imperative to not physically produce him in court to maintain public order and safety.\n",
      "\n",
      "\n",
      "\t\t\t\t\n",
      "Recently the jailed terrorist was produced physically in the Supreme Court in connection with a kidnapping case against him prompting the Solicitor General of India Tushar Mehta to flag the \"serious security lapse\" to Union Home Secretary Ajay Kumar Bhalla.\n",
      "\n",
      "\n",
      "\t\t\t\t\n",
      "Notably on July 21 Solicitor General of India (SG) Tushar Mehta wrote to the Home Secretary Ajay Kumar Bhalla about terrorist Yasin Malik being brought to Supreme Court premises for a personal appearance even though there was an order passed under Section 268 of the Criminal Procedure Code preventing the jail authorities from bringing Malik out of the jail premises.\n",
      "\n",
      "\n",
      "\t\t\t\t\n",
      "\"Even the security of the Supreme Court would have been put at serious risk if any untoward incident were to happen\" SG Tushar Mehta had written.\n",
      "\n",
      "\n",
      "\t\t\t\t\n",
      "The JKLF Terrorist was convicted on May 19 2022 in connection with Jammu & Kashmir terror funding and secessionist activities case. The sentence was pronounced on May 25 2022. NIA Judge Praveen Singh sentenced Mailk to life imprisonment and imposed a fine of Rs. 10 lakhs.\n",
      "\n",
      "\n",
      "\t\t\t\t\n",
      "On May 10 the flag bearer of JKLF pleaded guilty before the NIA court to all charges under the Unlawful Activities (Prevention) Act.\n",
      "\n",
      "\n",
      "\t\t\t\t\n",
      "Case Title: State (National Investigation Agency) v. Mohd. Yasin Malik\n",
      "\n",
      "\n",
      "\t\t\t\t\n"
     ]
    }
   ],
   "source": [
    "for i in total_list:\n",
    "  print(i.replace(',',''))\n",
    "  print('\\n\\n\\t\\t\\t\\t')"
   ],
   "metadata": {
    "collapsed": false,
    "pycharm": {
     "name": "#%%\n"
    }
   }
  },
  {
   "cell_type": "code",
   "execution_count": null,
   "outputs": [],
   "source": [],
   "metadata": {
    "collapsed": false,
    "pycharm": {
     "name": "#%%\n"
    }
   }
  }
 ],
 "metadata": {
  "kernelspec": {
   "display_name": "Python 3",
   "language": "python",
   "name": "python3"
  },
  "language_info": {
   "codemirror_mode": {
    "name": "ipython",
    "version": 2
   },
   "file_extension": ".py",
   "mimetype": "text/x-python",
   "name": "python",
   "nbconvert_exporter": "python",
   "pygments_lexer": "ipython2",
   "version": "2.7.6"
  }
 },
 "nbformat": 4,
 "nbformat_minor": 0
}