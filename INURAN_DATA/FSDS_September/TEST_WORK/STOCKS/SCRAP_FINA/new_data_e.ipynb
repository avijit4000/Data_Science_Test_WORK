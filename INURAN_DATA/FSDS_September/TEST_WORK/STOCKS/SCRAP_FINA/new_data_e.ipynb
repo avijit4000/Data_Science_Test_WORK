{
 "cells": [
  {
   "cell_type": "code",
   "execution_count": 2,
   "metadata": {
    "collapsed": true,
    "pycharm": {
     "name": "#%%\n"
    }
   },
   "outputs": [
    {
     "name": "stdout",
     "output_type": "stream",
     "text": [
      "                                       name      price  increase pseincre\n",
      "0                   Vineet Laboratories Ltd     ₹67.95   +₹11.30   19.95%\n",
      "1                        Crest Ventures Ltd    ₹325.30   +₹50.45   18.36%\n",
      "2                          Creative Eye Ltd      ₹4.35    +₹0.55   14.47%\n",
      "3                     Sanwaria Consumer Ltd      ₹0.40   +₹0.050   14.29%\n",
      "4                Everest Kanto Cylinder Ltd    ₹140.40   +₹17.00   13.78%\n",
      "5                 SMC Global Securities Ltd    ₹101.60   +₹11.30   12.51%\n",
      "6                     Thejo Engineering Ltd  ₹2,065.00  +₹208.00   11.20%\n",
      "7           IL & FS Investment Managers Ltd      ₹9.65    +₹0.95   10.92%\n",
      "8                        Reliance Power Ltd     ₹22.65    +₹2.10   10.22%\n",
      "9                             Wockhardt Ltd    ₹283.00   +₹26.05   10.14%\n",
      "10          Hisar Metal Industries Ltd(NDA)    ₹197.45   +₹17.95   10.00%\n",
      "11               Share India Securities Ltd  ₹1,779.00  +₹158.40    9.77%\n",
      "12              Quick Heal Technologies Ltd    ₹357.00   +₹31.75    9.76%\n",
      "13                                  BSE Ltd  ₹2,319.00  +₹192.95    9.08%\n",
      "14                       Dolat Algotech Ltd     ₹66.50    +₹5.45    8.93%\n",
      "15                     Bliss GVS Pharma Ltd    ₹130.40   +₹10.60    8.85%\n",
      "16        Zaggle Prepaid Ocean Services Ltd    ₹256.95   +₹20.70    8.76%\n",
      "17     Computer Age Management Services Ltd  ₹2,700.00  +₹214.25    8.62%\n",
      "18                 Shekhawati Poly-Yarn Ltd      ₹0.65   +₹0.050    8.33%\n",
      "19                Alpa Laboratories Limited     ₹94.30    +₹7.15    8.20%\n",
      "20     Motilal Oswal Financial Services Ltd  ₹1,132.00   +₹85.50    8.17%\n",
      "21     Lotus Eye Hospital and Institute Ltd     ₹93.50    +₹6.80    7.84%\n",
      "22                                 IFCI Ltd     ₹25.00    +₹1.80    7.76%\n",
      "23       Hindustan Construction Company Ltd     ₹30.35    +₹2.10    7.43%\n",
      "24                      Orient Ceratech Ltd     ₹58.85    +₹4.00    7.29%\n",
      "25                    Hindustan Copper Ltd.    ₹160.85   +₹10.90    7.27%\n",
      "26                         Ujaas Energy Ltd      ₹2.25    +₹0.15    7.14%\n",
      "27                           Antarctica Ltd      ₹0.75   +₹0.050    7.14%\n",
      "28                     Infibeam Avenues Ltd     ₹21.55    +₹1.40    6.95%\n",
      "29                     Integra Essentia Ltd      ₹6.95    +₹0.45    6.92%\n",
      "30                     Ashiana Housing Ltd.    ₹260.50   +₹16.85    6.92%\n",
      "31                              Indian Bank    ₹448.80   +₹28.60    6.81%\n",
      "32  Transformers and Rectifiers (India) Ltd    ₹190.00   +₹12.00    6.74%\n",
      "33                  Union Bank of India Ltd    ₹111.55    +₹7.00    6.70%\n",
      "34                  Supreme Engineering Ltd      ₹0.80   +₹0.050    6.67%\n",
      "35                  SRG Housing Finance Ltd    ₹282.95   +₹17.55    6.61%\n",
      "36                ITD Cementation India Ltd    ₹251.50   +₹15.55    6.59%\n",
      "37           Veranda Learning Solutions Ltd    ₹214.00   +₹13.00    6.47%\n",
      "38                               Ashima Ltd     ₹15.75    +₹0.95    6.42%\n",
      "39                                 Moil Ltd    ₹268.90   +₹16.15    6.39%\n",
      "40            Jaiprakash Associates Limited     ₹19.30    +₹1.15    6.34%\n",
      "41                   Hitech Corporation Ltd    ₹294.00   +₹17.35    6.27%\n",
      "42                   Future Enterprises Ltd      ₹0.85   +₹0.050    6.25%\n",
      "43       Indian Metals and Ferro Alloys Ltd    ₹481.40   +₹27.95    6.16%\n",
      "44       Mrs. Bectors Food Specialities Ltd  ₹1,333.00   +₹77.05    6.13%\n",
      "45                  Bank of Maharashtra Ltd     ₹46.00    +₹2.65    6.11%\n",
      "46               Banco Products (India) Ltd    ₹583.50   +₹33.55    6.10%\n",
      "47                                  Mps Ltd  ₹1,620.00   +₹92.65    6.07%\n",
      "48         Rategain Travel Technologies Ltd    ₹720.00   +₹41.05    6.05%\n",
      "49                           Bal Pharma Ltd     ₹99.20    +₹5.65    6.04%\n"
     ]
    }
   ],
   "source": [
    "from bs4 import BeautifulSoup as bs\n",
    "import requests as re\n",
    "import pandas as pd\n",
    "import numpy as np\n",
    "con=re.get('https://www.google.com/finance/markets/gainers?authuser=0').text\n",
    "soup=bs(con,'lxml')\n",
    "box=soup.find_all(\"li\")\n",
    "name=[]\n",
    "price=[]\n",
    "increase=[]\n",
    "pseincre=[]\n",
    "for i in box:\n",
    "    name.append(i.find(\"div\",class_=\"ZvmM7\").text)\n",
    "    price.append(i.find(\"div\",class_=\"YMlKec\").text)\n",
    "    increase.append(i.find(\"span\",class_=\"P2Luy Ez2Ioe\").text)\n",
    "    pseincre.append(i.find(\"div\",class_=\"JwB6zf\").text)\n",
    "df=pd.DataFrame({\"name\":name,\"price\":price,\"increase\":increase,\"pseincre\":pseincre})\n",
    "print(df)"
   ]
  },
  {
   "cell_type": "code",
   "execution_count": 2,
   "outputs": [],
   "source": [
    "df2=[]\n",
    "for i in df.price:\n",
    "    a=i.replace('₹','')\n",
    "    b=a.replace(',','')\n",
    "    df2.append(float(b))"
   ],
   "metadata": {
    "collapsed": false,
    "pycharm": {
     "name": "#%%\n"
    }
   }
  },
  {
   "cell_type": "code",
   "execution_count": 3,
   "outputs": [],
   "source": [
    "df[\"price\"]=df2"
   ],
   "metadata": {
    "collapsed": false,
    "pycharm": {
     "name": "#%%\n"
    }
   }
  },
  {
   "cell_type": "code",
   "execution_count": 4,
   "outputs": [
    {
     "name": "stdout",
     "output_type": "stream",
     "text": [
      "['0.050', '11.65', '40.40', '1.60', '124.85', '1.05', '123.95', '8.90', '5.35', '8.00', '16.85', '4.35', '1.60', '15.25', '0.050', '0.050', '0.050', '65.60', '12.85', '12.80', '16.40', '50.00', '0.70', '31.40', '2.25', '11.30', '17.25', '3.25', '19.75', '7.75', '0.15', '13.85', '0.050', '37.70', '8.15', '19.65', '2.60', '3.80', '0.20', '0.10', '1.70', '1.05', '6.55', '0.80', '3.05', '47.00', '0.40', '0.20', '0.15', '0.25']\n"
     ]
    }
   ],
   "source": [
    "df2 = []\n",
    "for i in df.increase:\n",
    "    df2.append(i.replace(\"₹\", \"\").replace('+', ''))\n",
    "print(df2)"
   ],
   "metadata": {
    "collapsed": false,
    "pycharm": {
     "name": "#%%\n"
    }
   }
  },
  {
   "cell_type": "code",
   "execution_count": 5,
   "outputs": [],
   "source": [
    "df['increase']=df2"
   ],
   "metadata": {
    "collapsed": false,
    "pycharm": {
     "name": "#%%\n"
    }
   }
  },
  {
   "cell_type": "code",
   "execution_count": 6,
   "outputs": [],
   "source": [
    "df['increase']=df['increase'].astype('float')"
   ],
   "metadata": {
    "collapsed": false,
    "pycharm": {
     "name": "#%%\n"
    }
   }
  },
  {
   "cell_type": "code",
   "execution_count": 7,
   "outputs": [
    {
     "data": {
      "text/plain": "                                     name    price  increase pseincre\n0                   Sanwaria Consumer Ltd     0.40      0.05   14.29%\n1                                 GFL Ltd   102.00     11.65   12.89%\n2                              Nureca Ltd   375.25     40.40   12.07%\n3           Jaiprakash Associates Limited    16.70      1.60   10.60%\n4                               Mazda Ltd  1369.00    124.85   10.03%\n5             TGB Banquets and Hotels Ltd    11.75      1.05    9.81%\n6   Bombay Burmah Trading Corporation Ltd  1477.80    123.95    9.16%\n7   Advani Hotels and Resorts (India) Ltd   107.30      8.90    9.04%\n8           Geojit Financial Services Ltd    65.30      5.35    8.92%\n9                Apollo Micro Systems Ltd    99.40      8.00    8.75%\n10                      Orbit Exports Ltd   210.20     16.85    8.71%\n11            Rattanindia Enterprises Ltd    56.05      4.35    8.41%\n12                     Vishal Fabrics Ltd    22.35      1.60    7.71%\n13                   Parag Milk Foods Ltd   219.10     15.25    7.48%\n14      Goenka Diamond and Jewels Limited     0.75      0.05    7.14%\n15              AJR Infra and Tolling Ltd     0.75      0.05    7.14%\n16                 Future Enterprises Ltd     0.80      0.05    6.67%\n17                  Gravita India Limited  1060.75     65.60    6.59%\n18            Touchwood Entertainment Ltd   216.40     12.85    6.31%\n19      Zaggle Prepaid Ocean Services Ltd   219.50     12.80    6.19%\n20                 Plastiblends India Ltd   283.60     16.40    6.14%\n21         Elecon Engineering Company Ltd   894.00     50.00    5.92%\n22                      Vodafone Idea Ltd    12.55      0.70    5.91%\n23                          Birlasoft Ltd   579.05     31.40    5.73%\n24                Bharat Road Network Ltd    42.10      2.25    5.65%\n25                Pyramid Technoplast Ltd   219.45     11.30    5.43%\n26                  Minda Corporation Ltd   343.05     17.25    5.29%\n27                Paradeep Phosphates Ltd    64.70      3.25    5.29%\n28        Ajmera Realty & Infra India Ltd   399.55     19.75    5.20%\n29                  Himatsingka Seide Ltd   161.65      7.75    5.04%\n30                        TCI Finance Ltd     3.15      0.15    5.00%\n31              Kilitch Drugs (India) Ltd   290.85     13.85    5.00%\n32                  Shreeram Proteins Ltd     1.05      0.05    5.00%\n33                           Sky Gold Ltd   792.00     37.70    5.00%\n34                      Zodiac Energy Ltd   171.35      8.15    4.99%\n35                    Mangalam Cement Ltd   414.25     19.65    4.98%\n36                     Cubex Tubings Ltd.    55.10      2.60    4.95%\n37         Confidence Petroleum India Ltd    81.15      3.80    4.91%\n38                     JBF Industries Ltd     4.30      0.20    4.88%\n39                  Educomp Solutions Ltd     2.15      0.10    4.88%\n40                 MBL Infrastructure Ltd    36.65      1.70    4.86%\n41                    Adroit Infotech Ltd    22.65      1.05    4.86%\n42                     Maan Aluminium Ltd   143.00      6.55    4.80%\n43                              Vipul Ltd    17.65      0.80    4.75%\n44                   Balaji Telefilms Ltd    68.05      3.05    4.69%\n45   Motilal Oswal Financial Services Ltd  1085.05     47.00    4.53%\n46                   Reliance Capital Ltd     9.25      0.40    4.52%\n47                Ankit Metal & Power Ltd     4.65      0.20    4.49%\n48                      Vikas Ecotech Ltd     3.50      0.15    4.48%\n49                  Madhucon Projects Ltd     5.90      0.25    4.42%",
      "text/html": "<div>\n<style scoped>\n    .dataframe tbody tr th:only-of-type {\n        vertical-align: middle;\n    }\n\n    .dataframe tbody tr th {\n        vertical-align: top;\n    }\n\n    .dataframe thead th {\n        text-align: right;\n    }\n</style>\n<table border=\"1\" class=\"dataframe\">\n  <thead>\n    <tr style=\"text-align: right;\">\n      <th></th>\n      <th>name</th>\n      <th>price</th>\n      <th>increase</th>\n      <th>pseincre</th>\n    </tr>\n  </thead>\n  <tbody>\n    <tr>\n      <th>0</th>\n      <td>Sanwaria Consumer Ltd</td>\n      <td>0.40</td>\n      <td>0.05</td>\n      <td>14.29%</td>\n    </tr>\n    <tr>\n      <th>1</th>\n      <td>GFL Ltd</td>\n      <td>102.00</td>\n      <td>11.65</td>\n      <td>12.89%</td>\n    </tr>\n    <tr>\n      <th>2</th>\n      <td>Nureca Ltd</td>\n      <td>375.25</td>\n      <td>40.40</td>\n      <td>12.07%</td>\n    </tr>\n    <tr>\n      <th>3</th>\n      <td>Jaiprakash Associates Limited</td>\n      <td>16.70</td>\n      <td>1.60</td>\n      <td>10.60%</td>\n    </tr>\n    <tr>\n      <th>4</th>\n      <td>Mazda Ltd</td>\n      <td>1369.00</td>\n      <td>124.85</td>\n      <td>10.03%</td>\n    </tr>\n    <tr>\n      <th>5</th>\n      <td>TGB Banquets and Hotels Ltd</td>\n      <td>11.75</td>\n      <td>1.05</td>\n      <td>9.81%</td>\n    </tr>\n    <tr>\n      <th>6</th>\n      <td>Bombay Burmah Trading Corporation Ltd</td>\n      <td>1477.80</td>\n      <td>123.95</td>\n      <td>9.16%</td>\n    </tr>\n    <tr>\n      <th>7</th>\n      <td>Advani Hotels and Resorts (India) Ltd</td>\n      <td>107.30</td>\n      <td>8.90</td>\n      <td>9.04%</td>\n    </tr>\n    <tr>\n      <th>8</th>\n      <td>Geojit Financial Services Ltd</td>\n      <td>65.30</td>\n      <td>5.35</td>\n      <td>8.92%</td>\n    </tr>\n    <tr>\n      <th>9</th>\n      <td>Apollo Micro Systems Ltd</td>\n      <td>99.40</td>\n      <td>8.00</td>\n      <td>8.75%</td>\n    </tr>\n    <tr>\n      <th>10</th>\n      <td>Orbit Exports Ltd</td>\n      <td>210.20</td>\n      <td>16.85</td>\n      <td>8.71%</td>\n    </tr>\n    <tr>\n      <th>11</th>\n      <td>Rattanindia Enterprises Ltd</td>\n      <td>56.05</td>\n      <td>4.35</td>\n      <td>8.41%</td>\n    </tr>\n    <tr>\n      <th>12</th>\n      <td>Vishal Fabrics Ltd</td>\n      <td>22.35</td>\n      <td>1.60</td>\n      <td>7.71%</td>\n    </tr>\n    <tr>\n      <th>13</th>\n      <td>Parag Milk Foods Ltd</td>\n      <td>219.10</td>\n      <td>15.25</td>\n      <td>7.48%</td>\n    </tr>\n    <tr>\n      <th>14</th>\n      <td>Goenka Diamond and Jewels Limited</td>\n      <td>0.75</td>\n      <td>0.05</td>\n      <td>7.14%</td>\n    </tr>\n    <tr>\n      <th>15</th>\n      <td>AJR Infra and Tolling Ltd</td>\n      <td>0.75</td>\n      <td>0.05</td>\n      <td>7.14%</td>\n    </tr>\n    <tr>\n      <th>16</th>\n      <td>Future Enterprises Ltd</td>\n      <td>0.80</td>\n      <td>0.05</td>\n      <td>6.67%</td>\n    </tr>\n    <tr>\n      <th>17</th>\n      <td>Gravita India Limited</td>\n      <td>1060.75</td>\n      <td>65.60</td>\n      <td>6.59%</td>\n    </tr>\n    <tr>\n      <th>18</th>\n      <td>Touchwood Entertainment Ltd</td>\n      <td>216.40</td>\n      <td>12.85</td>\n      <td>6.31%</td>\n    </tr>\n    <tr>\n      <th>19</th>\n      <td>Zaggle Prepaid Ocean Services Ltd</td>\n      <td>219.50</td>\n      <td>12.80</td>\n      <td>6.19%</td>\n    </tr>\n    <tr>\n      <th>20</th>\n      <td>Plastiblends India Ltd</td>\n      <td>283.60</td>\n      <td>16.40</td>\n      <td>6.14%</td>\n    </tr>\n    <tr>\n      <th>21</th>\n      <td>Elecon Engineering Company Ltd</td>\n      <td>894.00</td>\n      <td>50.00</td>\n      <td>5.92%</td>\n    </tr>\n    <tr>\n      <th>22</th>\n      <td>Vodafone Idea Ltd</td>\n      <td>12.55</td>\n      <td>0.70</td>\n      <td>5.91%</td>\n    </tr>\n    <tr>\n      <th>23</th>\n      <td>Birlasoft Ltd</td>\n      <td>579.05</td>\n      <td>31.40</td>\n      <td>5.73%</td>\n    </tr>\n    <tr>\n      <th>24</th>\n      <td>Bharat Road Network Ltd</td>\n      <td>42.10</td>\n      <td>2.25</td>\n      <td>5.65%</td>\n    </tr>\n    <tr>\n      <th>25</th>\n      <td>Pyramid Technoplast Ltd</td>\n      <td>219.45</td>\n      <td>11.30</td>\n      <td>5.43%</td>\n    </tr>\n    <tr>\n      <th>26</th>\n      <td>Minda Corporation Ltd</td>\n      <td>343.05</td>\n      <td>17.25</td>\n      <td>5.29%</td>\n    </tr>\n    <tr>\n      <th>27</th>\n      <td>Paradeep Phosphates Ltd</td>\n      <td>64.70</td>\n      <td>3.25</td>\n      <td>5.29%</td>\n    </tr>\n    <tr>\n      <th>28</th>\n      <td>Ajmera Realty &amp; Infra India Ltd</td>\n      <td>399.55</td>\n      <td>19.75</td>\n      <td>5.20%</td>\n    </tr>\n    <tr>\n      <th>29</th>\n      <td>Himatsingka Seide Ltd</td>\n      <td>161.65</td>\n      <td>7.75</td>\n      <td>5.04%</td>\n    </tr>\n    <tr>\n      <th>30</th>\n      <td>TCI Finance Ltd</td>\n      <td>3.15</td>\n      <td>0.15</td>\n      <td>5.00%</td>\n    </tr>\n    <tr>\n      <th>31</th>\n      <td>Kilitch Drugs (India) Ltd</td>\n      <td>290.85</td>\n      <td>13.85</td>\n      <td>5.00%</td>\n    </tr>\n    <tr>\n      <th>32</th>\n      <td>Shreeram Proteins Ltd</td>\n      <td>1.05</td>\n      <td>0.05</td>\n      <td>5.00%</td>\n    </tr>\n    <tr>\n      <th>33</th>\n      <td>Sky Gold Ltd</td>\n      <td>792.00</td>\n      <td>37.70</td>\n      <td>5.00%</td>\n    </tr>\n    <tr>\n      <th>34</th>\n      <td>Zodiac Energy Ltd</td>\n      <td>171.35</td>\n      <td>8.15</td>\n      <td>4.99%</td>\n    </tr>\n    <tr>\n      <th>35</th>\n      <td>Mangalam Cement Ltd</td>\n      <td>414.25</td>\n      <td>19.65</td>\n      <td>4.98%</td>\n    </tr>\n    <tr>\n      <th>36</th>\n      <td>Cubex Tubings Ltd.</td>\n      <td>55.10</td>\n      <td>2.60</td>\n      <td>4.95%</td>\n    </tr>\n    <tr>\n      <th>37</th>\n      <td>Confidence Petroleum India Ltd</td>\n      <td>81.15</td>\n      <td>3.80</td>\n      <td>4.91%</td>\n    </tr>\n    <tr>\n      <th>38</th>\n      <td>JBF Industries Ltd</td>\n      <td>4.30</td>\n      <td>0.20</td>\n      <td>4.88%</td>\n    </tr>\n    <tr>\n      <th>39</th>\n      <td>Educomp Solutions Ltd</td>\n      <td>2.15</td>\n      <td>0.10</td>\n      <td>4.88%</td>\n    </tr>\n    <tr>\n      <th>40</th>\n      <td>MBL Infrastructure Ltd</td>\n      <td>36.65</td>\n      <td>1.70</td>\n      <td>4.86%</td>\n    </tr>\n    <tr>\n      <th>41</th>\n      <td>Adroit Infotech Ltd</td>\n      <td>22.65</td>\n      <td>1.05</td>\n      <td>4.86%</td>\n    </tr>\n    <tr>\n      <th>42</th>\n      <td>Maan Aluminium Ltd</td>\n      <td>143.00</td>\n      <td>6.55</td>\n      <td>4.80%</td>\n    </tr>\n    <tr>\n      <th>43</th>\n      <td>Vipul Ltd</td>\n      <td>17.65</td>\n      <td>0.80</td>\n      <td>4.75%</td>\n    </tr>\n    <tr>\n      <th>44</th>\n      <td>Balaji Telefilms Ltd</td>\n      <td>68.05</td>\n      <td>3.05</td>\n      <td>4.69%</td>\n    </tr>\n    <tr>\n      <th>45</th>\n      <td>Motilal Oswal Financial Services Ltd</td>\n      <td>1085.05</td>\n      <td>47.00</td>\n      <td>4.53%</td>\n    </tr>\n    <tr>\n      <th>46</th>\n      <td>Reliance Capital Ltd</td>\n      <td>9.25</td>\n      <td>0.40</td>\n      <td>4.52%</td>\n    </tr>\n    <tr>\n      <th>47</th>\n      <td>Ankit Metal &amp; Power Ltd</td>\n      <td>4.65</td>\n      <td>0.20</td>\n      <td>4.49%</td>\n    </tr>\n    <tr>\n      <th>48</th>\n      <td>Vikas Ecotech Ltd</td>\n      <td>3.50</td>\n      <td>0.15</td>\n      <td>4.48%</td>\n    </tr>\n    <tr>\n      <th>49</th>\n      <td>Madhucon Projects Ltd</td>\n      <td>5.90</td>\n      <td>0.25</td>\n      <td>4.42%</td>\n    </tr>\n  </tbody>\n</table>\n</div>"
     },
     "execution_count": 7,
     "metadata": {},
     "output_type": "execute_result"
    }
   ],
   "source": [
    "df"
   ],
   "metadata": {
    "collapsed": false,
    "pycharm": {
     "name": "#%%\n"
    }
   }
  },
  {
   "cell_type": "code",
   "execution_count": 8,
   "outputs": [],
   "source": [
    "df3=[]\n",
    "for i in df[\"pseincre\"]:\n",
    "    df3.append(float(i.replace('%','')))"
   ],
   "metadata": {
    "collapsed": false,
    "pycharm": {
     "name": "#%%\n"
    }
   }
  },
  {
   "cell_type": "code",
   "execution_count": 9,
   "outputs": [],
   "source": [
    "df['pseincre']=df3"
   ],
   "metadata": {
    "collapsed": false,
    "pycharm": {
     "name": "#%%\n"
    }
   }
  },
  {
   "cell_type": "code",
   "execution_count": 10,
   "outputs": [
    {
     "data": {
      "text/plain": "name         object\nprice       float64\nincrease    float64\npseincre    float64\ndtype: object"
     },
     "execution_count": 10,
     "metadata": {},
     "output_type": "execute_result"
    }
   ],
   "source": [
    "df.dtypes"
   ],
   "metadata": {
    "collapsed": false,
    "pycharm": {
     "name": "#%%\n"
    }
   }
  },
  {
   "cell_type": "code",
   "execution_count": 11,
   "outputs": [
    {
     "data": {
      "text/plain": "                                     name    price  increase  pseincre\n0                   Sanwaria Consumer Ltd     0.40      0.05     14.29\n1                                 GFL Ltd   102.00     11.65     12.89\n2                              Nureca Ltd   375.25     40.40     12.07\n3           Jaiprakash Associates Limited    16.70      1.60     10.60\n4                               Mazda Ltd  1369.00    124.85     10.03\n5             TGB Banquets and Hotels Ltd    11.75      1.05      9.81\n6   Bombay Burmah Trading Corporation Ltd  1477.80    123.95      9.16\n7   Advani Hotels and Resorts (India) Ltd   107.30      8.90      9.04\n8           Geojit Financial Services Ltd    65.30      5.35      8.92\n9                Apollo Micro Systems Ltd    99.40      8.00      8.75\n10                      Orbit Exports Ltd   210.20     16.85      8.71\n11            Rattanindia Enterprises Ltd    56.05      4.35      8.41\n12                     Vishal Fabrics Ltd    22.35      1.60      7.71\n13                   Parag Milk Foods Ltd   219.10     15.25      7.48\n14      Goenka Diamond and Jewels Limited     0.75      0.05      7.14\n15              AJR Infra and Tolling Ltd     0.75      0.05      7.14\n16                 Future Enterprises Ltd     0.80      0.05      6.67\n17                  Gravita India Limited  1060.75     65.60      6.59\n18            Touchwood Entertainment Ltd   216.40     12.85      6.31\n19      Zaggle Prepaid Ocean Services Ltd   219.50     12.80      6.19\n20                 Plastiblends India Ltd   283.60     16.40      6.14\n21         Elecon Engineering Company Ltd   894.00     50.00      5.92\n22                      Vodafone Idea Ltd    12.55      0.70      5.91\n23                          Birlasoft Ltd   579.05     31.40      5.73\n24                Bharat Road Network Ltd    42.10      2.25      5.65\n25                Pyramid Technoplast Ltd   219.45     11.30      5.43\n26                  Minda Corporation Ltd   343.05     17.25      5.29\n27                Paradeep Phosphates Ltd    64.70      3.25      5.29\n28        Ajmera Realty & Infra India Ltd   399.55     19.75      5.20\n29                  Himatsingka Seide Ltd   161.65      7.75      5.04\n30                        TCI Finance Ltd     3.15      0.15      5.00\n31              Kilitch Drugs (India) Ltd   290.85     13.85      5.00\n32                  Shreeram Proteins Ltd     1.05      0.05      5.00\n33                           Sky Gold Ltd   792.00     37.70      5.00\n34                      Zodiac Energy Ltd   171.35      8.15      4.99\n35                    Mangalam Cement Ltd   414.25     19.65      4.98\n36                     Cubex Tubings Ltd.    55.10      2.60      4.95\n37         Confidence Petroleum India Ltd    81.15      3.80      4.91\n38                     JBF Industries Ltd     4.30      0.20      4.88\n39                  Educomp Solutions Ltd     2.15      0.10      4.88\n40                 MBL Infrastructure Ltd    36.65      1.70      4.86\n41                    Adroit Infotech Ltd    22.65      1.05      4.86\n42                     Maan Aluminium Ltd   143.00      6.55      4.80\n43                              Vipul Ltd    17.65      0.80      4.75\n44                   Balaji Telefilms Ltd    68.05      3.05      4.69\n45   Motilal Oswal Financial Services Ltd  1085.05     47.00      4.53\n46                   Reliance Capital Ltd     9.25      0.40      4.52\n47                Ankit Metal & Power Ltd     4.65      0.20      4.49\n48                      Vikas Ecotech Ltd     3.50      0.15      4.48\n49                  Madhucon Projects Ltd     5.90      0.25      4.42",
      "text/html": "<div>\n<style scoped>\n    .dataframe tbody tr th:only-of-type {\n        vertical-align: middle;\n    }\n\n    .dataframe tbody tr th {\n        vertical-align: top;\n    }\n\n    .dataframe thead th {\n        text-align: right;\n    }\n</style>\n<table border=\"1\" class=\"dataframe\">\n  <thead>\n    <tr style=\"text-align: right;\">\n      <th></th>\n      <th>name</th>\n      <th>price</th>\n      <th>increase</th>\n      <th>pseincre</th>\n    </tr>\n  </thead>\n  <tbody>\n    <tr>\n      <th>0</th>\n      <td>Sanwaria Consumer Ltd</td>\n      <td>0.40</td>\n      <td>0.05</td>\n      <td>14.29</td>\n    </tr>\n    <tr>\n      <th>1</th>\n      <td>GFL Ltd</td>\n      <td>102.00</td>\n      <td>11.65</td>\n      <td>12.89</td>\n    </tr>\n    <tr>\n      <th>2</th>\n      <td>Nureca Ltd</td>\n      <td>375.25</td>\n      <td>40.40</td>\n      <td>12.07</td>\n    </tr>\n    <tr>\n      <th>3</th>\n      <td>Jaiprakash Associates Limited</td>\n      <td>16.70</td>\n      <td>1.60</td>\n      <td>10.60</td>\n    </tr>\n    <tr>\n      <th>4</th>\n      <td>Mazda Ltd</td>\n      <td>1369.00</td>\n      <td>124.85</td>\n      <td>10.03</td>\n    </tr>\n    <tr>\n      <th>5</th>\n      <td>TGB Banquets and Hotels Ltd</td>\n      <td>11.75</td>\n      <td>1.05</td>\n      <td>9.81</td>\n    </tr>\n    <tr>\n      <th>6</th>\n      <td>Bombay Burmah Trading Corporation Ltd</td>\n      <td>1477.80</td>\n      <td>123.95</td>\n      <td>9.16</td>\n    </tr>\n    <tr>\n      <th>7</th>\n      <td>Advani Hotels and Resorts (India) Ltd</td>\n      <td>107.30</td>\n      <td>8.90</td>\n      <td>9.04</td>\n    </tr>\n    <tr>\n      <th>8</th>\n      <td>Geojit Financial Services Ltd</td>\n      <td>65.30</td>\n      <td>5.35</td>\n      <td>8.92</td>\n    </tr>\n    <tr>\n      <th>9</th>\n      <td>Apollo Micro Systems Ltd</td>\n      <td>99.40</td>\n      <td>8.00</td>\n      <td>8.75</td>\n    </tr>\n    <tr>\n      <th>10</th>\n      <td>Orbit Exports Ltd</td>\n      <td>210.20</td>\n      <td>16.85</td>\n      <td>8.71</td>\n    </tr>\n    <tr>\n      <th>11</th>\n      <td>Rattanindia Enterprises Ltd</td>\n      <td>56.05</td>\n      <td>4.35</td>\n      <td>8.41</td>\n    </tr>\n    <tr>\n      <th>12</th>\n      <td>Vishal Fabrics Ltd</td>\n      <td>22.35</td>\n      <td>1.60</td>\n      <td>7.71</td>\n    </tr>\n    <tr>\n      <th>13</th>\n      <td>Parag Milk Foods Ltd</td>\n      <td>219.10</td>\n      <td>15.25</td>\n      <td>7.48</td>\n    </tr>\n    <tr>\n      <th>14</th>\n      <td>Goenka Diamond and Jewels Limited</td>\n      <td>0.75</td>\n      <td>0.05</td>\n      <td>7.14</td>\n    </tr>\n    <tr>\n      <th>15</th>\n      <td>AJR Infra and Tolling Ltd</td>\n      <td>0.75</td>\n      <td>0.05</td>\n      <td>7.14</td>\n    </tr>\n    <tr>\n      <th>16</th>\n      <td>Future Enterprises Ltd</td>\n      <td>0.80</td>\n      <td>0.05</td>\n      <td>6.67</td>\n    </tr>\n    <tr>\n      <th>17</th>\n      <td>Gravita India Limited</td>\n      <td>1060.75</td>\n      <td>65.60</td>\n      <td>6.59</td>\n    </tr>\n    <tr>\n      <th>18</th>\n      <td>Touchwood Entertainment Ltd</td>\n      <td>216.40</td>\n      <td>12.85</td>\n      <td>6.31</td>\n    </tr>\n    <tr>\n      <th>19</th>\n      <td>Zaggle Prepaid Ocean Services Ltd</td>\n      <td>219.50</td>\n      <td>12.80</td>\n      <td>6.19</td>\n    </tr>\n    <tr>\n      <th>20</th>\n      <td>Plastiblends India Ltd</td>\n      <td>283.60</td>\n      <td>16.40</td>\n      <td>6.14</td>\n    </tr>\n    <tr>\n      <th>21</th>\n      <td>Elecon Engineering Company Ltd</td>\n      <td>894.00</td>\n      <td>50.00</td>\n      <td>5.92</td>\n    </tr>\n    <tr>\n      <th>22</th>\n      <td>Vodafone Idea Ltd</td>\n      <td>12.55</td>\n      <td>0.70</td>\n      <td>5.91</td>\n    </tr>\n    <tr>\n      <th>23</th>\n      <td>Birlasoft Ltd</td>\n      <td>579.05</td>\n      <td>31.40</td>\n      <td>5.73</td>\n    </tr>\n    <tr>\n      <th>24</th>\n      <td>Bharat Road Network Ltd</td>\n      <td>42.10</td>\n      <td>2.25</td>\n      <td>5.65</td>\n    </tr>\n    <tr>\n      <th>25</th>\n      <td>Pyramid Technoplast Ltd</td>\n      <td>219.45</td>\n      <td>11.30</td>\n      <td>5.43</td>\n    </tr>\n    <tr>\n      <th>26</th>\n      <td>Minda Corporation Ltd</td>\n      <td>343.05</td>\n      <td>17.25</td>\n      <td>5.29</td>\n    </tr>\n    <tr>\n      <th>27</th>\n      <td>Paradeep Phosphates Ltd</td>\n      <td>64.70</td>\n      <td>3.25</td>\n      <td>5.29</td>\n    </tr>\n    <tr>\n      <th>28</th>\n      <td>Ajmera Realty &amp; Infra India Ltd</td>\n      <td>399.55</td>\n      <td>19.75</td>\n      <td>5.20</td>\n    </tr>\n    <tr>\n      <th>29</th>\n      <td>Himatsingka Seide Ltd</td>\n      <td>161.65</td>\n      <td>7.75</td>\n      <td>5.04</td>\n    </tr>\n    <tr>\n      <th>30</th>\n      <td>TCI Finance Ltd</td>\n      <td>3.15</td>\n      <td>0.15</td>\n      <td>5.00</td>\n    </tr>\n    <tr>\n      <th>31</th>\n      <td>Kilitch Drugs (India) Ltd</td>\n      <td>290.85</td>\n      <td>13.85</td>\n      <td>5.00</td>\n    </tr>\n    <tr>\n      <th>32</th>\n      <td>Shreeram Proteins Ltd</td>\n      <td>1.05</td>\n      <td>0.05</td>\n      <td>5.00</td>\n    </tr>\n    <tr>\n      <th>33</th>\n      <td>Sky Gold Ltd</td>\n      <td>792.00</td>\n      <td>37.70</td>\n      <td>5.00</td>\n    </tr>\n    <tr>\n      <th>34</th>\n      <td>Zodiac Energy Ltd</td>\n      <td>171.35</td>\n      <td>8.15</td>\n      <td>4.99</td>\n    </tr>\n    <tr>\n      <th>35</th>\n      <td>Mangalam Cement Ltd</td>\n      <td>414.25</td>\n      <td>19.65</td>\n      <td>4.98</td>\n    </tr>\n    <tr>\n      <th>36</th>\n      <td>Cubex Tubings Ltd.</td>\n      <td>55.10</td>\n      <td>2.60</td>\n      <td>4.95</td>\n    </tr>\n    <tr>\n      <th>37</th>\n      <td>Confidence Petroleum India Ltd</td>\n      <td>81.15</td>\n      <td>3.80</td>\n      <td>4.91</td>\n    </tr>\n    <tr>\n      <th>38</th>\n      <td>JBF Industries Ltd</td>\n      <td>4.30</td>\n      <td>0.20</td>\n      <td>4.88</td>\n    </tr>\n    <tr>\n      <th>39</th>\n      <td>Educomp Solutions Ltd</td>\n      <td>2.15</td>\n      <td>0.10</td>\n      <td>4.88</td>\n    </tr>\n    <tr>\n      <th>40</th>\n      <td>MBL Infrastructure Ltd</td>\n      <td>36.65</td>\n      <td>1.70</td>\n      <td>4.86</td>\n    </tr>\n    <tr>\n      <th>41</th>\n      <td>Adroit Infotech Ltd</td>\n      <td>22.65</td>\n      <td>1.05</td>\n      <td>4.86</td>\n    </tr>\n    <tr>\n      <th>42</th>\n      <td>Maan Aluminium Ltd</td>\n      <td>143.00</td>\n      <td>6.55</td>\n      <td>4.80</td>\n    </tr>\n    <tr>\n      <th>43</th>\n      <td>Vipul Ltd</td>\n      <td>17.65</td>\n      <td>0.80</td>\n      <td>4.75</td>\n    </tr>\n    <tr>\n      <th>44</th>\n      <td>Balaji Telefilms Ltd</td>\n      <td>68.05</td>\n      <td>3.05</td>\n      <td>4.69</td>\n    </tr>\n    <tr>\n      <th>45</th>\n      <td>Motilal Oswal Financial Services Ltd</td>\n      <td>1085.05</td>\n      <td>47.00</td>\n      <td>4.53</td>\n    </tr>\n    <tr>\n      <th>46</th>\n      <td>Reliance Capital Ltd</td>\n      <td>9.25</td>\n      <td>0.40</td>\n      <td>4.52</td>\n    </tr>\n    <tr>\n      <th>47</th>\n      <td>Ankit Metal &amp; Power Ltd</td>\n      <td>4.65</td>\n      <td>0.20</td>\n      <td>4.49</td>\n    </tr>\n    <tr>\n      <th>48</th>\n      <td>Vikas Ecotech Ltd</td>\n      <td>3.50</td>\n      <td>0.15</td>\n      <td>4.48</td>\n    </tr>\n    <tr>\n      <th>49</th>\n      <td>Madhucon Projects Ltd</td>\n      <td>5.90</td>\n      <td>0.25</td>\n      <td>4.42</td>\n    </tr>\n  </tbody>\n</table>\n</div>"
     },
     "execution_count": 11,
     "metadata": {},
     "output_type": "execute_result"
    }
   ],
   "source": [
    "df"
   ],
   "metadata": {
    "collapsed": false,
    "pycharm": {
     "name": "#%%\n"
    }
   }
  },
  {
   "cell_type": "code",
   "execution_count": 11,
   "outputs": [],
   "source": [],
   "metadata": {
    "collapsed": false,
    "pycharm": {
     "name": "#%%\n"
    }
   }
  }
 ],
 "metadata": {
  "kernelspec": {
   "display_name": "Python 3",
   "language": "python",
   "name": "python3"
  },
  "language_info": {
   "codemirror_mode": {
    "name": "ipython",
    "version": 2
   },
   "file_extension": ".py",
   "mimetype": "text/x-python",
   "name": "python",
   "nbconvert_exporter": "python",
   "pygments_lexer": "ipython2",
   "version": "2.7.6"
  }
 },
 "nbformat": 4,
 "nbformat_minor": 0
}