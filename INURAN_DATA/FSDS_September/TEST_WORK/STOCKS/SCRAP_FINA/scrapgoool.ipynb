{
 "cells": [
  {
   "cell_type": "code",
   "execution_count": 1,
   "metadata": {
    "collapsed": true,
    "pycharm": {
     "name": "#%%\n"
    }
   },
   "outputs": [
    {
     "name": "stdout",
     "output_type": "stream",
     "text": [
      "                                     name      price  increase pseincre\n",
      "0                    Bliss GVS Pharma Ltd     ₹98.95   +₹14.95   17.80%\n",
      "1       Solara Active Pharma Sciences Ltd    ₹346.55   +₹48.70   16.35%\n",
      "2                   Sanwaria Consumer Ltd      ₹0.40   +₹0.050   14.29%\n",
      "3               Jet Freight Logistics Ltd     ₹14.15    +₹1.70   13.65%\n",
      "4                     Windlas Biotech Ltd    ₹369.30   +₹35.55   10.65%\n",
      "5                                Sepc Ltd     ₹22.00    +₹2.00   10.00%\n",
      "6                    Kapston Services Ltd    ₹235.00   +₹21.35    9.99%\n",
      "7                     AMD Industries Ltd.     ₹78.35    +₹7.10    9.96%\n",
      "8        PTC India Financial Services Ltd     ₹30.40    +₹2.75    9.95%\n",
      "9                Tantia Constructions Ltd     ₹21.65    +₹1.95    9.90%\n",
      "10                           LT Foods Ltd    ₹183.90   +₹14.85    8.78%\n",
      "11                              Cupid Ltd    ₹677.60   +₹54.60    8.76%\n",
      "12               JK Tyre & Industries Ltd    ₹335.15   +₹27.00    8.76%\n",
      "13                            REC Limited    ₹306.75   +₹23.90    8.45%\n",
      "14                 Damodar Industries Ltd     ₹52.75    +₹4.05    8.32%\n",
      "15          Netweb Technologies India Ltd    ₹816.65   +₹59.20    7.82%\n",
      "16                         Arvind Limited    ₹204.10   +₹14.65    7.73%\n",
      "17               Cigniti Technologies Ltd  ₹1,109.00   +₹77.80    7.54%\n",
      "18  Khaitan Chemicals And Fertilizers Ltd     ₹68.60    +₹4.60    7.19%\n",
      "19              AJR Infra and Tolling Ltd      ₹0.75   +₹0.050    7.14%\n",
      "20                               KDDL Ltd  ₹2,469.70  +₹158.20    6.84%\n",
      "21                    Future Consumer Ltd      ₹0.80   +₹0.050    6.67%\n",
      "22      Goenka Diamond and Jewels Limited      ₹0.80   +₹0.050    6.67%\n",
      "23  Nagreeka Capital & Infrastructure Ltd     ₹18.50    +₹1.15    6.63%\n",
      "24                   Balaji Telefilms Ltd     ₹74.65    +₹4.55    6.49%\n",
      "25       Rategain Travel Technologies Ltd    ₹666.00   +₹39.95    6.38%\n",
      "26          Power Finance Corporation Ltd    ₹257.20   +₹15.00    6.19%\n",
      "27  Advani Hotels and Resorts (India) Ltd    ₹117.15    +₹6.80    6.16%\n",
      "28              Orissa Bengal Carrier Ltd     ₹66.00    +₹3.75    6.02%\n",
      "29                Xchanging Solutions Ltd     ₹93.85    +₹5.30    5.99%\n",
      "30    Sun Pharma Advanced Research Co Ltd    ₹242.45   +₹12.90    5.62%\n",
      "31                            Alankit Ltd     ₹10.45    +₹0.55    5.56%\n",
      "32             GTL Infrastructure Limited      ₹0.95   +₹0.050    5.56%\n",
      "33          Aarvee Denims and Exports Ltd     ₹25.90    +₹1.35    5.50%\n",
      "34                          PTC India Ltd    ₹144.60    +₹7.40    5.39%\n",
      "35                             Mukand Ltd    ₹164.20    +₹8.35    5.36%\n",
      "36                      Control Print Ltd    ₹882.80   +₹43.05    5.13%\n",
      "37                      VA Tech Wabag Ltd    ₹502.25   +₹24.40    5.11%\n",
      "38      Talbros Automotive Components Ltd    ₹229.80   +₹11.05    5.05%\n",
      "39                        TCI Finance Ltd      ₹3.15    +₹0.15    5.00%\n",
      "40                   Kshitij Polyline Ltd      ₹7.35    +₹0.35    5.00%\n",
      "41           Paramount Communications Ltd     ₹61.05    +₹2.90    4.99%\n",
      "42                Thomas Cook (India) Ltd    ₹142.45    +₹6.75    4.97%\n",
      "43                            Hubtown Ltd     ₹60.15    +₹2.85    4.97%\n",
      "44         Mangalam Global Enterprise Ltd     ₹16.95    +₹0.80    4.95%\n",
      "45                     Peninsula Land Ltd     ₹49.80    +₹2.35    4.95%\n",
      "46                   Byke Hospitality Ltd     ₹41.35    +₹1.95    4.95%\n",
      "47                HCL Infosystems Limited     ₹16.00    +₹0.75    4.92%\n",
      "48                 MBL Infrastructure Ltd     ₹38.45    +₹1.80    4.91%\n",
      "49               Jyoti Structures Limited     ₹11.80    +₹0.55    4.89%\n"
     ]
    }
   ],
   "source": [
    "from bs4 import BeautifulSoup as bs\n",
    "import requests as re\n",
    "import pandas as pd\n",
    "import numpy as np\n",
    "con=re.get('https://www.google.com/finance/markets/gainers?authuser=0').text\n",
    "soup=bs(con,'lxml')\n",
    "box=soup.find_all(\"li\")\n",
    "ue=[]\n",
    "name=[]\n",
    "price=[]\n",
    "increase=[]\n",
    "pseincre=[]\n",
    "for i in box:\n",
    "    name.append(i.find(\"div\",class_=\"ZvmM7\").text)\n",
    "    price.append(i.find(\"div\",class_=\"YMlKec\").text)\n",
    "    increase.append(i.find(\"span\",class_=\"P2Luy Ez2Ioe\").text)\n",
    "    pseincre.append(i.find(\"div\",class_=\"JwB6zf\").text)\n",
    "df=pd.DataFrame({\"name\":name,\"price\":price,\"increase\":increase,\"pseincre\":pseincre})\n",
    "print(df)"
   ]
  },
  {
   "cell_type": "code",
   "execution_count": 6,
   "outputs": [
    {
     "name": "stdout",
     "output_type": "stream",
     "text": [
      "['Vodafone Idea Ltd', 'Jaiprakash Power Ventures Limited', 'Jaiprakash Associates Limited', 'Indian Oil Corporation Ltd', 'Tata Steel Ltd', 'Yes Bank Limited', 'REC Limited', 'Indian Overseas Bank', 'Punjab National Bank', 'RattanIndia Power Ltd', 'Zomato Ltd', 'Reliance Power Ltd', 'Bajaj Hindusthan Sugar Ltd', 'SJVN Ltd', 'Suzlon Energy Ltd', 'Power Finance Corporation Ltd', 'Bank of Maharashtra Ltd', 'Union Bank of India Ltd', 'IFCI Ltd', 'Sepc Ltd', 'JK Tyre & Industries Ltd', 'South Indian Bank Ltd', 'UCO Bank', 'Indian Railway Finance Corp Ltd', 'Easy Trip Planners Ltd', 'Gujarat Mineral Development Corpn Ltd', 'PTC India Financial Services Ltd', 'IDFC First Bank Ltd', 'Central Bank of India Ltd', 'Ujjivan Small Finance Bank Ltd', 'Bank of India Ltd', 'Indus Towers Ltd', 'Hindustan Construction Company Ltd', 'Arvind Limited', 'Irb Infrastructure Developers Ltd', 'Gail (India) Ltd', 'IDBI Bank Ltd', 'Orient Green Power Company Ltd', 'Bharat Heavy Electricals Ltd', 'Minda Corporation Ltd', 'Apollo Micro Systems Ltd', 'NHPC Limited', 'LT Foods Ltd', 'Jio Financial Services Ltd', 'IDFC Ltd', 'NBCC (India) Ltd', 'Bank of Baroda Ltd', 'Vikas Lifecare Ltd', 'Dish TV India Ltd', 'KBC Global Ltd']\n"
     ]
    }
   ],
   "source": [
    "from bs4 import BeautifulSoup as bs\n",
    "import requests as re\n",
    "import pandas as pd\n",
    "import numpy as np\n",
    "con=re.get('https://www.google.com/finance/markets/most-active').text\n",
    "soup=bs(con,'lxml')\n",
    "box=soup.find_all(\"li\")\n",
    "ue=[]\n",
    "name=[]\n",
    "price=[]\n",
    "increase=[]\n",
    "pseincre=[]\n",
    "for i in box:\n",
    "    name.append(i.find(\"div\",class_=\"ZvmM7\").text)\n",
    "    # price.append(i.find(\"div\",class_=\"YMlKec\").text)\n",
    "    # increase.append(i.find(\"span\",class_=\"P2Luy Ez2Ioe\").text)\n",
    "    # pseincre.append(i.find(\"div\",class_=\"JwB6zf\").text)\n",
    "# df1=pd.DataFrame({\"name\":name,\"price\":price,\"increase\":increase,\"pseincre\":pseincre})\n",
    "# print(df1)\n",
    "print(name)"
   ],
   "metadata": {
    "collapsed": false,
    "pycharm": {
     "name": "#%%\n"
    }
   }
  },
  {
   "cell_type": "code",
   "execution_count": 7,
   "outputs": [],
   "source": [
    "ue=[]\n",
    "for i in name:\n",
    "    if i in df['name']:\n",
    "        ue.append(i)"
   ],
   "metadata": {
    "collapsed": false,
    "pycharm": {
     "name": "#%%\n"
    }
   }
  },
  {
   "cell_type": "code",
   "execution_count": 8,
   "outputs": [
    {
     "name": "stdout",
     "output_type": "stream",
     "text": [
      "[]\n"
     ]
    }
   ],
   "source": [
    "print(ue)"
   ],
   "metadata": {
    "collapsed": false,
    "pycharm": {
     "name": "#%%\n"
    }
   }
  },
  {
   "cell_type": "code",
   "execution_count": 9,
   "outputs": [
    {
     "data": {
      "text/plain": "0                      Bliss GVS Pharma Ltd\n1         Solara Active Pharma Sciences Ltd\n2                     Sanwaria Consumer Ltd\n3                 Jet Freight Logistics Ltd\n4                       Windlas Biotech Ltd\n5                                  Sepc Ltd\n6                      Kapston Services Ltd\n7                       AMD Industries Ltd.\n8          PTC India Financial Services Ltd\n9                  Tantia Constructions Ltd\n10                             LT Foods Ltd\n11                                Cupid Ltd\n12                 JK Tyre & Industries Ltd\n13                              REC Limited\n14                   Damodar Industries Ltd\n15            Netweb Technologies India Ltd\n16                           Arvind Limited\n17                 Cigniti Technologies Ltd\n18    Khaitan Chemicals And Fertilizers Ltd\n19                AJR Infra and Tolling Ltd\n20                                 KDDL Ltd\n21                      Future Consumer Ltd\n22        Goenka Diamond and Jewels Limited\n23    Nagreeka Capital & Infrastructure Ltd\n24                     Balaji Telefilms Ltd\n25         Rategain Travel Technologies Ltd\n26            Power Finance Corporation Ltd\n27    Advani Hotels and Resorts (India) Ltd\n28                Orissa Bengal Carrier Ltd\n29                  Xchanging Solutions Ltd\n30      Sun Pharma Advanced Research Co Ltd\n31                              Alankit Ltd\n32               GTL Infrastructure Limited\n33            Aarvee Denims and Exports Ltd\n34                            PTC India Ltd\n35                               Mukand Ltd\n36                        Control Print Ltd\n37                        VA Tech Wabag Ltd\n38        Talbros Automotive Components Ltd\n39                          TCI Finance Ltd\n40                     Kshitij Polyline Ltd\n41             Paramount Communications Ltd\n42                  Thomas Cook (India) Ltd\n43                              Hubtown Ltd\n44           Mangalam Global Enterprise Ltd\n45                       Peninsula Land Ltd\n46                     Byke Hospitality Ltd\n47                  HCL Infosystems Limited\n48                   MBL Infrastructure Ltd\n49                 Jyoti Structures Limited\nName: name, dtype: object"
     },
     "execution_count": 9,
     "metadata": {},
     "output_type": "execute_result"
    }
   ],
   "source": [
    "df['name']"
   ],
   "metadata": {
    "collapsed": false,
    "pycharm": {
     "name": "#%%\n"
    }
   }
  },
  {
   "cell_type": "code",
   "execution_count": 10,
   "outputs": [
    {
     "data": {
      "text/plain": "['Vodafone Idea Ltd',\n 'Jaiprakash Power Ventures Limited',\n 'Jaiprakash Associates Limited',\n 'Indian Oil Corporation Ltd',\n 'Tata Steel Ltd',\n 'Yes Bank Limited',\n 'REC Limited',\n 'Indian Overseas Bank',\n 'Punjab National Bank',\n 'RattanIndia Power Ltd',\n 'Zomato Ltd',\n 'Reliance Power Ltd',\n 'Bajaj Hindusthan Sugar Ltd',\n 'SJVN Ltd',\n 'Suzlon Energy Ltd',\n 'Power Finance Corporation Ltd',\n 'Bank of Maharashtra Ltd',\n 'Union Bank of India Ltd',\n 'IFCI Ltd',\n 'Sepc Ltd',\n 'JK Tyre & Industries Ltd',\n 'South Indian Bank Ltd',\n 'UCO Bank',\n 'Indian Railway Finance Corp Ltd',\n 'Easy Trip Planners Ltd',\n 'Gujarat Mineral Development Corpn Ltd',\n 'PTC India Financial Services Ltd',\n 'IDFC First Bank Ltd',\n 'Central Bank of India Ltd',\n 'Ujjivan Small Finance Bank Ltd',\n 'Bank of India Ltd',\n 'Indus Towers Ltd',\n 'Hindustan Construction Company Ltd',\n 'Arvind Limited',\n 'Irb Infrastructure Developers Ltd',\n 'Gail (India) Ltd',\n 'IDBI Bank Ltd',\n 'Orient Green Power Company Ltd',\n 'Bharat Heavy Electricals Ltd',\n 'Minda Corporation Ltd',\n 'Apollo Micro Systems Ltd',\n 'NHPC Limited',\n 'LT Foods Ltd',\n 'Jio Financial Services Ltd',\n 'IDFC Ltd',\n 'NBCC (India) Ltd',\n 'Bank of Baroda Ltd',\n 'Vikas Lifecare Ltd',\n 'Dish TV India Ltd',\n 'KBC Global Ltd']"
     },
     "execution_count": 10,
     "metadata": {},
     "output_type": "execute_result"
    }
   ],
   "source": [
    "name"
   ],
   "metadata": {
    "collapsed": false,
    "pycharm": {
     "name": "#%%\n"
    }
   }
  },
  {
   "cell_type": "code",
   "execution_count": null,
   "outputs": [],
   "source": [],
   "metadata": {
    "collapsed": false,
    "pycharm": {
     "name": "#%%\n"
    }
   }
  }
 ],
 "metadata": {
  "kernelspec": {
   "display_name": "Python 3",
   "language": "python",
   "name": "python3"
  },
  "language_info": {
   "codemirror_mode": {
    "name": "ipython",
    "version": 2
   },
   "file_extension": ".py",
   "mimetype": "text/x-python",
   "name": "python",
   "nbconvert_exporter": "python",
   "pygments_lexer": "ipython2",
   "version": "2.7.6"
  }
 },
 "nbformat": 4,
 "nbformat_minor": 0
}