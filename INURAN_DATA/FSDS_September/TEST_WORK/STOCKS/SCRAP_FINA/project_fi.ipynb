{
 "cells": [
  {
   "cell_type": "code",
   "execution_count": 84,
   "metadata": {
    "collapsed": true,
    "pycharm": {
     "name": "#%%\n"
    }
   },
   "outputs": [
    {
     "name": "stdout",
     "output_type": "stream",
     "text": [
      "                                        name      price  increase pseincre\n",
      "0   Cambridge Technology Enterprises Limited     ₹73.90   +₹12.30   19.97%\n",
      "1                   Apollo Micro Systems Ltd     ₹91.40   +₹15.20   19.95%\n",
      "2     North Eastern Carrying Corporation Ltd     ₹23.95    +₹3.20   15.42%\n",
      "3        Emkay Global Financial Services Ltd    ₹103.50   +₹13.60   15.13%\n",
      "4                          De Nora India Ltd  ₹1,778.80  +₹227.20   14.64%\n",
      "5                      Sanwaria Consumer Ltd      ₹0.40   +₹0.050   14.29%\n",
      "6                          Orbit Exports Ltd    ₹193.70   +₹23.90   14.08%\n",
      "7                         Sangam (India) Ltd    ₹311.25   +₹35.35   12.81%\n",
      "8                        MPS Infotecnics Ltd      ₹0.45   +₹0.050   12.50%\n",
      "9                       Sagardeep Alloys Ltd     ₹27.80    +₹2.80   11.20%\n",
      "10                          Weizmann Limited    ₹137.00   +₹13.30   10.75%\n",
      "11                       Centrum Capital Ltd     ₹24.60    +₹2.35   10.56%\n",
      "12                  Shekhawati Poly-Yarn Ltd      ₹0.55   +₹0.050   10.00%\n",
      "13                        Maan Aluminium Ltd    ₹136.45   +₹12.40   10.00%\n",
      "14  Fertilisers And Chemicals Travancore Ltd    ₹756.05   +₹68.70    9.99%\n",
      "15                    Repco Home Finance Ltd    ₹412.20   +₹37.45    9.99%\n",
      "16                                  NIIT Ltd    ₹127.85   +₹11.60    9.98%\n",
      "17                            Arvind Limited    ₹195.15   +₹16.95    9.51%\n",
      "18         Action Construction Equipment Ltd    ₹838.80   +₹70.25    9.14%\n",
      "19        Dynacons Systems and Solutions Ltd    ₹797.00   +₹64.60    8.82%\n",
      "20                                Shalby Ltd    ₹285.00   +₹21.65    8.22%\n",
      "21                        Sanghvi Movers Ltd    ₹735.00   +₹55.70    8.20%\n",
      "22                   Suven Life Sciences Ltd     ₹81.65    +₹6.15    8.15%\n",
      "23                                Ashima Ltd     ₹16.30    +₹1.20    7.95%\n",
      "24                  Cigniti Technologies Ltd  ₹1,034.00   +₹75.60    7.89%\n",
      "25                        Jindal Saw Limited    ₹444.80   +₹31.60    7.65%\n",
      "26                           DCX Systems Ltd    ₹293.15   +₹20.40    7.48%\n",
      "27                   Sanginita Chemicals Ltd     ₹24.95    +₹1.70    7.31%\n",
      "28   Mangalore Chemicals and Fertilisers Ltd    ₹111.50    +₹7.55    7.26%\n",
      "29                   Supreme Engineering Ltd      ₹0.75   +₹0.050    7.14%\n",
      "30                 AJR Infra and Tolling Ltd      ₹0.75   +₹0.050    7.14%\n",
      "31                       AMD Industries Ltd.     ₹68.30    +₹4.50    7.05%\n",
      "32                        Iris Clothings Ltd     ₹92.00    +₹5.95    6.91%\n",
      "33                        Lux Industries Ltd  ₹1,357.00   +₹85.20    6.70%\n",
      "34                           Nila Spaces Ltd      ₹3.20    +₹0.20    6.67%\n",
      "35                    Aditya Birla Money Ltd     ₹99.75    +₹6.10    6.51%\n",
      "36               Williamson Magor and Co Ltd     ₹26.20    +₹1.60    6.50%\n",
      "37                     Vindhya Telelinks Ltd  ₹2,454.40  +₹148.50    6.44%\n",
      "38               Pidilite Industries Limited  ₹2,460.00  +₹147.85    6.39%\n",
      "39                           Anmol India Ltd     ₹50.00    +₹3.00    6.38%\n",
      "40                       Triveni Turbine Ltd    ₹359.90   +₹21.20    6.26%\n",
      "41            Global Vectra Helicorp Limited     ₹97.45    +₹5.65    6.15%\n",
      "42           Industrial Investment Trust Ltd    ₹142.45    +₹8.10    6.03%\n",
      "43          Selan Exploration Technology Ltd    ₹443.00   +₹24.75    5.92%\n",
      "44                        BKM Industries Ltd      ₹0.90   +₹0.050    5.88%\n",
      "45                  Ortel Communications Ltd      ₹0.90   +₹0.050    5.88%\n",
      "46                Electronics Mart India Ltd    ₹187.40   +₹10.40    5.88%\n",
      "47   Central Depository Services (India) Ltd  ₹1,455.05   +₹80.70    5.87%\n",
      "48                        Vishal Fabrics Ltd     ₹20.80    +₹1.15    5.85%\n",
      "49                                  KDDL Ltd  ₹2,277.00  +₹124.10    5.76%\n"
     ]
    }
   ],
   "source": [
    "from bs4 import BeautifulSoup as bs\n",
    "import requests as re\n",
    "import pandas as pd\n",
    "import numpy as np\n",
    "con=re.get('https://www.google.com/finance/markets/gainers?authuser=0').text\n",
    "soup=bs(con,'lxml')\n",
    "box=soup.find_all(\"li\")\n",
    "ue=[]\n",
    "name=[]\n",
    "price=[]\n",
    "increase=[]\n",
    "pseincre=[]\n",
    "for i in box:\n",
    "    name.append(i.find(\"div\",class_=\"ZvmM7\").text)\n",
    "    price.append(i.find(\"div\",class_=\"YMlKec\").text)\n",
    "    increase.append(i.find(\"span\",class_=\"P2Luy Ez2Ioe\").text)\n",
    "    pseincre.append(i.find(\"div\",class_=\"JwB6zf\").text)\n",
    "df=pd.DataFrame({\"name\":name,\"price\":price,\"increase\":increase,\"pseincre\":pseincre})\n",
    "print(df)"
   ]
  },
  {
   "cell_type": "code",
   "execution_count": 2,
   "outputs": [
    {
     "data": {
      "text/plain": "                                       name      price  increase pseincre\n0  Cambridge Technology Enterprises Limited     ₹73.90   +₹12.30   19.97%\n1                  Apollo Micro Systems Ltd     ₹91.40   +₹15.20   19.95%\n2    North Eastern Carrying Corporation Ltd     ₹23.95    +₹3.20   15.42%\n3       Emkay Global Financial Services Ltd    ₹103.50   +₹13.60   15.13%\n4                         De Nora India Ltd  ₹1,778.80  +₹227.20   14.64%",
      "text/html": "<div>\n<style scoped>\n    .dataframe tbody tr th:only-of-type {\n        vertical-align: middle;\n    }\n\n    .dataframe tbody tr th {\n        vertical-align: top;\n    }\n\n    .dataframe thead th {\n        text-align: right;\n    }\n</style>\n<table border=\"1\" class=\"dataframe\">\n  <thead>\n    <tr style=\"text-align: right;\">\n      <th></th>\n      <th>name</th>\n      <th>price</th>\n      <th>increase</th>\n      <th>pseincre</th>\n    </tr>\n  </thead>\n  <tbody>\n    <tr>\n      <th>0</th>\n      <td>Cambridge Technology Enterprises Limited</td>\n      <td>₹73.90</td>\n      <td>+₹12.30</td>\n      <td>19.97%</td>\n    </tr>\n    <tr>\n      <th>1</th>\n      <td>Apollo Micro Systems Ltd</td>\n      <td>₹91.40</td>\n      <td>+₹15.20</td>\n      <td>19.95%</td>\n    </tr>\n    <tr>\n      <th>2</th>\n      <td>North Eastern Carrying Corporation Ltd</td>\n      <td>₹23.95</td>\n      <td>+₹3.20</td>\n      <td>15.42%</td>\n    </tr>\n    <tr>\n      <th>3</th>\n      <td>Emkay Global Financial Services Ltd</td>\n      <td>₹103.50</td>\n      <td>+₹13.60</td>\n      <td>15.13%</td>\n    </tr>\n    <tr>\n      <th>4</th>\n      <td>De Nora India Ltd</td>\n      <td>₹1,778.80</td>\n      <td>+₹227.20</td>\n      <td>14.64%</td>\n    </tr>\n  </tbody>\n</table>\n</div>"
     },
     "execution_count": 2,
     "metadata": {},
     "output_type": "execute_result"
    }
   ],
   "source": [
    "df.head()"
   ],
   "metadata": {
    "collapsed": false,
    "pycharm": {
     "name": "#%%\n"
    }
   }
  },
  {
   "cell_type": "code",
   "execution_count": 3,
   "outputs": [
    {
     "data": {
      "text/plain": "                                            name  price increase pseincre\ncount                                         50     50       50       50\nunique                                        50     48       44       45\ntop     Cambridge Technology Enterprises Limited  ₹0.90  +₹0.050    5.88%\nfreq                                           1      2        7        3",
      "text/html": "<div>\n<style scoped>\n    .dataframe tbody tr th:only-of-type {\n        vertical-align: middle;\n    }\n\n    .dataframe tbody tr th {\n        vertical-align: top;\n    }\n\n    .dataframe thead th {\n        text-align: right;\n    }\n</style>\n<table border=\"1\" class=\"dataframe\">\n  <thead>\n    <tr style=\"text-align: right;\">\n      <th></th>\n      <th>name</th>\n      <th>price</th>\n      <th>increase</th>\n      <th>pseincre</th>\n    </tr>\n  </thead>\n  <tbody>\n    <tr>\n      <th>count</th>\n      <td>50</td>\n      <td>50</td>\n      <td>50</td>\n      <td>50</td>\n    </tr>\n    <tr>\n      <th>unique</th>\n      <td>50</td>\n      <td>48</td>\n      <td>44</td>\n      <td>45</td>\n    </tr>\n    <tr>\n      <th>top</th>\n      <td>Cambridge Technology Enterprises Limited</td>\n      <td>₹0.90</td>\n      <td>+₹0.050</td>\n      <td>5.88%</td>\n    </tr>\n    <tr>\n      <th>freq</th>\n      <td>1</td>\n      <td>2</td>\n      <td>7</td>\n      <td>3</td>\n    </tr>\n  </tbody>\n</table>\n</div>"
     },
     "execution_count": 3,
     "metadata": {},
     "output_type": "execute_result"
    }
   ],
   "source": [
    "df.describe()"
   ],
   "metadata": {
    "collapsed": false,
    "pycharm": {
     "name": "#%%\n"
    }
   }
  },
  {
   "cell_type": "code",
   "execution_count": 4,
   "outputs": [
    {
     "data": {
      "text/plain": "name        0\nprice       0\nincrease    0\npseincre    0\ndtype: int64"
     },
     "execution_count": 4,
     "metadata": {},
     "output_type": "execute_result"
    }
   ],
   "source": [
    "df.isnull().sum()"
   ],
   "metadata": {
    "collapsed": false,
    "pycharm": {
     "name": "#%%\n"
    }
   }
  },
  {
   "cell_type": "code",
   "execution_count": null,
   "outputs": [],
   "source": [],
   "metadata": {
    "collapsed": false,
    "pycharm": {
     "name": "#%%\n"
    }
   }
  },
  {
   "cell_type": "code",
   "execution_count": 5,
   "outputs": [
    {
     "data": {
      "text/plain": "name        object\nprice       object\nincrease    object\npseincre    object\ndtype: object"
     },
     "execution_count": 5,
     "metadata": {},
     "output_type": "execute_result"
    }
   ],
   "source": [
    "df.dtypes"
   ],
   "metadata": {
    "collapsed": false,
    "pycharm": {
     "name": "#%%\n"
    }
   }
  },
  {
   "cell_type": "code",
   "execution_count": 12,
   "outputs": [
    {
     "name": "stdout",
     "output_type": "stream",
     "text": [
      "['73.90', '91.40', '23.95', '103.50', '1,778.80', '0.40', '193.70', '311.25', '0.45', '27.80', '137.00', '24.60', '0.55', '136.45', '756.05', '412.20', '127.85', '195.15', '838.80', '797.00', '285.00', '735.00', '81.65', '16.30', '1,034.00', '444.80', '293.15', '24.95', '111.50', '0.75', '0.75', '68.30', '92.00', '1,357.00', '3.20', '99.75', '26.20', '2,454.40', '2,460.00', '50.00', '359.90', '97.45', '142.45', '443.00', '0.90', '0.90', '187.40', '1,455.05', '20.80', '2,277.00']\n"
     ]
    }
   ],
   "source": [
    "df1=[]\n",
    "for i in df['price']:\n",
    "    a=i.split(\"₹\")\n",
    "\n",
    "    df1.append(a[1])\n",
    "print(df1)"
   ],
   "metadata": {
    "collapsed": false,
    "pycharm": {
     "name": "#%%\n"
    }
   }
  },
  {
   "cell_type": "code",
   "execution_count": 13,
   "outputs": [
    {
     "data": {
      "text/plain": "50"
     },
     "execution_count": 13,
     "metadata": {},
     "output_type": "execute_result"
    }
   ],
   "source": [
    "len(df1)"
   ],
   "metadata": {
    "collapsed": false,
    "pycharm": {
     "name": "#%%\n"
    }
   }
  },
  {
   "cell_type": "code",
   "execution_count": 24,
   "outputs": [
    {
     "data": {
      "text/plain": "'0.40'"
     },
     "execution_count": 24,
     "metadata": {},
     "output_type": "execute_result"
    }
   ],
   "source": [
    "df1[5]"
   ],
   "metadata": {
    "collapsed": false,
    "pycharm": {
     "name": "#%%\n"
    }
   }
  },
  {
   "cell_type": "code",
   "execution_count": 33,
   "outputs": [],
   "source": [
    "ad=df1[4].split(',')\n",
    "# print(\"\".join(df1[4]))"
   ],
   "metadata": {
    "collapsed": false,
    "pycharm": {
     "name": "#%%\n"
    }
   }
  },
  {
   "cell_type": "code",
   "execution_count": 34,
   "outputs": [
    {
     "data": {
      "text/plain": "'1'"
     },
     "execution_count": 34,
     "metadata": {},
     "output_type": "execute_result"
    }
   ],
   "source": [
    "ad[0]"
   ],
   "metadata": {
    "collapsed": false,
    "pycharm": {
     "name": "#%%\n"
    }
   }
  },
  {
   "cell_type": "code",
   "execution_count": 35,
   "outputs": [
    {
     "data": {
      "text/plain": "'778.80'"
     },
     "execution_count": 35,
     "metadata": {},
     "output_type": "execute_result"
    }
   ],
   "source": [
    "ad[1]"
   ],
   "metadata": {
    "collapsed": false,
    "pycharm": {
     "name": "#%%\n"
    }
   }
  },
  {
   "cell_type": "code",
   "execution_count": 36,
   "outputs": [
    {
     "name": "stdout",
     "output_type": "stream",
     "text": [
      "['73.90', '91.40', '23.95', '103.50', '1,778.80', '0.40', '193.70', '311.25', '0.45', '27.80', '137.00', '24.60', '0.55', '136.45', '756.05', '412.20', '127.85', '195.15', '838.80', '797.00', '285.00', '735.00', '81.65', '16.30', '1,034.00', '444.80', '293.15', '24.95', '111.50', '0.75', '0.75', '68.30', '92.00', '1,357.00', '3.20', '99.75', '26.20', '2,454.40', '2,460.00', '50.00', '359.90', '97.45', '142.45', '443.00', '0.90', '0.90', '187.40', '1,455.05', '20.80', '2,277.00']\n"
     ]
    },
    {
     "data": {
      "text/plain": "(1, 778.8)"
     },
     "execution_count": 36,
     "metadata": {},
     "output_type": "execute_result"
    }
   ],
   "source": [
    "print(df1)\n",
    "1,778.80"
   ],
   "metadata": {
    "collapsed": false,
    "pycharm": {
     "name": "#%%\n"
    }
   }
  },
  {
   "cell_type": "code",
   "execution_count": 38,
   "outputs": [
    {
     "data": {
      "text/plain": "'1778.80'"
     },
     "execution_count": 38,
     "metadata": {},
     "output_type": "execute_result"
    }
   ],
   "source": [
    "df1[4].replace(',','')"
   ],
   "metadata": {
    "collapsed": false,
    "pycharm": {
     "name": "#%%\n"
    }
   }
  },
  {
   "cell_type": "code",
   "execution_count": 40,
   "outputs": [
    {
     "name": "stdout",
     "output_type": "stream",
     "text": [
      "[73.9, 91.4, 23.95, 103.5, 1778.8, 0.4, 193.7, 311.25, 0.45, 27.8, 137.0, 24.6, 0.55, 136.45, 756.05, 412.2, 127.85, 195.15, 838.8, 797.0, 285.0, 735.0, 81.65, 16.3, 1034.0, 444.8, 293.15, 24.95, 111.5, 0.75, 0.75, 68.3, 92.0, 1357.0, 3.2, 99.75, 26.2, 2454.4, 2460.0, 50.0, 359.9, 97.45, 142.45, 443.0, 0.9, 0.9, 187.4, 1455.05, 20.8, 2277.0]\n"
     ]
    }
   ],
   "source": [
    "df2=[]\n",
    "for i in df1.price:\n",
    "    df2.append(float(i.replace(',','')))\n",
    "print(df2)"
   ],
   "metadata": {
    "collapsed": false,
    "pycharm": {
     "name": "#%%\n"
    }
   }
  },
  {
   "cell_type": "code",
   "execution_count": 41,
   "outputs": [
    {
     "data": {
      "text/plain": "0        ₹73.90\n1        ₹91.40\n2        ₹23.95\n3       ₹103.50\n4     ₹1,778.80\n5         ₹0.40\n6       ₹193.70\n7       ₹311.25\n8         ₹0.45\n9        ₹27.80\n10      ₹137.00\n11       ₹24.60\n12        ₹0.55\n13      ₹136.45\n14      ₹756.05\n15      ₹412.20\n16      ₹127.85\n17      ₹195.15\n18      ₹838.80\n19      ₹797.00\n20      ₹285.00\n21      ₹735.00\n22       ₹81.65\n23       ₹16.30\n24    ₹1,034.00\n25      ₹444.80\n26      ₹293.15\n27       ₹24.95\n28      ₹111.50\n29        ₹0.75\n30        ₹0.75\n31       ₹68.30\n32       ₹92.00\n33    ₹1,357.00\n34        ₹3.20\n35       ₹99.75\n36       ₹26.20\n37    ₹2,454.40\n38    ₹2,460.00\n39       ₹50.00\n40      ₹359.90\n41       ₹97.45\n42      ₹142.45\n43      ₹443.00\n44        ₹0.90\n45        ₹0.90\n46      ₹187.40\n47    ₹1,455.05\n48       ₹20.80\n49    ₹2,277.00\nName: price, dtype: object"
     },
     "execution_count": 41,
     "metadata": {},
     "output_type": "execute_result"
    }
   ],
   "source": [],
   "metadata": {
    "collapsed": false,
    "pycharm": {
     "name": "#%%\n"
    }
   }
  },
  {
   "cell_type": "code",
   "execution_count": 42,
   "outputs": [
    {
     "data": {
      "text/plain": "                                       name      price  increase pseincre\n0  Cambridge Technology Enterprises Limited     ₹73.90   +₹12.30   19.97%\n1                  Apollo Micro Systems Ltd     ₹91.40   +₹15.20   19.95%\n2    North Eastern Carrying Corporation Ltd     ₹23.95    +₹3.20   15.42%\n3       Emkay Global Financial Services Ltd    ₹103.50   +₹13.60   15.13%\n4                         De Nora India Ltd  ₹1,778.80  +₹227.20   14.64%",
      "text/html": "<div>\n<style scoped>\n    .dataframe tbody tr th:only-of-type {\n        vertical-align: middle;\n    }\n\n    .dataframe tbody tr th {\n        vertical-align: top;\n    }\n\n    .dataframe thead th {\n        text-align: right;\n    }\n</style>\n<table border=\"1\" class=\"dataframe\">\n  <thead>\n    <tr style=\"text-align: right;\">\n      <th></th>\n      <th>name</th>\n      <th>price</th>\n      <th>increase</th>\n      <th>pseincre</th>\n    </tr>\n  </thead>\n  <tbody>\n    <tr>\n      <th>0</th>\n      <td>Cambridge Technology Enterprises Limited</td>\n      <td>₹73.90</td>\n      <td>+₹12.30</td>\n      <td>19.97%</td>\n    </tr>\n    <tr>\n      <th>1</th>\n      <td>Apollo Micro Systems Ltd</td>\n      <td>₹91.40</td>\n      <td>+₹15.20</td>\n      <td>19.95%</td>\n    </tr>\n    <tr>\n      <th>2</th>\n      <td>North Eastern Carrying Corporation Ltd</td>\n      <td>₹23.95</td>\n      <td>+₹3.20</td>\n      <td>15.42%</td>\n    </tr>\n    <tr>\n      <th>3</th>\n      <td>Emkay Global Financial Services Ltd</td>\n      <td>₹103.50</td>\n      <td>+₹13.60</td>\n      <td>15.13%</td>\n    </tr>\n    <tr>\n      <th>4</th>\n      <td>De Nora India Ltd</td>\n      <td>₹1,778.80</td>\n      <td>+₹227.20</td>\n      <td>14.64%</td>\n    </tr>\n  </tbody>\n</table>\n</div>"
     },
     "execution_count": 42,
     "metadata": {},
     "output_type": "execute_result"
    }
   ],
   "source": [
    "df.head()"
   ],
   "metadata": {
    "collapsed": false,
    "pycharm": {
     "name": "#%%\n"
    }
   }
  },
  {
   "cell_type": "code",
   "execution_count": 43,
   "outputs": [
    {
     "name": "stdout",
     "output_type": "stream",
     "text": [
      "0\n",
      "1\n",
      "2\n",
      "3\n",
      "4\n",
      "5\n",
      "6\n",
      "7\n",
      "8\n",
      "9\n"
     ]
    }
   ],
   "source": [
    "for i in range(10):\n",
    "    print(i)"
   ],
   "metadata": {
    "collapsed": false,
    "pycharm": {
     "name": "#%%\n"
    }
   }
  },
  {
   "cell_type": "code",
   "execution_count": 44,
   "outputs": [],
   "source": [
    "def nem(x):\n",
    "    x.replace('₹','')\n",
    "    x.replace(',','')\n",
    "    return x"
   ],
   "metadata": {
    "collapsed": false,
    "pycharm": {
     "name": "#%%\n"
    }
   }
  },
  {
   "cell_type": "code",
   "execution_count": 45,
   "outputs": [],
   "source": [
    "df3=df.price"
   ],
   "metadata": {
    "collapsed": false,
    "pycharm": {
     "name": "#%%\n"
    }
   }
  },
  {
   "cell_type": "code",
   "execution_count": 46,
   "outputs": [
    {
     "data": {
      "text/plain": "0        ₹73.90\n1        ₹91.40\n2        ₹23.95\n3       ₹103.50\n4     ₹1,778.80\n5         ₹0.40\n6       ₹193.70\n7       ₹311.25\n8         ₹0.45\n9        ₹27.80\n10      ₹137.00\n11       ₹24.60\n12        ₹0.55\n13      ₹136.45\n14      ₹756.05\n15      ₹412.20\n16      ₹127.85\n17      ₹195.15\n18      ₹838.80\n19      ₹797.00\n20      ₹285.00\n21      ₹735.00\n22       ₹81.65\n23       ₹16.30\n24    ₹1,034.00\n25      ₹444.80\n26      ₹293.15\n27       ₹24.95\n28      ₹111.50\n29        ₹0.75\n30        ₹0.75\n31       ₹68.30\n32       ₹92.00\n33    ₹1,357.00\n34        ₹3.20\n35       ₹99.75\n36       ₹26.20\n37    ₹2,454.40\n38    ₹2,460.00\n39       ₹50.00\n40      ₹359.90\n41       ₹97.45\n42      ₹142.45\n43      ₹443.00\n44        ₹0.90\n45        ₹0.90\n46      ₹187.40\n47    ₹1,455.05\n48       ₹20.80\n49    ₹2,277.00\nName: price, dtype: object"
     },
     "execution_count": 46,
     "metadata": {},
     "output_type": "execute_result"
    }
   ],
   "source": [
    "df3"
   ],
   "metadata": {
    "collapsed": false,
    "pycharm": {
     "name": "#%%\n"
    }
   }
  },
  {
   "cell_type": "code",
   "execution_count": 49,
   "outputs": [],
   "source": [
    "df31=df3.apply(nem)"
   ],
   "metadata": {
    "collapsed": false,
    "pycharm": {
     "name": "#%%\n"
    }
   }
  },
  {
   "cell_type": "code",
   "execution_count": 50,
   "outputs": [
    {
     "data": {
      "text/plain": "0        ₹73.90\n1        ₹91.40\n2        ₹23.95\n3       ₹103.50\n4     ₹1,778.80\n5         ₹0.40\n6       ₹193.70\n7       ₹311.25\n8         ₹0.45\n9        ₹27.80\n10      ₹137.00\n11       ₹24.60\n12        ₹0.55\n13      ₹136.45\n14      ₹756.05\n15      ₹412.20\n16      ₹127.85\n17      ₹195.15\n18      ₹838.80\n19      ₹797.00\n20      ₹285.00\n21      ₹735.00\n22       ₹81.65\n23       ₹16.30\n24    ₹1,034.00\n25      ₹444.80\n26      ₹293.15\n27       ₹24.95\n28      ₹111.50\n29        ₹0.75\n30        ₹0.75\n31       ₹68.30\n32       ₹92.00\n33    ₹1,357.00\n34        ₹3.20\n35       ₹99.75\n36       ₹26.20\n37    ₹2,454.40\n38    ₹2,460.00\n39       ₹50.00\n40      ₹359.90\n41       ₹97.45\n42      ₹142.45\n43      ₹443.00\n44        ₹0.90\n45        ₹0.90\n46      ₹187.40\n47    ₹1,455.05\n48       ₹20.80\n49    ₹2,277.00\nName: price, dtype: object"
     },
     "execution_count": 50,
     "metadata": {},
     "output_type": "execute_result"
    }
   ],
   "source": [
    "df3"
   ],
   "metadata": {
    "collapsed": false,
    "pycharm": {
     "name": "#%%\n"
    }
   }
  },
  {
   "cell_type": "code",
   "execution_count": 85,
   "outputs": [],
   "source": [
    "df2=[]\n",
    "for i in df.price:\n",
    "    a=i.replace('₹','')\n",
    "    b=a.replace(',','')\n",
    "    df2.append(float(b))"
   ],
   "metadata": {
    "collapsed": false,
    "pycharm": {
     "name": "#%%\n"
    }
   }
  },
  {
   "cell_type": "code",
   "execution_count": 86,
   "outputs": [
    {
     "data": {
      "text/plain": "[73.9,\n 91.4,\n 23.95,\n 103.5,\n 1778.8,\n 0.4,\n 193.7,\n 311.25,\n 0.45,\n 27.8,\n 137.0,\n 24.6,\n 0.55,\n 136.45,\n 756.05,\n 412.2,\n 127.85,\n 195.15,\n 838.8,\n 797.0,\n 285.0,\n 735.0,\n 81.65,\n 16.3,\n 1034.0,\n 444.8,\n 293.15,\n 24.95,\n 111.5,\n 0.75,\n 0.75,\n 68.3,\n 92.0,\n 1357.0,\n 3.2,\n 99.75,\n 26.2,\n 2454.4,\n 2460.0,\n 50.0,\n 359.9,\n 97.45,\n 142.45,\n 443.0,\n 0.9,\n 0.9,\n 187.4,\n 1455.05,\n 20.8,\n 2277.0]"
     },
     "execution_count": 86,
     "metadata": {},
     "output_type": "execute_result"
    }
   ],
   "source": [
    "df2"
   ],
   "metadata": {
    "collapsed": false,
    "pycharm": {
     "name": "#%%\n"
    }
   }
  },
  {
   "cell_type": "code",
   "execution_count": 60,
   "outputs": [
    {
     "data": {
      "text/plain": "50"
     },
     "execution_count": 60,
     "metadata": {},
     "output_type": "execute_result"
    }
   ],
   "source": [
    "len(df2)"
   ],
   "metadata": {
    "collapsed": false,
    "pycharm": {
     "name": "#%%\n"
    }
   }
  },
  {
   "cell_type": "code",
   "execution_count": 87,
   "outputs": [],
   "source": [
    "df[\"price\"]=df2"
   ],
   "metadata": {
    "collapsed": false,
    "pycharm": {
     "name": "#%%\n"
    }
   }
  },
  {
   "cell_type": "code",
   "execution_count": 88,
   "outputs": [
    {
     "data": {
      "text/plain": "                                        name    price  increase pseincre\n0   Cambridge Technology Enterprises Limited    73.90   +₹12.30   19.97%\n1                   Apollo Micro Systems Ltd    91.40   +₹15.20   19.95%\n2     North Eastern Carrying Corporation Ltd    23.95    +₹3.20   15.42%\n3        Emkay Global Financial Services Ltd   103.50   +₹13.60   15.13%\n4                          De Nora India Ltd  1778.80  +₹227.20   14.64%\n5                      Sanwaria Consumer Ltd     0.40   +₹0.050   14.29%\n6                          Orbit Exports Ltd   193.70   +₹23.90   14.08%\n7                         Sangam (India) Ltd   311.25   +₹35.35   12.81%\n8                        MPS Infotecnics Ltd     0.45   +₹0.050   12.50%\n9                       Sagardeep Alloys Ltd    27.80    +₹2.80   11.20%\n10                          Weizmann Limited   137.00   +₹13.30   10.75%\n11                       Centrum Capital Ltd    24.60    +₹2.35   10.56%\n12                  Shekhawati Poly-Yarn Ltd     0.55   +₹0.050   10.00%\n13                        Maan Aluminium Ltd   136.45   +₹12.40   10.00%\n14  Fertilisers And Chemicals Travancore Ltd   756.05   +₹68.70    9.99%\n15                    Repco Home Finance Ltd   412.20   +₹37.45    9.99%\n16                                  NIIT Ltd   127.85   +₹11.60    9.98%\n17                            Arvind Limited   195.15   +₹16.95    9.51%\n18         Action Construction Equipment Ltd   838.80   +₹70.25    9.14%\n19        Dynacons Systems and Solutions Ltd   797.00   +₹64.60    8.82%\n20                                Shalby Ltd   285.00   +₹21.65    8.22%\n21                        Sanghvi Movers Ltd   735.00   +₹55.70    8.20%\n22                   Suven Life Sciences Ltd    81.65    +₹6.15    8.15%\n23                                Ashima Ltd    16.30    +₹1.20    7.95%\n24                  Cigniti Technologies Ltd  1034.00   +₹75.60    7.89%\n25                        Jindal Saw Limited   444.80   +₹31.60    7.65%\n26                           DCX Systems Ltd   293.15   +₹20.40    7.48%\n27                   Sanginita Chemicals Ltd    24.95    +₹1.70    7.31%\n28   Mangalore Chemicals and Fertilisers Ltd   111.50    +₹7.55    7.26%\n29                   Supreme Engineering Ltd     0.75   +₹0.050    7.14%\n30                 AJR Infra and Tolling Ltd     0.75   +₹0.050    7.14%\n31                       AMD Industries Ltd.    68.30    +₹4.50    7.05%\n32                        Iris Clothings Ltd    92.00    +₹5.95    6.91%\n33                        Lux Industries Ltd  1357.00   +₹85.20    6.70%\n34                           Nila Spaces Ltd     3.20    +₹0.20    6.67%\n35                    Aditya Birla Money Ltd    99.75    +₹6.10    6.51%\n36               Williamson Magor and Co Ltd    26.20    +₹1.60    6.50%\n37                     Vindhya Telelinks Ltd  2454.40  +₹148.50    6.44%\n38               Pidilite Industries Limited  2460.00  +₹147.85    6.39%\n39                           Anmol India Ltd    50.00    +₹3.00    6.38%\n40                       Triveni Turbine Ltd   359.90   +₹21.20    6.26%\n41            Global Vectra Helicorp Limited    97.45    +₹5.65    6.15%\n42           Industrial Investment Trust Ltd   142.45    +₹8.10    6.03%\n43          Selan Exploration Technology Ltd   443.00   +₹24.75    5.92%\n44                        BKM Industries Ltd     0.90   +₹0.050    5.88%\n45                  Ortel Communications Ltd     0.90   +₹0.050    5.88%\n46                Electronics Mart India Ltd   187.40   +₹10.40    5.88%\n47   Central Depository Services (India) Ltd  1455.05   +₹80.70    5.87%\n48                        Vishal Fabrics Ltd    20.80    +₹1.15    5.85%\n49                                  KDDL Ltd  2277.00  +₹124.10    5.76%",
      "text/html": "<div>\n<style scoped>\n    .dataframe tbody tr th:only-of-type {\n        vertical-align: middle;\n    }\n\n    .dataframe tbody tr th {\n        vertical-align: top;\n    }\n\n    .dataframe thead th {\n        text-align: right;\n    }\n</style>\n<table border=\"1\" class=\"dataframe\">\n  <thead>\n    <tr style=\"text-align: right;\">\n      <th></th>\n      <th>name</th>\n      <th>price</th>\n      <th>increase</th>\n      <th>pseincre</th>\n    </tr>\n  </thead>\n  <tbody>\n    <tr>\n      <th>0</th>\n      <td>Cambridge Technology Enterprises Limited</td>\n      <td>73.90</td>\n      <td>+₹12.30</td>\n      <td>19.97%</td>\n    </tr>\n    <tr>\n      <th>1</th>\n      <td>Apollo Micro Systems Ltd</td>\n      <td>91.40</td>\n      <td>+₹15.20</td>\n      <td>19.95%</td>\n    </tr>\n    <tr>\n      <th>2</th>\n      <td>North Eastern Carrying Corporation Ltd</td>\n      <td>23.95</td>\n      <td>+₹3.20</td>\n      <td>15.42%</td>\n    </tr>\n    <tr>\n      <th>3</th>\n      <td>Emkay Global Financial Services Ltd</td>\n      <td>103.50</td>\n      <td>+₹13.60</td>\n      <td>15.13%</td>\n    </tr>\n    <tr>\n      <th>4</th>\n      <td>De Nora India Ltd</td>\n      <td>1778.80</td>\n      <td>+₹227.20</td>\n      <td>14.64%</td>\n    </tr>\n    <tr>\n      <th>5</th>\n      <td>Sanwaria Consumer Ltd</td>\n      <td>0.40</td>\n      <td>+₹0.050</td>\n      <td>14.29%</td>\n    </tr>\n    <tr>\n      <th>6</th>\n      <td>Orbit Exports Ltd</td>\n      <td>193.70</td>\n      <td>+₹23.90</td>\n      <td>14.08%</td>\n    </tr>\n    <tr>\n      <th>7</th>\n      <td>Sangam (India) Ltd</td>\n      <td>311.25</td>\n      <td>+₹35.35</td>\n      <td>12.81%</td>\n    </tr>\n    <tr>\n      <th>8</th>\n      <td>MPS Infotecnics Ltd</td>\n      <td>0.45</td>\n      <td>+₹0.050</td>\n      <td>12.50%</td>\n    </tr>\n    <tr>\n      <th>9</th>\n      <td>Sagardeep Alloys Ltd</td>\n      <td>27.80</td>\n      <td>+₹2.80</td>\n      <td>11.20%</td>\n    </tr>\n    <tr>\n      <th>10</th>\n      <td>Weizmann Limited</td>\n      <td>137.00</td>\n      <td>+₹13.30</td>\n      <td>10.75%</td>\n    </tr>\n    <tr>\n      <th>11</th>\n      <td>Centrum Capital Ltd</td>\n      <td>24.60</td>\n      <td>+₹2.35</td>\n      <td>10.56%</td>\n    </tr>\n    <tr>\n      <th>12</th>\n      <td>Shekhawati Poly-Yarn Ltd</td>\n      <td>0.55</td>\n      <td>+₹0.050</td>\n      <td>10.00%</td>\n    </tr>\n    <tr>\n      <th>13</th>\n      <td>Maan Aluminium Ltd</td>\n      <td>136.45</td>\n      <td>+₹12.40</td>\n      <td>10.00%</td>\n    </tr>\n    <tr>\n      <th>14</th>\n      <td>Fertilisers And Chemicals Travancore Ltd</td>\n      <td>756.05</td>\n      <td>+₹68.70</td>\n      <td>9.99%</td>\n    </tr>\n    <tr>\n      <th>15</th>\n      <td>Repco Home Finance Ltd</td>\n      <td>412.20</td>\n      <td>+₹37.45</td>\n      <td>9.99%</td>\n    </tr>\n    <tr>\n      <th>16</th>\n      <td>NIIT Ltd</td>\n      <td>127.85</td>\n      <td>+₹11.60</td>\n      <td>9.98%</td>\n    </tr>\n    <tr>\n      <th>17</th>\n      <td>Arvind Limited</td>\n      <td>195.15</td>\n      <td>+₹16.95</td>\n      <td>9.51%</td>\n    </tr>\n    <tr>\n      <th>18</th>\n      <td>Action Construction Equipment Ltd</td>\n      <td>838.80</td>\n      <td>+₹70.25</td>\n      <td>9.14%</td>\n    </tr>\n    <tr>\n      <th>19</th>\n      <td>Dynacons Systems and Solutions Ltd</td>\n      <td>797.00</td>\n      <td>+₹64.60</td>\n      <td>8.82%</td>\n    </tr>\n    <tr>\n      <th>20</th>\n      <td>Shalby Ltd</td>\n      <td>285.00</td>\n      <td>+₹21.65</td>\n      <td>8.22%</td>\n    </tr>\n    <tr>\n      <th>21</th>\n      <td>Sanghvi Movers Ltd</td>\n      <td>735.00</td>\n      <td>+₹55.70</td>\n      <td>8.20%</td>\n    </tr>\n    <tr>\n      <th>22</th>\n      <td>Suven Life Sciences Ltd</td>\n      <td>81.65</td>\n      <td>+₹6.15</td>\n      <td>8.15%</td>\n    </tr>\n    <tr>\n      <th>23</th>\n      <td>Ashima Ltd</td>\n      <td>16.30</td>\n      <td>+₹1.20</td>\n      <td>7.95%</td>\n    </tr>\n    <tr>\n      <th>24</th>\n      <td>Cigniti Technologies Ltd</td>\n      <td>1034.00</td>\n      <td>+₹75.60</td>\n      <td>7.89%</td>\n    </tr>\n    <tr>\n      <th>25</th>\n      <td>Jindal Saw Limited</td>\n      <td>444.80</td>\n      <td>+₹31.60</td>\n      <td>7.65%</td>\n    </tr>\n    <tr>\n      <th>26</th>\n      <td>DCX Systems Ltd</td>\n      <td>293.15</td>\n      <td>+₹20.40</td>\n      <td>7.48%</td>\n    </tr>\n    <tr>\n      <th>27</th>\n      <td>Sanginita Chemicals Ltd</td>\n      <td>24.95</td>\n      <td>+₹1.70</td>\n      <td>7.31%</td>\n    </tr>\n    <tr>\n      <th>28</th>\n      <td>Mangalore Chemicals and Fertilisers Ltd</td>\n      <td>111.50</td>\n      <td>+₹7.55</td>\n      <td>7.26%</td>\n    </tr>\n    <tr>\n      <th>29</th>\n      <td>Supreme Engineering Ltd</td>\n      <td>0.75</td>\n      <td>+₹0.050</td>\n      <td>7.14%</td>\n    </tr>\n    <tr>\n      <th>30</th>\n      <td>AJR Infra and Tolling Ltd</td>\n      <td>0.75</td>\n      <td>+₹0.050</td>\n      <td>7.14%</td>\n    </tr>\n    <tr>\n      <th>31</th>\n      <td>AMD Industries Ltd.</td>\n      <td>68.30</td>\n      <td>+₹4.50</td>\n      <td>7.05%</td>\n    </tr>\n    <tr>\n      <th>32</th>\n      <td>Iris Clothings Ltd</td>\n      <td>92.00</td>\n      <td>+₹5.95</td>\n      <td>6.91%</td>\n    </tr>\n    <tr>\n      <th>33</th>\n      <td>Lux Industries Ltd</td>\n      <td>1357.00</td>\n      <td>+₹85.20</td>\n      <td>6.70%</td>\n    </tr>\n    <tr>\n      <th>34</th>\n      <td>Nila Spaces Ltd</td>\n      <td>3.20</td>\n      <td>+₹0.20</td>\n      <td>6.67%</td>\n    </tr>\n    <tr>\n      <th>35</th>\n      <td>Aditya Birla Money Ltd</td>\n      <td>99.75</td>\n      <td>+₹6.10</td>\n      <td>6.51%</td>\n    </tr>\n    <tr>\n      <th>36</th>\n      <td>Williamson Magor and Co Ltd</td>\n      <td>26.20</td>\n      <td>+₹1.60</td>\n      <td>6.50%</td>\n    </tr>\n    <tr>\n      <th>37</th>\n      <td>Vindhya Telelinks Ltd</td>\n      <td>2454.40</td>\n      <td>+₹148.50</td>\n      <td>6.44%</td>\n    </tr>\n    <tr>\n      <th>38</th>\n      <td>Pidilite Industries Limited</td>\n      <td>2460.00</td>\n      <td>+₹147.85</td>\n      <td>6.39%</td>\n    </tr>\n    <tr>\n      <th>39</th>\n      <td>Anmol India Ltd</td>\n      <td>50.00</td>\n      <td>+₹3.00</td>\n      <td>6.38%</td>\n    </tr>\n    <tr>\n      <th>40</th>\n      <td>Triveni Turbine Ltd</td>\n      <td>359.90</td>\n      <td>+₹21.20</td>\n      <td>6.26%</td>\n    </tr>\n    <tr>\n      <th>41</th>\n      <td>Global Vectra Helicorp Limited</td>\n      <td>97.45</td>\n      <td>+₹5.65</td>\n      <td>6.15%</td>\n    </tr>\n    <tr>\n      <th>42</th>\n      <td>Industrial Investment Trust Ltd</td>\n      <td>142.45</td>\n      <td>+₹8.10</td>\n      <td>6.03%</td>\n    </tr>\n    <tr>\n      <th>43</th>\n      <td>Selan Exploration Technology Ltd</td>\n      <td>443.00</td>\n      <td>+₹24.75</td>\n      <td>5.92%</td>\n    </tr>\n    <tr>\n      <th>44</th>\n      <td>BKM Industries Ltd</td>\n      <td>0.90</td>\n      <td>+₹0.050</td>\n      <td>5.88%</td>\n    </tr>\n    <tr>\n      <th>45</th>\n      <td>Ortel Communications Ltd</td>\n      <td>0.90</td>\n      <td>+₹0.050</td>\n      <td>5.88%</td>\n    </tr>\n    <tr>\n      <th>46</th>\n      <td>Electronics Mart India Ltd</td>\n      <td>187.40</td>\n      <td>+₹10.40</td>\n      <td>5.88%</td>\n    </tr>\n    <tr>\n      <th>47</th>\n      <td>Central Depository Services (India) Ltd</td>\n      <td>1455.05</td>\n      <td>+₹80.70</td>\n      <td>5.87%</td>\n    </tr>\n    <tr>\n      <th>48</th>\n      <td>Vishal Fabrics Ltd</td>\n      <td>20.80</td>\n      <td>+₹1.15</td>\n      <td>5.85%</td>\n    </tr>\n    <tr>\n      <th>49</th>\n      <td>KDDL Ltd</td>\n      <td>2277.00</td>\n      <td>+₹124.10</td>\n      <td>5.76%</td>\n    </tr>\n  </tbody>\n</table>\n</div>"
     },
     "execution_count": 88,
     "metadata": {},
     "output_type": "execute_result"
    }
   ],
   "source": [
    "df"
   ],
   "metadata": {
    "collapsed": false,
    "pycharm": {
     "name": "#%%\n"
    }
   }
  },
  {
   "cell_type": "code",
   "execution_count": 63,
   "outputs": [],
   "source": [
    "def namereplece(x):\n",
    "    x.replace('₹','')\n",
    "    return x"
   ],
   "metadata": {
    "collapsed": false,
    "pycharm": {
     "name": "#%%\n"
    }
   }
  },
  {
   "cell_type": "code",
   "execution_count": 64,
   "outputs": [],
   "source": [
    "df['inc']=df['increase'].apply(namereplece)"
   ],
   "metadata": {
    "collapsed": false,
    "pycharm": {
     "name": "#%%\n"
    }
   }
  },
  {
   "cell_type": "code",
   "execution_count": 65,
   "outputs": [
    {
     "data": {
      "text/plain": "                                        name    price  increase pseincre  \\\n0   Cambridge Technology Enterprises Limited    73.90   +₹12.30   19.97%   \n1                   Apollo Micro Systems Ltd    91.40   +₹15.20   19.95%   \n2     North Eastern Carrying Corporation Ltd    23.95    +₹3.20   15.42%   \n3        Emkay Global Financial Services Ltd   103.50   +₹13.60   15.13%   \n4                          De Nora India Ltd  1778.80  +₹227.20   14.64%   \n5                      Sanwaria Consumer Ltd     0.40   +₹0.050   14.29%   \n6                          Orbit Exports Ltd   193.70   +₹23.90   14.08%   \n7                         Sangam (India) Ltd   311.25   +₹35.35   12.81%   \n8                        MPS Infotecnics Ltd     0.45   +₹0.050   12.50%   \n9                       Sagardeep Alloys Ltd    27.80    +₹2.80   11.20%   \n10                          Weizmann Limited   137.00   +₹13.30   10.75%   \n11                       Centrum Capital Ltd    24.60    +₹2.35   10.56%   \n12                  Shekhawati Poly-Yarn Ltd     0.55   +₹0.050   10.00%   \n13                        Maan Aluminium Ltd   136.45   +₹12.40   10.00%   \n14  Fertilisers And Chemicals Travancore Ltd   756.05   +₹68.70    9.99%   \n15                    Repco Home Finance Ltd   412.20   +₹37.45    9.99%   \n16                                  NIIT Ltd   127.85   +₹11.60    9.98%   \n17                            Arvind Limited   195.15   +₹16.95    9.51%   \n18         Action Construction Equipment Ltd   838.80   +₹70.25    9.14%   \n19        Dynacons Systems and Solutions Ltd   797.00   +₹64.60    8.82%   \n20                                Shalby Ltd   285.00   +₹21.65    8.22%   \n21                        Sanghvi Movers Ltd   735.00   +₹55.70    8.20%   \n22                   Suven Life Sciences Ltd    81.65    +₹6.15    8.15%   \n23                                Ashima Ltd    16.30    +₹1.20    7.95%   \n24                  Cigniti Technologies Ltd  1034.00   +₹75.60    7.89%   \n25                        Jindal Saw Limited   444.80   +₹31.60    7.65%   \n26                           DCX Systems Ltd   293.15   +₹20.40    7.48%   \n27                   Sanginita Chemicals Ltd    24.95    +₹1.70    7.31%   \n28   Mangalore Chemicals and Fertilisers Ltd   111.50    +₹7.55    7.26%   \n29                   Supreme Engineering Ltd     0.75   +₹0.050    7.14%   \n30                 AJR Infra and Tolling Ltd     0.75   +₹0.050    7.14%   \n31                       AMD Industries Ltd.    68.30    +₹4.50    7.05%   \n32                        Iris Clothings Ltd    92.00    +₹5.95    6.91%   \n33                        Lux Industries Ltd  1357.00   +₹85.20    6.70%   \n34                           Nila Spaces Ltd     3.20    +₹0.20    6.67%   \n35                    Aditya Birla Money Ltd    99.75    +₹6.10    6.51%   \n36               Williamson Magor and Co Ltd    26.20    +₹1.60    6.50%   \n37                     Vindhya Telelinks Ltd  2454.40  +₹148.50    6.44%   \n38               Pidilite Industries Limited  2460.00  +₹147.85    6.39%   \n39                           Anmol India Ltd    50.00    +₹3.00    6.38%   \n40                       Triveni Turbine Ltd   359.90   +₹21.20    6.26%   \n41            Global Vectra Helicorp Limited    97.45    +₹5.65    6.15%   \n42           Industrial Investment Trust Ltd   142.45    +₹8.10    6.03%   \n43          Selan Exploration Technology Ltd   443.00   +₹24.75    5.92%   \n44                        BKM Industries Ltd     0.90   +₹0.050    5.88%   \n45                  Ortel Communications Ltd     0.90   +₹0.050    5.88%   \n46                Electronics Mart India Ltd   187.40   +₹10.40    5.88%   \n47   Central Depository Services (India) Ltd  1455.05   +₹80.70    5.87%   \n48                        Vishal Fabrics Ltd    20.80    +₹1.15    5.85%   \n49                                  KDDL Ltd  2277.00  +₹124.10    5.76%   \n\n         inc  \n0    +₹12.30  \n1    +₹15.20  \n2     +₹3.20  \n3    +₹13.60  \n4   +₹227.20  \n5    +₹0.050  \n6    +₹23.90  \n7    +₹35.35  \n8    +₹0.050  \n9     +₹2.80  \n10   +₹13.30  \n11    +₹2.35  \n12   +₹0.050  \n13   +₹12.40  \n14   +₹68.70  \n15   +₹37.45  \n16   +₹11.60  \n17   +₹16.95  \n18   +₹70.25  \n19   +₹64.60  \n20   +₹21.65  \n21   +₹55.70  \n22    +₹6.15  \n23    +₹1.20  \n24   +₹75.60  \n25   +₹31.60  \n26   +₹20.40  \n27    +₹1.70  \n28    +₹7.55  \n29   +₹0.050  \n30   +₹0.050  \n31    +₹4.50  \n32    +₹5.95  \n33   +₹85.20  \n34    +₹0.20  \n35    +₹6.10  \n36    +₹1.60  \n37  +₹148.50  \n38  +₹147.85  \n39    +₹3.00  \n40   +₹21.20  \n41    +₹5.65  \n42    +₹8.10  \n43   +₹24.75  \n44   +₹0.050  \n45   +₹0.050  \n46   +₹10.40  \n47   +₹80.70  \n48    +₹1.15  \n49  +₹124.10  ",
      "text/html": "<div>\n<style scoped>\n    .dataframe tbody tr th:only-of-type {\n        vertical-align: middle;\n    }\n\n    .dataframe tbody tr th {\n        vertical-align: top;\n    }\n\n    .dataframe thead th {\n        text-align: right;\n    }\n</style>\n<table border=\"1\" class=\"dataframe\">\n  <thead>\n    <tr style=\"text-align: right;\">\n      <th></th>\n      <th>name</th>\n      <th>price</th>\n      <th>increase</th>\n      <th>pseincre</th>\n      <th>inc</th>\n    </tr>\n  </thead>\n  <tbody>\n    <tr>\n      <th>0</th>\n      <td>Cambridge Technology Enterprises Limited</td>\n      <td>73.90</td>\n      <td>+₹12.30</td>\n      <td>19.97%</td>\n      <td>+₹12.30</td>\n    </tr>\n    <tr>\n      <th>1</th>\n      <td>Apollo Micro Systems Ltd</td>\n      <td>91.40</td>\n      <td>+₹15.20</td>\n      <td>19.95%</td>\n      <td>+₹15.20</td>\n    </tr>\n    <tr>\n      <th>2</th>\n      <td>North Eastern Carrying Corporation Ltd</td>\n      <td>23.95</td>\n      <td>+₹3.20</td>\n      <td>15.42%</td>\n      <td>+₹3.20</td>\n    </tr>\n    <tr>\n      <th>3</th>\n      <td>Emkay Global Financial Services Ltd</td>\n      <td>103.50</td>\n      <td>+₹13.60</td>\n      <td>15.13%</td>\n      <td>+₹13.60</td>\n    </tr>\n    <tr>\n      <th>4</th>\n      <td>De Nora India Ltd</td>\n      <td>1778.80</td>\n      <td>+₹227.20</td>\n      <td>14.64%</td>\n      <td>+₹227.20</td>\n    </tr>\n    <tr>\n      <th>5</th>\n      <td>Sanwaria Consumer Ltd</td>\n      <td>0.40</td>\n      <td>+₹0.050</td>\n      <td>14.29%</td>\n      <td>+₹0.050</td>\n    </tr>\n    <tr>\n      <th>6</th>\n      <td>Orbit Exports Ltd</td>\n      <td>193.70</td>\n      <td>+₹23.90</td>\n      <td>14.08%</td>\n      <td>+₹23.90</td>\n    </tr>\n    <tr>\n      <th>7</th>\n      <td>Sangam (India) Ltd</td>\n      <td>311.25</td>\n      <td>+₹35.35</td>\n      <td>12.81%</td>\n      <td>+₹35.35</td>\n    </tr>\n    <tr>\n      <th>8</th>\n      <td>MPS Infotecnics Ltd</td>\n      <td>0.45</td>\n      <td>+₹0.050</td>\n      <td>12.50%</td>\n      <td>+₹0.050</td>\n    </tr>\n    <tr>\n      <th>9</th>\n      <td>Sagardeep Alloys Ltd</td>\n      <td>27.80</td>\n      <td>+₹2.80</td>\n      <td>11.20%</td>\n      <td>+₹2.80</td>\n    </tr>\n    <tr>\n      <th>10</th>\n      <td>Weizmann Limited</td>\n      <td>137.00</td>\n      <td>+₹13.30</td>\n      <td>10.75%</td>\n      <td>+₹13.30</td>\n    </tr>\n    <tr>\n      <th>11</th>\n      <td>Centrum Capital Ltd</td>\n      <td>24.60</td>\n      <td>+₹2.35</td>\n      <td>10.56%</td>\n      <td>+₹2.35</td>\n    </tr>\n    <tr>\n      <th>12</th>\n      <td>Shekhawati Poly-Yarn Ltd</td>\n      <td>0.55</td>\n      <td>+₹0.050</td>\n      <td>10.00%</td>\n      <td>+₹0.050</td>\n    </tr>\n    <tr>\n      <th>13</th>\n      <td>Maan Aluminium Ltd</td>\n      <td>136.45</td>\n      <td>+₹12.40</td>\n      <td>10.00%</td>\n      <td>+₹12.40</td>\n    </tr>\n    <tr>\n      <th>14</th>\n      <td>Fertilisers And Chemicals Travancore Ltd</td>\n      <td>756.05</td>\n      <td>+₹68.70</td>\n      <td>9.99%</td>\n      <td>+₹68.70</td>\n    </tr>\n    <tr>\n      <th>15</th>\n      <td>Repco Home Finance Ltd</td>\n      <td>412.20</td>\n      <td>+₹37.45</td>\n      <td>9.99%</td>\n      <td>+₹37.45</td>\n    </tr>\n    <tr>\n      <th>16</th>\n      <td>NIIT Ltd</td>\n      <td>127.85</td>\n      <td>+₹11.60</td>\n      <td>9.98%</td>\n      <td>+₹11.60</td>\n    </tr>\n    <tr>\n      <th>17</th>\n      <td>Arvind Limited</td>\n      <td>195.15</td>\n      <td>+₹16.95</td>\n      <td>9.51%</td>\n      <td>+₹16.95</td>\n    </tr>\n    <tr>\n      <th>18</th>\n      <td>Action Construction Equipment Ltd</td>\n      <td>838.80</td>\n      <td>+₹70.25</td>\n      <td>9.14%</td>\n      <td>+₹70.25</td>\n    </tr>\n    <tr>\n      <th>19</th>\n      <td>Dynacons Systems and Solutions Ltd</td>\n      <td>797.00</td>\n      <td>+₹64.60</td>\n      <td>8.82%</td>\n      <td>+₹64.60</td>\n    </tr>\n    <tr>\n      <th>20</th>\n      <td>Shalby Ltd</td>\n      <td>285.00</td>\n      <td>+₹21.65</td>\n      <td>8.22%</td>\n      <td>+₹21.65</td>\n    </tr>\n    <tr>\n      <th>21</th>\n      <td>Sanghvi Movers Ltd</td>\n      <td>735.00</td>\n      <td>+₹55.70</td>\n      <td>8.20%</td>\n      <td>+₹55.70</td>\n    </tr>\n    <tr>\n      <th>22</th>\n      <td>Suven Life Sciences Ltd</td>\n      <td>81.65</td>\n      <td>+₹6.15</td>\n      <td>8.15%</td>\n      <td>+₹6.15</td>\n    </tr>\n    <tr>\n      <th>23</th>\n      <td>Ashima Ltd</td>\n      <td>16.30</td>\n      <td>+₹1.20</td>\n      <td>7.95%</td>\n      <td>+₹1.20</td>\n    </tr>\n    <tr>\n      <th>24</th>\n      <td>Cigniti Technologies Ltd</td>\n      <td>1034.00</td>\n      <td>+₹75.60</td>\n      <td>7.89%</td>\n      <td>+₹75.60</td>\n    </tr>\n    <tr>\n      <th>25</th>\n      <td>Jindal Saw Limited</td>\n      <td>444.80</td>\n      <td>+₹31.60</td>\n      <td>7.65%</td>\n      <td>+₹31.60</td>\n    </tr>\n    <tr>\n      <th>26</th>\n      <td>DCX Systems Ltd</td>\n      <td>293.15</td>\n      <td>+₹20.40</td>\n      <td>7.48%</td>\n      <td>+₹20.40</td>\n    </tr>\n    <tr>\n      <th>27</th>\n      <td>Sanginita Chemicals Ltd</td>\n      <td>24.95</td>\n      <td>+₹1.70</td>\n      <td>7.31%</td>\n      <td>+₹1.70</td>\n    </tr>\n    <tr>\n      <th>28</th>\n      <td>Mangalore Chemicals and Fertilisers Ltd</td>\n      <td>111.50</td>\n      <td>+₹7.55</td>\n      <td>7.26%</td>\n      <td>+₹7.55</td>\n    </tr>\n    <tr>\n      <th>29</th>\n      <td>Supreme Engineering Ltd</td>\n      <td>0.75</td>\n      <td>+₹0.050</td>\n      <td>7.14%</td>\n      <td>+₹0.050</td>\n    </tr>\n    <tr>\n      <th>30</th>\n      <td>AJR Infra and Tolling Ltd</td>\n      <td>0.75</td>\n      <td>+₹0.050</td>\n      <td>7.14%</td>\n      <td>+₹0.050</td>\n    </tr>\n    <tr>\n      <th>31</th>\n      <td>AMD Industries Ltd.</td>\n      <td>68.30</td>\n      <td>+₹4.50</td>\n      <td>7.05%</td>\n      <td>+₹4.50</td>\n    </tr>\n    <tr>\n      <th>32</th>\n      <td>Iris Clothings Ltd</td>\n      <td>92.00</td>\n      <td>+₹5.95</td>\n      <td>6.91%</td>\n      <td>+₹5.95</td>\n    </tr>\n    <tr>\n      <th>33</th>\n      <td>Lux Industries Ltd</td>\n      <td>1357.00</td>\n      <td>+₹85.20</td>\n      <td>6.70%</td>\n      <td>+₹85.20</td>\n    </tr>\n    <tr>\n      <th>34</th>\n      <td>Nila Spaces Ltd</td>\n      <td>3.20</td>\n      <td>+₹0.20</td>\n      <td>6.67%</td>\n      <td>+₹0.20</td>\n    </tr>\n    <tr>\n      <th>35</th>\n      <td>Aditya Birla Money Ltd</td>\n      <td>99.75</td>\n      <td>+₹6.10</td>\n      <td>6.51%</td>\n      <td>+₹6.10</td>\n    </tr>\n    <tr>\n      <th>36</th>\n      <td>Williamson Magor and Co Ltd</td>\n      <td>26.20</td>\n      <td>+₹1.60</td>\n      <td>6.50%</td>\n      <td>+₹1.60</td>\n    </tr>\n    <tr>\n      <th>37</th>\n      <td>Vindhya Telelinks Ltd</td>\n      <td>2454.40</td>\n      <td>+₹148.50</td>\n      <td>6.44%</td>\n      <td>+₹148.50</td>\n    </tr>\n    <tr>\n      <th>38</th>\n      <td>Pidilite Industries Limited</td>\n      <td>2460.00</td>\n      <td>+₹147.85</td>\n      <td>6.39%</td>\n      <td>+₹147.85</td>\n    </tr>\n    <tr>\n      <th>39</th>\n      <td>Anmol India Ltd</td>\n      <td>50.00</td>\n      <td>+₹3.00</td>\n      <td>6.38%</td>\n      <td>+₹3.00</td>\n    </tr>\n    <tr>\n      <th>40</th>\n      <td>Triveni Turbine Ltd</td>\n      <td>359.90</td>\n      <td>+₹21.20</td>\n      <td>6.26%</td>\n      <td>+₹21.20</td>\n    </tr>\n    <tr>\n      <th>41</th>\n      <td>Global Vectra Helicorp Limited</td>\n      <td>97.45</td>\n      <td>+₹5.65</td>\n      <td>6.15%</td>\n      <td>+₹5.65</td>\n    </tr>\n    <tr>\n      <th>42</th>\n      <td>Industrial Investment Trust Ltd</td>\n      <td>142.45</td>\n      <td>+₹8.10</td>\n      <td>6.03%</td>\n      <td>+₹8.10</td>\n    </tr>\n    <tr>\n      <th>43</th>\n      <td>Selan Exploration Technology Ltd</td>\n      <td>443.00</td>\n      <td>+₹24.75</td>\n      <td>5.92%</td>\n      <td>+₹24.75</td>\n    </tr>\n    <tr>\n      <th>44</th>\n      <td>BKM Industries Ltd</td>\n      <td>0.90</td>\n      <td>+₹0.050</td>\n      <td>5.88%</td>\n      <td>+₹0.050</td>\n    </tr>\n    <tr>\n      <th>45</th>\n      <td>Ortel Communications Ltd</td>\n      <td>0.90</td>\n      <td>+₹0.050</td>\n      <td>5.88%</td>\n      <td>+₹0.050</td>\n    </tr>\n    <tr>\n      <th>46</th>\n      <td>Electronics Mart India Ltd</td>\n      <td>187.40</td>\n      <td>+₹10.40</td>\n      <td>5.88%</td>\n      <td>+₹10.40</td>\n    </tr>\n    <tr>\n      <th>47</th>\n      <td>Central Depository Services (India) Ltd</td>\n      <td>1455.05</td>\n      <td>+₹80.70</td>\n      <td>5.87%</td>\n      <td>+₹80.70</td>\n    </tr>\n    <tr>\n      <th>48</th>\n      <td>Vishal Fabrics Ltd</td>\n      <td>20.80</td>\n      <td>+₹1.15</td>\n      <td>5.85%</td>\n      <td>+₹1.15</td>\n    </tr>\n    <tr>\n      <th>49</th>\n      <td>KDDL Ltd</td>\n      <td>2277.00</td>\n      <td>+₹124.10</td>\n      <td>5.76%</td>\n      <td>+₹124.10</td>\n    </tr>\n  </tbody>\n</table>\n</div>"
     },
     "execution_count": 65,
     "metadata": {},
     "output_type": "execute_result"
    }
   ],
   "source": [
    "df"
   ],
   "metadata": {
    "collapsed": false,
    "pycharm": {
     "name": "#%%\n"
    }
   }
  },
  {
   "cell_type": "code",
   "execution_count": 66,
   "outputs": [
    {
     "data": {
      "text/plain": "                                        name    price  increase pseincre\n0   Cambridge Technology Enterprises Limited    73.90   +₹12.30   19.97%\n1                   Apollo Micro Systems Ltd    91.40   +₹15.20   19.95%\n2     North Eastern Carrying Corporation Ltd    23.95    +₹3.20   15.42%\n3        Emkay Global Financial Services Ltd   103.50   +₹13.60   15.13%\n4                          De Nora India Ltd  1778.80  +₹227.20   14.64%\n5                      Sanwaria Consumer Ltd     0.40   +₹0.050   14.29%\n6                          Orbit Exports Ltd   193.70   +₹23.90   14.08%\n7                         Sangam (India) Ltd   311.25   +₹35.35   12.81%\n8                        MPS Infotecnics Ltd     0.45   +₹0.050   12.50%\n9                       Sagardeep Alloys Ltd    27.80    +₹2.80   11.20%\n10                          Weizmann Limited   137.00   +₹13.30   10.75%\n11                       Centrum Capital Ltd    24.60    +₹2.35   10.56%\n12                  Shekhawati Poly-Yarn Ltd     0.55   +₹0.050   10.00%\n13                        Maan Aluminium Ltd   136.45   +₹12.40   10.00%\n14  Fertilisers And Chemicals Travancore Ltd   756.05   +₹68.70    9.99%\n15                    Repco Home Finance Ltd   412.20   +₹37.45    9.99%\n16                                  NIIT Ltd   127.85   +₹11.60    9.98%\n17                            Arvind Limited   195.15   +₹16.95    9.51%\n18         Action Construction Equipment Ltd   838.80   +₹70.25    9.14%\n19        Dynacons Systems and Solutions Ltd   797.00   +₹64.60    8.82%\n20                                Shalby Ltd   285.00   +₹21.65    8.22%\n21                        Sanghvi Movers Ltd   735.00   +₹55.70    8.20%\n22                   Suven Life Sciences Ltd    81.65    +₹6.15    8.15%\n23                                Ashima Ltd    16.30    +₹1.20    7.95%\n24                  Cigniti Technologies Ltd  1034.00   +₹75.60    7.89%\n25                        Jindal Saw Limited   444.80   +₹31.60    7.65%\n26                           DCX Systems Ltd   293.15   +₹20.40    7.48%\n27                   Sanginita Chemicals Ltd    24.95    +₹1.70    7.31%\n28   Mangalore Chemicals and Fertilisers Ltd   111.50    +₹7.55    7.26%\n29                   Supreme Engineering Ltd     0.75   +₹0.050    7.14%\n30                 AJR Infra and Tolling Ltd     0.75   +₹0.050    7.14%\n31                       AMD Industries Ltd.    68.30    +₹4.50    7.05%\n32                        Iris Clothings Ltd    92.00    +₹5.95    6.91%\n33                        Lux Industries Ltd  1357.00   +₹85.20    6.70%\n34                           Nila Spaces Ltd     3.20    +₹0.20    6.67%\n35                    Aditya Birla Money Ltd    99.75    +₹6.10    6.51%\n36               Williamson Magor and Co Ltd    26.20    +₹1.60    6.50%\n37                     Vindhya Telelinks Ltd  2454.40  +₹148.50    6.44%\n38               Pidilite Industries Limited  2460.00  +₹147.85    6.39%\n39                           Anmol India Ltd    50.00    +₹3.00    6.38%\n40                       Triveni Turbine Ltd   359.90   +₹21.20    6.26%\n41            Global Vectra Helicorp Limited    97.45    +₹5.65    6.15%\n42           Industrial Investment Trust Ltd   142.45    +₹8.10    6.03%\n43          Selan Exploration Technology Ltd   443.00   +₹24.75    5.92%\n44                        BKM Industries Ltd     0.90   +₹0.050    5.88%\n45                  Ortel Communications Ltd     0.90   +₹0.050    5.88%\n46                Electronics Mart India Ltd   187.40   +₹10.40    5.88%\n47   Central Depository Services (India) Ltd  1455.05   +₹80.70    5.87%\n48                        Vishal Fabrics Ltd    20.80    +₹1.15    5.85%\n49                                  KDDL Ltd  2277.00  +₹124.10    5.76%",
      "text/html": "<div>\n<style scoped>\n    .dataframe tbody tr th:only-of-type {\n        vertical-align: middle;\n    }\n\n    .dataframe tbody tr th {\n        vertical-align: top;\n    }\n\n    .dataframe thead th {\n        text-align: right;\n    }\n</style>\n<table border=\"1\" class=\"dataframe\">\n  <thead>\n    <tr style=\"text-align: right;\">\n      <th></th>\n      <th>name</th>\n      <th>price</th>\n      <th>increase</th>\n      <th>pseincre</th>\n    </tr>\n  </thead>\n  <tbody>\n    <tr>\n      <th>0</th>\n      <td>Cambridge Technology Enterprises Limited</td>\n      <td>73.90</td>\n      <td>+₹12.30</td>\n      <td>19.97%</td>\n    </tr>\n    <tr>\n      <th>1</th>\n      <td>Apollo Micro Systems Ltd</td>\n      <td>91.40</td>\n      <td>+₹15.20</td>\n      <td>19.95%</td>\n    </tr>\n    <tr>\n      <th>2</th>\n      <td>North Eastern Carrying Corporation Ltd</td>\n      <td>23.95</td>\n      <td>+₹3.20</td>\n      <td>15.42%</td>\n    </tr>\n    <tr>\n      <th>3</th>\n      <td>Emkay Global Financial Services Ltd</td>\n      <td>103.50</td>\n      <td>+₹13.60</td>\n      <td>15.13%</td>\n    </tr>\n    <tr>\n      <th>4</th>\n      <td>De Nora India Ltd</td>\n      <td>1778.80</td>\n      <td>+₹227.20</td>\n      <td>14.64%</td>\n    </tr>\n    <tr>\n      <th>5</th>\n      <td>Sanwaria Consumer Ltd</td>\n      <td>0.40</td>\n      <td>+₹0.050</td>\n      <td>14.29%</td>\n    </tr>\n    <tr>\n      <th>6</th>\n      <td>Orbit Exports Ltd</td>\n      <td>193.70</td>\n      <td>+₹23.90</td>\n      <td>14.08%</td>\n    </tr>\n    <tr>\n      <th>7</th>\n      <td>Sangam (India) Ltd</td>\n      <td>311.25</td>\n      <td>+₹35.35</td>\n      <td>12.81%</td>\n    </tr>\n    <tr>\n      <th>8</th>\n      <td>MPS Infotecnics Ltd</td>\n      <td>0.45</td>\n      <td>+₹0.050</td>\n      <td>12.50%</td>\n    </tr>\n    <tr>\n      <th>9</th>\n      <td>Sagardeep Alloys Ltd</td>\n      <td>27.80</td>\n      <td>+₹2.80</td>\n      <td>11.20%</td>\n    </tr>\n    <tr>\n      <th>10</th>\n      <td>Weizmann Limited</td>\n      <td>137.00</td>\n      <td>+₹13.30</td>\n      <td>10.75%</td>\n    </tr>\n    <tr>\n      <th>11</th>\n      <td>Centrum Capital Ltd</td>\n      <td>24.60</td>\n      <td>+₹2.35</td>\n      <td>10.56%</td>\n    </tr>\n    <tr>\n      <th>12</th>\n      <td>Shekhawati Poly-Yarn Ltd</td>\n      <td>0.55</td>\n      <td>+₹0.050</td>\n      <td>10.00%</td>\n    </tr>\n    <tr>\n      <th>13</th>\n      <td>Maan Aluminium Ltd</td>\n      <td>136.45</td>\n      <td>+₹12.40</td>\n      <td>10.00%</td>\n    </tr>\n    <tr>\n      <th>14</th>\n      <td>Fertilisers And Chemicals Travancore Ltd</td>\n      <td>756.05</td>\n      <td>+₹68.70</td>\n      <td>9.99%</td>\n    </tr>\n    <tr>\n      <th>15</th>\n      <td>Repco Home Finance Ltd</td>\n      <td>412.20</td>\n      <td>+₹37.45</td>\n      <td>9.99%</td>\n    </tr>\n    <tr>\n      <th>16</th>\n      <td>NIIT Ltd</td>\n      <td>127.85</td>\n      <td>+₹11.60</td>\n      <td>9.98%</td>\n    </tr>\n    <tr>\n      <th>17</th>\n      <td>Arvind Limited</td>\n      <td>195.15</td>\n      <td>+₹16.95</td>\n      <td>9.51%</td>\n    </tr>\n    <tr>\n      <th>18</th>\n      <td>Action Construction Equipment Ltd</td>\n      <td>838.80</td>\n      <td>+₹70.25</td>\n      <td>9.14%</td>\n    </tr>\n    <tr>\n      <th>19</th>\n      <td>Dynacons Systems and Solutions Ltd</td>\n      <td>797.00</td>\n      <td>+₹64.60</td>\n      <td>8.82%</td>\n    </tr>\n    <tr>\n      <th>20</th>\n      <td>Shalby Ltd</td>\n      <td>285.00</td>\n      <td>+₹21.65</td>\n      <td>8.22%</td>\n    </tr>\n    <tr>\n      <th>21</th>\n      <td>Sanghvi Movers Ltd</td>\n      <td>735.00</td>\n      <td>+₹55.70</td>\n      <td>8.20%</td>\n    </tr>\n    <tr>\n      <th>22</th>\n      <td>Suven Life Sciences Ltd</td>\n      <td>81.65</td>\n      <td>+₹6.15</td>\n      <td>8.15%</td>\n    </tr>\n    <tr>\n      <th>23</th>\n      <td>Ashima Ltd</td>\n      <td>16.30</td>\n      <td>+₹1.20</td>\n      <td>7.95%</td>\n    </tr>\n    <tr>\n      <th>24</th>\n      <td>Cigniti Technologies Ltd</td>\n      <td>1034.00</td>\n      <td>+₹75.60</td>\n      <td>7.89%</td>\n    </tr>\n    <tr>\n      <th>25</th>\n      <td>Jindal Saw Limited</td>\n      <td>444.80</td>\n      <td>+₹31.60</td>\n      <td>7.65%</td>\n    </tr>\n    <tr>\n      <th>26</th>\n      <td>DCX Systems Ltd</td>\n      <td>293.15</td>\n      <td>+₹20.40</td>\n      <td>7.48%</td>\n    </tr>\n    <tr>\n      <th>27</th>\n      <td>Sanginita Chemicals Ltd</td>\n      <td>24.95</td>\n      <td>+₹1.70</td>\n      <td>7.31%</td>\n    </tr>\n    <tr>\n      <th>28</th>\n      <td>Mangalore Chemicals and Fertilisers Ltd</td>\n      <td>111.50</td>\n      <td>+₹7.55</td>\n      <td>7.26%</td>\n    </tr>\n    <tr>\n      <th>29</th>\n      <td>Supreme Engineering Ltd</td>\n      <td>0.75</td>\n      <td>+₹0.050</td>\n      <td>7.14%</td>\n    </tr>\n    <tr>\n      <th>30</th>\n      <td>AJR Infra and Tolling Ltd</td>\n      <td>0.75</td>\n      <td>+₹0.050</td>\n      <td>7.14%</td>\n    </tr>\n    <tr>\n      <th>31</th>\n      <td>AMD Industries Ltd.</td>\n      <td>68.30</td>\n      <td>+₹4.50</td>\n      <td>7.05%</td>\n    </tr>\n    <tr>\n      <th>32</th>\n      <td>Iris Clothings Ltd</td>\n      <td>92.00</td>\n      <td>+₹5.95</td>\n      <td>6.91%</td>\n    </tr>\n    <tr>\n      <th>33</th>\n      <td>Lux Industries Ltd</td>\n      <td>1357.00</td>\n      <td>+₹85.20</td>\n      <td>6.70%</td>\n    </tr>\n    <tr>\n      <th>34</th>\n      <td>Nila Spaces Ltd</td>\n      <td>3.20</td>\n      <td>+₹0.20</td>\n      <td>6.67%</td>\n    </tr>\n    <tr>\n      <th>35</th>\n      <td>Aditya Birla Money Ltd</td>\n      <td>99.75</td>\n      <td>+₹6.10</td>\n      <td>6.51%</td>\n    </tr>\n    <tr>\n      <th>36</th>\n      <td>Williamson Magor and Co Ltd</td>\n      <td>26.20</td>\n      <td>+₹1.60</td>\n      <td>6.50%</td>\n    </tr>\n    <tr>\n      <th>37</th>\n      <td>Vindhya Telelinks Ltd</td>\n      <td>2454.40</td>\n      <td>+₹148.50</td>\n      <td>6.44%</td>\n    </tr>\n    <tr>\n      <th>38</th>\n      <td>Pidilite Industries Limited</td>\n      <td>2460.00</td>\n      <td>+₹147.85</td>\n      <td>6.39%</td>\n    </tr>\n    <tr>\n      <th>39</th>\n      <td>Anmol India Ltd</td>\n      <td>50.00</td>\n      <td>+₹3.00</td>\n      <td>6.38%</td>\n    </tr>\n    <tr>\n      <th>40</th>\n      <td>Triveni Turbine Ltd</td>\n      <td>359.90</td>\n      <td>+₹21.20</td>\n      <td>6.26%</td>\n    </tr>\n    <tr>\n      <th>41</th>\n      <td>Global Vectra Helicorp Limited</td>\n      <td>97.45</td>\n      <td>+₹5.65</td>\n      <td>6.15%</td>\n    </tr>\n    <tr>\n      <th>42</th>\n      <td>Industrial Investment Trust Ltd</td>\n      <td>142.45</td>\n      <td>+₹8.10</td>\n      <td>6.03%</td>\n    </tr>\n    <tr>\n      <th>43</th>\n      <td>Selan Exploration Technology Ltd</td>\n      <td>443.00</td>\n      <td>+₹24.75</td>\n      <td>5.92%</td>\n    </tr>\n    <tr>\n      <th>44</th>\n      <td>BKM Industries Ltd</td>\n      <td>0.90</td>\n      <td>+₹0.050</td>\n      <td>5.88%</td>\n    </tr>\n    <tr>\n      <th>45</th>\n      <td>Ortel Communications Ltd</td>\n      <td>0.90</td>\n      <td>+₹0.050</td>\n      <td>5.88%</td>\n    </tr>\n    <tr>\n      <th>46</th>\n      <td>Electronics Mart India Ltd</td>\n      <td>187.40</td>\n      <td>+₹10.40</td>\n      <td>5.88%</td>\n    </tr>\n    <tr>\n      <th>47</th>\n      <td>Central Depository Services (India) Ltd</td>\n      <td>1455.05</td>\n      <td>+₹80.70</td>\n      <td>5.87%</td>\n    </tr>\n    <tr>\n      <th>48</th>\n      <td>Vishal Fabrics Ltd</td>\n      <td>20.80</td>\n      <td>+₹1.15</td>\n      <td>5.85%</td>\n    </tr>\n    <tr>\n      <th>49</th>\n      <td>KDDL Ltd</td>\n      <td>2277.00</td>\n      <td>+₹124.10</td>\n      <td>5.76%</td>\n    </tr>\n  </tbody>\n</table>\n</div>"
     },
     "execution_count": 66,
     "metadata": {},
     "output_type": "execute_result"
    }
   ],
   "source": [
    "df.drop('inc',axis=1)"
   ],
   "metadata": {
    "collapsed": false,
    "pycharm": {
     "name": "#%%\n"
    }
   }
  },
  {
   "cell_type": "code",
   "execution_count": 89,
   "outputs": [
    {
     "name": "stdout",
     "output_type": "stream",
     "text": [
      "['12.30', '15.20', '3.20', '13.60', '227.20', '0.050', '23.90', '35.35', '0.050', '2.80', '13.30', '2.35', '0.050', '12.40', '68.70', '37.45', '11.60', '16.95', '70.25', '64.60', '21.65', '55.70', '6.15', '1.20', '75.60', '31.60', '20.40', '1.70', '7.55', '0.050', '0.050', '4.50', '5.95', '85.20', '0.20', '6.10', '1.60', '148.50', '147.85', '3.00', '21.20', '5.65', '8.10', '24.75', '0.050', '0.050', '10.40', '80.70', '1.15', '124.10']\n"
     ]
    }
   ],
   "source": [
    "df2=[]\n",
    "for i in df.increase:\n",
    "    df2.append(i.replace(\"₹\",\"\").replace('+',''))\n",
    "print(df2)"
   ],
   "metadata": {
    "collapsed": false,
    "pycharm": {
     "name": "#%%\n"
    }
   }
  },
  {
   "cell_type": "code",
   "execution_count": 90,
   "outputs": [],
   "source": [
    "df['increase']=df2"
   ],
   "metadata": {
    "collapsed": false,
    "pycharm": {
     "name": "#%%\n"
    }
   }
  },
  {
   "cell_type": "code",
   "execution_count": 91,
   "outputs": [],
   "source": [
    "df['increase']=df['increase'].astype('float')"
   ],
   "metadata": {
    "collapsed": false,
    "pycharm": {
     "name": "#%%\n"
    }
   }
  },
  {
   "cell_type": "code",
   "execution_count": 92,
   "outputs": [
    {
     "data": {
      "text/plain": "                                        name    price  increase pseincre\n0   Cambridge Technology Enterprises Limited    73.90     12.30   19.97%\n1                   Apollo Micro Systems Ltd    91.40     15.20   19.95%\n2     North Eastern Carrying Corporation Ltd    23.95      3.20   15.42%\n3        Emkay Global Financial Services Ltd   103.50     13.60   15.13%\n4                          De Nora India Ltd  1778.80    227.20   14.64%\n5                      Sanwaria Consumer Ltd     0.40      0.05   14.29%\n6                          Orbit Exports Ltd   193.70     23.90   14.08%\n7                         Sangam (India) Ltd   311.25     35.35   12.81%\n8                        MPS Infotecnics Ltd     0.45      0.05   12.50%\n9                       Sagardeep Alloys Ltd    27.80      2.80   11.20%\n10                          Weizmann Limited   137.00     13.30   10.75%\n11                       Centrum Capital Ltd    24.60      2.35   10.56%\n12                  Shekhawati Poly-Yarn Ltd     0.55      0.05   10.00%\n13                        Maan Aluminium Ltd   136.45     12.40   10.00%\n14  Fertilisers And Chemicals Travancore Ltd   756.05     68.70    9.99%\n15                    Repco Home Finance Ltd   412.20     37.45    9.99%\n16                                  NIIT Ltd   127.85     11.60    9.98%\n17                            Arvind Limited   195.15     16.95    9.51%\n18         Action Construction Equipment Ltd   838.80     70.25    9.14%\n19        Dynacons Systems and Solutions Ltd   797.00     64.60    8.82%\n20                                Shalby Ltd   285.00     21.65    8.22%\n21                        Sanghvi Movers Ltd   735.00     55.70    8.20%\n22                   Suven Life Sciences Ltd    81.65      6.15    8.15%\n23                                Ashima Ltd    16.30      1.20    7.95%\n24                  Cigniti Technologies Ltd  1034.00     75.60    7.89%\n25                        Jindal Saw Limited   444.80     31.60    7.65%\n26                           DCX Systems Ltd   293.15     20.40    7.48%\n27                   Sanginita Chemicals Ltd    24.95      1.70    7.31%\n28   Mangalore Chemicals and Fertilisers Ltd   111.50      7.55    7.26%\n29                   Supreme Engineering Ltd     0.75      0.05    7.14%\n30                 AJR Infra and Tolling Ltd     0.75      0.05    7.14%\n31                       AMD Industries Ltd.    68.30      4.50    7.05%\n32                        Iris Clothings Ltd    92.00      5.95    6.91%\n33                        Lux Industries Ltd  1357.00     85.20    6.70%\n34                           Nila Spaces Ltd     3.20      0.20    6.67%\n35                    Aditya Birla Money Ltd    99.75      6.10    6.51%\n36               Williamson Magor and Co Ltd    26.20      1.60    6.50%\n37                     Vindhya Telelinks Ltd  2454.40    148.50    6.44%\n38               Pidilite Industries Limited  2460.00    147.85    6.39%\n39                           Anmol India Ltd    50.00      3.00    6.38%\n40                       Triveni Turbine Ltd   359.90     21.20    6.26%\n41            Global Vectra Helicorp Limited    97.45      5.65    6.15%\n42           Industrial Investment Trust Ltd   142.45      8.10    6.03%\n43          Selan Exploration Technology Ltd   443.00     24.75    5.92%\n44                        BKM Industries Ltd     0.90      0.05    5.88%\n45                  Ortel Communications Ltd     0.90      0.05    5.88%\n46                Electronics Mart India Ltd   187.40     10.40    5.88%\n47   Central Depository Services (India) Ltd  1455.05     80.70    5.87%\n48                        Vishal Fabrics Ltd    20.80      1.15    5.85%\n49                                  KDDL Ltd  2277.00    124.10    5.76%",
      "text/html": "<div>\n<style scoped>\n    .dataframe tbody tr th:only-of-type {\n        vertical-align: middle;\n    }\n\n    .dataframe tbody tr th {\n        vertical-align: top;\n    }\n\n    .dataframe thead th {\n        text-align: right;\n    }\n</style>\n<table border=\"1\" class=\"dataframe\">\n  <thead>\n    <tr style=\"text-align: right;\">\n      <th></th>\n      <th>name</th>\n      <th>price</th>\n      <th>increase</th>\n      <th>pseincre</th>\n    </tr>\n  </thead>\n  <tbody>\n    <tr>\n      <th>0</th>\n      <td>Cambridge Technology Enterprises Limited</td>\n      <td>73.90</td>\n      <td>12.30</td>\n      <td>19.97%</td>\n    </tr>\n    <tr>\n      <th>1</th>\n      <td>Apollo Micro Systems Ltd</td>\n      <td>91.40</td>\n      <td>15.20</td>\n      <td>19.95%</td>\n    </tr>\n    <tr>\n      <th>2</th>\n      <td>North Eastern Carrying Corporation Ltd</td>\n      <td>23.95</td>\n      <td>3.20</td>\n      <td>15.42%</td>\n    </tr>\n    <tr>\n      <th>3</th>\n      <td>Emkay Global Financial Services Ltd</td>\n      <td>103.50</td>\n      <td>13.60</td>\n      <td>15.13%</td>\n    </tr>\n    <tr>\n      <th>4</th>\n      <td>De Nora India Ltd</td>\n      <td>1778.80</td>\n      <td>227.20</td>\n      <td>14.64%</td>\n    </tr>\n    <tr>\n      <th>5</th>\n      <td>Sanwaria Consumer Ltd</td>\n      <td>0.40</td>\n      <td>0.05</td>\n      <td>14.29%</td>\n    </tr>\n    <tr>\n      <th>6</th>\n      <td>Orbit Exports Ltd</td>\n      <td>193.70</td>\n      <td>23.90</td>\n      <td>14.08%</td>\n    </tr>\n    <tr>\n      <th>7</th>\n      <td>Sangam (India) Ltd</td>\n      <td>311.25</td>\n      <td>35.35</td>\n      <td>12.81%</td>\n    </tr>\n    <tr>\n      <th>8</th>\n      <td>MPS Infotecnics Ltd</td>\n      <td>0.45</td>\n      <td>0.05</td>\n      <td>12.50%</td>\n    </tr>\n    <tr>\n      <th>9</th>\n      <td>Sagardeep Alloys Ltd</td>\n      <td>27.80</td>\n      <td>2.80</td>\n      <td>11.20%</td>\n    </tr>\n    <tr>\n      <th>10</th>\n      <td>Weizmann Limited</td>\n      <td>137.00</td>\n      <td>13.30</td>\n      <td>10.75%</td>\n    </tr>\n    <tr>\n      <th>11</th>\n      <td>Centrum Capital Ltd</td>\n      <td>24.60</td>\n      <td>2.35</td>\n      <td>10.56%</td>\n    </tr>\n    <tr>\n      <th>12</th>\n      <td>Shekhawati Poly-Yarn Ltd</td>\n      <td>0.55</td>\n      <td>0.05</td>\n      <td>10.00%</td>\n    </tr>\n    <tr>\n      <th>13</th>\n      <td>Maan Aluminium Ltd</td>\n      <td>136.45</td>\n      <td>12.40</td>\n      <td>10.00%</td>\n    </tr>\n    <tr>\n      <th>14</th>\n      <td>Fertilisers And Chemicals Travancore Ltd</td>\n      <td>756.05</td>\n      <td>68.70</td>\n      <td>9.99%</td>\n    </tr>\n    <tr>\n      <th>15</th>\n      <td>Repco Home Finance Ltd</td>\n      <td>412.20</td>\n      <td>37.45</td>\n      <td>9.99%</td>\n    </tr>\n    <tr>\n      <th>16</th>\n      <td>NIIT Ltd</td>\n      <td>127.85</td>\n      <td>11.60</td>\n      <td>9.98%</td>\n    </tr>\n    <tr>\n      <th>17</th>\n      <td>Arvind Limited</td>\n      <td>195.15</td>\n      <td>16.95</td>\n      <td>9.51%</td>\n    </tr>\n    <tr>\n      <th>18</th>\n      <td>Action Construction Equipment Ltd</td>\n      <td>838.80</td>\n      <td>70.25</td>\n      <td>9.14%</td>\n    </tr>\n    <tr>\n      <th>19</th>\n      <td>Dynacons Systems and Solutions Ltd</td>\n      <td>797.00</td>\n      <td>64.60</td>\n      <td>8.82%</td>\n    </tr>\n    <tr>\n      <th>20</th>\n      <td>Shalby Ltd</td>\n      <td>285.00</td>\n      <td>21.65</td>\n      <td>8.22%</td>\n    </tr>\n    <tr>\n      <th>21</th>\n      <td>Sanghvi Movers Ltd</td>\n      <td>735.00</td>\n      <td>55.70</td>\n      <td>8.20%</td>\n    </tr>\n    <tr>\n      <th>22</th>\n      <td>Suven Life Sciences Ltd</td>\n      <td>81.65</td>\n      <td>6.15</td>\n      <td>8.15%</td>\n    </tr>\n    <tr>\n      <th>23</th>\n      <td>Ashima Ltd</td>\n      <td>16.30</td>\n      <td>1.20</td>\n      <td>7.95%</td>\n    </tr>\n    <tr>\n      <th>24</th>\n      <td>Cigniti Technologies Ltd</td>\n      <td>1034.00</td>\n      <td>75.60</td>\n      <td>7.89%</td>\n    </tr>\n    <tr>\n      <th>25</th>\n      <td>Jindal Saw Limited</td>\n      <td>444.80</td>\n      <td>31.60</td>\n      <td>7.65%</td>\n    </tr>\n    <tr>\n      <th>26</th>\n      <td>DCX Systems Ltd</td>\n      <td>293.15</td>\n      <td>20.40</td>\n      <td>7.48%</td>\n    </tr>\n    <tr>\n      <th>27</th>\n      <td>Sanginita Chemicals Ltd</td>\n      <td>24.95</td>\n      <td>1.70</td>\n      <td>7.31%</td>\n    </tr>\n    <tr>\n      <th>28</th>\n      <td>Mangalore Chemicals and Fertilisers Ltd</td>\n      <td>111.50</td>\n      <td>7.55</td>\n      <td>7.26%</td>\n    </tr>\n    <tr>\n      <th>29</th>\n      <td>Supreme Engineering Ltd</td>\n      <td>0.75</td>\n      <td>0.05</td>\n      <td>7.14%</td>\n    </tr>\n    <tr>\n      <th>30</th>\n      <td>AJR Infra and Tolling Ltd</td>\n      <td>0.75</td>\n      <td>0.05</td>\n      <td>7.14%</td>\n    </tr>\n    <tr>\n      <th>31</th>\n      <td>AMD Industries Ltd.</td>\n      <td>68.30</td>\n      <td>4.50</td>\n      <td>7.05%</td>\n    </tr>\n    <tr>\n      <th>32</th>\n      <td>Iris Clothings Ltd</td>\n      <td>92.00</td>\n      <td>5.95</td>\n      <td>6.91%</td>\n    </tr>\n    <tr>\n      <th>33</th>\n      <td>Lux Industries Ltd</td>\n      <td>1357.00</td>\n      <td>85.20</td>\n      <td>6.70%</td>\n    </tr>\n    <tr>\n      <th>34</th>\n      <td>Nila Spaces Ltd</td>\n      <td>3.20</td>\n      <td>0.20</td>\n      <td>6.67%</td>\n    </tr>\n    <tr>\n      <th>35</th>\n      <td>Aditya Birla Money Ltd</td>\n      <td>99.75</td>\n      <td>6.10</td>\n      <td>6.51%</td>\n    </tr>\n    <tr>\n      <th>36</th>\n      <td>Williamson Magor and Co Ltd</td>\n      <td>26.20</td>\n      <td>1.60</td>\n      <td>6.50%</td>\n    </tr>\n    <tr>\n      <th>37</th>\n      <td>Vindhya Telelinks Ltd</td>\n      <td>2454.40</td>\n      <td>148.50</td>\n      <td>6.44%</td>\n    </tr>\n    <tr>\n      <th>38</th>\n      <td>Pidilite Industries Limited</td>\n      <td>2460.00</td>\n      <td>147.85</td>\n      <td>6.39%</td>\n    </tr>\n    <tr>\n      <th>39</th>\n      <td>Anmol India Ltd</td>\n      <td>50.00</td>\n      <td>3.00</td>\n      <td>6.38%</td>\n    </tr>\n    <tr>\n      <th>40</th>\n      <td>Triveni Turbine Ltd</td>\n      <td>359.90</td>\n      <td>21.20</td>\n      <td>6.26%</td>\n    </tr>\n    <tr>\n      <th>41</th>\n      <td>Global Vectra Helicorp Limited</td>\n      <td>97.45</td>\n      <td>5.65</td>\n      <td>6.15%</td>\n    </tr>\n    <tr>\n      <th>42</th>\n      <td>Industrial Investment Trust Ltd</td>\n      <td>142.45</td>\n      <td>8.10</td>\n      <td>6.03%</td>\n    </tr>\n    <tr>\n      <th>43</th>\n      <td>Selan Exploration Technology Ltd</td>\n      <td>443.00</td>\n      <td>24.75</td>\n      <td>5.92%</td>\n    </tr>\n    <tr>\n      <th>44</th>\n      <td>BKM Industries Ltd</td>\n      <td>0.90</td>\n      <td>0.05</td>\n      <td>5.88%</td>\n    </tr>\n    <tr>\n      <th>45</th>\n      <td>Ortel Communications Ltd</td>\n      <td>0.90</td>\n      <td>0.05</td>\n      <td>5.88%</td>\n    </tr>\n    <tr>\n      <th>46</th>\n      <td>Electronics Mart India Ltd</td>\n      <td>187.40</td>\n      <td>10.40</td>\n      <td>5.88%</td>\n    </tr>\n    <tr>\n      <th>47</th>\n      <td>Central Depository Services (India) Ltd</td>\n      <td>1455.05</td>\n      <td>80.70</td>\n      <td>5.87%</td>\n    </tr>\n    <tr>\n      <th>48</th>\n      <td>Vishal Fabrics Ltd</td>\n      <td>20.80</td>\n      <td>1.15</td>\n      <td>5.85%</td>\n    </tr>\n    <tr>\n      <th>49</th>\n      <td>KDDL Ltd</td>\n      <td>2277.00</td>\n      <td>124.10</td>\n      <td>5.76%</td>\n    </tr>\n  </tbody>\n</table>\n</div>"
     },
     "execution_count": 92,
     "metadata": {},
     "output_type": "execute_result"
    }
   ],
   "source": [
    "df"
   ],
   "metadata": {
    "collapsed": false,
    "pycharm": {
     "name": "#%%\n"
    }
   }
  },
  {
   "cell_type": "code",
   "execution_count": 74,
   "outputs": [
    {
     "data": {
      "text/plain": "name         object\nprice       float64\nincrease    float64\npseincre     object\ninc          object\ndtype: object"
     },
     "execution_count": 74,
     "metadata": {},
     "output_type": "execute_result"
    }
   ],
   "source": [
    "df.dtypes"
   ],
   "metadata": {
    "collapsed": false,
    "pycharm": {
     "name": "#%%\n"
    }
   }
  },
  {
   "cell_type": "code",
   "execution_count": 93,
   "outputs": [],
   "source": [
    "df3=[]\n",
    "for i in df[\"pseincre\"]:\n",
    "    df3.append(float(i.replace('%','')))"
   ],
   "metadata": {
    "collapsed": false,
    "pycharm": {
     "name": "#%%\n"
    }
   }
  },
  {
   "cell_type": "code",
   "execution_count": 94,
   "outputs": [],
   "source": [
    "df['pseincre']=df3"
   ],
   "metadata": {
    "collapsed": false,
    "pycharm": {
     "name": "#%%\n"
    }
   }
  },
  {
   "cell_type": "code",
   "execution_count": 95,
   "outputs": [
    {
     "data": {
      "text/plain": "                                        name    price  increase  pseincre\n0   Cambridge Technology Enterprises Limited    73.90     12.30     19.97\n1                   Apollo Micro Systems Ltd    91.40     15.20     19.95\n2     North Eastern Carrying Corporation Ltd    23.95      3.20     15.42\n3        Emkay Global Financial Services Ltd   103.50     13.60     15.13\n4                          De Nora India Ltd  1778.80    227.20     14.64\n5                      Sanwaria Consumer Ltd     0.40      0.05     14.29\n6                          Orbit Exports Ltd   193.70     23.90     14.08\n7                         Sangam (India) Ltd   311.25     35.35     12.81\n8                        MPS Infotecnics Ltd     0.45      0.05     12.50\n9                       Sagardeep Alloys Ltd    27.80      2.80     11.20\n10                          Weizmann Limited   137.00     13.30     10.75\n11                       Centrum Capital Ltd    24.60      2.35     10.56\n12                  Shekhawati Poly-Yarn Ltd     0.55      0.05     10.00\n13                        Maan Aluminium Ltd   136.45     12.40     10.00\n14  Fertilisers And Chemicals Travancore Ltd   756.05     68.70      9.99\n15                    Repco Home Finance Ltd   412.20     37.45      9.99\n16                                  NIIT Ltd   127.85     11.60      9.98\n17                            Arvind Limited   195.15     16.95      9.51\n18         Action Construction Equipment Ltd   838.80     70.25      9.14\n19        Dynacons Systems and Solutions Ltd   797.00     64.60      8.82\n20                                Shalby Ltd   285.00     21.65      8.22\n21                        Sanghvi Movers Ltd   735.00     55.70      8.20\n22                   Suven Life Sciences Ltd    81.65      6.15      8.15\n23                                Ashima Ltd    16.30      1.20      7.95\n24                  Cigniti Technologies Ltd  1034.00     75.60      7.89\n25                        Jindal Saw Limited   444.80     31.60      7.65\n26                           DCX Systems Ltd   293.15     20.40      7.48\n27                   Sanginita Chemicals Ltd    24.95      1.70      7.31\n28   Mangalore Chemicals and Fertilisers Ltd   111.50      7.55      7.26\n29                   Supreme Engineering Ltd     0.75      0.05      7.14\n30                 AJR Infra and Tolling Ltd     0.75      0.05      7.14\n31                       AMD Industries Ltd.    68.30      4.50      7.05\n32                        Iris Clothings Ltd    92.00      5.95      6.91\n33                        Lux Industries Ltd  1357.00     85.20      6.70\n34                           Nila Spaces Ltd     3.20      0.20      6.67\n35                    Aditya Birla Money Ltd    99.75      6.10      6.51\n36               Williamson Magor and Co Ltd    26.20      1.60      6.50\n37                     Vindhya Telelinks Ltd  2454.40    148.50      6.44\n38               Pidilite Industries Limited  2460.00    147.85      6.39\n39                           Anmol India Ltd    50.00      3.00      6.38\n40                       Triveni Turbine Ltd   359.90     21.20      6.26\n41            Global Vectra Helicorp Limited    97.45      5.65      6.15\n42           Industrial Investment Trust Ltd   142.45      8.10      6.03\n43          Selan Exploration Technology Ltd   443.00     24.75      5.92\n44                        BKM Industries Ltd     0.90      0.05      5.88\n45                  Ortel Communications Ltd     0.90      0.05      5.88\n46                Electronics Mart India Ltd   187.40     10.40      5.88\n47   Central Depository Services (India) Ltd  1455.05     80.70      5.87\n48                        Vishal Fabrics Ltd    20.80      1.15      5.85\n49                                  KDDL Ltd  2277.00    124.10      5.76",
      "text/html": "<div>\n<style scoped>\n    .dataframe tbody tr th:only-of-type {\n        vertical-align: middle;\n    }\n\n    .dataframe tbody tr th {\n        vertical-align: top;\n    }\n\n    .dataframe thead th {\n        text-align: right;\n    }\n</style>\n<table border=\"1\" class=\"dataframe\">\n  <thead>\n    <tr style=\"text-align: right;\">\n      <th></th>\n      <th>name</th>\n      <th>price</th>\n      <th>increase</th>\n      <th>pseincre</th>\n    </tr>\n  </thead>\n  <tbody>\n    <tr>\n      <th>0</th>\n      <td>Cambridge Technology Enterprises Limited</td>\n      <td>73.90</td>\n      <td>12.30</td>\n      <td>19.97</td>\n    </tr>\n    <tr>\n      <th>1</th>\n      <td>Apollo Micro Systems Ltd</td>\n      <td>91.40</td>\n      <td>15.20</td>\n      <td>19.95</td>\n    </tr>\n    <tr>\n      <th>2</th>\n      <td>North Eastern Carrying Corporation Ltd</td>\n      <td>23.95</td>\n      <td>3.20</td>\n      <td>15.42</td>\n    </tr>\n    <tr>\n      <th>3</th>\n      <td>Emkay Global Financial Services Ltd</td>\n      <td>103.50</td>\n      <td>13.60</td>\n      <td>15.13</td>\n    </tr>\n    <tr>\n      <th>4</th>\n      <td>De Nora India Ltd</td>\n      <td>1778.80</td>\n      <td>227.20</td>\n      <td>14.64</td>\n    </tr>\n    <tr>\n      <th>5</th>\n      <td>Sanwaria Consumer Ltd</td>\n      <td>0.40</td>\n      <td>0.05</td>\n      <td>14.29</td>\n    </tr>\n    <tr>\n      <th>6</th>\n      <td>Orbit Exports Ltd</td>\n      <td>193.70</td>\n      <td>23.90</td>\n      <td>14.08</td>\n    </tr>\n    <tr>\n      <th>7</th>\n      <td>Sangam (India) Ltd</td>\n      <td>311.25</td>\n      <td>35.35</td>\n      <td>12.81</td>\n    </tr>\n    <tr>\n      <th>8</th>\n      <td>MPS Infotecnics Ltd</td>\n      <td>0.45</td>\n      <td>0.05</td>\n      <td>12.50</td>\n    </tr>\n    <tr>\n      <th>9</th>\n      <td>Sagardeep Alloys Ltd</td>\n      <td>27.80</td>\n      <td>2.80</td>\n      <td>11.20</td>\n    </tr>\n    <tr>\n      <th>10</th>\n      <td>Weizmann Limited</td>\n      <td>137.00</td>\n      <td>13.30</td>\n      <td>10.75</td>\n    </tr>\n    <tr>\n      <th>11</th>\n      <td>Centrum Capital Ltd</td>\n      <td>24.60</td>\n      <td>2.35</td>\n      <td>10.56</td>\n    </tr>\n    <tr>\n      <th>12</th>\n      <td>Shekhawati Poly-Yarn Ltd</td>\n      <td>0.55</td>\n      <td>0.05</td>\n      <td>10.00</td>\n    </tr>\n    <tr>\n      <th>13</th>\n      <td>Maan Aluminium Ltd</td>\n      <td>136.45</td>\n      <td>12.40</td>\n      <td>10.00</td>\n    </tr>\n    <tr>\n      <th>14</th>\n      <td>Fertilisers And Chemicals Travancore Ltd</td>\n      <td>756.05</td>\n      <td>68.70</td>\n      <td>9.99</td>\n    </tr>\n    <tr>\n      <th>15</th>\n      <td>Repco Home Finance Ltd</td>\n      <td>412.20</td>\n      <td>37.45</td>\n      <td>9.99</td>\n    </tr>\n    <tr>\n      <th>16</th>\n      <td>NIIT Ltd</td>\n      <td>127.85</td>\n      <td>11.60</td>\n      <td>9.98</td>\n    </tr>\n    <tr>\n      <th>17</th>\n      <td>Arvind Limited</td>\n      <td>195.15</td>\n      <td>16.95</td>\n      <td>9.51</td>\n    </tr>\n    <tr>\n      <th>18</th>\n      <td>Action Construction Equipment Ltd</td>\n      <td>838.80</td>\n      <td>70.25</td>\n      <td>9.14</td>\n    </tr>\n    <tr>\n      <th>19</th>\n      <td>Dynacons Systems and Solutions Ltd</td>\n      <td>797.00</td>\n      <td>64.60</td>\n      <td>8.82</td>\n    </tr>\n    <tr>\n      <th>20</th>\n      <td>Shalby Ltd</td>\n      <td>285.00</td>\n      <td>21.65</td>\n      <td>8.22</td>\n    </tr>\n    <tr>\n      <th>21</th>\n      <td>Sanghvi Movers Ltd</td>\n      <td>735.00</td>\n      <td>55.70</td>\n      <td>8.20</td>\n    </tr>\n    <tr>\n      <th>22</th>\n      <td>Suven Life Sciences Ltd</td>\n      <td>81.65</td>\n      <td>6.15</td>\n      <td>8.15</td>\n    </tr>\n    <tr>\n      <th>23</th>\n      <td>Ashima Ltd</td>\n      <td>16.30</td>\n      <td>1.20</td>\n      <td>7.95</td>\n    </tr>\n    <tr>\n      <th>24</th>\n      <td>Cigniti Technologies Ltd</td>\n      <td>1034.00</td>\n      <td>75.60</td>\n      <td>7.89</td>\n    </tr>\n    <tr>\n      <th>25</th>\n      <td>Jindal Saw Limited</td>\n      <td>444.80</td>\n      <td>31.60</td>\n      <td>7.65</td>\n    </tr>\n    <tr>\n      <th>26</th>\n      <td>DCX Systems Ltd</td>\n      <td>293.15</td>\n      <td>20.40</td>\n      <td>7.48</td>\n    </tr>\n    <tr>\n      <th>27</th>\n      <td>Sanginita Chemicals Ltd</td>\n      <td>24.95</td>\n      <td>1.70</td>\n      <td>7.31</td>\n    </tr>\n    <tr>\n      <th>28</th>\n      <td>Mangalore Chemicals and Fertilisers Ltd</td>\n      <td>111.50</td>\n      <td>7.55</td>\n      <td>7.26</td>\n    </tr>\n    <tr>\n      <th>29</th>\n      <td>Supreme Engineering Ltd</td>\n      <td>0.75</td>\n      <td>0.05</td>\n      <td>7.14</td>\n    </tr>\n    <tr>\n      <th>30</th>\n      <td>AJR Infra and Tolling Ltd</td>\n      <td>0.75</td>\n      <td>0.05</td>\n      <td>7.14</td>\n    </tr>\n    <tr>\n      <th>31</th>\n      <td>AMD Industries Ltd.</td>\n      <td>68.30</td>\n      <td>4.50</td>\n      <td>7.05</td>\n    </tr>\n    <tr>\n      <th>32</th>\n      <td>Iris Clothings Ltd</td>\n      <td>92.00</td>\n      <td>5.95</td>\n      <td>6.91</td>\n    </tr>\n    <tr>\n      <th>33</th>\n      <td>Lux Industries Ltd</td>\n      <td>1357.00</td>\n      <td>85.20</td>\n      <td>6.70</td>\n    </tr>\n    <tr>\n      <th>34</th>\n      <td>Nila Spaces Ltd</td>\n      <td>3.20</td>\n      <td>0.20</td>\n      <td>6.67</td>\n    </tr>\n    <tr>\n      <th>35</th>\n      <td>Aditya Birla Money Ltd</td>\n      <td>99.75</td>\n      <td>6.10</td>\n      <td>6.51</td>\n    </tr>\n    <tr>\n      <th>36</th>\n      <td>Williamson Magor and Co Ltd</td>\n      <td>26.20</td>\n      <td>1.60</td>\n      <td>6.50</td>\n    </tr>\n    <tr>\n      <th>37</th>\n      <td>Vindhya Telelinks Ltd</td>\n      <td>2454.40</td>\n      <td>148.50</td>\n      <td>6.44</td>\n    </tr>\n    <tr>\n      <th>38</th>\n      <td>Pidilite Industries Limited</td>\n      <td>2460.00</td>\n      <td>147.85</td>\n      <td>6.39</td>\n    </tr>\n    <tr>\n      <th>39</th>\n      <td>Anmol India Ltd</td>\n      <td>50.00</td>\n      <td>3.00</td>\n      <td>6.38</td>\n    </tr>\n    <tr>\n      <th>40</th>\n      <td>Triveni Turbine Ltd</td>\n      <td>359.90</td>\n      <td>21.20</td>\n      <td>6.26</td>\n    </tr>\n    <tr>\n      <th>41</th>\n      <td>Global Vectra Helicorp Limited</td>\n      <td>97.45</td>\n      <td>5.65</td>\n      <td>6.15</td>\n    </tr>\n    <tr>\n      <th>42</th>\n      <td>Industrial Investment Trust Ltd</td>\n      <td>142.45</td>\n      <td>8.10</td>\n      <td>6.03</td>\n    </tr>\n    <tr>\n      <th>43</th>\n      <td>Selan Exploration Technology Ltd</td>\n      <td>443.00</td>\n      <td>24.75</td>\n      <td>5.92</td>\n    </tr>\n    <tr>\n      <th>44</th>\n      <td>BKM Industries Ltd</td>\n      <td>0.90</td>\n      <td>0.05</td>\n      <td>5.88</td>\n    </tr>\n    <tr>\n      <th>45</th>\n      <td>Ortel Communications Ltd</td>\n      <td>0.90</td>\n      <td>0.05</td>\n      <td>5.88</td>\n    </tr>\n    <tr>\n      <th>46</th>\n      <td>Electronics Mart India Ltd</td>\n      <td>187.40</td>\n      <td>10.40</td>\n      <td>5.88</td>\n    </tr>\n    <tr>\n      <th>47</th>\n      <td>Central Depository Services (India) Ltd</td>\n      <td>1455.05</td>\n      <td>80.70</td>\n      <td>5.87</td>\n    </tr>\n    <tr>\n      <th>48</th>\n      <td>Vishal Fabrics Ltd</td>\n      <td>20.80</td>\n      <td>1.15</td>\n      <td>5.85</td>\n    </tr>\n    <tr>\n      <th>49</th>\n      <td>KDDL Ltd</td>\n      <td>2277.00</td>\n      <td>124.10</td>\n      <td>5.76</td>\n    </tr>\n  </tbody>\n</table>\n</div>"
     },
     "execution_count": 95,
     "metadata": {},
     "output_type": "execute_result"
    }
   ],
   "source": [
    "df"
   ],
   "metadata": {
    "collapsed": false,
    "pycharm": {
     "name": "#%%\n"
    }
   }
  },
  {
   "cell_type": "code",
   "execution_count": 96,
   "outputs": [
    {
     "data": {
      "text/plain": "name         object\nprice       float64\nincrease    float64\npseincre    float64\ndtype: object"
     },
     "execution_count": 96,
     "metadata": {},
     "output_type": "execute_result"
    }
   ],
   "source": [
    "df.dtypes"
   ],
   "metadata": {
    "collapsed": false,
    "pycharm": {
     "name": "#%%\n"
    }
   }
  },
  {
   "cell_type": "code",
   "execution_count": 1,
   "outputs": [
    {
     "ename": "ModuleNotFoundError",
     "evalue": "No module named 'tvDatafeed'",
     "output_type": "error",
     "traceback": [
      "\u001B[1;31m---------------------------------------------------------------------------\u001B[0m",
      "\u001B[1;31mModuleNotFoundError\u001B[0m                       Traceback (most recent call last)",
      "Cell \u001B[1;32mIn[1], line 1\u001B[0m\n\u001B[1;32m----> 1\u001B[0m \u001B[38;5;28;01mfrom\u001B[39;00m \u001B[38;5;21;01mtvDatafeed\u001B[39;00m \u001B[38;5;28;01mimport\u001B[39;00m TvDatafeed, Interval\n",
      "\u001B[1;31mModuleNotFoundError\u001B[0m: No module named 'tvDatafeed'"
     ]
    }
   ],
   "source": [
    "from tvDatafeed import TvDatafeed, Interval"
   ],
   "metadata": {
    "collapsed": false,
    "pycharm": {
     "name": "#%%\n"
    }
   }
  },
  {
   "cell_type": "code",
   "execution_count": 2,
   "outputs": [
    {
     "name": "stderr",
     "output_type": "stream",
     "text": [
      "ERROR: Could not find a version that satisfies the requirement tvDatafeed (from versions: none)\n",
      "ERROR: No matching distribution found for tvDatafeed\n",
      "WARNING: You are using pip version 21.3.1; however, version 23.3.1 is available.\n",
      "You should consider upgrading via the 'C:\\Users\\aviji\\AppData\\Local\\Programs\\pythonProject8\\Scripts\\python.exe -m pip install --upgrade pip' command.\n"
     ]
    }
   ],
   "source": [
    "!pip install tvDatafeed"
   ],
   "metadata": {
    "collapsed": false,
    "pycharm": {
     "name": "#%%\n"
    }
   }
  },
  {
   "cell_type": "code",
   "execution_count": 3,
   "outputs": [],
   "source": [
    "import pandas as pd"
   ],
   "metadata": {
    "collapsed": false,
    "pycharm": {
     "name": "#%%\n"
    }
   }
  },
  {
   "cell_type": "code",
   "execution_count": 4,
   "outputs": [
    {
     "ename": "ModuleNotFoundError",
     "evalue": "No module named 'yahoofinancials'",
     "output_type": "error",
     "traceback": [
      "\u001B[1;31m---------------------------------------------------------------------------\u001B[0m",
      "\u001B[1;31mModuleNotFoundError\u001B[0m                       Traceback (most recent call last)",
      "Cell \u001B[1;32mIn[4], line 1\u001B[0m\n\u001B[1;32m----> 1\u001B[0m \u001B[38;5;28;01mimport\u001B[39;00m \u001B[38;5;21;01myahoofinancials\u001B[39;00m \u001B[38;5;28;01mas\u001B[39;00m \u001B[38;5;21;01myf\u001B[39;00m\n",
      "\u001B[1;31mModuleNotFoundError\u001B[0m: No module named 'yahoofinancials'"
     ]
    }
   ],
   "source": [
    "import yahoofinancials as yf"
   ],
   "metadata": {
    "collapsed": false,
    "pycharm": {
     "name": "#%%\n"
    }
   }
  },
  {
   "cell_type": "code",
   "execution_count": 5,
   "outputs": [],
   "source": [
    "import yfinance as yf"
   ],
   "metadata": {
    "collapsed": false,
    "pycharm": {
     "name": "#%%\n"
    }
   }
  },
  {
   "cell_type": "code",
   "execution_count": 8,
   "outputs": [
    {
     "name": "stdout",
     "output_type": "stream",
     "text": [
      "[*********************100%%**********************]  1 of 1 completed\n"
     ]
    }
   ],
   "source": [
    "de=yf.download('ZOMATO.NS',start=\"2020-09-11\",end=\"2023-10-20\",interval=\"1d\")"
   ],
   "metadata": {
    "collapsed": false,
    "pycharm": {
     "name": "#%%\n"
    }
   }
  },
  {
   "cell_type": "code",
   "execution_count": 9,
   "outputs": [
    {
     "data": {
      "text/plain": "                  Open        High         Low       Close   Adj Close  \\\nDate                                                                     \n2021-07-23  116.000000  138.899994  115.000000  126.000000  126.000000   \n2021-07-26  126.349998  143.750000  125.300003  140.649994  140.649994   \n2021-07-27  141.699997  147.800003  127.750000  132.899994  132.899994   \n2021-07-28  131.000000  135.000000  123.550003  131.199997  131.199997   \n2021-07-29  134.949997  144.000000  132.199997  141.550003  141.550003   \n...                ...         ...         ...         ...         ...   \n2023-10-13  109.849998  111.800003  109.099998  111.000000  111.000000   \n2023-10-16  111.900002  112.750000  110.849998  111.500000  111.500000   \n2023-10-17  112.500000  114.199997  111.500000  113.849998  113.849998   \n2023-10-18  114.500000  115.099998  109.500000  113.199997  113.199997   \n2023-10-19  112.000000  113.150002  110.650002  111.650002  111.650002   \n\n               Volume  \nDate                   \n2021-07-23  694895290  \n2021-07-26  249723854  \n2021-07-27  240341900  \n2021-07-28  159793731  \n2021-07-29  117973089  \n...               ...  \n2023-10-13   55786063  \n2023-10-16   47455521  \n2023-10-17   55351894  \n2023-10-18  100553806  \n2023-10-19   43517012  \n\n[557 rows x 6 columns]",
      "text/html": "<div>\n<style scoped>\n    .dataframe tbody tr th:only-of-type {\n        vertical-align: middle;\n    }\n\n    .dataframe tbody tr th {\n        vertical-align: top;\n    }\n\n    .dataframe thead th {\n        text-align: right;\n    }\n</style>\n<table border=\"1\" class=\"dataframe\">\n  <thead>\n    <tr style=\"text-align: right;\">\n      <th></th>\n      <th>Open</th>\n      <th>High</th>\n      <th>Low</th>\n      <th>Close</th>\n      <th>Adj Close</th>\n      <th>Volume</th>\n    </tr>\n    <tr>\n      <th>Date</th>\n      <th></th>\n      <th></th>\n      <th></th>\n      <th></th>\n      <th></th>\n      <th></th>\n    </tr>\n  </thead>\n  <tbody>\n    <tr>\n      <th>2021-07-23</th>\n      <td>116.000000</td>\n      <td>138.899994</td>\n      <td>115.000000</td>\n      <td>126.000000</td>\n      <td>126.000000</td>\n      <td>694895290</td>\n    </tr>\n    <tr>\n      <th>2021-07-26</th>\n      <td>126.349998</td>\n      <td>143.750000</td>\n      <td>125.300003</td>\n      <td>140.649994</td>\n      <td>140.649994</td>\n      <td>249723854</td>\n    </tr>\n    <tr>\n      <th>2021-07-27</th>\n      <td>141.699997</td>\n      <td>147.800003</td>\n      <td>127.750000</td>\n      <td>132.899994</td>\n      <td>132.899994</td>\n      <td>240341900</td>\n    </tr>\n    <tr>\n      <th>2021-07-28</th>\n      <td>131.000000</td>\n      <td>135.000000</td>\n      <td>123.550003</td>\n      <td>131.199997</td>\n      <td>131.199997</td>\n      <td>159793731</td>\n    </tr>\n    <tr>\n      <th>2021-07-29</th>\n      <td>134.949997</td>\n      <td>144.000000</td>\n      <td>132.199997</td>\n      <td>141.550003</td>\n      <td>141.550003</td>\n      <td>117973089</td>\n    </tr>\n    <tr>\n      <th>...</th>\n      <td>...</td>\n      <td>...</td>\n      <td>...</td>\n      <td>...</td>\n      <td>...</td>\n      <td>...</td>\n    </tr>\n    <tr>\n      <th>2023-10-13</th>\n      <td>109.849998</td>\n      <td>111.800003</td>\n      <td>109.099998</td>\n      <td>111.000000</td>\n      <td>111.000000</td>\n      <td>55786063</td>\n    </tr>\n    <tr>\n      <th>2023-10-16</th>\n      <td>111.900002</td>\n      <td>112.750000</td>\n      <td>110.849998</td>\n      <td>111.500000</td>\n      <td>111.500000</td>\n      <td>47455521</td>\n    </tr>\n    <tr>\n      <th>2023-10-17</th>\n      <td>112.500000</td>\n      <td>114.199997</td>\n      <td>111.500000</td>\n      <td>113.849998</td>\n      <td>113.849998</td>\n      <td>55351894</td>\n    </tr>\n    <tr>\n      <th>2023-10-18</th>\n      <td>114.500000</td>\n      <td>115.099998</td>\n      <td>109.500000</td>\n      <td>113.199997</td>\n      <td>113.199997</td>\n      <td>100553806</td>\n    </tr>\n    <tr>\n      <th>2023-10-19</th>\n      <td>112.000000</td>\n      <td>113.150002</td>\n      <td>110.650002</td>\n      <td>111.650002</td>\n      <td>111.650002</td>\n      <td>43517012</td>\n    </tr>\n  </tbody>\n</table>\n<p>557 rows × 6 columns</p>\n</div>"
     },
     "execution_count": 9,
     "metadata": {},
     "output_type": "execute_result"
    }
   ],
   "source": [
    "de"
   ],
   "metadata": {
    "collapsed": false,
    "pycharm": {
     "name": "#%%\n"
    }
   }
  },
  {
   "cell_type": "code",
   "execution_count": 1,
   "outputs": [],
   "source": [
    "from bs4 import BeautifulSoup as bs\n",
    "import requests as re\n",
    "import pandas as pd\n",
    "import numpy as np\n",
    "con=re.get('https://www.google.com/finance/markets/gainers?authuser=0').text\n",
    "soup=bs(con,'lxml')"
   ],
   "metadata": {
    "collapsed": false,
    "pycharm": {
     "name": "#%%\n"
    }
   }
  },
  {
   "cell_type": "code",
   "execution_count": null,
   "outputs": [],
   "source": [
    "dei=[]\n",
    "for i in :\n",
    "    i."
   ],
   "metadata": {
    "collapsed": false,
    "pycharm": {
     "name": "#%%\n"
    }
   }
  },
  {
   "cell_type": "code",
   "execution_count": 2,
   "outputs": [],
   "source": [
    "box=soup.find_all('div',class_=\"COaKTb bMPZw wnjT2c DbU0ze\")"
   ],
   "metadata": {
    "collapsed": false,
    "pycharm": {
     "name": "#%%\n"
    }
   }
  },
  {
   "cell_type": "code",
   "execution_count": 3,
   "outputs": [
    {
     "name": "stdout",
     "output_type": "stream",
     "text": [
      "['SANWARIA', 'AJRINFRA', 'RTNINDIA', 'GREENLAM', 'SUBEXLTD', 'CUBEXTUB', 'MBLINFRA', 'PARADEEP', 'VIPULLTD', 'MARATHON', 'RELIANCE', 'HDFCBANK']\n"
     ]
    }
   ],
   "source": [
    "ue=[]\n",
    "for i in box:\n",
    "    ue.append(i.text)\n",
    "print(ue)"
   ],
   "metadata": {
    "collapsed": false,
    "pycharm": {
     "name": "#%%\n"
    }
   }
  },
  {
   "cell_type": "code",
   "execution_count": 4,
   "outputs": [],
   "source": [
    "box1=soup.find_all('div',class_=\"COaKTb\")"
   ],
   "metadata": {
    "collapsed": false,
    "pycharm": {
     "name": "#%%\n"
    }
   }
  },
  {
   "cell_type": "code",
   "execution_count": 6,
   "outputs": [
    {
     "name": "stdout",
     "output_type": "stream",
     "text": [
      "['APOLLO', 'SANWARIA', 'GFLLIMITED', 'NURECA', 'ORBTEXP', 'GEOJITFSL', 'MAZDA', 'JPASSOCIAT', 'KAPSTON', 'TGBHOTELS', 'BBTC', 'ADVANIHOTR', 'PARAGMILK', 'IDEA', 'VISHAL', 'MAANALU', 'AJRINFRA', 'GOENKA', 'PYRAMID', 'RTNINDIA', 'RADHIKAJWE', 'ANANDRATHI', 'GRAVITA', 'FEL', 'BALAJITELE', 'ORICONENT', 'AJMERA', 'GREENLAM', 'MANGLMCEM', 'BSOFT', 'PLASTIBLEN', 'ZAGGLE', 'ELECON', 'SHRENIK', 'SUBEXLTD', 'MINDACORP', 'TOUCHWOOD', 'TCIFINANCE', 'KILITCH', 'SKYGOLD', 'ZODIAC', 'CUBEXTUB', 'JBFIND', 'MBLINFRA', 'ADROITINFO', 'PARADEEP', 'VIPULLTD', 'VINDHYATEL', 'BIOFILCHEM', 'MARATHON', 'Index', 'Index', 'Index', 'Index', 'BSE', 'RELIANCE', 'SBIN', 'YESBANK', 'ITC', 'M&M', 'NS', 'TRIDENT', 'Index', 'IDEA', 'FRETAIL', 'Index', 'BLS', 'HDFCBANK']\n"
     ]
    }
   ],
   "source": [
    "ue1=[]\n",
    "for i in box1:\n",
    "    ue1.append(i.text)\n",
    "print(ue1)"
   ],
   "metadata": {
    "collapsed": false,
    "pycharm": {
     "name": "#%%\n"
    }
   }
  },
  {
   "cell_type": "code",
   "execution_count": 7,
   "outputs": [
    {
     "data": {
      "text/plain": "68"
     },
     "execution_count": 7,
     "metadata": {},
     "output_type": "execute_result"
    }
   ],
   "source": [
    "len(ue1)"
   ],
   "metadata": {
    "collapsed": false,
    "pycharm": {
     "name": "#%%\n"
    }
   }
  },
  {
   "cell_type": "code",
   "execution_count": 8,
   "outputs": [
    {
     "name": "stdout",
     "output_type": "stream",
     "text": [
      "['APOLLO', 'SANWARIA', 'GFLLIMITED', 'NURECA', 'ORBTEXP', 'GEOJITFSL', 'MAZDA', 'JPASSOCIAT', 'KAPSTON', 'TGBHOTELS', 'BBTC', 'ADVANIHOTR', 'PARAGMILK', 'IDEA', 'VISHAL', 'MAANALU', 'AJRINFRA', 'GOENKA', 'PYRAMID', 'RTNINDIA', 'RADHIKAJWE', 'ANANDRATHI', 'GRAVITA', 'FEL', 'BALAJITELE', 'ORICONENT', 'AJMERA', 'GREENLAM', 'MANGLMCEM', 'BSOFT', 'PLASTIBLEN', 'ZAGGLE', 'ELECON', 'SHRENIK', 'SUBEXLTD', 'MINDACORP', 'TOUCHWOOD', 'TCIFINANCE', 'KILITCH', 'SKYGOLD', 'ZODIAC', 'CUBEXTUB', 'JBFIND', 'MBLINFRA', 'ADROITINFO', 'PARADEEP', 'VIPULLTD', 'VINDHYATEL', 'BIOFILCHEM', 'MARATHON', 'Index', 'BSE', 'RELIANCE', 'SBIN', 'YESBANK', 'ITC', 'M&M', 'NS', 'TRIDENT', 'FRETAIL', 'BLS', 'HDFCBANK']\n"
     ]
    }
   ],
   "source": [
    "u=[]\n",
    "for i in ue1:\n",
    "    if i not in u:\n",
    "        u.append(i)\n",
    "print(u)"
   ],
   "metadata": {
    "collapsed": false,
    "pycharm": {
     "name": "#%%\n"
    }
   }
  },
  {
   "cell_type": "code",
   "execution_count": 9,
   "outputs": [
    {
     "data": {
      "text/plain": "62"
     },
     "execution_count": 9,
     "metadata": {},
     "output_type": "execute_result"
    }
   ],
   "source": [
    "len(u)"
   ],
   "metadata": {
    "collapsed": false,
    "pycharm": {
     "name": "#%%\n"
    }
   }
  },
  {
   "cell_type": "code",
   "execution_count": 10,
   "outputs": [],
   "source": [
    "for i in ue:\n",
    "    if i not in ue1:\n",
    "        u.append(i)"
   ],
   "metadata": {
    "collapsed": false,
    "pycharm": {
     "name": "#%%\n"
    }
   }
  },
  {
   "cell_type": "code",
   "execution_count": 11,
   "outputs": [
    {
     "data": {
      "text/plain": "62"
     },
     "execution_count": 11,
     "metadata": {},
     "output_type": "execute_result"
    }
   ],
   "source": [
    "len(u)"
   ],
   "metadata": {
    "collapsed": false,
    "pycharm": {
     "name": "#%%\n"
    }
   }
  },
  {
   "cell_type": "code",
   "execution_count": 12,
   "outputs": [
    {
     "name": "stdout",
     "output_type": "stream",
     "text": [
      "['SANWARIA', 'AJRINFRA', 'RTNINDIA', 'GREENLAM', 'SUBEXLTD', 'CUBEXTUB', 'MBLINFRA', 'PARADEEP', 'VIPULLTD', 'MARATHON', 'RELIANCE', 'HDFCBANK']\n"
     ]
    }
   ],
   "source": [
    "y=[]\n",
    "for i in ue:\n",
    "    if i in u:\n",
    "        y.append(i)\n",
    "print(y)"
   ],
   "metadata": {
    "collapsed": false,
    "pycharm": {
     "name": "#%%\n"
    }
   }
  },
  {
   "cell_type": "code",
   "execution_count": 13,
   "outputs": [
    {
     "data": {
      "text/plain": "12"
     },
     "execution_count": 13,
     "metadata": {},
     "output_type": "execute_result"
    }
   ],
   "source": [
    "len(y)"
   ],
   "metadata": {
    "collapsed": false,
    "pycharm": {
     "name": "#%%\n"
    }
   }
  },
  {
   "cell_type": "code",
   "execution_count": 14,
   "outputs": [
    {
     "data": {
      "text/plain": "12"
     },
     "execution_count": 14,
     "metadata": {},
     "output_type": "execute_result"
    }
   ],
   "source": [
    "len(ue)"
   ],
   "metadata": {
    "collapsed": false,
    "pycharm": {
     "name": "#%%\n"
    }
   }
  },
  {
   "cell_type": "code",
   "execution_count": 15,
   "outputs": [],
   "source": [
    "import pandas as pd"
   ],
   "metadata": {
    "collapsed": false,
    "pycharm": {
     "name": "#%%\n"
    }
   }
  },
  {
   "cell_type": "code",
   "execution_count": 16,
   "outputs": [
    {
     "data": {
      "text/plain": "62"
     },
     "execution_count": 16,
     "metadata": {},
     "output_type": "execute_result"
    }
   ],
   "source": [
    "len(u)"
   ],
   "metadata": {
    "collapsed": false,
    "pycharm": {
     "name": "#%%\n"
    }
   }
  },
  {
   "cell_type": "code",
   "execution_count": 17,
   "outputs": [
    {
     "ename": "AttributeError",
     "evalue": "'list' object has no attribute 'to_csv'",
     "output_type": "error",
     "traceback": [
      "\u001B[1;31m---------------------------------------------------------------------------\u001B[0m",
      "\u001B[1;31mAttributeError\u001B[0m                            Traceback (most recent call last)",
      "Cell \u001B[1;32mIn[17], line 1\u001B[0m\n\u001B[1;32m----> 1\u001B[0m \u001B[43mu\u001B[49m\u001B[38;5;241;43m.\u001B[39;49m\u001B[43mto_csv\u001B[49m(\u001B[38;5;124m'\u001B[39m\u001B[38;5;124mname.csv\u001B[39m\u001B[38;5;124m'\u001B[39m,index\u001B[38;5;241m=\u001B[39m\u001B[38;5;28;01mFalse\u001B[39;00m)\n",
      "\u001B[1;31mAttributeError\u001B[0m: 'list' object has no attribute 'to_csv'"
     ]
    }
   ],
   "source": [
    "u.to_csv('name.csv',index=False)"
   ],
   "metadata": {
    "collapsed": false,
    "pycharm": {
     "name": "#%%\n"
    }
   }
  },
  {
   "cell_type": "code",
   "execution_count": 18,
   "outputs": [],
   "source": [
    "df=pd.DataFrame({ \"Name\": u})"
   ],
   "metadata": {
    "collapsed": false,
    "pycharm": {
     "name": "#%%\n"
    }
   }
  },
  {
   "cell_type": "code",
   "execution_count": 19,
   "outputs": [],
   "source": [
    "df.to_csv('name.csv',index=False)"
   ],
   "metadata": {
    "collapsed": false,
    "pycharm": {
     "name": "#%%\n"
    }
   }
  },
  {
   "cell_type": "code",
   "execution_count": 20,
   "outputs": [
    {
     "data": {
      "text/plain": "{'ALLUSERSPROFILE': 'C:\\\\ProgramData',\n 'APPCODE_VM_OPTIONS': 'C:\\\\HaxNode\\\\ja-netfilter-all\\\\vmoptions\\\\appcode.vmoptions',\n 'APPDATA': 'C:\\\\Users\\\\aviji\\\\AppData\\\\Roaming',\n 'CHOCOLATEYINSTALL': 'C:\\\\ProgramData\\\\chocolatey',\n 'CHOCOLATEYLASTPATHUPDATE': '133297568921247169',\n 'CLION_VM_OPTIONS': 'C:\\\\HaxNode\\\\ja-netfilter-all\\\\vmoptions\\\\clion.vmoptions',\n 'COMMONPROGRAMFILES': 'C:\\\\Program Files\\\\Common Files',\n 'COMMONPROGRAMFILES(X86)': 'C:\\\\Program Files (x86)\\\\Common Files',\n 'COMMONPROGRAMW6432': 'C:\\\\Program Files\\\\Common Files',\n 'COMPUTERNAME': 'AVIJIT',\n 'COMSPEC': 'C:\\\\WINDOWS\\\\system32\\\\cmd.exe',\n 'CONDA_SHLVL': '0',\n 'DATAGRIP_VM_OPTIONS': 'C:\\\\HaxNode\\\\ja-netfilter-all\\\\vmoptions\\\\datagrip.vmoptions',\n 'DATASPELL_VM_OPTIONS': 'C:\\\\HaxNode\\\\ja-netfilter-all\\\\vmoptions\\\\dataspell.vmoptions',\n 'DEVECOSTUDIO_VM_OPTIONS': 'C:\\\\HaxNode\\\\ja-netfilter-all\\\\vmoptions\\\\devecostudio.vmoptions',\n 'DRIVERDATA': 'C:\\\\Windows\\\\System32\\\\Drivers\\\\DriverData',\n 'EFC_7212': '1',\n 'FPS_BROWSER_APP_PROFILE_STRING': 'Internet Explorer',\n 'FPS_BROWSER_USER_PROFILE_STRING': 'Default',\n 'GATEWAY_VM_OPTIONS': 'C:\\\\HaxNode\\\\ja-netfilter-all\\\\vmoptions\\\\gateway.vmoptions',\n 'GOLAND_VM_OPTIONS': 'C:\\\\HaxNode\\\\ja-netfilter-all\\\\vmoptions\\\\goland.vmoptions',\n 'HOMEDRIVE': 'C:',\n 'HOMEPATH': '\\\\Users\\\\aviji',\n 'IDEA_INITIAL_DIRECTORY': 'C:\\\\Program Files\\\\JetBrains\\\\PyCharm 2022.2\\\\bin',\n 'IDEA_VM_OPTIONS': 'C:\\\\HaxNode\\\\ja-netfilter-all\\\\vmoptions\\\\idea.vmoptions',\n 'JETBRAINSCLIENT_VM_OPTIONS': 'C:\\\\HaxNode\\\\ja-netfilter-all\\\\vmoptions\\\\jetbrainsclient.vmoptions',\n 'JETBRAINS_CLIENT_VM_OPTIONS': 'C:\\\\HaxNode\\\\ja-netfilter-all\\\\vmoptions\\\\jetbrains_client.vmoptions',\n 'LANG': 'en_US.UTF-8',\n 'LANGUAGE': '',\n 'LC_ALL': 'en_US.UTF-8',\n 'LOCALAPPDATA': 'C:\\\\Users\\\\aviji\\\\AppData\\\\Local',\n 'LOGONSERVER': '\\\\\\\\AVIJIT',\n 'NUMBER_OF_PROCESSORS': '16',\n 'ONEDRIVE': 'C:\\\\Users\\\\aviji\\\\OneDrive',\n 'OS': 'Windows_NT',\n 'PATH': 'C:\\\\Users\\\\aviji\\\\AppData\\\\Local\\\\Programs\\\\pythonProject8\\\\Scripts;C:\\\\ProgramData\\\\anaconda3\\\\condabin;C:\\\\Windows\\\\system32;C:\\\\Windows;C:\\\\Windows\\\\System32\\\\Wbem;C:\\\\Windows\\\\System32\\\\WindowsPowerShell\\\\v1.0\\\\;C:\\\\Windows\\\\System32\\\\OpenSSH\\\\;C:\\\\Program Files (x86)\\\\NVIDIA Corporation\\\\PhysX\\\\Common;C:\\\\Program Files\\\\NVIDIA Corporation\\\\NVIDIA NvDLISR;C:\\\\Users\\\\aviji\\\\AppData\\\\Local\\\\Programs\\\\Python\\\\Python310\\\\Scripts;C:\\\\Program Files\\\\Git\\\\cmd;C:\\\\Users\\\\aviji\\\\AppData\\\\Local\\\\Programs\\\\Python\\\\Python310;C:\\\\WINDOWS\\\\system32;C:\\\\WINDOWS;C:\\\\WINDOWS\\\\System32\\\\Wbem;C:\\\\WINDOWS\\\\System32\\\\WindowsPowerShell\\\\v1.0\\\\;C:\\\\WINDOWS\\\\System32\\\\OpenSSH\\\\;C:\\\\ProgramData\\\\anaconda3\\\\Scripts;C:\\\\ProgramData\\\\anaconda3;C:\\\\ProgramData\\\\anaconda3\\\\Library\\\\bin;C:\\\\Users\\\\aviji\\\\AppData\\\\Local\\\\Programs\\\\Python\\\\Python311;C:\\\\Users\\\\aviji\\\\AppData\\\\Local\\\\Programs\\\\Python\\\\Python311\\\\Scripts;C:\\\\ProgramData\\\\chocolatey\\\\bin;C:\\\\Program Files\\\\MySQL\\\\MySQL Shell 8.0\\\\bin\\\\;C:\\\\Users\\\\aviji\\\\AppData\\\\Local\\\\Microsoft\\\\WindowsApps;C:\\\\Program Files\\\\JetBrains\\\\PyCharm Community Edition 2022.2.2\\\\bin;;C:\\\\Users\\\\aviji\\\\AppData\\\\Local\\\\Programs\\\\Microsoft VS Code\\\\bin;C:\\\\Program Files\\\\JetBrains\\\\PyCharm 2022.3.2\\\\bin;;C:\\\\Users\\\\aviji\\\\AppData\\\\Local\\\\Programs\\\\Python\\\\Python311\\\\python.exe;C:\\\\Users\\\\aviji\\\\AppData\\\\Local\\\\Programs\\\\Python\\\\Python311\\\\Scripts',\n 'PATHEXT': '.COM;.EXE;.BAT;.CMD;.VBS;.VBE;.JS;.JSE;.WSF;.WSH;.MSC',\n 'PHPSTORM_VM_OPTIONS': 'C:\\\\HaxNode\\\\ja-netfilter-all\\\\vmoptions\\\\phpstorm.vmoptions',\n 'PROCESSOR_ARCHITECTURE': 'AMD64',\n 'PROCESSOR_IDENTIFIER': 'Intel64 Family 6 Model 154 Stepping 3, GenuineIntel',\n 'PROCESSOR_LEVEL': '6',\n 'PROCESSOR_REVISION': '9a03',\n 'PROGRAMDATA': 'C:\\\\ProgramData',\n 'PROGRAMFILES': 'C:\\\\Program Files',\n 'PROGRAMFILES(X86)': 'C:\\\\Program Files (x86)',\n 'PROGRAMW6432': 'C:\\\\Program Files',\n 'PROMPT': '(pythonProject8) $P$G',\n 'PSMODULEPATH': 'C:\\\\Program Files\\\\WindowsPowerShell\\\\Modules;C:\\\\WINDOWS\\\\system32\\\\WindowsPowerShell\\\\v1.0\\\\Modules',\n 'PUBLIC': 'C:\\\\Users\\\\Public',\n 'PYCHARM': 'C:\\\\Program Files\\\\JetBrains\\\\PyCharm 2022.3.2\\\\bin;',\n 'PYCHARM COMMUNITY EDITION': 'C:\\\\Program Files\\\\JetBrains\\\\PyCharm Community Edition 2022.2.2\\\\bin;',\n 'PYCHARM_VM_OPTIONS': 'C:\\\\HaxNode\\\\ja-netfilter-all\\\\vmoptions\\\\pycharm.vmoptions',\n 'PYTHONPATH': 'D:\\\\Pyn\\\\online learning\\\\INURAN_DATA\\\\FSDS_September\\\\TEST_WORK',\n 'RIDER_VM_OPTIONS': 'C:\\\\HaxNode\\\\ja-netfilter-all\\\\vmoptions\\\\rider.vmoptions',\n 'RUBYMINE_VM_OPTIONS': 'C:\\\\HaxNode\\\\ja-netfilter-all\\\\vmoptions\\\\rubymine.vmoptions',\n 'SESSIONNAME': 'Console',\n 'STUDIO_VM_OPTIONS': 'C:\\\\HaxNode\\\\ja-netfilter-all\\\\vmoptions\\\\studio.vmoptions',\n 'SYSTEMDRIVE': 'C:',\n 'SYSTEMROOT': 'C:\\\\WINDOWS',\n 'TEMP': 'C:\\\\Users\\\\aviji\\\\AppData\\\\Local\\\\Temp',\n 'TMP': 'C:\\\\Users\\\\aviji\\\\AppData\\\\Local\\\\Temp',\n 'USERDOMAIN': 'AVIJIT',\n 'USERDOMAIN_ROAMINGPROFILE': 'AVIJIT',\n 'USERNAME': 'avijit',\n 'USERPROFILE': 'C:\\\\Users\\\\aviji',\n 'VIRTUAL_ENV': 'C:\\\\Users\\\\aviji\\\\AppData\\\\Local\\\\Programs\\\\pythonProject8',\n 'WEBIDE_VM_OPTIONS': 'C:\\\\HaxNode\\\\ja-netfilter-all\\\\vmoptions\\\\webide.vmoptions',\n 'WEBSTORM_VM_OPTIONS': 'C:\\\\HaxNode\\\\ja-netfilter-all\\\\vmoptions\\\\webstorm.vmoptions',\n 'WINDIR': 'C:\\\\WINDOWS',\n 'ZES_ENABLE_SYSMAN': '1',\n '_OLD_VIRTUAL_PATH': 'C:\\\\ProgramData\\\\anaconda3\\\\condabin;C:\\\\Windows\\\\system32;C:\\\\Windows;C:\\\\Windows\\\\System32\\\\Wbem;C:\\\\Windows\\\\System32\\\\WindowsPowerShell\\\\v1.0\\\\;C:\\\\Windows\\\\System32\\\\OpenSSH\\\\;C:\\\\Program Files (x86)\\\\NVIDIA Corporation\\\\PhysX\\\\Common;C:\\\\Program Files\\\\NVIDIA Corporation\\\\NVIDIA NvDLISR;C:\\\\Users\\\\aviji\\\\AppData\\\\Local\\\\Programs\\\\Python\\\\Python310\\\\Scripts;C:\\\\Program Files\\\\Git\\\\cmd;C:\\\\Users\\\\aviji\\\\AppData\\\\Local\\\\Programs\\\\Python\\\\Python310;C:\\\\WINDOWS\\\\system32;C:\\\\WINDOWS;C:\\\\WINDOWS\\\\System32\\\\Wbem;C:\\\\WINDOWS\\\\System32\\\\WindowsPowerShell\\\\v1.0\\\\;C:\\\\WINDOWS\\\\System32\\\\OpenSSH\\\\;C:\\\\ProgramData\\\\anaconda3\\\\Scripts;C:\\\\ProgramData\\\\anaconda3;C:\\\\ProgramData\\\\anaconda3\\\\Library\\\\bin;C:\\\\Users\\\\aviji\\\\AppData\\\\Local\\\\Programs\\\\Python\\\\Python311;C:\\\\Users\\\\aviji\\\\AppData\\\\Local\\\\Programs\\\\Python\\\\Python311\\\\Scripts;C:\\\\ProgramData\\\\chocolatey\\\\bin;C:\\\\Program Files\\\\MySQL\\\\MySQL Shell 8.0\\\\bin\\\\;C:\\\\Users\\\\aviji\\\\AppData\\\\Local\\\\Microsoft\\\\WindowsApps;C:\\\\Program Files\\\\JetBrains\\\\PyCharm Community Edition 2022.2.2\\\\bin;;C:\\\\Users\\\\aviji\\\\AppData\\\\Local\\\\Programs\\\\Microsoft VS Code\\\\bin;C:\\\\Program Files\\\\JetBrains\\\\PyCharm 2022.3.2\\\\bin;;C:\\\\Users\\\\aviji\\\\AppData\\\\Local\\\\Programs\\\\Python\\\\Python311\\\\python.exe;C:\\\\Users\\\\aviji\\\\AppData\\\\Local\\\\Programs\\\\Python\\\\Python311\\\\Scripts',\n '_OLD_VIRTUAL_PROMPT': '$P$G',\n 'PYDEVD_USE_FRAME_EVAL': 'NO',\n 'JPY_INTERRUPT_EVENT': '2400',\n 'IPY_INTERRUPT_EVENT': '2400',\n 'JPY_PARENT_PID': '2996',\n 'TERM': 'xterm-color',\n 'CLICOLOR': '1',\n 'FORCE_COLOR': '1',\n 'CLICOLOR_FORCE': '1',\n 'PAGER': 'cat',\n 'GIT_PAGER': 'cat',\n 'MPLBACKEND': 'module://matplotlib_inline.backend_inline'}"
     },
     "execution_count": 20,
     "metadata": {},
     "output_type": "execute_result"
    }
   ],
   "source": [
    "%env"
   ],
   "metadata": {
    "collapsed": false,
    "pycharm": {
     "name": "#%%\n"
    }
   }
  },
  {
   "cell_type": "code",
   "execution_count": 21,
   "outputs": [
    {
     "name": "stdout",
     "output_type": "stream",
     "text": [
      " Volume in drive D is New Volume\n",
      " Volume Serial Number is 382B-1B16\n",
      "\n",
      " Directory of D:\\Pyn\\online learning\\INURAN_DATA\\FSDS_September\\TEST_WORK\\STOCKS\\SCRAP_FINA\n",
      "\n",
      "01-11-2023  12:55    <DIR>          .\n",
      "30-10-2023  16:28    <DIR>          ..\n",
      "30-10-2023  20:23            17,825 GOOFIN.ipynb\n",
      "30-10-2023  16:48               594 goole_ifine.py\n",
      "01-11-2023  11:42               574 name.csv\n",
      "31-10-2023  18:32               607 new.py\n",
      "01-11-2023  11:01            32,680 new_data_e.ipynb\n",
      "01-11-2023  12:55           117,253 project_fi.ipynb\n",
      "               6 File(s)        169,533 bytes\n",
      "               2 Dir(s)  27,926,712,320 bytes free\n"
     ]
    }
   ],
   "source": [
    "ls"
   ],
   "metadata": {
    "collapsed": false,
    "pycharm": {
     "name": "#%%\n"
    }
   }
  },
  {
   "cell_type": "code",
   "execution_count": 22,
   "outputs": [
    {
     "name": "stdout",
     "output_type": "stream",
     "text": [
      "Writing file1.py\n"
     ]
    }
   ],
   "source": [
    "%%writefile file1.py\n",
    "list=[10,20,30,35,60,65]\n",
    "\n",
    "for i in list:\n",
    "    print(i)"
   ],
   "metadata": {
    "collapsed": false,
    "pycharm": {
     "name": "#%%\n"
    }
   }
  },
  {
   "cell_type": "code",
   "execution_count": 23,
   "outputs": [
    {
     "name": "stdout",
     "output_type": "stream",
     "text": [
      " Volume in drive D is New Volume\n",
      " Volume Serial Number is 382B-1B16\n",
      "\n",
      " Directory of D:\\Pyn\\online learning\\INURAN_DATA\\FSDS_September\\TEST_WORK\\STOCKS\\SCRAP_FINA\n",
      "\n",
      "01-11-2023  13:03    <DIR>          .\n",
      "30-10-2023  16:28    <DIR>          ..\n",
      "01-11-2023  13:03                58 file1.py\n",
      "30-10-2023  20:23            17,825 GOOFIN.ipynb\n",
      "30-10-2023  16:48               594 goole_ifine.py\n",
      "01-11-2023  11:42               574 name.csv\n",
      "31-10-2023  18:32               607 new.py\n",
      "01-11-2023  11:01            32,680 new_data_e.ipynb\n",
      "01-11-2023  13:03           118,827 project_fi.ipynb\n",
      "               7 File(s)        171,165 bytes\n",
      "               2 Dir(s)  27,926,708,224 bytes free\n"
     ]
    }
   ],
   "source": [
    "ls"
   ],
   "metadata": {
    "collapsed": false,
    "pycharm": {
     "name": "#%%\n"
    }
   }
  },
  {
   "cell_type": "code",
   "execution_count": 24,
   "outputs": [
    {
     "name": "stdout",
     "output_type": "stream",
     "text": [
      "10\n",
      "20\n",
      "30\n",
      "35\n",
      "60\n",
      "65\n"
     ]
    }
   ],
   "source": [
    "%run file1.py"
   ],
   "metadata": {
    "collapsed": false,
    "pycharm": {
     "name": "#%%\n"
    }
   }
  },
  {
   "cell_type": "code",
   "execution_count": 25,
   "outputs": [],
   "source": [
    "%load file1.py"
   ],
   "metadata": {
    "collapsed": false,
    "pycharm": {
     "name": "#%%\n"
    }
   }
  },
  {
   "cell_type": "code",
   "execution_count": 26,
   "outputs": [
    {
     "ename": "NameError",
     "evalue": "name 'file1' is not defined",
     "output_type": "error",
     "traceback": [
      "\u001B[1;31m---------------------------------------------------------------------------\u001B[0m",
      "\u001B[1;31mNameError\u001B[0m                                 Traceback (most recent call last)",
      "Cell \u001B[1;32mIn[26], line 1\u001B[0m\n\u001B[1;32m----> 1\u001B[0m \u001B[43mfile1\u001B[49m\u001B[38;5;241m.\u001B[39mpy\n",
      "\u001B[1;31mNameError\u001B[0m: name 'file1' is not defined"
     ]
    }
   ],
   "source": [
    "file1.py"
   ],
   "metadata": {
    "collapsed": false,
    "pycharm": {
     "name": "#%%\n"
    }
   }
  },
  {
   "cell_type": "code",
   "execution_count": 27,
   "outputs": [],
   "source": [
    "%load file1.py"
   ],
   "metadata": {
    "collapsed": false,
    "pycharm": {
     "name": "#%%\n"
    }
   }
  },
  {
   "cell_type": "code",
   "execution_count": 28,
   "outputs": [
    {
     "name": "stdout",
     "output_type": "stream",
     "text": [
      " Volume in drive D is New Volume\n",
      " Volume Serial Number is 382B-1B16\n",
      "\n",
      " Directory of D:\\Pyn\\online learning\\INURAN_DATA\\FSDS_September\\TEST_WORK\\STOCKS\\SCRAP_FINA\n",
      "\n",
      "01-11-2023  13:08    <DIR>          .\n",
      "30-10-2023  16:28    <DIR>          ..\n",
      "01-11-2023  13:03                58 file1.py\n",
      "30-10-2023  20:23            17,825 GOOFIN.ipynb\n",
      "30-10-2023  16:48               594 goole_ifine.py\n",
      "01-11-2023  11:42               574 name.csv\n",
      "31-10-2023  18:32               607 new.py\n",
      "01-11-2023  11:01            32,680 new_data_e.ipynb\n",
      "01-11-2023  13:08           121,655 project_fi.ipynb\n",
      "               7 File(s)        173,993 bytes\n",
      "               2 Dir(s)  27,926,708,224 bytes free\n"
     ]
    }
   ],
   "source": [
    "ls"
   ],
   "metadata": {
    "collapsed": false,
    "pycharm": {
     "name": "#%%\n"
    }
   }
  },
  {
   "cell_type": "code",
   "execution_count": 30,
   "outputs": [],
   "source": [
    "from datetime import datetime as dt"
   ],
   "metadata": {
    "collapsed": false,
    "pycharm": {
     "name": "#%%\n"
    }
   }
  },
  {
   "cell_type": "code",
   "execution_count": 31,
   "outputs": [
    {
     "data": {
      "text/plain": "datetime.datetime(2023, 11, 1, 13, 20, 8, 511917)"
     },
     "execution_count": 31,
     "metadata": {},
     "output_type": "execute_result"
    }
   ],
   "source": [
    "dt.today()"
   ],
   "metadata": {
    "collapsed": false,
    "pycharm": {
     "name": "#%%\n"
    }
   }
  },
  {
   "cell_type": "code",
   "execution_count": null,
   "outputs": [],
   "source": [
    "dt.today()"
   ],
   "metadata": {
    "collapsed": false,
    "pycharm": {
     "name": "#%%\n"
    }
   }
  },
  {
   "cell_type": "code",
   "execution_count": 3,
   "outputs": [
    {
     "data": {
      "text/plain": "[3, 6, 9, 12, 18, 21, 24, 27, 33, 36, 39]"
     },
     "execution_count": 3,
     "metadata": {},
     "output_type": "execute_result"
    }
   ],
   "source": [
    "def nam():\n",
    "    ye=[]\n",
    "    for i in range(40):\n",
    "        if i%3==0 and i%5!=0:\n",
    "            ye.append(i)\n",
    "    return ye\n",
    "nam()"
   ],
   "metadata": {
    "collapsed": false,
    "pycharm": {
     "name": "#%%\n"
    }
   }
  },
  {
   "cell_type": "code",
   "execution_count": 5,
   "outputs": [],
   "source": [
    "def mei(e):\n",
    "    for i in e:\n",
    "        if i%2==0:\n",
    "            return i\n",
    "        else:\n",
    "            return 0"
   ],
   "metadata": {
    "collapsed": false,
    "pycharm": {
     "name": "#%%\n"
    }
   }
  },
  {
   "cell_type": "code",
   "execution_count": 4,
   "outputs": [
    {
     "ename": "NameError",
     "evalue": "name 'ye' is not defined",
     "output_type": "error",
     "traceback": [
      "\u001B[1;31m---------------------------------------------------------------------------\u001B[0m",
      "\u001B[1;31mNameError\u001B[0m                                 Traceback (most recent call last)",
      "Cell \u001B[1;32mIn[4], line 1\u001B[0m\n\u001B[1;32m----> 1\u001B[0m \u001B[38;5;28mprint\u001B[39m(\u001B[43mye\u001B[49m)\n",
      "\u001B[1;31mNameError\u001B[0m: name 'ye' is not defined"
     ]
    }
   ],
   "source": [
    "u=[]\n",
    "for i in range(50):\n",
    "    u.append(i)\n"
   ],
   "metadata": {
    "collapsed": false,
    "pycharm": {
     "name": "#%%\n"
    }
   }
  },
  {
   "cell_type": "code",
   "execution_count": 6,
   "outputs": [
    {
     "name": "stdout",
     "output_type": "stream",
     "text": [
      "Buy on day: 2\n",
      "Sell on day: 4\n",
      "Maximized Profit: 110\n"
     ]
    }
   ],
   "source": [
    "def find_best_days(prices):\n",
    "    buy_day = 0\n",
    "    sell_day = 0\n",
    "    max_profit = 0\n",
    "\n",
    "    for i in range(len(prices)):\n",
    "        for j in range(i+1, len(prices)):\n",
    "            profit = prices[j] - prices[i]\n",
    "            if profit > max_profit:\n",
    "                max_profit = profit\n",
    "                buy_day = i\n",
    "                sell_day = j\n",
    "\n",
    "    return buy_day, sell_day\n",
    "\n",
    "# Example usage\n",
    "closing_prices = [100, 120, 90, 150, 200, 180]\n",
    "buy, sell = find_best_days(closing_prices)\n",
    "\n",
    "print(\"Buy on day:\", buy)\n",
    "print(\"Sell on day:\", sell)\n",
    "print(\"Maximized Profit:\", closing_prices[sell] - closing_prices[buy])"
   ],
   "metadata": {
    "collapsed": false,
    "pycharm": {
     "name": "#%%\n"
    }
   }
  },
  {
   "cell_type": "code",
   "execution_count": null,
   "outputs": [],
   "source": [],
   "metadata": {
    "collapsed": false,
    "pycharm": {
     "name": "#%%\n"
    }
   }
  }
 ],
 "metadata": {
  "kernelspec": {
   "display_name": "Python 3",
   "language": "python",
   "name": "python3"
  },
  "language_info": {
   "codemirror_mode": {
    "name": "ipython",
    "version": 2
   },
   "file_extension": ".py",
   "mimetype": "text/x-python",
   "name": "python",
   "nbconvert_exporter": "python",
   "pygments_lexer": "ipython2",
   "version": "2.7.6"
  }
 },
 "nbformat": 4,
 "nbformat_minor": 0
}