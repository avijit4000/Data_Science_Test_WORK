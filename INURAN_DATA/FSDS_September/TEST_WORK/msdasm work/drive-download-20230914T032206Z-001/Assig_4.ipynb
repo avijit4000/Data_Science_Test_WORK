{
 "cells": [
  {
   "cell_type": "markdown",
   "source": [
    "1. The information about colors is to be stored in bits of a char variable called color. The bit number 0 to 6, each represent 7 colors of a rainbow, i.e. bit 0 represents violet, 1 represents indigo, and so on as given below. Write a program using function that asks the user to enter a number and based on this number it reports which colours in the rainbow does the number represents.\n",
    " Red Orange Yellow Green Blue Indigo Violet"
   ],
   "metadata": {
    "collapsed": false,
    "pycharm": {
     "name": "#%% md\n"
    }
   }
  },
  {
   "cell_type": "code",
   "execution_count": 1,
   "outputs": [
    {
     "name": "stdout",
     "output_type": "stream",
     "text": [
      "The number 64 represents the following colors of the rainbow:\n",
      "Red\n"
     ]
    }
   ],
   "source": [
    "def is_bit_set(color, bit):\n",
    "    return (color & (1 << bit)) != 0\n",
    "# Function to convert a number to binary representation with leading zeros\n",
    "def to_binary_with_zeros(number, length):\n",
    "    binary_str = bin(number)[2:]\n",
    "    return binary_str.zfill(length)\n",
    "\n",
    "def main():\n",
    "    color = 0  # Initialize color variable to store color information\n",
    "\n",
    "    try:\n",
    "        number = int(input(\"Enter a number (0-127): \"))\n",
    "\n",
    "        if number < 0 or number > 127:\n",
    "            print(\"Invalid input. Please enter a number between 0 and 127.\")\n",
    "            return\n",
    "\n",
    "        color = number  # Store the input number in the color variable\n",
    "\n",
    "        print(f\"The number {number} represents the following colors of the rainbow:\")\n",
    "\n",
    "        rainbow_colors = [\"Violet\", \"Indigo\", \"Blue\", \"Green\", \"Yellow\", \"Orange\", \"Red\"]\n",
    "        for bit in range(7):\n",
    "            if is_bit_set(color, bit):\n",
    "                print(rainbow_colors[bit])\n",
    "\n",
    "    except ValueError:\n",
    "        print(\"Invalid input. Please enter a valid number.\")\n",
    "\n",
    "if __name__ == \"__main__\":\n",
    "    main()"
   ],
   "metadata": {
    "collapsed": false,
    "pycharm": {
     "name": "#%%\n"
    }
   }
  },
  {
   "cell_type": "markdown",
   "source": [
    "2. Fifteen numbers are taken from the user. The number to be searched is entered through the keyboard by the user. Write a program using appropriate function(s) to find if the number to be searched is present in the array and if it is present, display the number of times it appears in the list."
   ],
   "metadata": {
    "collapsed": false,
    "pycharm": {
     "name": "#%% md\n"
    }
   }
  },
  {
   "cell_type": "code",
   "execution_count": 3,
   "outputs": [
    {
     "name": "stdout",
     "output_type": "stream",
     "text": [
      "91 is present in the list 1 times.\n"
     ]
    }
   ],
   "source": [
    "def count_occurrences(numbers, target):\n",
    "    count = 0\n",
    "    for number in numbers:\n",
    "        if number == target:\n",
    "            count += 1\n",
    "    return count\n",
    "\n",
    "# Input 15 numbers from the user\n",
    "numbers = []\n",
    "for i in range(15):\n",
    "    num = int(input(f\"Enter number {i + 1}: \"))\n",
    "    numbers.append(num)\n",
    "\n",
    "# Input the number to search for\n",
    "search_number = int(input(\"Enter the number to search for: \"))\n",
    "\n",
    "# Call the function to count occurrences\n",
    "occurrences = count_occurrences(numbers, search_number)\n",
    "\n",
    "# Display the result\n",
    "if occurrences > 0:\n",
    "    print(f\"{search_number} is present in the list {occurrences} times.\")\n",
    "else:\n",
    "    print(f\"{search_number} is not present in the list.\")"
   ],
   "metadata": {
    "collapsed": false,
    "pycharm": {
     "name": "#%%\n"
    }
   }
  },
  {
   "cell_type": "markdown",
   "source": [
    "3. Read fifteen numbers from user. Write a program to find out how many of them are positive, how\n",
    "many are negative, how many are even and how many odd."
   ],
   "metadata": {
    "collapsed": false,
    "pycharm": {
     "name": "#%% md\n"
    }
   }
  },
  {
   "cell_type": "code",
   "execution_count": 4,
   "outputs": [
    {
     "name": "stdout",
     "output_type": "stream",
     "text": [
      "Number of positive numbers: 15\n",
      "Number of negative numbers: 0\n",
      "Number of even numbers: 6\n",
      "Number of odd numbers: 9\n"
     ]
    }
   ],
   "source": [
    "positive_count = 0\n",
    "negative_count = 0\n",
    "even_count = 0\n",
    "odd_count = 0\n",
    "\n",
    "# Read fifteen numbers from the user\n",
    "for i in range(15):\n",
    "    num = int(input(f\"Enter number {i + 1}: \"))\n",
    "\n",
    "    # Check if the number is positive, negative, even, or odd\n",
    "    if num > 0:\n",
    "        positive_count += 1\n",
    "    elif num < 0:\n",
    "        negative_count += 1\n",
    "\n",
    "    if num % 2 == 0:\n",
    "        even_count += 1\n",
    "    else:\n",
    "        odd_count += 1\n",
    "\n",
    "# Display the results\n",
    "print(f\"Number of positive numbers: {positive_count}\")\n",
    "print(f\"Number of negative numbers: {negative_count}\")\n",
    "print(f\"Number of even numbers: {even_count}\")\n",
    "print(f\"Number of odd numbers: {odd_count}\")"
   ],
   "metadata": {
    "collapsed": false,
    "pycharm": {
     "name": "#%%\n"
    }
   }
  },
  {
   "cell_type": "markdown",
   "source": [
    "4. Write a program using two array of numbers taken from user and merging the two lists such that\n",
    "merged list is in the sorted order. Write functions to solve the above task"
   ],
   "metadata": {
    "collapsed": false,
    "pycharm": {
     "name": "#%% md\n"
    }
   }
  },
  {
   "cell_type": "code",
   "execution_count": 5,
   "outputs": [
    {
     "name": "stdout",
     "output_type": "stream",
     "text": [
      "Merged and sorted list: [48, 65]\n"
     ]
    }
   ],
   "source": [
    "def merge_sorted_arrays(arr1, arr2):\n",
    "    merged = []\n",
    "    i = j = 0\n",
    "\n",
    "    while i < len(arr1) and j < len(arr2):\n",
    "        if arr1[i] < arr2[j]:\n",
    "            merged.append(arr1[i])\n",
    "            i += 1\n",
    "        else:\n",
    "            merged.append(arr2[j])\n",
    "            j += 1\n",
    "    # Append any remaining elements from arr1 and arr2 (if any)\n",
    "    while i < len(arr1):\n",
    "        merged.append(arr1[i])\n",
    "        i += 1\n",
    "    while j < len(arr2):\n",
    "        merged.append(arr2[j])\n",
    "        j += 1\n",
    "\n",
    "    return merged\n",
    "# Input two arrays from the user\n",
    "arr1 = list(map(int, input(\"Enter the first array of numbers (comma-separated): \").split(',')))\n",
    "arr2 = list(map(int, input(\"Enter the second array of numbers (comma-separated): \").split(',')))\n",
    "\n",
    "# Call the function to merge and sort the arrays\n",
    "merged_list = merge_sorted_arrays(arr1, arr2)\n",
    "# Display the sorted merged list\n",
    "print(\"Merged and sorted list:\", merged_list)"
   ],
   "metadata": {
    "collapsed": false,
    "pycharm": {
     "name": "#%%\n"
    }
   }
  },
  {
   "cell_type": "markdown",
   "source": [
    "5. Write a program to perform addition and multiplication of two 3 x 3 matrix."
   ],
   "metadata": {
    "collapsed": false,
    "pycharm": {
     "name": "#%% md\n"
    }
   }
  },
  {
   "cell_type": "code",
   "execution_count": 7,
   "outputs": [
    {
     "name": "stdout",
     "output_type": "stream",
     "text": [
      "Enter elements of the first 3x3 matrix:\n",
      "Enter elements of the second 3x3 matrix:\n",
      "\n",
      "Addition Result:\n",
      "[90, 68, 72]\n",
      "[132, 66, 40]\n",
      "[70, 174, 130]\n",
      "\n",
      "Multiplication Result:\n",
      "[5825, 6536, 3620]\n",
      "[8220, 3869, 3800]\n",
      "[8798, 11846, 5825]\n"
     ]
    }
   ],
   "source": [
    "def add_matrices(matrix1, matrix2):\n",
    "    result = [[0, 0, 0], [0, 0, 0], [0, 0, 0]]\n",
    "\n",
    "    for i in range(3):\n",
    "        for j in range(3):\n",
    "            result[i][j] = matrix1[i][j] + matrix2[i][j]\n",
    "\n",
    "    return result\n",
    "\n",
    "# Function to multiply two matrices\n",
    "def multiply_matrices(matrix1, matrix2):\n",
    "    result = [[0, 0, 0], [0, 0, 0], [0, 0, 0]]\n",
    "\n",
    "    for i in range(3):\n",
    "        for j in range(3):\n",
    "            for k in range(3):\n",
    "                result[i][j] += matrix1[i][k] * matrix2[k][j]\n",
    "\n",
    "    return result\n",
    "\n",
    "# Input two 3x3 matrices from the user\n",
    "print(\"Enter elements of the first 3x3 matrix:\")\n",
    "matrix1 = [[int(input(f\"Element [{i+1}][{j+1}]: \")) for j in range(3)] for i in range(3)]\n",
    "\n",
    "print(\"Enter elements of the second 3x3 matrix:\")\n",
    "matrix2 = [[int(input(f\"Element [{i+1}][{j+1}]: \")) for j in range(3)] for i in range(3)]\n",
    "\n",
    "# Call the functions to perform addition and multiplication\n",
    "addition_result = add_matrices(matrix1, matrix2)\n",
    "multiplication_result = multiply_matrices(matrix1, matrix2)\n",
    "\n",
    "# Display the results\n",
    "print(\"\\nAddition Result:\")\n",
    "for row in addition_result:\n",
    "    print(row)\n",
    "\n",
    "print(\"\\nMultiplication Result:\")\n",
    "for row in multiplication_result:\n",
    "    print(row)"
   ],
   "metadata": {
    "collapsed": false,
    "pycharm": {
     "name": "#%%\n"
    }
   }
  },
  {
   "cell_type": "markdown",
   "source": [
    "6. The X and Y coordinates of 10 different points are entered through the keyboard. Write a program using function to find the distance of last point from the first point (sum of distance between consecutive points)."
   ],
   "metadata": {
    "collapsed": false,
    "pycharm": {
     "name": "#%% md\n"
    }
   }
  },
  {
   "cell_type": "code",
   "execution_count": 8,
   "outputs": [
    {
     "name": "stdout",
     "output_type": "stream",
     "text": [
      "The total distance traveled from the first point to the last point is: 490.72207107251313\n"
     ]
    }
   ],
   "source": [
    "import math\n",
    "\n",
    "# Function to calculate the distance between two points\n",
    "def calculate_distance(x1, y1, x2, y2):\n",
    "    return math.sqrt((x2 - x1) ** 2 + (y2 - y1) ** 2)\n",
    "\n",
    "# Initialize a variable to store the total distance\n",
    "total_distance = 0\n",
    "\n",
    "# Input the X and Y coordinates of 10 points\n",
    "points = []\n",
    "for i in range(10):\n",
    "    x = float(input(f\"Enter X coordinate for point {i + 1}: \"))\n",
    "    y = float(input(f\"Enter Y coordinate for point {i + 1}: \"))\n",
    "    points.append((x, y))\n",
    "\n",
    "# Calculate the total distance by summing the distances between consecutive points\n",
    "for i in range(1, 10):\n",
    "    x1, y1 = points[i - 1]\n",
    "    x2, y2 = points[i]\n",
    "    total_distance += calculate_distance(x1, y1, x2, y2)\n",
    "\n",
    "# Display the total distance\n",
    "print(f\"The total distance traveled from the first point to the last point is: {total_distance}\")"
   ],
   "metadata": {
    "collapsed": false,
    "pycharm": {
     "name": "#%%\n"
    }
   }
  },
  {
   "cell_type": "markdown",
   "source": [
    "7. The first difference D1 of a sequence A of N elements is obtained by subtracting each element, exceptcthe last, from the next element in the array. The second difference D2 is defined as the first difference of Dl, and so on. For example, if\n",
    "A: 1,2,4,7,11,16, 22, then\n",
    "D1: 1,2,3,4, 5, 6\n",
    "D2:  1,1,1,1,  1\n",
    "D3:   0,0,0, 0\n",
    "Write a program using appropriate functions that reads a sequence of 15 elements  and finds its\n",
    "first, second, and third differences."
   ],
   "metadata": {
    "collapsed": false,
    "pycharm": {
     "name": "#%% md\n"
    }
   }
  },
  {
   "cell_type": "code",
   "execution_count": 9,
   "outputs": [
    {
     "name": "stdout",
     "output_type": "stream",
     "text": [
      "First Difference: [-18, 11, 5, -44, 18, 58, -48, -31, 21, 7, 54, -70, 39, -18]\n",
      "Second Difference: [29, -6, -49, 62, 40, -106, 17, 52, -14, 47, -124, 109, -57]\n",
      "Third Difference: [-35, -43, 111, -22, -146, 123, 35, -66, 61, -171, 233, -166]\n"
     ]
    }
   ],
   "source": [
    "def calculate_first_difference(sequence):\n",
    "    first_diff = [sequence[i] - sequence[i - 1] for i in range(1, len(sequence))]\n",
    "    return first_diff\n",
    "\n",
    "# Function to calculate the second difference of a sequence\n",
    "def calculate_second_difference(first_diff):\n",
    "    second_diff = [first_diff[i] - first_diff[i - 1] for i in range(1, len(first_diff))]\n",
    "    return second_diff\n",
    "\n",
    "# Function to calculate the third difference of a sequence\n",
    "def calculate_third_difference(second_diff):\n",
    "    third_diff = [second_diff[i] - second_diff[i - 1] for i in range(1, len(second_diff))]\n",
    "    return third_diff\n",
    "\n",
    "# Input a sequence of 15 elements\n",
    "sequence = []\n",
    "for i in range(15):\n",
    "    element = int(input(f\"Enter element {i + 1}: \"))\n",
    "    sequence.append(element)\n",
    "\n",
    "# Calculate the first, second, and third differences\n",
    "first_diff = calculate_first_difference(sequence)\n",
    "second_diff = calculate_second_difference(first_diff)\n",
    "third_diff = calculate_third_difference(second_diff)\n",
    "\n",
    "# Display the differences\n",
    "print(\"First Difference:\", first_diff)\n",
    "print(\"Second Difference:\", second_diff)\n",
    "print(\"Third Difference:\", third_diff)"
   ],
   "metadata": {
    "collapsed": false,
    "pycharm": {
     "name": "#%%\n"
    }
   }
  },
  {
   "cell_type": "markdown",
   "source": [
    "8. When an aircraft or an automobile is moving through the atmosphere, it must overcome a force called drag that works against the motion of the vehicle. The drag force can be expressed as\n",
    "F = ½ CD x A x p x V\n",
    "where F is the force (in newtons), CD is the drag coefficient, A is the projected area of the vehicle perpendicular to the velocity vector (in m2), is the density of the gas or fluid through which the body is traveling (kg/m 3 ), and V is the body’s velocity. The drag coefficient CD has a complex derivation and is frequently an empirical quantity. Sometimes the drag coefficient has its own dependencies on velocities: For an automobile, the range is from approximately 0.2 (for a very streamlined vehicle) through about 0.5. For simplicity, assume a streamlined passenger vehicle is moving through air at sea level (where _ = 1.23 kg/m 3 ). Write a program that allows a user to input A and CD interactively and calls a function to compute and return the drag force. Your program should call the drag force function repeatedly and display a table  showing the drag force for the input shape for a range of velocities from 0 m/s to 40 m/s in increments of 5 m/s."
   ],
   "metadata": {
    "collapsed": false,
    "pycharm": {
     "name": "#%% md\n"
    }
   }
  },
  {
   "cell_type": "code",
   "execution_count": 10,
   "outputs": [
    {
     "name": "stdout",
     "output_type": "stream",
     "text": [
      "Velocity (m/s)\tDrag Force (N)\n",
      "0\t\t0.00 N\n",
      "5\t\t68649.38 N\n",
      "10\t\t274597.50 N\n",
      "15\t\t617844.38 N\n",
      "20\t\t1098390.00 N\n",
      "25\t\t1716234.38 N\n",
      "30\t\t2471377.50 N\n",
      "35\t\t3363819.38 N\n",
      "40\t\t4393560.00 N\n"
     ]
    }
   ],
   "source": [
    "def calculate_drag_force(CD, A, p, V):\n",
    "    return 0.5 * CD * A * p * V**2\n",
    "\n",
    "# Input user-defined values for A and CD\n",
    "A = float(input(\"Enter the projected area (m^2): \"))\n",
    "CD = float(input(\"Enter the drag coefficient: \"))\n",
    "\n",
    "# Constants\n",
    "density_air_sea_level = 1.23  # kg/m^3\n",
    "\n",
    "# Initialize velocity range and increment\n",
    "start_velocity = 0\n",
    "end_velocity = 40\n",
    "velocity_increment = 5\n",
    "\n",
    "# Display table header\n",
    "print(\"Velocity (m/s)\\tDrag Force (N)\")\n",
    "\n",
    "# Calculate and display the drag force for each velocity in the range\n",
    "for velocity in range(start_velocity, end_velocity + velocity_increment, velocity_increment):\n",
    "    drag_force = calculate_drag_force(CD, A, density_air_sea_level, velocity)\n",
    "    print(f\"{velocity}\\t\\t{drag_force:.2f} N\")"
   ],
   "metadata": {
    "collapsed": false,
    "pycharm": {
     "name": "#%%\n"
    }
   }
  },
  {
   "cell_type": "markdown",
   "source": [
    "9. A common problem in statistics is that of generating frequency distribution of the given data. Assuming that the data consists of 50 positive integers in the range 1 to 25, write a program using function that prints the number of times each integer occurs in the data."
   ],
   "metadata": {
    "collapsed": false,
    "pycharm": {
     "name": "#%% md\n"
    }
   }
  },
  {
   "cell_type": "code",
   "execution_count": 11,
   "outputs": [
    {
     "name": "stdout",
     "output_type": "stream",
     "text": [
      "Number\tFrequency\n",
      "1\t3\n",
      "2\t4\n",
      "3\t5\n",
      "4\t4\n",
      "5\t1\n",
      "6\t5\n",
      "8\t2\n",
      "10\t1\n",
      "11\t1\n",
      "12\t3\n",
      "13\t1\n",
      "14\t4\n",
      "16\t3\n",
      "17\t5\n",
      "18\t2\n",
      "19\t2\n",
      "21\t1\n",
      "22\t2\n",
      "23\t1\n"
     ]
    }
   ],
   "source": [
    "import random\n",
    "\n",
    "# Function to generate random data consisting of 50 positive integers in the range 1 to 25\n",
    "def generate_random_data():\n",
    "    data = [random.randint(1, 25) for _ in range(50)]\n",
    "    return data\n",
    "\n",
    "# Function to calculate the frequency distribution\n",
    "def calculate_frequency_distribution(data):\n",
    "    frequency = {}\n",
    "    for num in data:\n",
    "        if num in frequency:\n",
    "            frequency[num] += 1\n",
    "        else:\n",
    "            frequency[num] = 1\n",
    "    return frequency\n",
    "\n",
    "# Generate random data\n",
    "data = generate_random_data()\n",
    "\n",
    "# Calculate the frequency distribution\n",
    "frequency_distribution = calculate_frequency_distribution(data)\n",
    "\n",
    "# Display the frequency of each integer\n",
    "print(\"Number\\tFrequency\")\n",
    "for num, freq in sorted(frequency_distribution.items()):\n",
    "    print(f\"{num}\\t{freq}\")"
   ],
   "metadata": {
    "collapsed": false,
    "pycharm": {
     "name": "#%%\n"
    }
   }
  },
  {
   "cell_type": "markdown",
   "source": [
    "10. The MANUFACTURING STARTTUP sells 5 types of memory chips through its retail outlets in\n",
    "10 cities. The weekly sales of the company are stored in a 5 x l 0 x 7 array SALES such that SALES( L, K, M ) denotes the sales of the L* memory chip in the K city on the M day of the week. Write a program that computes:\n",
    "i) The total weekly sale of each type of memory chip\n",
    "ii) The total weekly sale in each city and\n",
    "iii) The average daily sale of the company"
   ],
   "metadata": {
    "collapsed": false,
    "pycharm": {
     "name": "#%% md\n"
    }
   }
  },
  {
   "cell_type": "code",
   "execution_count": 12,
   "outputs": [
    {
     "name": "stdout",
     "output_type": "stream",
     "text": [
      "i) Total weekly sale of each type of memory chip:\n",
      "Memory Chip 1: 427 units\n",
      "Memory Chip 2: 359 units\n",
      "Memory Chip 3: 362 units\n",
      "Memory Chip 4: 415 units\n",
      "Memory Chip 5: 410 units\n",
      "\n",
      "ii) Total weekly sale in each city:\n",
      "City 1: 203 units\n",
      "City 2: 188 units\n",
      "City 3: 196 units\n",
      "City 4: 201 units\n",
      "City 5: 179 units\n",
      "City 6: 199 units\n",
      "City 7: 191 units\n",
      "City 8: 206 units\n",
      "City 9: 213 units\n",
      "City 10: 197 units\n",
      "\n",
      "iii) Average daily sale of the company: 5.637142857142857\n"
     ]
    }
   ],
   "source": [
    "import numpy as np  # Import NumPy for array operations\n",
    "\n",
    "# Create a 3D NumPy array to represent SALES (5 x 10 x 7)\n",
    "SALES = np.random.randint(1, 11, (5, 10, 7))  # Random sales data for illustration\n",
    "\n",
    "# i) Calculate the total weekly sale of each type of memory chip\n",
    "total_chip_sales = np.sum(SALES, axis=(1, 2))\n",
    "\n",
    "# ii) Calculate the total weekly sale in each city\n",
    "total_city_sales = np.sum(SALES, axis=(0, 2))\n",
    "\n",
    "# iii) Calculate the average daily sale of the company\n",
    "average_daily_sale = np.mean(SALES)\n",
    "\n",
    "# Display results\n",
    "print(\"i) Total weekly sale of each type of memory chip:\")\n",
    "for i, total in enumerate(total_chip_sales):\n",
    "    print(f\"Memory Chip {i + 1}: {total} units\")\n",
    "\n",
    "print(\"\\nii) Total weekly sale in each city:\")\n",
    "for j, total in enumerate(total_city_sales):\n",
    "    print(f\"City {j + 1}: {total} units\")\n",
    "\n",
    "print(\"\\niii) Average daily sale of the company:\", average_daily_sale)"
   ],
   "metadata": {
    "collapsed": false,
    "pycharm": {
     "name": "#%%\n"
    }
   }
  },
  {
   "cell_type": "markdown",
   "source": [
    "## Thank You"
   ],
   "metadata": {
    "collapsed": false,
    "pycharm": {
     "name": "#%% md\n"
    }
   }
  }
 ],
 "metadata": {
  "kernelspec": {
   "display_name": "Python 3",
   "language": "python",
   "name": "python3"
  },
  "language_info": {
   "codemirror_mode": {
    "name": "ipython",
    "version": 2
   },
   "file_extension": ".py",
   "mimetype": "text/x-python",
   "name": "python",
   "nbconvert_exporter": "python",
   "pygments_lexer": "ipython2",
   "version": "2.7.6"
  }
 },
 "nbformat": 4,
 "nbformat_minor": 0
}