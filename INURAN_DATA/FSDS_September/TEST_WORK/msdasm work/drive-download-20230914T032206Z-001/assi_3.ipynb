{
 "cells": [
  {
   "cell_type": "markdown",
   "source": [
    "1. Write a program to display first N natural numbers."
   ],
   "metadata": {
    "collapsed": false,
    "pycharm": {
     "name": "#%% md\n"
    }
   }
  },
  {
   "cell_type": "code",
   "execution_count": 3,
   "outputs": [
    {
     "name": "stdout",
     "output_type": "stream",
     "text": [
      "The first 21 natural numbers are:\n",
      "1\n",
      "2\n",
      "3\n",
      "4\n",
      "5\n",
      "6\n",
      "7\n",
      "8\n",
      "9\n",
      "10\n",
      "11\n",
      "12\n",
      "13\n",
      "14\n",
      "15\n",
      "16\n",
      "17\n",
      "18\n",
      "19\n",
      "20\n",
      "21\n"
     ]
    }
   ],
   "source": [
    "def numbers(N):\n",
    "    if N <= 0:\n",
    "        print(\"N should be a positive integer.\")\n",
    "    else:\n",
    "        print(f\"The first {N} natural numbers are:\")\n",
    "        for i in range(1, N + 1):\n",
    "            print(i)\n",
    "N = int(input(\"Enter the value of N: \"))\n",
    "numbers(N)"
   ],
   "metadata": {
    "collapsed": false,
    "pycharm": {
     "name": "#%%\n"
    }
   }
  },
  {
   "cell_type": "code",
   "execution_count": 2,
   "outputs": [
    {
     "name": "stdout",
     "output_type": "stream",
     "text": [
      "1\n",
      "2\n",
      "3\n",
      "4\n",
      "5\n",
      "6\n",
      "7\n",
      "8\n",
      "9\n",
      "10\n",
      "11\n",
      "12\n",
      "13\n",
      "14\n",
      "15\n",
      "16\n",
      "17\n",
      "18\n",
      "19\n",
      "20\n",
      "21\n",
      "22\n",
      "23\n",
      "24\n",
      "25\n"
     ]
    }
   ],
   "source": [
    "# Input the value of N\n",
    "N = int(input(\"Enter the value of N: \"))\n",
    "\n",
    "# Initialize a variable to store the current natural number\n",
    "num = 1\n",
    "\n",
    "# Use a while loop to display the first N natural numbers\n",
    "while num <= N:\n",
    "    print(num)\n",
    "    num += 1"
   ],
   "metadata": {
    "collapsed": false,
    "pycharm": {
     "name": "#%%\n"
    }
   }
  },
  {
   "cell_type": "markdown",
   "source": [
    "2. Write a program to accept 10 numbers – check whether each number is divisible by 10 – count\n",
    "the numbers that are divisible and not divisible by 10 – display respective counts at the end."
   ],
   "metadata": {
    "collapsed": false,
    "pycharm": {
     "name": "#%% md\n"
    }
   }
  },
  {
   "cell_type": "code",
   "execution_count": 3,
   "outputs": [
    {
     "name": "stdout",
     "output_type": "stream",
     "text": [
      "Numbers divisible by 10: 6\n",
      "Numbers not divisible by 10: 4\n"
     ]
    }
   ],
   "source": [
    "divisible_count = 0\n",
    "not_divisible_count = 0\n",
    "for i in range(10):\n",
    "    try:\n",
    "        num = int(input(f\"Enter number {i+1}: \"))\n",
    "        if num % 10 == 0:\n",
    "            divisible_count += 1\n",
    "        else:\n",
    "            not_divisible_count += 1\n",
    "    except ValueError:\n",
    "        print(\"Invalid input! Please enter a valid integer.\")\n",
    "print(f\"Numbers divisible by 10: {divisible_count}\")\n",
    "print(f\"Numbers not divisible by 10: {not_divisible_count}\")"
   ],
   "metadata": {
    "collapsed": false,
    "pycharm": {
     "name": "#%%\n"
    }
   }
  },
  {
   "cell_type": "code",
   "execution_count": 4,
   "outputs": [
    {
     "name": "stdout",
     "output_type": "stream",
     "text": [
      "Numbers divisible by 10: 0\n",
      "Numbers not divisible by 10: 10\n"
     ]
    }
   ],
   "source": [
    "divisible_by_10_count = 0\n",
    "not_divisible_by_10_count = 0\n",
    "count = 0\n",
    "\n",
    "# Use a while loop to accept 10 numbers\n",
    "while count < 10:\n",
    "    num = int(input(f\"Enter number {count + 1}: \"))\n",
    "\n",
    "    # Check if the number is divisible by 10\n",
    "    if num % 10 == 0:\n",
    "        divisible_by_10_count += 1\n",
    "    else:\n",
    "        not_divisible_by_10_count += 1\n",
    "\n",
    "    count += 1\n",
    "\n",
    "# Display counts\n",
    "print(f\"Numbers divisible by 10: {divisible_by_10_count}\")\n",
    "print(f\"Numbers not divisible by 10: {not_divisible_by_10_count}\")"
   ],
   "metadata": {
    "collapsed": false,
    "pycharm": {
     "name": "#%%\n"
    }
   }
  },
  {
   "cell_type": "markdown",
   "source": [
    "3. Given the length and breadth of a rectangle, write a program to find whether the area of the\n",
    "rectangle is greater than its perimeter. For example, the area of the rectangle with length = 5\n",
    "and breadth = 4 is greater than its perimeter."
   ],
   "metadata": {
    "collapsed": false,
    "pycharm": {
     "name": "#%% md\n"
    }
   }
  },
  {
   "cell_type": "code",
   "execution_count": 2,
   "outputs": [
    {
     "name": "stdout",
     "output_type": "stream",
     "text": [
      "The area of the rectangle is greater than its perimeter.\n"
     ]
    }
   ],
   "source": [
    "def calculate_area(length, breadth):\n",
    "    return length * breadth\n",
    "def calculate_perimeter(length, breadth):\n",
    "    return 2 * (length + breadth)\n",
    "length = float(input(\"Enter the length of the rectangle: \"))\n",
    "breadth = float(input(\"Enter the breadth of the rectangle: \"))\n",
    "area = calculate_area(length, breadth)\n",
    "perimeter = calculate_perimeter(length, breadth)\n",
    "if area > perimeter:\n",
    "    print(\"The area of the rectangle is greater than its perimeter.\")\n",
    "else:\n",
    "    print(\"The area of the rectangle is not greater than its perimeter.\")"
   ],
   "metadata": {
    "collapsed": false,
    "pycharm": {
     "name": "#%%\n"
    }
   }
  },
  {
   "cell_type": "markdown",
   "source": [
    "4. Write a program to print the Fibonacci Series upto length n (read the length form input)."
   ],
   "metadata": {
    "collapsed": false,
    "pycharm": {
     "name": "#%% md\n"
    }
   }
  },
  {
   "cell_type": "code",
   "execution_count": 3,
   "outputs": [
    {
     "name": "stdout",
     "output_type": "stream",
     "text": [
      "Fibonacci series up to length 15 : [0, 1, 1, 2, 3, 5, 8, 13, 21, 34, 55, 89, 144, 233, 377]\n"
     ]
    }
   ],
   "source": [
    "def fibonacci(n):\n",
    "    fib_series = []\n",
    "    a, b = 0, 1\n",
    "    while len(fib_series) < n:\n",
    "        fib_series.append(a)\n",
    "        a, b = b, a + b\n",
    "    return fib_series\n",
    "n = int(input(\"Enter the length of the Fibonacci series: \"))\n",
    "if n <= 0:\n",
    "    print(\"Please enter a positive integer.\")\n",
    "else:\n",
    "    result = fibonacci(n)\n",
    "    print(\"Fibonacci series up to length\", n, \":\", result)"
   ],
   "metadata": {
    "collapsed": false,
    "pycharm": {
     "name": "#%%\n"
    }
   }
  },
  {
   "cell_type": "code",
   "execution_count": 6,
   "outputs": [
    {
     "name": "stdout",
     "output_type": "stream",
     "text": [
      "Fibonacci Series:\n",
      "0 1 1 2 3 5 8 13 21 34 \n"
     ]
    }
   ],
   "source": [
    "n = int(input(\"Enter the length of the Fibonacci series: \"))\n",
    "a, b = 0, 1\n",
    "print(\"Fibonacci Series:\")\n",
    "for _ in range(n):\n",
    "    print(a, end=\" \")  # Print the current Fibonacci number\n",
    "    a, b = b, a + b    # Calculate the next Fibonacci number\n",
    "\n",
    "# Print a newline character for better formatting\n",
    "print()"
   ],
   "metadata": {
    "collapsed": false,
    "pycharm": {
     "name": "#%%\n"
    }
   }
  },
  {
   "cell_type": "markdown",
   "source": [
    "5. Write a program to find the sum of digits in a number."
   ],
   "metadata": {
    "collapsed": false,
    "pycharm": {
     "name": "#%% md\n"
    }
   }
  },
  {
   "cell_type": "code",
   "execution_count": 15,
   "outputs": [
    {
     "name": "stdout",
     "output_type": "stream",
     "text": [
      "The sum of digits in the number is: 15\n"
     ]
    }
   ],
   "source": [
    "def sumn(number):\n",
    "    total = 0\n",
    "    while number > 0:\n",
    "        digit = number % 10\n",
    "        total += digit\n",
    "        number //= 10\n",
    "    return total\n",
    "num = int(input(\"Enter a number: \"))\n",
    "result = sumn(num)\n",
    "print(\"The sum of digits in the number is:\", result)"
   ],
   "metadata": {
    "collapsed": false,
    "pycharm": {
     "name": "#%%\n"
    }
   }
  },
  {
   "cell_type": "code",
   "execution_count": 7,
   "outputs": [
    {
     "name": "stdout",
     "output_type": "stream",
     "text": [
      "Sum of digits: 7\n"
     ]
    }
   ],
   "source": [
    "num = int(input(\"Enter a number: \"))\n",
    "sum_of_digits = 0   # Initialize a variable to store the sum of digits\n",
    "# Use a for loop to extract and sum the digits\n",
    "for digit in str(num):\n",
    "    sum_of_digits += int(digit)\n",
    "# Display the sum of digits\n",
    "print(\"Sum of digits:\", sum_of_digits)"
   ],
   "metadata": {
    "collapsed": false,
    "pycharm": {
     "name": "#%%\n"
    }
   }
  },
  {
   "cell_type": "markdown",
   "source": [
    "6. Write a program to compute the factorial of a given number and print it in reverse order."
   ],
   "metadata": {
    "collapsed": false,
    "pycharm": {
     "name": "#%% md\n"
    }
   }
  },
  {
   "cell_type": "code",
   "execution_count": 9,
   "outputs": [
    {
     "name": "stdout",
     "output_type": "stream",
     "text": [
      "Factorial of 5 is:\n",
      "021"
     ]
    }
   ],
   "source": [
    "def factorial(n):\n",
    "    if n == 0:\n",
    "        return 1\n",
    "    else:\n",
    "        return n * factorial(n - 1)\n",
    "def print_reverse(number):\n",
    "    while number > 0:\n",
    "        digit = number % 10\n",
    "        print(digit, end=\"\")\n",
    "        number //= 10\n",
    "num = int(input(\"Enter a number: \"))\n",
    "fact = factorial(num)\n",
    "print(\"Factorial of\", num, \"is:\")\n",
    "print_reverse(fact)"
   ],
   "metadata": {
    "collapsed": false,
    "pycharm": {
     "name": "#%%\n"
    }
   }
  },
  {
   "cell_type": "code",
   "execution_count": 8,
   "outputs": [
    {
     "name": "stdout",
     "output_type": "stream",
     "text": [
      "Factorial of 14 is: 00219287178\n"
     ]
    }
   ],
   "source": [
    "num = int(input(\"Enter a number: \"))\n",
    "factorial = 1\n",
    "\n",
    "# Calculate the factorial of the number\n",
    "for i in range(1, num + 1):\n",
    "    factorial *= i\n",
    "\n",
    "# Convert the factorial to a string for reverse printing\n",
    "factorial_str = str(factorial)\n",
    "\n",
    "# Print the factorial in reverse order\n",
    "print(\"Factorial of\", num, \"is:\", factorial_str[::-1])"
   ],
   "metadata": {
    "collapsed": false,
    "pycharm": {
     "name": "#%%\n"
    }
   }
  },
  {
   "cell_type": "markdown",
   "source": [
    "7. Write a program to check whether the number entered is a Prime Number or not."
   ],
   "metadata": {
    "collapsed": false,
    "pycharm": {
     "name": "#%% md\n"
    }
   }
  },
  {
   "cell_type": "code",
   "execution_count": 6,
   "outputs": [
    {
     "name": "stdout",
     "output_type": "stream",
     "text": [
      "65 is not a prime number.\n"
     ]
    }
   ],
   "source": [
    "def prime(number):\n",
    "    if number <= 1:\n",
    "        return False  # Numbers less than or equal to 1 are not prime\n",
    "    if number <= 3:\n",
    "        return True  # 2 and 3 are prime numbers\n",
    "    if number % 2 == 0 or number % 3 == 0:\n",
    "        return False  # Numbers divisible by 2 or 3 are not prime\n",
    "    i = 5\n",
    "    while i * i <= number:\n",
    "        if number % i == 0 or number % (i + 2) == 0:\n",
    "            return False  # Numbers divisible by i or i+2 are not prime\n",
    "        i += 6\n",
    "    return True\n",
    "try:\n",
    "    num = int(input(\"Enter a number: \"))\n",
    "    if prime(num):\n",
    "        print(f\"{num} is a prime number.\")\n",
    "    else:\n",
    "        print(f\"{num} is not a prime number.\")\n",
    "except ValueError:\n",
    "    print(\"Invalid input. Please enter a valid integer.\")"
   ],
   "metadata": {
    "collapsed": false,
    "pycharm": {
     "name": "#%%\n"
    }
   }
  },
  {
   "cell_type": "code",
   "execution_count": 9,
   "outputs": [
    {
     "name": "stdout",
     "output_type": "stream",
     "text": [
      "41 is a Prime Number\n"
     ]
    }
   ],
   "source": [
    "num = int(input(\"Enter a number: \"))\n",
    "\n",
    "# Check if the number is less than 2\n",
    "if num < 2:\n",
    "    is_prime = False\n",
    "else:\n",
    "    is_prime = True\n",
    "\n",
    "# Use a for loop to check for factors from 2 to the square root of the number\n",
    "for i in range(2, int(num**0.5) + 1):\n",
    "    if num % i == 0:\n",
    "        is_prime = False\n",
    "        break\n",
    "\n",
    "# Display the result\n",
    "if is_prime:\n",
    "    print(num, \"is a Prime Number\")\n",
    "else:\n",
    "    print(num, \"is not a Prime Number\")"
   ],
   "metadata": {
    "collapsed": false,
    "pycharm": {
     "name": "#%%\n"
    }
   }
  },
  {
   "cell_type": "markdown",
   "source": [
    "8. Write a program to check whether the number entered is an Armstrong Number."
   ],
   "metadata": {
    "collapsed": false,
    "pycharm": {
     "name": "#%% md\n"
    }
   }
  },
  {
   "cell_type": "code",
   "execution_count": 5,
   "outputs": [
    {
     "name": "stdout",
     "output_type": "stream",
     "text": [
      "153 is an Armstrong number\n"
     ]
    }
   ],
   "source": [
    "def armstrong(number):\n",
    "    num_str = str(number)\n",
    "    num_digits = len(num_str)\n",
    "    sum_of_digits = sum(int(digit) ** num_digits for digit in num_str)\n",
    "    return sum_of_digits == number\n",
    "num = int(input(\"Enter a number: \"))\n",
    "if armstrong(num):\n",
    "    print(f\"{num} is an Armstrong number\")\n",
    "else:\n",
    "    print(f\"{num} is not an Armstrong number\")"
   ],
   "metadata": {
    "collapsed": false,
    "pycharm": {
     "name": "#%%\n"
    }
   }
  },
  {
   "cell_type": "code",
   "execution_count": 12,
   "outputs": [
    {
     "name": "stdout",
     "output_type": "stream",
     "text": [
      "414 is not an Armstrong Number\n"
     ]
    }
   ],
   "source": [
    "num = int(input(\"Enter a number: \"))\n",
    "\n",
    "# Calculate the number of digits in the number\n",
    "original_num = num\n",
    "num_of_digits = 0\n",
    "while num > 0:\n",
    "    num_of_digits += 1\n",
    "    num //= 10\n",
    "\n",
    "# Reset num to the original value\n",
    "num = original_num\n",
    "\n",
    "# Initialize a variable to store the sum of digits raised to the power of the number of digits\n",
    "sum_of_powers = 0\n",
    "\n",
    "# Use a while loop to calculate the sum of powers of digits\n",
    "while num > 0:\n",
    "    digit = num % 10\n",
    "    sum_of_powers += digit ** num_of_digits\n",
    "    num //= 10\n",
    "\n",
    "# Check if the number is an Armstrong number\n",
    "if original_num == sum_of_powers:\n",
    "    print(original_num, \"is an Armstrong Number\")\n",
    "else:\n",
    "    print(original_num, \"is not an Armstrong Number\")"
   ],
   "metadata": {
    "collapsed": false,
    "pycharm": {
     "name": "#%%\n"
    }
   }
  },
  {
   "cell_type": "markdown",
   "source": [
    "9. Write a program to print the following pattern for a given n.\n",
    "Ex: Enter n value: 4\n",
    "\n",
    "1\n",
    "2  3\n",
    "4  5  6\n",
    "7  8  9  10\n"
   ],
   "metadata": {
    "collapsed": false,
    "pycharm": {
     "name": "#%% md\n"
    }
   }
  },
  {
   "cell_type": "code",
   "execution_count": 1,
   "outputs": [
    {
     "name": "stdout",
     "output_type": "stream",
     "text": [
      "1 \n",
      "2 3 \n",
      "4 5 6 \n",
      "7 8 9 10 \n"
     ]
    }
   ],
   "source": [
    "def right_angle_triangle(rows):\n",
    "    m=1\n",
    "    for i in range(1, rows + 1):\n",
    "        for j in range(i):\n",
    "            print(m, end=' ')\n",
    "            m+=1\n",
    "        print()\n",
    "rows = 4\n",
    "right_angle_triangle(rows)"
   ],
   "metadata": {
    "collapsed": false,
    "pycharm": {
     "name": "#%%\n"
    }
   }
  },
  {
   "cell_type": "code",
   "execution_count": 11,
   "outputs": [
    {
     "name": "stdout",
     "output_type": "stream",
     "text": [
      "1 \n",
      "1 2 \n",
      "1 2 3 \n",
      "1 2 3 4 \n"
     ]
    }
   ],
   "source": [
    "# Input the value of n\n",
    "n = int(input(\"Enter n value: \"))\n",
    "\n",
    "# Initialize variables\n",
    "i = 1\n",
    "\n",
    "# Use a while loop to print the pattern\n",
    "while i <= n:\n",
    "    j = 1\n",
    "    while j <= i:\n",
    "        print(j, end=' ')\n",
    "        j += 1\n",
    "    print()\n",
    "    i += 1"
   ],
   "metadata": {
    "collapsed": false,
    "pycharm": {
     "name": "#%%\n"
    }
   }
  },
  {
   "cell_type": "markdown",
   "source": [
    "10. Write a program to print the following pattern for a given n.\n",
    "Ex: Enter n value: 4\n",
    "    1\n",
    "  0 1\n",
    " 1 0 1\n",
    "0 1 0 1\n"
   ],
   "metadata": {
    "collapsed": false,
    "pycharm": {
     "name": "#%% md\n"
    }
   }
  },
  {
   "cell_type": "code",
   "execution_count": 13,
   "outputs": [
    {
     "name": "stdout",
     "output_type": "stream",
     "text": [
      "      1 \n",
      "    0 1 \n",
      "  1 0 1 \n",
      "0 1 0 1 \n"
     ]
    }
   ],
   "source": [
    "def print_pattern(rows):\n",
    "    for i in range(rows):\n",
    "        # Print leading spaces\n",
    "        for j in range(rows - i - 1):\n",
    "            print(\" \", end=\" \")\n",
    "\n",
    "        for j in range(i + 1):\n",
    "            if (i + j) % 2 == 0:\n",
    "                print(\"1\", end=\" \")\n",
    "            else:\n",
    "                print(\"0\", end=\" \")\n",
    "\n",
    "        print()\n",
    "rows = 4  # You can change this value to adjust the number of rows\n",
    "print_pattern(rows)"
   ],
   "metadata": {
    "collapsed": false,
    "pycharm": {
     "name": "#%%\n"
    }
   }
  },
  {
   "cell_type": "markdown",
   "source": [
    "11. Observe teh output of the following code snippets"
   ],
   "metadata": {
    "collapsed": false,
    "pycharm": {
     "name": "#%% md\n"
    }
   }
  },
  {
   "cell_type": "code",
   "execution_count": 11,
   "outputs": [
    {
     "name": "stdout",
     "output_type": "stream",
     "text": [
      "0\n",
      "1\n",
      "2\n",
      "3\n",
      "4\n",
      "5\n",
      "6\n",
      "7\n",
      "8\n",
      "9\n"
     ]
    }
   ],
   "source": [
    "for i in range(10):\n",
    "    print(i)"
   ],
   "metadata": {
    "collapsed": false,
    "pycharm": {
     "name": "#%%\n"
    }
   }
  },
  {
   "cell_type": "code",
   "execution_count": 12,
   "outputs": [
    {
     "name": "stdout",
     "output_type": "stream",
     "text": [
      "1\n",
      "3\n",
      "5\n",
      "7\n"
     ]
    }
   ],
   "source": [
    "i=1\n",
    "while i<8:\n",
    "    print(i)\n",
    "    i+=2"
   ],
   "metadata": {
    "collapsed": false,
    "pycharm": {
     "name": "#%%\n"
    }
   }
  },
  {
   "cell_type": "code",
   "execution_count": 13,
   "outputs": [
    {
     "name": "stdout",
     "output_type": "stream",
     "text": [
      "2\n",
      "3\n",
      "4\n",
      "5\n"
     ]
    }
   ],
   "source": [
    "for x in range(2,6):\n",
    "    print(x)"
   ],
   "metadata": {
    "collapsed": false,
    "pycharm": {
     "name": "#%%\n"
    }
   }
  },
  {
   "cell_type": "markdown",
   "source": [
    "## Thank You"
   ],
   "metadata": {
    "collapsed": false,
    "pycharm": {
     "name": "#%% md\n"
    }
   }
  }
 ],
 "metadata": {
  "kernelspec": {
   "display_name": "Python 3",
   "language": "python",
   "name": "python3"
  },
  "language_info": {
   "codemirror_mode": {
    "name": "ipython",
    "version": 2
   },
   "file_extension": ".py",
   "mimetype": "text/x-python",
   "name": "python",
   "nbconvert_exporter": "python",
   "pygments_lexer": "ipython2",
   "version": "2.7.6"
  }
 },
 "nbformat": 4,
 "nbformat_minor": 0
}