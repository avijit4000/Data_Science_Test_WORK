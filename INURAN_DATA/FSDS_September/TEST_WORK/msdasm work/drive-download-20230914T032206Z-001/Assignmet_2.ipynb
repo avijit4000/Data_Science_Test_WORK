{
 "cells": [
  {
   "cell_type": "markdown",
   "source": [
    "## Assignment - 2"
   ],
   "metadata": {
    "collapsed": false,
    "pycharm": {
     "name": "#%% md\n"
    }
   }
  },
  {
   "cell_type": "markdown",
   "source": [
    "1. Write a program to check if a given number is even or odd.\n",
    "a) Using arithmetic operator\n",
    "b) Using bitwise operator\n"
   ],
   "metadata": {
    "collapsed": false,
    "pycharm": {
     "name": "#%% md\n"
    }
   }
  },
  {
   "cell_type": "code",
   "execution_count": 2,
   "outputs": [
    {
     "name": "stdout",
     "output_type": "stream",
     "text": [
      "25 is odd\n"
     ]
    }
   ],
   "source": [
    "## a) Using arithmetic operator\n",
    "num = int(input(\"Enter number: \"))   # Input a number from the user\n",
    "if num % 2 == 0:    # Check if the number is even or odd using the modulo (%) operator\n",
    "    print(f\"{num} is even\")\n",
    "else:\n",
    "    print(f\"{num} is odd\")"
   ],
   "metadata": {
    "collapsed": false,
    "pycharm": {
     "name": "#%%\n"
    }
   }
  },
  {
   "cell_type": "code",
   "execution_count": 5,
   "outputs": [
    {
     "name": "stdout",
     "output_type": "stream",
     "text": [
      "10 is even\n"
     ]
    }
   ],
   "source": [
    "## b) Using bitwise operator\n",
    "num = int(input(\"Enter a number: \"))   # Input a number from the user\n",
    "if num & 1 == 0:\n",
    "    print(f\"{num} is even\")\n",
    "else:\n",
    "    print(f\"{num} is odd\")"
   ],
   "metadata": {
    "collapsed": false,
    "pycharm": {
     "name": "#%%\n"
    }
   }
  },
  {
   "cell_type": "markdown",
   "source": [
    "2. Write a program to read the weight of the check-in luggage and calculate the charges for overweight that exceeds the permissible limit 25kg at the rate of 2,500/- per 5kg thereafter. The weight is rounded off to next multiple of 5 if the fracton is more than 2.5 kg or to previous next multiple of 5 if the fracton is less than 2.5 kg.\n",
    "Sample Test Cases:\n",
    "Enter the luggage weight: 27kg\n",
    "Over weight charges are: 0/-\n",
    "Enter the luggage weight: 29kg\n",
    "Over weight charges are: 2,500/-\n",
    "Enter the luggage weight: 56kg\n",
    "Over weight charges are: 1500/-\n"
   ],
   "metadata": {
    "collapsed": false,
    "pycharm": {
     "name": "#%% md\n"
    }
   }
  },
  {
   "cell_type": "code",
   "execution_count": 5,
   "outputs": [
    {
     "name": "stdout",
     "output_type": "stream",
     "text": [
      "Overweight charges are: 27500.0\n"
     ]
    }
   ],
   "source": [
    "def round_to_nearest_multiple_of_5(weight):\n",
    "    if weight % 5 >= 2.5:\n",
    "        return round(weight / 5) * 5 + 5\n",
    "    else:\n",
    "        return round(weight / 5) * 5\n",
    "\n",
    "# Input the luggage weight\n",
    "luggage_weight = float(input(\"Enter the luggage weight (in kg): \"))\n",
    "\n",
    "# Permissible limit\n",
    "permissible_limit = 25\n",
    "\n",
    "# Check if the luggage is overweight\n",
    "if luggage_weight <= permissible_limit:\n",
    "    over_weight_charges = 0\n",
    "else:\n",
    "    excess_weight = luggage_weight - permissible_limit\n",
    "    rounded_excess_weight = round_to_nearest_multiple_of_5(excess_weight)\n",
    "\n",
    "    # Calculate the over weight charges at the rate of 2,500/- per 5kg\n",
    "    over_weight_charges = (rounded_excess_weight / 5) * 2500\n",
    "\n",
    "print(\"Overweight charges are:\", over_weight_charges)"
   ],
   "metadata": {
    "collapsed": false,
    "pycharm": {
     "name": "#%%\n"
    }
   }
  },
  {
   "cell_type": "markdown",
   "source": [
    "3. Write a program to read the temparature and find out the season based on following ranges.\n",
    "\n",
    "Seasons      Av. Temp (Min-Max)\n",
    "Winter            5o to 20o\n",
    "Spring           o20 to 25o\n",
    "Summer           o 35 to 48o\n",
    "Monsoon          o 25 to 35 o\n",
    "Sample Test Cases:\n",
    "Enter the temparature: 36\n",
    "Season is Summer\n",
    "\n",
    "Enter the temparature: 24\n",
    "Season is either Winter or Spring\n"
   ],
   "metadata": {
    "collapsed": false,
    "pycharm": {
     "name": "#%% md\n"
    }
   }
  },
  {
   "cell_type": "code",
   "execution_count": 1,
   "outputs": [
    {
     "name": "stdout",
     "output_type": "stream",
     "text": [
      "Season is Spring\n"
     ]
    }
   ],
   "source": [
    "a=int(input('Enter Temperature: '))\n",
    "if a>=5 and a<20:\n",
    "    print(\"Season is Winter\")\n",
    "elif a>=20 and a<=25:\n",
    "    print(\"Season is Spring\")\n",
    "elif a>25 and a<=25:\n",
    "    print(\"Season is Monsoon\")\n",
    "elif a>35 and a<=48:\n",
    "    print(\"Season is Summer\")\n",
    "else:\n",
    "    print('')"
   ],
   "metadata": {
    "collapsed": false,
    "pycharm": {
     "name": "#%%\n"
    }
   }
  },
  {
   "cell_type": "markdown",
   "source": [
    "4. Write a program to read a person’s work hours for the week and regular hourly wage, calculate\n",
    "the total pay for a given week.  Hours worked over 40 are considered as overtime and paid at\n",
    "1.5 times the normal rate.\n"
   ],
   "metadata": {
    "collapsed": false,
    "pycharm": {
     "name": "#%% md\n"
    }
   }
  },
  {
   "cell_type": "code",
   "execution_count": 12,
   "outputs": [
    {
     "name": "stdout",
     "output_type": "stream",
     "text": [
      "Number of hours worked:  56.0\n",
      "The price of every hours:  23000.0\n",
      "Total pament 1932000.0\n"
     ]
    }
   ],
   "source": [
    "a=float(input(\"enter number of hours worked: \"))\n",
    "print('Number of hours worked: ', a)\n",
    "b=float(input('enter the price of every hours: '))\n",
    "print('The price of every hours: ',b)\n",
    "if a<=40:\n",
    "    c=a*b\n",
    "    print(\"Total pament \",c)\n",
    "else:\n",
    "    c=a*b*1.5\n",
    "    print('Total pament',c)"
   ],
   "metadata": {
    "collapsed": false,
    "pycharm": {
     "name": "#%%\n"
    }
   }
  },
  {
   "cell_type": "markdown",
   "source": [
    "5. Write a program to convert a numerical grade to a letter grade with following cutoffs.\n",
    "\n",
    "‘A’  -  90 and above\n",
    " ‘B’  - 80 to 89\n",
    " ‘C’  - 70 to 79\n",
    " ‘D’  - 60 to 69\n",
    " ‘E’  - 50 to 59\n",
    " ‘F’  - below 50\n"
   ],
   "metadata": {
    "collapsed": false,
    "pycharm": {
     "name": "#%% md\n"
    }
   }
  },
  {
   "cell_type": "code",
   "execution_count": 16,
   "outputs": [
    {
     "name": "stdout",
     "output_type": "stream",
     "text": [
      "Your grade is : C\n"
     ]
    }
   ],
   "source": [
    "a=float(input(\"Enter number: \"))\n",
    "if a<50:\n",
    "    print(\"Your grade is : F\")\n",
    "elif a>=50 and a<=59:\n",
    "    print(\"Your grade is : E\")\n",
    "elif a>=60 and a<=69:\n",
    "    print(\"Your grade is : D\")\n",
    "elif a>=70 and a<=79:\n",
    "    print(\"Your grade is : C\")\n",
    "elif a>=80 and a<=89:\n",
    "    print(\"Your grade is : B\")\n",
    "else:\n",
    "    print(\"Your grade is : A\")"
   ],
   "metadata": {
    "collapsed": false,
    "pycharm": {
     "name": "#%%\n"
    }
   }
  },
  {
   "cell_type": "markdown",
   "source": [
    "6. Write a program to read a value from input and perform following operations using bitwise\n",
    "operators.\n",
    "a) Check if at least two of last four digits (LSB) are set\n",
    "b) Reverse the bits in the binary representation\n",
    "c) Rotate last 3 bits\n"
   ],
   "metadata": {
    "collapsed": false,
    "pycharm": {
     "name": "#%% md\n"
    }
   }
  },
  {
   "cell_type": "code",
   "execution_count": 7,
   "outputs": [
    {
     "name": "stdout",
     "output_type": "stream",
     "text": [
      "At least two of the last four digits are set.\n",
      "Reversed bits: 13\n",
      "Rotated last 3 bits: 14\n"
     ]
    }
   ],
   "source": [
    "value = int(input(\"Enter a value: \"))\n",
    "# a) Check if at least two of the last four digits (LSB) are set\n",
    "last_four_bits = value & 0b1111  # Extract the last four bits\n",
    "if bin(last_four_bits).count('1') >= 2:\n",
    "    print(\"At least two of the last four digits are set.\")\n",
    "else:\n",
    "    print(\"Less than two of the last four digits are set.\")\n",
    "\n",
    "# b) Reverse the bits in the binary representation\n",
    "reversed_value = int(bin(value)[:1:-1], 2)  # Reverse the binary representation\n",
    "print(f\"Reversed bits: {reversed_value}\")\n",
    "\n",
    "# c) Rotate the last 3 bits\n",
    "last_three_bits = value & 0b111  # Extract the last three bits\n",
    "rotated_bits = ((last_three_bits << 1) | (last_three_bits >> 2)) & 0b111  # Rotate the bits\n",
    "result = (value & ~0b111) | rotated_bits  # Combine the rotated bits with the rest\n",
    "print(f\"Rotated last 3 bits: {result}\")"
   ],
   "metadata": {
    "collapsed": false,
    "pycharm": {
     "name": "#%%\n"
    }
   }
  },
  {
   "cell_type": "markdown",
   "source": [
    "7. Write a program to swap two numbrs using bitwise operator."
   ],
   "metadata": {
    "collapsed": false,
    "pycharm": {
     "name": "#%% md\n"
    }
   }
  },
  {
   "cell_type": "code",
   "execution_count": 6,
   "outputs": [
    {
     "name": "stdout",
     "output_type": "stream",
     "text": [
      "Before swapping: num1 = 25, num2 = 63\n",
      "After swapping: num1 = 63, num2 = 25\n"
     ]
    }
   ],
   "source": [
    "# Input two numbers from the user\n",
    "num1 = int(input(\"Enter 1st number: \"))\n",
    "num2 = int(input(\"Enter 2nd number: \"))\n",
    "\n",
    "# Display the numbers before swapping\n",
    "print(f\"Before swapping: num1 = {num1}, num2 = {num2}\")\n",
    "\n",
    "# Swap the numbers using bitwise XOR (^) operator\n",
    "num1 = num1 ^ num2\n",
    "num2 = num1 ^ num2\n",
    "num1 = num1 ^ num2\n",
    "\n",
    "# Display the numbers after swapping\n",
    "print(f\"After swapping: num1 = {num1}, num2 = {num2}\")"
   ],
   "metadata": {
    "collapsed": false,
    "pycharm": {
     "name": "#%%\n"
    }
   }
  },
  {
   "cell_type": "markdown",
   "source": [
    "8. Ramesh's basic salary is input through the keyboard. His dearness allowance is 40% of basic\n",
    "salary, and house rent allowance is 20% of basic salary. Write a program to calculate his gross\n",
    "salary."
   ],
   "metadata": {
    "collapsed": false,
    "pycharm": {
     "name": "#%% md\n"
    }
   }
  },
  {
   "cell_type": "code",
   "execution_count": 4,
   "outputs": [
    {
     "name": "stdout",
     "output_type": "stream",
     "text": [
      "Ramesh's gross salary is: 560000.0\n"
     ]
    }
   ],
   "source": [
    "basic_salary = float(input(\"Enter Ramesh's basic salary: \"))\n",
    "\n",
    "# Calculate dearness allowance (DA) as 40% of basic salary\n",
    "da = 0.4 * basic_salary\n",
    "\n",
    "# Calculate house rent allowance (HRA) as 20% of basic salary\n",
    "hra = 0.2 * basic_salary\n",
    "\n",
    "# Calculate gross salary by adding basic salary, DA, and HRA\n",
    "gross_salary = basic_salary + da + hra\n",
    "\n",
    "# Print the gross salary\n",
    "print(\"Ramesh's gross salary is:\", gross_salary)"
   ],
   "metadata": {
    "collapsed": false,
    "pycharm": {
     "name": "#%%\n"
    }
   }
  },
  {
   "cell_type": "markdown",
   "source": [
    "9. In a town, the percentage of men is 52. The percentage of total literacy is 48. If total percentage\n",
    "of literate men is 35 of the total population, write a program to find the total number of illiterate\n",
    "men and women if the population of the town is 80,000.\n"
   ],
   "metadata": {
    "collapsed": false,
    "pycharm": {
     "name": "#%% md\n"
    }
   }
  },
  {
   "cell_type": "code",
   "execution_count": 3,
   "outputs": [
    {
     "name": "stdout",
     "output_type": "stream",
     "text": [
      "Total number of illiterate men: 13600.0\n",
      "Total number of illiterate women: 28000.0\n"
     ]
    }
   ],
   "source": [
    "# Total population of the town\n",
    "total_population = 80000\n",
    "\n",
    "# Percentage of men\n",
    "percentage_of_men = 52\n",
    "\n",
    "# Percentage of total literacy\n",
    "percentage_of_literacy = 48\n",
    "\n",
    "# Percentage of literate men\n",
    "percentage_of_literate_men = 35\n",
    "\n",
    "# Calculate the number of men in the town\n",
    "total_men = (percentage_of_men / 100) * total_population\n",
    "\n",
    "# Calculate the number of literate men in the town\n",
    "literate_men = (percentage_of_literate_men / 100) * total_population\n",
    "\n",
    "# Calculate the number of women in the town\n",
    "total_women = total_population - total_men\n",
    "\n",
    "# Calculate the number of literate women in the town\n",
    "literate_women = (percentage_of_literacy / 100) * total_population - literate_men\n",
    "\n",
    "# Calculate the number of illiterate men and women\n",
    "illiterate_men = total_men - literate_men\n",
    "illiterate_women = total_women - literate_women\n",
    "\n",
    "print(\"Total number of illiterate men:\", illiterate_men)\n",
    "print(\"Total number of illiterate women:\", illiterate_women)\n"
   ],
   "metadata": {
    "collapsed": false,
    "pycharm": {
     "name": "#%%\n"
    }
   }
  },
  {
   "cell_type": "code",
   "execution_count": null,
   "outputs": [],
   "source": [],
   "metadata": {
    "collapsed": false,
    "pycharm": {
     "name": "#%%\n"
    }
   }
  }
 ],
 "metadata": {
  "kernelspec": {
   "display_name": "Python 3",
   "language": "python",
   "name": "python3"
  },
  "language_info": {
   "codemirror_mode": {
    "name": "ipython",
    "version": 2
   },
   "file_extension": ".py",
   "mimetype": "text/x-python",
   "name": "python",
   "nbconvert_exporter": "python",
   "pygments_lexer": "ipython2",
   "version": "2.7.6"
  }
 },
 "nbformat": 4,
 "nbformat_minor": 0
}