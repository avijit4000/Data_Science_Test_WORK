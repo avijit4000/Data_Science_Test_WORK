{
 "cells": [
  {
   "cell_type": "markdown",
   "source": [
    "## Assigment - 1"
   ],
   "metadata": {
    "collapsed": false,
    "pycharm": {
     "name": "#%% md\n"
    }
   }
  },
  {
   "cell_type": "markdown",
   "source": [
    " 1. Write a program to read different types of input(integer, float, string, complex number, etc.) from the user and check the default type of the data being read."
   ],
   "metadata": {
    "collapsed": false,
    "pycharm": {
     "name": "#%% md\n"
    }
   }
  },
  {
   "cell_type": "code",
   "execution_count": 55,
   "outputs": [
    {
     "name": "stdout",
     "output_type": "stream",
     "text": [
      "Input value: 12\n",
      "Default data type: integer\n"
     ]
    }
   ],
   "source": [
    "def check_data_type(user_input):\n",
    "    if user_input.isdigit():\n",
    "        return int(user_input), \"integer\"\n",
    "    elif '.' in user_input:\n",
    "        try:\n",
    "            float_value = float(user_input)\n",
    "            return float_value, \"float\"\n",
    "        except ValueError:\n",
    "            pass\n",
    "    try:\n",
    "        complex_value = complex(user_input)\n",
    "        return complex_value, \"complex\"\n",
    "    except ValueError:\n",
    "        return user_input, \"string\"\n",
    "\n",
    "def main():\n",
    "    user_input = input(\"Enter a value: \")\n",
    "    value, data_type = check_data_type(user_input)\n",
    "    print(f\"Input value: {value}\")\n",
    "    print(f\"Default data type: {data_type}\")\n",
    "\n",
    "if __name__ == \"__main__\":\n",
    "    main()\n"
   ],
   "metadata": {
    "collapsed": false,
    "pycharm": {
     "name": "#%%\n"
    }
   }
  },
  {
   "cell_type": "markdown",
   "source": [
    "2. Write a program to read your name, and Year of birth to print your age.\n",
    "Ex: Input:\n",
    "Name: Gopal\n",
    "Year: 2004\n",
    "Output: Gopal is around 18 years old."
   ],
   "metadata": {
    "collapsed": false,
    "pycharm": {
     "name": "#%% md\n"
    }
   }
  },
  {
   "cell_type": "code",
   "execution_count": 10,
   "outputs": [
    {
     "name": "stdout",
     "output_type": "stream",
     "text": [
      "Your name is :  avijit biswas\n",
      "Your age is :  27\n"
     ]
    }
   ],
   "source": [
    "import datetime\n",
    "a=input('Enter you Name: ')\n",
    "print(\"Your name is : \" ,a)\n",
    "b=int(input('enter your year of birth: '))\n",
    "c=(datetime.datetime.now().year-b)\n",
    "print('Your age is : ',c)"
   ],
   "metadata": {
    "collapsed": false,
    "pycharm": {
     "name": "#%%\n"
    }
   }
  },
  {
   "cell_type": "markdown",
   "source": [
    "3. Write a program to read numbers in one format and convert them into other formats as shown\n",
    "below.\n",
    "Input >  output\n",
    "a. Integer > binary, octal, and hexadecimal\n",
    "b. Binary > int, octal, and hexadecimal\n",
    "c. octal > binary, int, and hexadecimal\n",
    "d. hexadecimal > binary, integer, and octal"
   ],
   "metadata": {
    "collapsed": false,
    "pycharm": {
     "name": "#%% md\n"
    }
   }
  },
  {
   "cell_type": "code",
   "execution_count": 11,
   "outputs": [
    {
     "name": "stdout",
     "output_type": "stream",
     "text": [
      "Binary: 10101101100111\n",
      "Octal: 25547\n",
      "Hexadecimal: 2b67\n"
     ]
    }
   ],
   "source": [
    "def integer_to_formats(n):\n",
    "    binary = bin(n)[2:]\n",
    "    octal = oct(n)[2:]\n",
    "    hexadecimal = hex(n)[2:]\n",
    "    return binary, octal, hexadecimal\n",
    "\n",
    "def binary_to_formats(n):\n",
    "    decimal = int(n, 2)\n",
    "    octal = oct(decimal)[2:]\n",
    "    hexadecimal = hex(decimal)[2:]\n",
    "    return decimal, octal, hexadecimal\n",
    "\n",
    "def octal_to_formats(n):\n",
    "    decimal = int(n, 8)\n",
    "    binary = bin(decimal)[2:]\n",
    "    hexadecimal = hex(decimal)[2:]\n",
    "    return binary, decimal, hexadecimal\n",
    "def hexadecimal_to_formats(n):\n",
    "    decimal = int(n, 16)\n",
    "    binary = bin(decimal)[2:]\n",
    "    octal = oct(decimal)[2:]\n",
    "    return binary, decimal, octal\n",
    "\n",
    "def main():\n",
    "    choice = input(\"Enter 'a' for Integer to formats, 'b' for Binary to formats, 'c' for Octal to formats, 'd' for Hexadecimal to formats: \")\n",
    "\n",
    "    if choice == 'a':\n",
    "        integer = int(input(\"Enter an integer: \"))\n",
    "        binary, octal, hexadecimal = integer_to_formats(integer)\n",
    "        print(f\"Binary: {binary}\")\n",
    "        print(f\"Octal: {octal}\")\n",
    "        print(f\"Hexadecimal: {hexadecimal}\")\n",
    "\n",
    "    elif choice == 'b':\n",
    "        binary = input(\"Enter a binary number: \")\n",
    "        decimal, octal, hexadecimal = binary_to_formats(binary)\n",
    "        print(f\"Decimal: {decimal}\")\n",
    "        print(f\"Octal: {octal}\")\n",
    "        print(f\"Hexadecimal: {hexadecimal}\")\n",
    "    elif choice == 'c':\n",
    "        octal = input(\"Enter an octal number: \")\n",
    "        binary, decimal, hexadecimal = octal_to_formats(octal)\n",
    "        print(f\"Binary: {binary}\")\n",
    "        print(f\"Decimal: {decimal}\")\n",
    "        print(f\"Hexadecimal: {hexadecimal}\")\n",
    "\n",
    "    elif choice == 'd':\n",
    "        hexadecimal = input(\"Enter a hexadecimal number: \")\n",
    "        binary, decimal, octal = hexadecimal_to_formats(hexadecimal)\n",
    "        print(f\"Binary: {binary}\")\n",
    "        print(f\"Decimal: {decimal}\")\n",
    "        print(f\"Octal: {octal}\")\n",
    "\n",
    "    else:\n",
    "        print(\"Invalid choice. Please enter 'a', 'b', 'c', or 'd'.\")\n",
    "\n",
    "if __name__ == \"__main__\":\n",
    "    main()"
   ],
   "metadata": {
    "collapsed": false,
    "pycharm": {
     "name": "#%%\n"
    }
   }
  },
  {
   "cell_type": "markdown",
   "source": [
    "4. Write a program to read complex numbers from the input and perform the following operations\n",
    "on them.\n",
    "a. Addition\n",
    "b. Subtraction\n",
    "c. Multiplication"
   ],
   "metadata": {
    "collapsed": false,
    "pycharm": {
     "name": "#%% md\n"
    }
   }
  },
  {
   "cell_type": "code",
   "execution_count": 3,
   "outputs": [
    {
     "name": "stdout",
     "output_type": "stream",
     "text": [
      "Addition Result: (70+44j)\n",
      "Subtraction Result: (-20-20j)\n",
      "Multiplication Result: (741+1340j)\n"
     ]
    }
   ],
   "source": [
    "# Function to perform addition of two complex numbers\n",
    "def add_complex(a, b):\n",
    "    return a + b\n",
    "\n",
    "# Function to perform subtraction of two complex numbers\n",
    "def subtract_complex(a, b):\n",
    "    return a - b\n",
    "\n",
    "# Function to perform multiplication of two complex numbers\n",
    "def multiply_complex(a, b):\n",
    "    return a * b\n",
    "\n",
    "# Input complex numbers from the user\n",
    "real_part_a = float(input(\"Enter the real part of complex number A: \"))\n",
    "imag_part_a = float(input(\"Enter the imaginary part of complex number A: \"))\n",
    "\n",
    "real_part_b = float(input(\"Enter the real part of complex number B: \"))\n",
    "imag_part_b = float(input(\"Enter the imaginary part of complex number B: \"))\n",
    "\n",
    "# Create complex numbers using the input values\n",
    "complex_a = complex(real_part_a, imag_part_a)\n",
    "complex_b = complex(real_part_b, imag_part_b)\n",
    "\n",
    "# Perform operations\n",
    "add_result = add_complex(complex_a, complex_b)\n",
    "subtract_result = subtract_complex(complex_a, complex_b)\n",
    "multiply_result = multiply_complex(complex_a, complex_b)\n",
    "\n",
    "# Display the results\n",
    "print(f\"Addition Result: {add_result}\")\n",
    "print(f\"Subtraction Result: {subtract_result}\")\n",
    "print(f\"Multiplication Result: {multiply_result}\")"
   ],
   "metadata": {
    "collapsed": false,
    "pycharm": {
     "name": "#%%\n"
    }
   }
  },
  {
   "cell_type": "markdown",
   "source": [
    "5. Write a program to read numbers from input and solve the following equations. Print the value\n",
    "of C.\n",
    "a. c = a+b\n",
    "b. c = (a-b)(a+b)\n",
    "c. c = 5a-8\n",
    "d. c = 2/a2+ 3b3+ 6b/2-10"
   ],
   "metadata": {
    "collapsed": false,
    "pycharm": {
     "name": "#%% md\n"
    }
   }
  },
  {
   "cell_type": "code",
   "execution_count": 6,
   "outputs": [
    {
     "name": "stdout",
     "output_type": "stream",
     "text": [
      "c = a + b: 43.0\n",
      "c = (a - b)(a + b): -43.0\n",
      "c = 5a - 8: 97.0\n",
      "c = 2 / (a^2 + 3b^3 + 6b / (2 - 10)): 6.178846718260037e-05\n"
     ]
    }
   ],
   "source": [
    "def equation_a(a, b):\n",
    "    return a + b\n",
    "\n",
    "# Function to calculate c = (a - b)(a + b)\n",
    "def equation_b(a, b):\n",
    "    return (a - b) * (a + b)\n",
    "\n",
    "# Function to calculate c = 5a - 8\n",
    "def equation_c(a):\n",
    "    return 5 * a - 8\n",
    "\n",
    "# Function to calculate c = 2 / (a^2 + 3b^3 + 6b / (2 - 10))\n",
    "def equation_d(a, b):\n",
    "    denominator = a**2 + 3 * b**3 + 6 * b / (2 - 10)\n",
    "    if denominator == 0:\n",
    "        return \"Division by zero is not allowed\"\n",
    "    return 2 / denominator\n",
    "\n",
    "# Input numbers from the user\n",
    "a = float(input(\"Enter the value of 'a': \"))\n",
    "b = float(input(\"Enter the value of 'b': \"))\n",
    "\n",
    "# Solve equations and calculate C\n",
    "result_a = equation_a(a, b)\n",
    "result_b = equation_b(a, b)\n",
    "result_c = equation_c(a)\n",
    "result_d = equation_d(a, b)\n",
    "\n",
    "# Display the results\n",
    "print(f\"c = a + b: {result_a}\")\n",
    "print(f\"c = (a - b)(a + b): {result_b}\")\n",
    "print(f\"c = 5a - 8: {result_c}\")\n",
    "print(f\"c = 2 / (a^2 + 3b^3 + 6b / (2 - 10)): {result_d}\")"
   ],
   "metadata": {
    "collapsed": false,
    "pycharm": {
     "name": "#%%\n"
    }
   }
  },
  {
   "cell_type": "markdown",
   "source": [
    "6. Write a program to read the radius of a circle and calculate its diameter, circumference, and area"
   ],
   "metadata": {
    "collapsed": false,
    "pycharm": {
     "name": "#%% md\n"
    }
   }
  },
  {
   "cell_type": "code",
   "execution_count": 19,
   "outputs": [
    {
     "name": "stdout",
     "output_type": "stream",
     "text": [
      "Diameter of the circle: 36\n",
      "Circumference of the circle: 113.09733552923255\n",
      "Area of the circle: 1017.8760197630929\n"
     ]
    }
   ],
   "source": [
    "import math\n",
    "# Input the radius of the circle from the user\n",
    "radius = int(input(\"Enter the radius of the circle: \"))\n",
    "# Calculate diameter, circumference, and area\n",
    "diameter = 2 * radius\n",
    "circumference = 2 * math.pi * radius\n",
    "area = math.pi * radius**2\n",
    "# Display the results\n",
    "print(\"Diameter of the circle:\", diameter)\n",
    "print(\"Circumference of the circle:\", circumference)\n",
    "print(\"Area of the circle:\", area)"
   ],
   "metadata": {
    "collapsed": false,
    "pycharm": {
     "name": "#%%\n"
    }
   }
  },
  {
   "cell_type": "markdown",
   "source": [
    "7. Write a program to read the temperature in Centigrade and convert it to Fahrenheit and vice versa."
   ],
   "metadata": {
    "collapsed": false,
    "pycharm": {
     "name": "#%% md\n"
    }
   }
  },
  {
   "cell_type": "code",
   "execution_count": 20,
   "outputs": [
    {
     "name": "stdout",
     "output_type": "stream",
     "text": [
      "Choose conversion:\n",
      "1. Celsius to Fahrenheit\n",
      "2. Fahrenheit to Celsius\n",
      "32.0 Celsius is equal to 89.6 Fahrenheit\n"
     ]
    }
   ],
   "source": [
    "def c_to_f(celsius):\n",
    "    return (celsius * 9/5) + 32\n",
    "# Function to convert Fahrenheit to Celsius\n",
    "def f_to_c(fahrenheit):\n",
    "    return (fahrenheit - 32) * 5/9\n",
    "# Input choice from the user\n",
    "print(\"Choose conversion:\")\n",
    "print(\"1. Celsius to Fahrenheit\")\n",
    "print(\"2. Fahrenheit to Celsius\")\n",
    "choice = int(input(\"Enter your choice (1 or 2): \"))\n",
    "if choice == 1:\n",
    "    # Celsius to Fahrenheit\n",
    "    celsius = float(input(\"Enter temperature in Celsius: \"))\n",
    "    fahrenheit = c_to_f(celsius)\n",
    "    print(f\"{celsius} Celsius is equal to {fahrenheit} Fahrenheit\")\n",
    "elif choice == 2:\n",
    "    # Fahrenheit to Celsius\n",
    "    fahrenheit = float(input(\"Enter temperature in Fahrenheit: \"))\n",
    "    celsius = f_to_c(fahrenheit)\n",
    "    print(f\"{fahrenheit} Fahrenheit is equal to {celsius} Celsius\")\n",
    "else:\n",
    "    print(\"Invalid choice. Please enter 1 or 2 for conversion.\")"
   ],
   "metadata": {
    "collapsed": false,
    "pycharm": {
     "name": "#%%\n"
    }
   }
  },
  {
   "cell_type": "markdown",
   "source": [
    "8. Write a program to read different types of input data from keyboard and display them."
   ],
   "metadata": {
    "collapsed": false,
    "pycharm": {
     "name": "#%% md\n"
    }
   }
  },
  {
   "cell_type": "code",
   "execution_count": 16,
   "outputs": [
    {
     "name": "stdout",
     "output_type": "stream",
     "text": [
      "You entered: 25,65,66,35\n",
      "You entered: 52\n",
      "You entered: 15.0\n",
      "Invalid input for a boolean\n",
      "You entered: [25]\n",
      "Please enter only a single character\n",
      "You entered: hi\n"
     ]
    }
   ],
   "source": [
    "user_input_str = input(\"Enter a string: \")\n",
    "print(\"You entered:\", user_input_str)\n",
    "\n",
    "# Read and display an integer\n",
    "try:\n",
    "    user_input_int = int(input(\"Enter an integer: \"))\n",
    "    print(\"You entered:\", user_input_int)\n",
    "except ValueError:\n",
    "    print(\"Invalid input for an integer\")\n",
    "\n",
    "# Read and display a floating-point number\n",
    "try:\n",
    "    user_input_float = float(input(\"Enter a floating-point number: \"))\n",
    "    print(\"You entered:\", user_input_float)\n",
    "except ValueError:\n",
    "    print(\"Invalid input for a floating-point number\")\n",
    "\n",
    "# Read and display a boolean value\n",
    "user_input_bool = input(\"Enter a boolean value (True or False): \").strip().lower()\n",
    "if user_input_bool == \"true\" or user_input_bool == \"false\":\n",
    "    print(\"You entered:\", user_input_bool)\n",
    "else:\n",
    "    print(\"Invalid input for a boolean\")\n",
    "\n",
    "# Read and display a list of integers\n",
    "user_input_list = input(\"Enter a list of integers separated by spaces: \")\n",
    "try:\n",
    "    int_list = [int(x) for x in user_input_list.split()]\n",
    "    print(\"You entered:\", int_list)\n",
    "except ValueError:\n",
    "    print(\"Invalid input for a list of integers\")\n",
    "\n",
    "# Read and display a single character\n",
    "user_input_char = input(\"Enter a single character: \")\n",
    "if len(user_input_char) == 1:\n",
    "    print(\"You entered:\", user_input_char)\n",
    "else:\n",
    "    print(\"Please enter only a single character\")\n",
    "\n",
    "# Read and display a line of text\n",
    "user_input_line = input(\"Enter a line of text: \")\n",
    "print(\"You entered:\", user_input_line)"
   ],
   "metadata": {
    "collapsed": false,
    "pycharm": {
     "name": "#%%\n"
    }
   }
  },
  {
   "cell_type": "markdown",
   "source": [
    "9. Write a program to multiply two given numbers and display result. You read the two numbers\n",
    "from the user."
   ],
   "metadata": {
    "collapsed": false,
    "pycharm": {
     "name": "#%% md\n"
    }
   }
  },
  {
   "cell_type": "code",
   "execution_count": 15,
   "outputs": [
    {
     "name": "stdout",
     "output_type": "stream",
     "text": [
      "The result of 36.0 multiplied by 45.0 is: 1620.0\n"
     ]
    }
   ],
   "source": [
    "num1 = float(input(\"Enter the first number: \"))\n",
    "num2 = float(input(\"Enter the second number: \"))\n",
    "\n",
    "# Multiply the two numbers\n",
    "result = num1 * num2\n",
    "\n",
    "# Display the result\n",
    "print(f\"The result of {num1} multiplied by {num2} is: {result}\")"
   ],
   "metadata": {
    "collapsed": false,
    "pycharm": {
     "name": "#%%\n"
    }
   }
  },
  {
   "cell_type": "markdown",
   "source": [
    "10. Write a program to find Volume and Surface Area of a given Sphere."
   ],
   "metadata": {
    "collapsed": false,
    "pycharm": {
     "name": "#%% md\n"
    }
   }
  },
  {
   "cell_type": "code",
   "execution_count": 14,
   "outputs": [
    {
     "name": "stdout",
     "output_type": "stream",
     "text": [
      "The volume of the sphere is: 58632.68 cubic units\n",
      "The surface area of the sphere is: 7298.67 square units\n"
     ]
    }
   ],
   "source": [
    "import math\n",
    "\n",
    "# Read the radius of the sphere from the user\n",
    "radius = float(input(\"Enter the radius of the sphere: \"))\n",
    "\n",
    "# Calculate the volume of the sphere\n",
    "volume = (4/3) * math.pi * radius**3\n",
    "\n",
    "# Calculate the surface area of the sphere\n",
    "surface_area = 4 * math.pi * radius**2\n",
    "\n",
    "# Display the results\n",
    "print(f\"The volume of the sphere is: {volume:.2f} cubic units\")\n",
    "print(f\"The surface area of the sphere is: {surface_area:.2f} square units\")"
   ],
   "metadata": {
    "collapsed": false,
    "pycharm": {
     "name": "#%%\n"
    }
   }
  },
  {
   "cell_type": "markdown",
   "source": [
    "11. Write a program to calculate and display the circumference and area of a square."
   ],
   "metadata": {
    "collapsed": false,
    "pycharm": {
     "name": "#%% md\n"
    }
   }
  },
  {
   "cell_type": "code",
   "execution_count": 13,
   "outputs": [
    {
     "name": "stdout",
     "output_type": "stream",
     "text": [
      "The circumference of the square is: 209.6\n",
      "The area of the square is: 2745.7599999999998\n"
     ]
    }
   ],
   "source": [
    "side_length = float(input(\"Enter the length of one side of the square: \"))\n",
    "\n",
    "# Calculate the circumference of the square (perimeter)\n",
    "circumference = 4 * side_length\n",
    "\n",
    "# Calculate the area of the square\n",
    "area = side_length * side_length  # Or you can use side_length ** 2\n",
    "\n",
    "# Display the results\n",
    "print(f\"The circumference of the square is: {circumference}\")\n",
    "print(f\"The area of the square is: {area}\")"
   ],
   "metadata": {
    "collapsed": false,
    "pycharm": {
     "name": "#%%\n"
    }
   }
  },
  {
   "cell_type": "markdown",
   "source": [
    "12.  Write a program to swap the values of two variables."
   ],
   "metadata": {
    "collapsed": false,
    "pycharm": {
     "name": "#%% md\n"
    }
   }
  },
  {
   "cell_type": "code",
   "execution_count": 17,
   "outputs": [
    {
     "name": "stdout",
     "output_type": "stream",
     "text": [
      "20\n",
      "10\n"
     ]
    }
   ],
   "source": [
    "a=10\n",
    "b=20\n",
    "a,b=b,a\n",
    "print(a)\n",
    "print(b)"
   ],
   "metadata": {
    "collapsed": false,
    "pycharm": {
     "name": "#%%\n"
    }
   }
  },
  {
   "cell_type": "markdown",
   "source": [
    "13. Write a program to read your name and age and write a program to display the year in which you will turn 100."
   ],
   "metadata": {
    "collapsed": false,
    "pycharm": {
     "name": "#%% md\n"
    }
   }
  },
  {
   "cell_type": "code",
   "execution_count": 7,
   "outputs": [
    {
     "name": "stdout",
     "output_type": "stream",
     "text": [
      "Hello, avijit biswas! You will turn 100 years old in the year 2096.\n"
     ]
    }
   ],
   "source": [
    "import datetime\n",
    "\n",
    "# Read your name and age from the user\n",
    "name = input(\"Enter your name: \")\n",
    "age = int(input(\"Enter your age: \"))\n",
    "\n",
    "# Calculate the year in which you will turn 100\n",
    "current_year = datetime.datetime.now().year\n",
    "year_to_turn_100 = current_year + (100 - age)\n",
    "\n",
    "# Display the result\n",
    "print(f\"Hello, {name}! You will turn 100 years old in the year {year_to_turn_100}.\")"
   ],
   "metadata": {
    "collapsed": false,
    "pycharm": {
     "name": "#%%\n"
    }
   }
  },
  {
   "cell_type": "markdown",
   "source": [
    "14. Write program to compute  and display the following expressions:\n",
    "i.(a+b)(c+d)\n",
    "ii. ax2+bx+c\n",
    "iii. C=5/9*(F-32)\n",
    "iv. m = (y2 – y1)/(x2 – x1)\n",
    "v. 5x3+x2-9(x-3)/5-x\n",
    "vi. pr2+2prh\n",
    "vii. s = ut + 1/2at2\n",
    "viii. T = (m1m2/m1+m2)"
   ],
   "metadata": {
    "collapsed": false,
    "pycharm": {
     "name": "#%% md\n"
    }
   }
  },
  {
   "cell_type": "code",
   "execution_count": 12,
   "outputs": [
    {
     "name": "stdout",
     "output_type": "stream",
     "text": [
      "(a + b)(c + d) = 2451.0\n",
      "ax^2 + bx + c = 85988.0\n",
      "Celsius (C) = 20.555555555555557°C\n",
      "m = (y2 - y1) / (x2 - x1) = -1.4761904761904763\n",
      "5x^3 + x^2 - 9(x - 3) / (5 - x) = -18460.924528301886\n",
      "Area of a cylinder surface = 38980.88164574472\n",
      "s = ut + (1/2)at^2 = 16864.0\n",
      "T = (m1 * m2) / (m1 + m2) = 21.221052631578946\n"
     ]
    }
   ],
   "source": [
    "a = float(input(\"Enter the value of 'a': \"))\n",
    "b = float(input(\"Enter the value of 'b': \"))\n",
    "c = float(input(\"Enter the value of 'c': \"))\n",
    "d = float(input(\"Enter the value of 'd': \"))\n",
    "x = float(input(\"Enter the value of 'x': \"))\n",
    "y1 = float(input(\"Enter the value of 'y1': \"))\n",
    "y2 = float(input(\"Enter the value of 'y2': \"))\n",
    "x1 = float(input(\"Enter the value of 'x1': \"))\n",
    "x2 = float(input(\"Enter the value of 'x2': \"))\n",
    "F = float(input(\"Enter the temperature in Fahrenheit (F): \"))\n",
    "u = float(input(\"Enter the initial velocity (u): \"))\n",
    "t = float(input(\"Enter the acceleration (a): \"))\n",
    "r = float(input(\"Enter the radius (r): \"))\n",
    "h = float(input(\"Enter the height (h): \"))\n",
    "m1 = float(input(\"Enter the value of 'm1': \"))\n",
    "m2 = float(input(\"Enter the value of 'm2': \"))\n",
    "\n",
    "# Compute and display the expressions\n",
    "expr_i = (a + b) * (c + d)\n",
    "print(f\"(a + b)(c + d) = {expr_i}\")\n",
    "\n",
    "expr_ii = a * x**2 + b * x + c\n",
    "print(f\"ax^2 + bx + c = {expr_ii}\")\n",
    "\n",
    "expr_iii = 5 / 9 * (F - 32)\n",
    "print(f\"Celsius (C) = {expr_iii}°C\")\n",
    "\n",
    "expr_iv = (y2 - y1) / (x2 - x1)\n",
    "print(f\"m = (y2 - y1) / (x2 - x1) = {expr_iv}\")\n",
    "\n",
    "expr_v = (5 * x**3 + x**2 - 9 * (x - 3)) / (5 - x)\n",
    "print(f\"5x^3 + x^2 - 9(x - 3) / (5 - x) = {expr_v}\")\n",
    "\n",
    "expr_vi = (3.14159265359 * r**2) + (2 * 3.14159265359 * r * h)\n",
    "print(f\"Area of a cylinder surface = {expr_vi}\")\n",
    "\n",
    "expr_vii = u * t + 0.5 * a_t * t**2\n",
    "print(f\"s = ut + (1/2)at^2 = {expr_vii}\")\n",
    "\n",
    "expr_viii = (m1 * m2) / (m1 + m2)\n",
    "print(f\"T = (m1 * m2) / (m1 + m2) = {expr_viii}\")"
   ],
   "metadata": {
    "collapsed": false,
    "pycharm": {
     "name": "#%%\n"
    }
   }
  },
  {
   "cell_type": "markdown",
   "source": [
    "15. Write a program to swap two numbers."
   ],
   "metadata": {
    "collapsed": false,
    "pycharm": {
     "name": "#%% md\n"
    }
   }
  },
  {
   "cell_type": "code",
   "execution_count": 18,
   "outputs": [
    {
     "name": "stdout",
     "output_type": "stream",
     "text": [
      "20\n",
      "10\n"
     ]
    }
   ],
   "source": [
    "a=int(input())\n",
    "b=int(input())\n",
    "def nae(a,b):\n",
    "    c=a\n",
    "    a=b\n",
    "    b=c\n",
    "    return a,b\n",
    "a,b=nae(a,b)\n",
    "print(a)\n",
    "print(b)"
   ],
   "metadata": {
    "collapsed": false,
    "pycharm": {
     "name": "#%%\n"
    }
   }
  },
  {
   "cell_type": "markdown",
   "source": [
    "16. What is the output of the following code snippets?\n",
    "x=10\n",
    "y=20\n",
    "z=15\n",
    "print(x+y//z)\n",
    "x=10\n",
    "y=20\n",
    "z=13\n",
    "print(x-y%z)\n"
   ],
   "metadata": {
    "collapsed": false,
    "pycharm": {
     "name": "#%% md\n"
    }
   }
  },
  {
   "cell_type": "code",
   "execution_count": 10,
   "outputs": [
    {
     "name": "stdout",
     "output_type": "stream",
     "text": [
      "11\n",
      "5\n"
     ]
    }
   ],
   "source": [
    "x=10\n",
    "y=20\n",
    "z=15\n",
    "print(x + y // z)\n",
    "print(x - y % z)"
   ],
   "metadata": {
    "collapsed": false,
    "pycharm": {
     "name": "#%%\n"
    }
   }
  },
  {
   "cell_type": "code",
   "execution_count": 15,
   "outputs": [],
   "source": [],
   "metadata": {
    "collapsed": false,
    "pycharm": {
     "name": "#%%\n"
    }
   }
  }
 ],
 "metadata": {
  "kernelspec": {
   "display_name": "Python 3",
   "language": "python",
   "name": "python3"
  },
  "language_info": {
   "codemirror_mode": {
    "name": "ipython",
    "version": 2
   },
   "file_extension": ".py",
   "mimetype": "text/x-python",
   "name": "python",
   "nbconvert_exporter": "python",
   "pygments_lexer": "ipython2",
   "version": "2.7.6"
  }
 },
 "nbformat": 4,
 "nbformat_minor": 0
}